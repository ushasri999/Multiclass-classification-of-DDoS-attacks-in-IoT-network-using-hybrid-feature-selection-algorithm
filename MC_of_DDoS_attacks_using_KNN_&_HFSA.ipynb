{
  "nbformat": 4,
  "nbformat_minor": 0,
  "metadata": {
    "colab": {
      "provenance": [],
      "authorship_tag": "ABX9TyPhbK1yGn/VQjF085E6DjQa",
      "include_colab_link": true
    },
    "kernelspec": {
      "name": "python3",
      "display_name": "Python 3"
    },
    "language_info": {
      "name": "python"
    }
  },
  "cells": [
    {
      "cell_type": "markdown",
      "metadata": {
        "id": "view-in-github",
        "colab_type": "text"
      },
      "source": [
        "<a href=\"https://colab.research.google.com/github/ushasri999/Multiclass-classification-of-DDoS-attacks-in-IoT-network-using-hybrid-feature-selection-algorithm/blob/main/MC_of_DDoS_attacks_using_KNN_%26_HFSA.ipynb\" target=\"_parent\"><img src=\"https://colab.research.google.com/assets/colab-badge.svg\" alt=\"Open In Colab\"/></a>"
      ]
    },
    {
      "cell_type": "code",
      "source": [
        "from google.colab import drive\n",
        "drive.mount('/content/drive')"
      ],
      "metadata": {
        "colab": {
          "base_uri": "https://localhost:8080/"
        },
        "id": "2gkMIA4E7o3N",
        "outputId": "3e89cf28-dec5-4378-8ac9-c57b71cb4274"
      },
      "execution_count": null,
      "outputs": [
        {
          "output_type": "stream",
          "name": "stdout",
          "text": [
            "Mounted at /content/drive\n"
          ]
        }
      ]
    },
    {
      "cell_type": "code",
      "execution_count": null,
      "metadata": {
        "colab": {
          "base_uri": "https://localhost:8080/"
        },
        "id": "W02TRHtLbR6x",
        "outputId": "4b09856c-7857-4a3c-fd68-2e7e84db91b5"
      },
      "outputs": [
        {
          "output_type": "stream",
          "name": "stdout",
          "text": [
            "(173777, 46)\n",
            "(173777,)\n"
          ]
        }
      ],
      "source": [
        "import pandas as pd\n",
        "import numpy as np\n",
        "from sklearn.tree import DecisionTreeClassifier\n",
        "from sklearn.model_selection import train_test_split, cross_val_score\n",
        "from sklearn.feature_selection import SelectKBest, mutual_info_classif, RFE\n",
        "from sklearn.metrics import classification_report, accuracy_score, confusion_matrix, precision_score, f1_score,recall_score\n",
        "\n",
        "# Step 1: Load the dataset\n",
        "df = pd.read_csv('/content/drive/MyDrive/data.csv')\n",
        "df_ddos = df[df['label'].str.contains('DDoS', case=False, na=False)]\n",
        "\n",
        "# Step 2: Separate features and target\n",
        "X = df_ddos.drop(\"label\", axis=1, errors='ignore')\n",
        "y = df_ddos[\"label\"] if 'label' in df_ddos.columns else pd.Series([])\n",
        "\n",
        "# Check if X and y are valid\n",
        "print(X.shape)\n",
        "print(y.shape)\n"
      ]
    },
    {
      "cell_type": "markdown",
      "source": [
        "# 5 features"
      ],
      "metadata": {
        "id": "W84Z5GGxnkBt"
      }
    },
    {
      "cell_type": "code",
      "source": [
        "skb_selector = SelectKBest(score_func=mutual_info_classif, k=2)\n",
        "skb_selector.fit_transform(X, y)\n",
        "\n",
        "# printing the scores\n",
        "skb_feature_scores = pd.DataFrame({'Feature': X.columns, 'Score': skb_selector.scores_})\n",
        "skb_feature_scores = skb_feature_scores.sort_values(by='Score', ascending=False)  # Sort by importance\n",
        "print(skb_feature_scores)\n",
        "\n",
        "# Get the selected feature names\n",
        "skb_selected_feature_names = X.columns[skb_selector.get_support()]\n",
        "print(\"skb_selected_feature_names = \", skb_selected_feature_names)"
      ],
      "metadata": {
        "colab": {
          "base_uri": "https://localhost:8080/"
        },
        "id": "Klp9fJoFd7ST",
        "outputId": "1c880e02-2183-4545-b720-c92dbd5c0507",
        "collapsed": true
      },
      "execution_count": null,
      "outputs": [
        {
          "output_type": "stream",
          "name": "stdout",
          "text": [
            "            Feature     Score\n",
            "39              IAT  2.037636\n",
            "1     Header_Length  1.138718\n",
            "34              Min  1.046777\n",
            "38         Tot size  1.042425\n",
            "41         Magnitue  1.035973\n",
            "36              AVG  1.033329\n",
            "33          Tot sum  1.027840\n",
            "2     Protocol Type  0.979074\n",
            "35              Max  0.976849\n",
            "26              TCP  0.667849\n",
            "15        syn_count  0.615374\n",
            "30             ICMP  0.531681\n",
            "8   syn_flag_number  0.527392\n",
            "4              Rate  0.526063\n",
            "5             Srate  0.525546\n",
            "0     flow_duration  0.480275\n",
            "18        rst_count  0.434953\n",
            "27              UDP  0.434442\n",
            "16        fin_count  0.400376\n",
            "17        urg_count  0.388093\n",
            "14        ack_count  0.384152\n",
            "7   fin_flag_number  0.365684\n",
            "9   rst_flag_number  0.357436\n",
            "10  psh_flag_number  0.356591\n",
            "11  ack_flag_number  0.351088\n",
            "37              Std  0.227486\n",
            "42           Radius  0.226519\n",
            "43       Covariance  0.223460\n",
            "44         Variance  0.146925\n",
            "3          Duration  0.057591\n",
            "19             HTTP  0.032313\n",
            "20            HTTPS  0.015069\n",
            "31              IPv  0.008491\n",
            "40           Number  0.006475\n",
            "32              LLC  0.005644\n",
            "45           Weight  0.005088\n",
            "28             DHCP  0.003898\n",
            "12  ece_flag_number  0.003467\n",
            "21              DNS  0.000726\n",
            "29              ARP  0.000000\n",
            "25              IRC  0.000000\n",
            "24              SSH  0.000000\n",
            "22           Telnet  0.000000\n",
            "13  cwr_flag_number  0.000000\n",
            "6             Drate  0.000000\n",
            "23             SMTP  0.000000\n",
            "skb_selected_feature_names =  Index(['Header_Length', 'IAT'], dtype='object')\n"
          ]
        }
      ]
    },
    {
      "cell_type": "code",
      "source": [
        "rfe_selector = RFE(estimator= DecisionTreeClassifier( ), n_features_to_select=3)\n",
        "rfe_selector.fit_transform(X, y)\n",
        "\n",
        "# Printing the rankings\n",
        "rfe_feature_scores = pd.DataFrame({'Feature': X.columns, 'Score': rfe_selector.ranking_})\n",
        "rfe_feature_scores = rfe_feature_scores.sort_values(by='Score', ascending=True)  # Sort by importance (ascending)\n",
        "print(rfe_feature_scores)\n",
        "\n",
        "# Get the selected feature names\n",
        "rfe_selected_feature_names = X.columns[rfe_selector.get_support()]\n",
        "print(' rfe_feature_scores = ', rfe_selected_feature_names)"
      ],
      "metadata": {
        "colab": {
          "base_uri": "https://localhost:8080/"
        },
        "id": "CaAiKvkSS5Kf",
        "outputId": "fcf1df41-57d4-4849-b033-dda515b372d2",
        "collapsed": true
      },
      "execution_count": null,
      "outputs": [
        {
          "output_type": "stream",
          "name": "stdout",
          "text": [
            "            Feature  Score\n",
            "34              Min      1\n",
            "39              IAT      1\n",
            "7   fin_flag_number      1\n",
            "17        urg_count      2\n",
            "8   syn_flag_number      3\n",
            "2     Protocol Type      4\n",
            "1     Header_Length      5\n",
            "43       Covariance      6\n",
            "15        syn_count      7\n",
            "41         Magnitue      8\n",
            "5             Srate      9\n",
            "10  psh_flag_number     10\n",
            "3          Duration     11\n",
            "26              TCP     12\n",
            "44         Variance     13\n",
            "33          Tot sum     14\n",
            "4              Rate     15\n",
            "35              Max     16\n",
            "38         Tot size     17\n",
            "14        ack_count     18\n",
            "36              AVG     19\n",
            "37              Std     20\n",
            "45           Weight     21\n",
            "18        rst_count     22\n",
            "40           Number     23\n",
            "31              IPv     24\n",
            "12  ece_flag_number     25\n",
            "19             HTTP     26\n",
            "30             ICMP     27\n",
            "32              LLC     28\n",
            "6             Drate     29\n",
            "42           Radius     30\n",
            "29              ARP     31\n",
            "16        fin_count     32\n",
            "28             DHCP     33\n",
            "9   rst_flag_number     34\n",
            "27              UDP     35\n",
            "13  cwr_flag_number     36\n",
            "11  ack_flag_number     37\n",
            "20            HTTPS     38\n",
            "25              IRC     39\n",
            "24              SSH     40\n",
            "0     flow_duration     41\n",
            "21              DNS     42\n",
            "23             SMTP     43\n",
            "22           Telnet     44\n",
            " rfe_feature_scores =  Index(['fin_flag_number', 'Min', 'IAT'], dtype='object')\n"
          ]
        }
      ]
    },
    {
      "cell_type": "code",
      "source": [
        "top_features_combined = list(set(skb_selected_feature_names) | set(rfe_selected_feature_names))\n",
        "print(top_features_combined)"
      ],
      "metadata": {
        "colab": {
          "base_uri": "https://localhost:8080/"
        },
        "id": "dCAJymSITV0C",
        "outputId": "9146e104-450c-44d6-85fb-cb42099fdfcc"
      },
      "execution_count": null,
      "outputs": [
        {
          "output_type": "stream",
          "name": "stdout",
          "text": [
            "['fin_flag_number', 'IAT', 'Min', 'Header_Length']\n"
          ]
        }
      ]
    },
    {
      "cell_type": "code",
      "source": [
        "no_of_redundent_features = 5-(len(top_features_combined))\n",
        "\n",
        "# Find the next 3 best-ranked features NOT in SelectKBest\n",
        "extra_features_from_rfe = []\n",
        "\n",
        "for feature in rfe_feature_scores['Feature']:\n",
        "    if feature not in top_features_combined:\n",
        "        extra_features_from_rfe.append(feature)\n",
        "    if len(extra_features_from_rfe) == no_of_redundent_features:  # Stop once we have 3 features\n",
        "        break\n",
        "\n",
        "print(\"Extra features from RFE:\", extra_features_from_rfe)\n",
        "\n",
        "top_features_combined.extend(extra_features_from_rfe)\n",
        "print('top_features_combined = ', top_features_combined)\n",
        "\n",
        "X_selected = X[top_features_combined]"
      ],
      "metadata": {
        "colab": {
          "base_uri": "https://localhost:8080/"
        },
        "id": "qc8aSXu-P7ZC",
        "outputId": "0237e2d8-a69e-4281-ebe1-6edb8f58d5f6"
      },
      "execution_count": null,
      "outputs": [
        {
          "output_type": "stream",
          "name": "stdout",
          "text": [
            "Extra features from RFE: ['urg_count']\n",
            "top_features_combined =  ['fin_flag_number', 'IAT', 'Min', 'Header_Length', 'urg_count']\n"
          ]
        }
      ]
    },
    {
      "cell_type": "code",
      "source": [
        "\n",
        "from sklearn.neighbors import KNeighborsClassifier\n",
        "# Step 4: Train and Test Split\n",
        "X_train, X_test, y_train, y_test = train_test_split(X_selected, y, test_size=0.35, random_state=42)\n",
        "\n",
        "# Step 5: Train K-Nearest Neighbors Classifier\n",
        "knn_model = KNeighborsClassifier(n_neighbors=5)  # You can adjust n_neighbors as needed\n",
        "knn_model.fit(X_train, y_train)\n",
        "\n",
        "# Step 6: Evaluate the model\n",
        "y_pred = knn_model.predict(X_test)\n",
        "\n",
        "# Metrics\n",
        "accuracy = accuracy_score(y_test, y_pred)\n",
        "precision = precision_score(y_test, y_pred, average='weighted')  # Weighted for imbalanced classes\n",
        "recall = recall_score(y_test, y_pred, average='weighted')  # Weighted for imbalanced classes\n",
        "f1 = f1_score(y_test, y_pred, average='weighted')  # Weighted for imbalanced classes\n",
        "\n",
        "# Print metrics\n",
        "print(\"Accuracy:\", accuracy)\n",
        "print(\"Precision:\", precision)\n",
        "print(\"Recall:\", recall)\n",
        "print(\"F1 Score:\", f1)\n",
        "print(\"Classification Report:\\n\", classification_report(y_test, y_pred))\n",
        "\n",
        "# Confusion Matrix\n",
        "conf_matrix = confusion_matrix(y_test, y_pred)\n",
        "print(\"Confusion Matrix:\\n\", conf_matrix)"
      ],
      "metadata": {
        "colab": {
          "base_uri": "https://localhost:8080/"
        },
        "id": "bgVlQAbOqyMc",
        "outputId": "06023e26-5542-48cd-d3cb-6a9b1b6da06d"
      },
      "execution_count": null,
      "outputs": [
        {
          "output_type": "stream",
          "name": "stdout",
          "text": [
            "Accuracy: 0.9978790569201933\n",
            "Precision: 0.9978743472471425\n",
            "Recall: 0.9978790569201933\n",
            "F1 Score: 0.9978687930157063\n",
            "Classification Report:\n",
            "                          precision    recall  f1-score   support\n",
            "\n",
            " DDoS-ACK_Fragmentation       0.96      0.98      0.97       513\n",
            "        DDoS-HTTP_Flood       1.00      1.00      1.00        56\n",
            "        DDoS-ICMP_Flood       1.00      1.00      1.00     12772\n",
            "DDoS-ICMP_Fragmentation       1.00      0.99      0.99       835\n",
            "      DDoS-PSHACK_Flood       1.00      1.00      1.00      7477\n",
            "       DDoS-RSTFINFlood       1.00      1.00      1.00      7196\n",
            "         DDoS-SYN_Flood       1.00      1.00      1.00      7166\n",
            "         DDoS-SlowLoris       0.78      0.58      0.67        24\n",
            "DDoS-SynonymousIP_Flood       1.00      1.00      1.00      6311\n",
            "         DDoS-TCP_Flood       1.00      1.00      1.00      8162\n",
            "         DDoS-UDP_Flood       1.00      1.00      1.00      9762\n",
            " DDoS-UDP_Fragmentation       0.95      0.97      0.96       548\n",
            "\n",
            "               accuracy                           1.00     60822\n",
            "              macro avg       0.97      0.96      0.97     60822\n",
            "           weighted avg       1.00      1.00      1.00     60822\n",
            "\n",
            "Confusion Matrix:\n",
            " [[  502     0     2     0     1     4     0     0     2     0     0     2]\n",
            " [    0    56     0     0     0     0     0     0     0     0     0     0]\n",
            " [    3     0 12744     0     2     0     0     0     1     1    19     2]\n",
            " [    1     0     1   827     1     3     0     0     0     1     1     0]\n",
            " [    7     0     1     0  7467     1     0     0     1     0     0     0]\n",
            " [    3     0     1     0     0  7182     0     1     0     0     0     9]\n",
            " [    0     0     1     1     2     0  7155     0     0     2     4     1]\n",
            " [    0     0     1     0     0     0     0    14     0     0     0     9]\n",
            " [    1     0     0     0     2     1     0     0  6301     1     0     5]\n",
            " [    1     0     1     0     0     0     1     0     0  8158     1     0]\n",
            " [    2     0     2     0     1     1     2     0     0     1  9753     0]\n",
            " [    2     0     1     1     2     1     0     3     3     1     0   534]]\n"
          ]
        }
      ]
    },
    {
      "cell_type": "markdown",
      "source": [
        "# 10 features"
      ],
      "metadata": {
        "id": "-3Vqi79mnWQS"
      }
    },
    {
      "cell_type": "code",
      "source": [
        "skb_selector = SelectKBest(score_func=mutual_info_classif, k=5)\n",
        "skb_selector.fit_transform(X, y)\n",
        "\n",
        "# printing the scores\n",
        "skb_feature_scores = pd.DataFrame({'Feature': X.columns, 'Score': skb_selector.scores_})\n",
        "skb_feature_scores = skb_feature_scores.sort_values(by='Score', ascending=False)  # Sort by importance\n",
        "print(skb_feature_scores)\n",
        "\n",
        "# Get the selected feature names\n",
        "skb_selected_feature_names = X.columns[skb_selector.get_support()]\n",
        "print(\"skb_selected_feature_names = \", skb_selected_feature_names)"
      ],
      "metadata": {
        "colab": {
          "base_uri": "https://localhost:8080/"
        },
        "id": "XF5BixW5cs_1",
        "outputId": "6d8e76c5-8ddb-41a4-8140-617d6816e503",
        "collapsed": true
      },
      "execution_count": null,
      "outputs": [
        {
          "output_type": "stream",
          "name": "stdout",
          "text": [
            "            Feature     Score\n",
            "39              IAT  2.037683\n",
            "1     Header_Length  1.139858\n",
            "34              Min  1.047125\n",
            "38         Tot size  1.042247\n",
            "41         Magnitue  1.035964\n",
            "36              AVG  1.031720\n",
            "33          Tot sum  1.027136\n",
            "2     Protocol Type  0.979628\n",
            "35              Max  0.978436\n",
            "26              TCP  0.665388\n",
            "15        syn_count  0.614862\n",
            "30             ICMP  0.532555\n",
            "8   syn_flag_number  0.528071\n",
            "5             Srate  0.526149\n",
            "4              Rate  0.526069\n",
            "0     flow_duration  0.478570\n",
            "18        rst_count  0.435492\n",
            "27              UDP  0.434814\n",
            "16        fin_count  0.398691\n",
            "17        urg_count  0.385482\n",
            "14        ack_count  0.380898\n",
            "7   fin_flag_number  0.364084\n",
            "10  psh_flag_number  0.357613\n",
            "9   rst_flag_number  0.353702\n",
            "11  ack_flag_number  0.350241\n",
            "37              Std  0.228546\n",
            "43       Covariance  0.224870\n",
            "42           Radius  0.224483\n",
            "44         Variance  0.149167\n",
            "3          Duration  0.058148\n",
            "19             HTTP  0.027599\n",
            "20            HTTPS  0.017378\n",
            "40           Number  0.007555\n",
            "32              LLC  0.005786\n",
            "13  cwr_flag_number  0.004526\n",
            "45           Weight  0.003860\n",
            "31              IPv  0.003819\n",
            "6             Drate  0.002889\n",
            "23             SMTP  0.002118\n",
            "28             DHCP  0.002026\n",
            "24              SSH  0.001901\n",
            "12  ece_flag_number  0.001333\n",
            "29              ARP  0.000911\n",
            "22           Telnet  0.000240\n",
            "25              IRC  0.000000\n",
            "21              DNS  0.000000\n",
            "skb_selected_feature_names =  Index(['Header_Length', 'Min', 'Tot size', 'IAT', 'Magnitue'], dtype='object')\n"
          ]
        }
      ]
    },
    {
      "cell_type": "code",
      "source": [
        "rfe_selector = RFE(estimator= DecisionTreeClassifier( ), n_features_to_select=5)\n",
        "rfe_selector.fit_transform(X, y)\n",
        "\n",
        "# Printing the rankings\n",
        "rfe_feature_scores = pd.DataFrame({'Feature': X.columns, 'Score': rfe_selector.ranking_})\n",
        "rfe_feature_scores = rfe_feature_scores.sort_values(by='Score', ascending=True)  # Sort by importance (ascending)\n",
        "print(rfe_feature_scores)\n",
        "\n",
        "# Get the selected feature names\n",
        "rfe_selected_feature_names = X.columns[rfe_selector.get_support()]\n",
        "print(' rfe_feature_scores = ', rfe_selected_feature_names)"
      ],
      "metadata": {
        "colab": {
          "base_uri": "https://localhost:8080/"
        },
        "id": "HPLywwbXdaHy",
        "outputId": "d50a987f-d7fc-4f66-a2fd-a07b6a0604d6",
        "collapsed": true
      },
      "execution_count": null,
      "outputs": [
        {
          "output_type": "stream",
          "name": "stdout",
          "text": [
            "            Feature  Score\n",
            "34              Min      1\n",
            "7   fin_flag_number      1\n",
            "39              IAT      1\n",
            "8   syn_flag_number      1\n",
            "17        urg_count      1\n",
            "2     Protocol Type      2\n",
            "1     Header_Length      3\n",
            "43       Covariance      4\n",
            "15        syn_count      5\n",
            "33          Tot sum      6\n",
            "5             Srate      7\n",
            "10  psh_flag_number      8\n",
            "44         Variance      9\n",
            "32              LLC     10\n",
            "4              Rate     11\n",
            "3          Duration     12\n",
            "26              TCP     13\n",
            "45           Weight     14\n",
            "36              AVG     15\n",
            "27              UDP     16\n",
            "16        fin_count     17\n",
            "29              ARP     18\n",
            "30             ICMP     19\n",
            "18        rst_count     20\n",
            "35              Max     21\n",
            "6             Drate     22\n",
            "9   rst_flag_number     23\n",
            "31              IPv     24\n",
            "38         Tot size     25\n",
            "37              Std     26\n",
            "12  ece_flag_number     27\n",
            "41         Magnitue     28\n",
            "13  cwr_flag_number     29\n",
            "14        ack_count     30\n",
            "42           Radius     31\n",
            "40           Number     32\n",
            "11  ack_flag_number     33\n",
            "19             HTTP     34\n",
            "28             DHCP     35\n",
            "0     flow_duration     36\n",
            "25              IRC     37\n",
            "20            HTTPS     38\n",
            "24              SSH     39\n",
            "21              DNS     40\n",
            "23             SMTP     41\n",
            "22           Telnet     42\n",
            " rfe_feature_scores =  Index(['fin_flag_number', 'syn_flag_number', 'urg_count', 'Min', 'IAT'], dtype='object')\n"
          ]
        }
      ]
    },
    {
      "cell_type": "code",
      "source": [
        "top_features_combined = list(set(skb_selected_feature_names) | set(rfe_selected_feature_names))\n",
        "print(top_features_combined)"
      ],
      "metadata": {
        "colab": {
          "base_uri": "https://localhost:8080/"
        },
        "id": "BGoAK4csb2In",
        "outputId": "2adc0047-71f3-4d2e-bf59-16e96b8c53c9"
      },
      "execution_count": null,
      "outputs": [
        {
          "output_type": "stream",
          "name": "stdout",
          "text": [
            "['fin_flag_number', 'urg_count', 'Min', 'syn_flag_number', 'IAT', 'Tot size', 'Magnitue', 'Header_Length']\n"
          ]
        }
      ]
    },
    {
      "cell_type": "code",
      "source": [
        "no_of_redundent_features = 10-(len(top_features_combined))\n",
        "\n",
        "# Find the next 3 best-ranked features NOT in SelectKBest\n",
        "extra_features_from_rfe = []\n",
        "\n",
        "for feature in rfe_feature_scores['Feature']:\n",
        "    if feature not in top_features_combined:\n",
        "        extra_features_from_rfe.append(feature)\n",
        "    if len(extra_features_from_rfe) == no_of_redundent_features:  # Stop once we have 3 features\n",
        "        break\n",
        "\n",
        "print(\"Extra features from RFE:\", extra_features_from_rfe)\n",
        "\n",
        "top_features_combined.extend(extra_features_from_rfe)\n",
        "print('top_features_combined = ', top_features_combined)\n",
        "\n",
        "X_selected = X[top_features_combined]"
      ],
      "metadata": {
        "colab": {
          "base_uri": "https://localhost:8080/"
        },
        "id": "uZhgkxsNqZUz",
        "outputId": "fa20ba51-4b24-4a55-f0e2-b82adaeaaa24"
      },
      "execution_count": null,
      "outputs": [
        {
          "output_type": "stream",
          "name": "stdout",
          "text": [
            "Extra features from RFE: ['Protocol Type', 'Covariance']\n",
            "top_features_combined =  ['fin_flag_number', 'urg_count', 'Min', 'syn_flag_number', 'IAT', 'Tot size', 'Magnitue', 'Header_Length', 'Protocol Type', 'Covariance']\n"
          ]
        }
      ]
    },
    {
      "cell_type": "code",
      "source": [
        "\n",
        "# Step 4: Train and Test Split\n",
        "X_train, X_test, y_train, y_test = train_test_split(X_selected, y, test_size=0.35, random_state=42)\n",
        "\n",
        "# Step 5: Train K-Nearest Neighbors Classifier\n",
        "knn_model = KNeighborsClassifier(n_neighbors=5)  # You can adjust n_neighbors as needed\n",
        "knn_model.fit(X_train, y_train)\n",
        "\n",
        "# Step 6: Evaluate the model\n",
        "y_pred = knn_model.predict(X_test)\n",
        "\n",
        "# Metrics\n",
        "accuracy = accuracy_score(y_test, y_pred)\n",
        "precision = precision_score(y_test, y_pred, average='weighted')  # Weighted for imbalanced classes\n",
        "recall = recall_score(y_test, y_pred, average='weighted')  # Weighted for imbalanced classes\n",
        "f1 = f1_score(y_test, y_pred, average='weighted')  # Weighted for imbalanced classes\n",
        "\n",
        "# Print metrics\n",
        "print(\"Accuracy:\", accuracy)\n",
        "print(\"Precision:\", precision)\n",
        "print(\"Recall:\", recall)\n",
        "print(\"F1 Score:\", f1)\n",
        "print(\"Classification Report:\\n\", classification_report(y_test, y_pred))\n",
        "\n",
        "# Confusion Matrix\n",
        "conf_matrix = confusion_matrix(y_test, y_pred)\n",
        "print(\"Confusion Matrix:\\n\", conf_matrix)"
      ],
      "metadata": {
        "colab": {
          "base_uri": "https://localhost:8080/"
        },
        "id": "sRTv6zbQq1DG",
        "outputId": "6981e433-f89d-4f2a-ec6f-1dbc388a318b"
      },
      "execution_count": null,
      "outputs": [
        {
          "output_type": "stream",
          "name": "stdout",
          "text": [
            "Accuracy: 0.997056985959028\n",
            "Precision: 0.9970593487762511\n",
            "Recall: 0.997056985959028\n",
            "F1 Score: 0.9970569992470373\n",
            "Classification Report:\n",
            "                          precision    recall  f1-score   support\n",
            "\n",
            " DDoS-ACK_Fragmentation       0.96      0.97      0.97       513\n",
            "        DDoS-HTTP_Flood       0.93      0.95      0.94        56\n",
            "        DDoS-ICMP_Flood       1.00      1.00      1.00     12772\n",
            "DDoS-ICMP_Fragmentation       1.00      0.99      0.99       835\n",
            "      DDoS-PSHACK_Flood       1.00      1.00      1.00      7477\n",
            "       DDoS-RSTFINFlood       1.00      1.00      1.00      7196\n",
            "         DDoS-SYN_Flood       1.00      1.00      1.00      7166\n",
            "         DDoS-SlowLoris       0.65      0.62      0.64        24\n",
            "DDoS-SynonymousIP_Flood       1.00      1.00      1.00      6311\n",
            "         DDoS-TCP_Flood       1.00      1.00      1.00      8162\n",
            "         DDoS-UDP_Flood       1.00      1.00      1.00      9762\n",
            " DDoS-UDP_Fragmentation       0.96      0.96      0.96       548\n",
            "\n",
            "               accuracy                           1.00     60822\n",
            "              macro avg       0.96      0.96      0.96     60822\n",
            "           weighted avg       1.00      1.00      1.00     60822\n",
            "\n",
            "Confusion Matrix:\n",
            " [[  500     0     0     0     3     4     0     1     2     0     1     2]\n",
            " [    0    53     2     1     0     0     0     0     0     0     0     0]\n",
            " [    2     4 12743     1     2     0     0     0     3     1    15     1]\n",
            " [    3     0     0   826     0     2     0     1     0     1     1     1]\n",
            " [    3     0     1     0  7469     2     0     0     1     0     0     1]\n",
            " [    5     0     1     0     0  7179     0     1     0     0     0    10]\n",
            " [    0     0     3     1     2     0  7148     0     1     7     4     0]\n",
            " [    1     0     0     1     0     2     0    15     1     0     0     4]\n",
            " [    2     0     0     0     2     6     0     5  6294     1     0     1]\n",
            " [    0     0     3     0     0     0     5     0     0  8152     2     0]\n",
            " [    2     0     5     0     1     1    16     0     0     1  9736     0]\n",
            " [    5     0     1     0     2     6     0     0     5     1     0   528]]\n"
          ]
        }
      ]
    },
    {
      "cell_type": "markdown",
      "source": [
        "# 15 features"
      ],
      "metadata": {
        "id": "czfPtbIInQCa"
      }
    },
    {
      "cell_type": "code",
      "source": [
        "skb_selector = SelectKBest(score_func=mutual_info_classif, k=7)\n",
        "skb_selector.fit_transform(X, y)\n",
        "\n",
        "# printing the scores\n",
        "skb_feature_scores = pd.DataFrame({'Feature': X.columns, 'Score': skb_selector.scores_})\n",
        "skb_feature_scores = skb_feature_scores.sort_values(by='Score', ascending=False)  # Sort by importance\n",
        "print(skb_feature_scores)\n",
        "\n",
        "# Get the selected feature names\n",
        "skb_selected_feature_names = X.columns[skb_selector.get_support()]\n",
        "print(\"skb_selected_feature_names = \", skb_selected_feature_names)"
      ],
      "metadata": {
        "colab": {
          "base_uri": "https://localhost:8080/"
        },
        "outputId": "1586d140-3c44-44a6-d71b-8536db60a15e",
        "collapsed": true,
        "id": "JR5akcz5rIv3"
      },
      "execution_count": null,
      "outputs": [
        {
          "output_type": "stream",
          "name": "stdout",
          "text": [
            "            Feature     Score\n",
            "39              IAT  2.037652\n",
            "1     Header_Length  1.137934\n",
            "34              Min  1.048026\n",
            "38         Tot size  1.044745\n",
            "41         Magnitue  1.035967\n",
            "36              AVG  1.034179\n",
            "33          Tot sum  1.028124\n",
            "2     Protocol Type  0.980208\n",
            "35              Max  0.976370\n",
            "26              TCP  0.666196\n",
            "15        syn_count  0.614073\n",
            "30             ICMP  0.531187\n",
            "8   syn_flag_number  0.530340\n",
            "5             Srate  0.525975\n",
            "4              Rate  0.525182\n",
            "0     flow_duration  0.476466\n",
            "27              UDP  0.438114\n",
            "18        rst_count  0.432681\n",
            "16        fin_count  0.401135\n",
            "17        urg_count  0.390731\n",
            "14        ack_count  0.378383\n",
            "7   fin_flag_number  0.365787\n",
            "10  psh_flag_number  0.358981\n",
            "9   rst_flag_number  0.355061\n",
            "11  ack_flag_number  0.348495\n",
            "37              Std  0.227459\n",
            "42           Radius  0.223860\n",
            "43       Covariance  0.222197\n",
            "44         Variance  0.148402\n",
            "3          Duration  0.059637\n",
            "19             HTTP  0.031041\n",
            "20            HTTPS  0.019383\n",
            "31              IPv  0.008464\n",
            "40           Number  0.008335\n",
            "45           Weight  0.006936\n",
            "32              LLC  0.006908\n",
            "6             Drate  0.000941\n",
            "12  ece_flag_number  0.000611\n",
            "22           Telnet  0.000067\n",
            "29              ARP  0.000000\n",
            "28             DHCP  0.000000\n",
            "25              IRC  0.000000\n",
            "24              SSH  0.000000\n",
            "21              DNS  0.000000\n",
            "13  cwr_flag_number  0.000000\n",
            "23             SMTP  0.000000\n",
            "skb_selected_feature_names =  Index(['Header_Length', 'Tot sum', 'Min', 'AVG', 'Tot size', 'IAT',\n",
            "       'Magnitue'],\n",
            "      dtype='object')\n"
          ]
        }
      ]
    },
    {
      "cell_type": "code",
      "source": [
        "rfe_selector = RFE(estimator= DecisionTreeClassifier( ), n_features_to_select=8)\n",
        "rfe_selector.fit_transform(X, y)\n",
        "\n",
        "# Printing the rankings\n",
        "rfe_feature_scores = pd.DataFrame({'Feature': X.columns, 'Score': rfe_selector.ranking_})\n",
        "rfe_feature_scores = rfe_feature_scores.sort_values(by='Score', ascending=True)  # Sort by importance (ascending)\n",
        "print(rfe_feature_scores)\n",
        "\n",
        "# Get the selected feature names\n",
        "rfe_selected_feature_names = X.columns[rfe_selector.get_support()]\n",
        "print(' rfe_feature_scores = ', rfe_selected_feature_names)"
      ],
      "metadata": {
        "colab": {
          "base_uri": "https://localhost:8080/"
        },
        "outputId": "72538acf-15fa-4cb0-9854-490cf34fdd79",
        "collapsed": true,
        "id": "7pjHmJM7rIv4"
      },
      "execution_count": null,
      "outputs": [
        {
          "output_type": "stream",
          "name": "stdout",
          "text": [
            "            Feature  Score\n",
            "39              IAT      1\n",
            "17        urg_count      1\n",
            "34              Min      1\n",
            "8   syn_flag_number      1\n",
            "7   fin_flag_number      1\n",
            "43       Covariance      1\n",
            "2     Protocol Type      1\n",
            "1     Header_Length      1\n",
            "15        syn_count      2\n",
            "33          Tot sum      3\n",
            "5             Srate      4\n",
            "44         Variance      5\n",
            "10  psh_flag_number      6\n",
            "26              TCP      7\n",
            "3          Duration      8\n",
            "4              Rate      9\n",
            "31              IPv     10\n",
            "37              Std     11\n",
            "27              UDP     12\n",
            "9   rst_flag_number     13\n",
            "45           Weight     14\n",
            "16        fin_count     15\n",
            "41         Magnitue     16\n",
            "6             Drate     17\n",
            "18        rst_count     18\n",
            "28             DHCP     19\n",
            "29              ARP     20\n",
            "30             ICMP     21\n",
            "38         Tot size     22\n",
            "32              LLC     23\n",
            "11  ack_flag_number     24\n",
            "40           Number     25\n",
            "12  ece_flag_number     26\n",
            "14        ack_count     27\n",
            "19             HTTP     28\n",
            "42           Radius     29\n",
            "35              Max     30\n",
            "36              AVG     31\n",
            "13  cwr_flag_number     32\n",
            "25              IRC     33\n",
            "0     flow_duration     34\n",
            "20            HTTPS     35\n",
            "24              SSH     36\n",
            "21              DNS     37\n",
            "23             SMTP     38\n",
            "22           Telnet     39\n",
            " rfe_feature_scores =  Index(['Header_Length', 'Protocol Type', 'fin_flag_number', 'syn_flag_number',\n",
            "       'urg_count', 'Min', 'IAT', 'Covariance'],\n",
            "      dtype='object')\n"
          ]
        }
      ]
    },
    {
      "cell_type": "code",
      "source": [
        "top_features_combined = list(set(skb_selected_feature_names) | set(rfe_selected_feature_names))\n",
        "print(top_features_combined)"
      ],
      "metadata": {
        "colab": {
          "base_uri": "https://localhost:8080/"
        },
        "outputId": "3a6f3736-b743-46c3-eaa4-917093b959c0",
        "id": "_zxf-ptlrIv5"
      },
      "execution_count": null,
      "outputs": [
        {
          "output_type": "stream",
          "name": "stdout",
          "text": [
            "['fin_flag_number', 'Covariance', 'Protocol Type', 'urg_count', 'Min', 'syn_flag_number', 'Tot sum', 'IAT', 'Tot size', 'Magnitue', 'AVG', 'Header_Length']\n"
          ]
        }
      ]
    },
    {
      "cell_type": "code",
      "source": [
        "no_of_redundent_features = 15-(len(top_features_combined))\n",
        "\n",
        "# Find the next 3 best-ranked features NOT in SelectKBest\n",
        "extra_features_from_rfe = []\n",
        "\n",
        "for feature in rfe_feature_scores['Feature']:\n",
        "    if feature not in top_features_combined:\n",
        "        extra_features_from_rfe.append(feature)\n",
        "    if len(extra_features_from_rfe) == no_of_redundent_features:  # Stop once we have 3 features\n",
        "        break\n",
        "\n",
        "print(\"Extra features from RFE:\", extra_features_from_rfe)\n",
        "\n",
        "top_features_combined.extend(extra_features_from_rfe)\n",
        "print('top_features_combined = ', top_features_combined)\n",
        "\n",
        "X_selected = X[top_features_combined]"
      ],
      "metadata": {
        "colab": {
          "base_uri": "https://localhost:8080/"
        },
        "outputId": "550922b4-ccea-4e58-f8b9-584e87ad7344",
        "id": "9jrD0eISrIv5"
      },
      "execution_count": null,
      "outputs": [
        {
          "output_type": "stream",
          "name": "stdout",
          "text": [
            "Extra features from RFE: ['syn_count', 'Srate', 'Variance']\n",
            "top_features_combined =  ['fin_flag_number', 'Covariance', 'Protocol Type', 'urg_count', 'Min', 'syn_flag_number', 'Tot sum', 'IAT', 'Tot size', 'Magnitue', 'AVG', 'Header_Length', 'syn_count', 'Srate', 'Variance']\n"
          ]
        }
      ]
    },
    {
      "cell_type": "code",
      "source": [
        "\n",
        "# Step 4: Train and Test Split\n",
        "X_train, X_test, y_train, y_test = train_test_split(X_selected, y, test_size=0.35, random_state=42)\n",
        "\n",
        "# Step 5: Train K-Nearest Neighbors Classifier\n",
        "knn_model = KNeighborsClassifier(n_neighbors=5)  # You can adjust n_neighbors as needed\n",
        "knn_model.fit(X_train, y_train)\n",
        "\n",
        "# Step 6: Evaluate the model\n",
        "y_pred = knn_model.predict(X_test)\n",
        "\n",
        "# Metrics\n",
        "accuracy = accuracy_score(y_test, y_pred)\n",
        "precision = precision_score(y_test, y_pred, average='weighted')  # Weighted for imbalanced classes\n",
        "recall = recall_score(y_test, y_pred, average='weighted')  # Weighted for imbalanced classes\n",
        "f1 = f1_score(y_test, y_pred, average='weighted')  # Weighted for imbalanced classes\n",
        "\n",
        "# Print metrics\n",
        "print(\"Accuracy:\", accuracy)\n",
        "print(\"Precision:\", precision)\n",
        "print(\"Recall:\", recall)\n",
        "print(\"F1 Score:\", f1)\n",
        "print(\"Classification Report:\\n\", classification_report(y_test, y_pred))\n",
        "\n",
        "# Confusion Matrix\n",
        "conf_matrix = confusion_matrix(y_test, y_pred)\n",
        "print(\"Confusion Matrix:\\n\", conf_matrix)"
      ],
      "metadata": {
        "colab": {
          "base_uri": "https://localhost:8080/"
        },
        "outputId": "ac514e2f-cca1-4aae-8fb4-fc11e975dec2",
        "collapsed": true,
        "id": "lgPzfBrbrIv6"
      },
      "execution_count": null,
      "outputs": [
        {
          "output_type": "stream",
          "name": "stdout",
          "text": [
            "Accuracy: 0.9959554108710664\n",
            "Precision: 0.9959563887930214\n",
            "Recall: 0.9959554108710664\n",
            "F1 Score: 0.9959544539677264\n",
            "Classification Report:\n",
            "                          precision    recall  f1-score   support\n",
            "\n",
            " DDoS-ACK_Fragmentation       0.95      0.97      0.96       513\n",
            "        DDoS-HTTP_Flood       0.93      0.95      0.94        56\n",
            "        DDoS-ICMP_Flood       1.00      1.00      1.00     12772\n",
            "DDoS-ICMP_Fragmentation       0.99      0.98      0.99       835\n",
            "      DDoS-PSHACK_Flood       1.00      1.00      1.00      7477\n",
            "       DDoS-RSTFINFlood       1.00      1.00      1.00      7196\n",
            "         DDoS-SYN_Flood       1.00      1.00      1.00      7166\n",
            "         DDoS-SlowLoris       0.61      0.58      0.60        24\n",
            "DDoS-SynonymousIP_Flood       1.00      1.00      1.00      6311\n",
            "         DDoS-TCP_Flood       1.00      1.00      1.00      8162\n",
            "         DDoS-UDP_Flood       1.00      1.00      1.00      9762\n",
            " DDoS-UDP_Fragmentation       0.97      0.97      0.97       548\n",
            "\n",
            "               accuracy                           1.00     60822\n",
            "              macro avg       0.95      0.95      0.95     60822\n",
            "           weighted avg       1.00      1.00      1.00     60822\n",
            "\n",
            "Confusion Matrix:\n",
            " [[  498     0     0     2     3     4     0     1     2     0     1     2]\n",
            " [    0    53     2     1     0     0     0     0     0     0     0     0]\n",
            " [    2     4 12726     1     2     1     1     0     4     6    24     1]\n",
            " [    4     0     0   821     3     2     0     1     0     1     2     1]\n",
            " [    3     0     1     0  7468     3     0     0     1     0     0     1]\n",
            " [    5     0     2     0    10  7167     1     1     0     0     0    10]\n",
            " [    0     0     5     1     2     0  7140     0     1    11     6     0]\n",
            " [    1     0     0     1     0     2     0    14     2     0     0     4]\n",
            " [    3     0     0     0     6     9     0     6  6287     0     0     0]\n",
            " [    0     0     8     0     0     0     5     0     0  8145     4     0]\n",
            " [    2     0    14     0     1     1    15     0     0     1  9728     0]\n",
            " [    4     0     1     0     2     6     0     0     5     1     0   529]]\n"
          ]
        }
      ]
    },
    {
      "cell_type": "markdown",
      "source": [
        "# 20 Features"
      ],
      "metadata": {
        "id": "9sWBb6UM5x6o"
      }
    },
    {
      "cell_type": "code",
      "source": [
        "skb_selector = SelectKBest(score_func=mutual_info_classif, k=10)\n",
        "skb_selector.fit_transform(X, y)\n",
        "\n",
        "# printing the scores\n",
        "skb_feature_scores = pd.DataFrame({'Feature': X.columns, 'Score': skb_selector.scores_})\n",
        "skb_feature_scores = skb_feature_scores.sort_values(by='Score', ascending=False)  # Sort by importance\n",
        "print(skb_feature_scores)\n",
        "\n",
        "# Get the selected feature names\n",
        "skb_selected_feature_names = X.columns[skb_selector.get_support()]\n",
        "print(\"skb_selected_feature_names = \", skb_selected_feature_names)"
      ],
      "metadata": {
        "colab": {
          "base_uri": "https://localhost:8080/"
        },
        "outputId": "acc79c7e-8c6a-4ec0-9003-559e70ff4bb3",
        "collapsed": true,
        "id": "p-8BqRTcrWyH"
      },
      "execution_count": null,
      "outputs": [
        {
          "output_type": "stream",
          "name": "stdout",
          "text": [
            "            Feature     Score\n",
            "39              IAT  2.037655\n",
            "1     Header_Length  1.137929\n",
            "34              Min  1.048203\n",
            "38         Tot size  1.044245\n",
            "41         Magnitue  1.037380\n",
            "36              AVG  1.031326\n",
            "33          Tot sum  1.027901\n",
            "2     Protocol Type  0.978123\n",
            "35              Max  0.975682\n",
            "26              TCP  0.669025\n",
            "15        syn_count  0.615950\n",
            "30             ICMP  0.535459\n",
            "8   syn_flag_number  0.527885\n",
            "4              Rate  0.525591\n",
            "5             Srate  0.525553\n",
            "0     flow_duration  0.478085\n",
            "27              UDP  0.434508\n",
            "18        rst_count  0.434390\n",
            "16        fin_count  0.399241\n",
            "17        urg_count  0.386392\n",
            "14        ack_count  0.378569\n",
            "7   fin_flag_number  0.364018\n",
            "9   rst_flag_number  0.360002\n",
            "10  psh_flag_number  0.356205\n",
            "11  ack_flag_number  0.351531\n",
            "37              Std  0.225244\n",
            "42           Radius  0.223977\n",
            "43       Covariance  0.223168\n",
            "44         Variance  0.147499\n",
            "3          Duration  0.058450\n",
            "19             HTTP  0.029502\n",
            "20            HTTPS  0.014902\n",
            "40           Number  0.008942\n",
            "45           Weight  0.007002\n",
            "31              IPv  0.006885\n",
            "32              LLC  0.002855\n",
            "22           Telnet  0.002603\n",
            "12  ece_flag_number  0.002524\n",
            "25              IRC  0.001862\n",
            "21              DNS  0.001653\n",
            "23             SMTP  0.001190\n",
            "28             DHCP  0.000796\n",
            "24              SSH  0.000284\n",
            "13  cwr_flag_number  0.000076\n",
            "29              ARP  0.000000\n",
            "6             Drate  0.000000\n",
            "skb_selected_feature_names =  Index(['Header_Length', 'Protocol Type', 'TCP', 'Tot sum', 'Min', 'Max', 'AVG',\n",
            "       'Tot size', 'IAT', 'Magnitue'],\n",
            "      dtype='object')\n"
          ]
        }
      ]
    },
    {
      "cell_type": "code",
      "source": [
        "rfe_selector = RFE(estimator= DecisionTreeClassifier( ), n_features_to_select=10)\n",
        "rfe_selector.fit_transform(X, y)\n",
        "\n",
        "# Printing the rankings\n",
        "rfe_feature_scores = pd.DataFrame({'Feature': X.columns, 'Score': rfe_selector.ranking_})\n",
        "rfe_feature_scores = rfe_feature_scores.sort_values(by='Score', ascending=True)  # Sort by importance (ascending)\n",
        "print(rfe_feature_scores)\n",
        "\n",
        "# Get the selected feature names\n",
        "rfe_selected_feature_names = X.columns[rfe_selector.get_support()]\n",
        "print(' rfe_feature_scores = ', rfe_selected_feature_names)"
      ],
      "metadata": {
        "colab": {
          "base_uri": "https://localhost:8080/"
        },
        "outputId": "91faa2c6-5c61-48ac-95ee-853733a82af1",
        "collapsed": true,
        "id": "szsfkv3TrWyH"
      },
      "execution_count": null,
      "outputs": [
        {
          "output_type": "stream",
          "name": "stdout",
          "text": [
            "            Feature  Score\n",
            "39              IAT      1\n",
            "15        syn_count      1\n",
            "38         Tot size      1\n",
            "17        urg_count      1\n",
            "8   syn_flag_number      1\n",
            "7   fin_flag_number      1\n",
            "34              Min      1\n",
            "2     Protocol Type      1\n",
            "1     Header_Length      1\n",
            "43       Covariance      1\n",
            "4              Rate      2\n",
            "10  psh_flag_number      3\n",
            "26              TCP      4\n",
            "44         Variance      5\n",
            "31              IPv      6\n",
            "16        fin_count      7\n",
            "5             Srate      8\n",
            "41         Magnitue      9\n",
            "35              Max     10\n",
            "45           Weight     11\n",
            "33          Tot sum     12\n",
            "30             ICMP     13\n",
            "37              Std     14\n",
            "3          Duration     15\n",
            "12  ece_flag_number     16\n",
            "18        rst_count     17\n",
            "6             Drate     18\n",
            "42           Radius     19\n",
            "40           Number     20\n",
            "36              AVG     21\n",
            "13  cwr_flag_number     22\n",
            "29              ARP     23\n",
            "27              UDP     24\n",
            "14        ack_count     25\n",
            "9   rst_flag_number     26\n",
            "32              LLC     27\n",
            "19             HTTP     28\n",
            "28             DHCP     29\n",
            "11  ack_flag_number     30\n",
            "20            HTTPS     31\n",
            "25              IRC     32\n",
            "21              DNS     33\n",
            "24              SSH     34\n",
            "22           Telnet     35\n",
            "23             SMTP     36\n",
            "0     flow_duration     37\n",
            " rfe_feature_scores =  Index(['Header_Length', 'Protocol Type', 'fin_flag_number', 'syn_flag_number',\n",
            "       'syn_count', 'urg_count', 'Min', 'Tot size', 'IAT', 'Covariance'],\n",
            "      dtype='object')\n"
          ]
        }
      ]
    },
    {
      "cell_type": "code",
      "source": [
        "top_features_combined = list(set(skb_selected_feature_names) | set(rfe_selected_feature_names))\n",
        "print(top_features_combined)"
      ],
      "metadata": {
        "colab": {
          "base_uri": "https://localhost:8080/"
        },
        "outputId": "8c5be00f-c41b-4976-a19c-9ac1ca5ede0c",
        "id": "eGASCOctrWyI"
      },
      "execution_count": null,
      "outputs": [
        {
          "output_type": "stream",
          "name": "stdout",
          "text": [
            "['fin_flag_number', 'Tot sum', 'Max', 'TCP', 'Magnitue', 'AVG', 'syn_flag_number', 'Covariance', 'Protocol Type', 'urg_count', 'Min', 'syn_count', 'IAT', 'Tot size', 'Header_Length']\n"
          ]
        }
      ]
    },
    {
      "cell_type": "code",
      "source": [
        "no_of_redundent_features = 20-(len(top_features_combined))\n",
        "\n",
        "# Find the next 3 best-ranked features NOT in SelectKBest\n",
        "extra_features_from_rfe = []\n",
        "\n",
        "for feature in rfe_feature_scores['Feature']:\n",
        "    if feature not in top_features_combined:\n",
        "        extra_features_from_rfe.append(feature)\n",
        "    if len(extra_features_from_rfe) == no_of_redundent_features:  # Stop once we have 3 features\n",
        "        break\n",
        "\n",
        "print(\"Extra features from RFE:\", extra_features_from_rfe)\n",
        "\n",
        "top_features_combined.extend(extra_features_from_rfe)\n",
        "print('top_features_combined = ', top_features_combined)\n",
        "\n",
        "X_selected = X[top_features_combined]"
      ],
      "metadata": {
        "colab": {
          "base_uri": "https://localhost:8080/"
        },
        "outputId": "cda21c73-07f1-4252-bb94-87291ba0c0ed",
        "id": "vtvS9_AArWyI"
      },
      "execution_count": null,
      "outputs": [
        {
          "output_type": "stream",
          "name": "stdout",
          "text": [
            "Extra features from RFE: ['Rate', 'psh_flag_number', 'Variance', 'IPv', 'fin_count']\n",
            "top_features_combined =  ['fin_flag_number', 'Tot sum', 'Max', 'TCP', 'Magnitue', 'AVG', 'syn_flag_number', 'Covariance', 'Protocol Type', 'urg_count', 'Min', 'syn_count', 'IAT', 'Tot size', 'Header_Length', 'Rate', 'psh_flag_number', 'Variance', 'IPv', 'fin_count']\n"
          ]
        }
      ]
    },
    {
      "cell_type": "code",
      "source": [
        "\n",
        "# Step 4: Train and Test Split\n",
        "X_train, X_test, y_train, y_test = train_test_split(X_selected, y, test_size=0.35, random_state=42)\n",
        "\n",
        "# Step 5: Train K-Nearest Neighbors Classifier\n",
        "knn_model = KNeighborsClassifier(n_neighbors=5)  # You can adjust n_neighbors as needed\n",
        "knn_model.fit(X_train, y_train)\n",
        "\n",
        "# Step 6: Evaluate the model\n",
        "y_pred = knn_model.predict(X_test)\n",
        "\n",
        "# Metrics\n",
        "accuracy = accuracy_score(y_test, y_pred)\n",
        "precision = precision_score(y_test, y_pred, average='weighted')  # Weighted for imbalanced classes\n",
        "recall = recall_score(y_test, y_pred, average='weighted')  # Weighted for imbalanced classes\n",
        "f1 = f1_score(y_test, y_pred, average='weighted')  # Weighted for imbalanced classes\n",
        "\n",
        "# Print metrics\n",
        "print(\"Accuracy:\", accuracy)\n",
        "print(\"Precision:\", precision)\n",
        "print(\"Recall:\", recall)\n",
        "print(\"F1 Score:\", f1)\n",
        "print(\"Classification Report:\\n\", classification_report(y_test, y_pred))\n",
        "\n",
        "# Confusion Matrix\n",
        "conf_matrix = confusion_matrix(y_test, y_pred)\n",
        "print(\"Confusion Matrix:\\n\", conf_matrix)"
      ],
      "metadata": {
        "colab": {
          "base_uri": "https://localhost:8080/"
        },
        "outputId": "1b082097-5e68-4aec-e1f2-8d1d9ff223aa",
        "collapsed": true,
        "id": "ScE6kmRVrWyJ"
      },
      "execution_count": null,
      "outputs": [
        {
          "output_type": "stream",
          "name": "stdout",
          "text": [
            "Accuracy: 0.9959554108710664\n",
            "Precision: 0.9959563887930214\n",
            "Recall: 0.9959554108710664\n",
            "F1 Score: 0.9959544539677264\n",
            "Classification Report:\n",
            "                          precision    recall  f1-score   support\n",
            "\n",
            " DDoS-ACK_Fragmentation       0.95      0.97      0.96       513\n",
            "        DDoS-HTTP_Flood       0.93      0.95      0.94        56\n",
            "        DDoS-ICMP_Flood       1.00      1.00      1.00     12772\n",
            "DDoS-ICMP_Fragmentation       0.99      0.98      0.99       835\n",
            "      DDoS-PSHACK_Flood       1.00      1.00      1.00      7477\n",
            "       DDoS-RSTFINFlood       1.00      1.00      1.00      7196\n",
            "         DDoS-SYN_Flood       1.00      1.00      1.00      7166\n",
            "         DDoS-SlowLoris       0.61      0.58      0.60        24\n",
            "DDoS-SynonymousIP_Flood       1.00      1.00      1.00      6311\n",
            "         DDoS-TCP_Flood       1.00      1.00      1.00      8162\n",
            "         DDoS-UDP_Flood       1.00      1.00      1.00      9762\n",
            " DDoS-UDP_Fragmentation       0.97      0.97      0.97       548\n",
            "\n",
            "               accuracy                           1.00     60822\n",
            "              macro avg       0.95      0.95      0.95     60822\n",
            "           weighted avg       1.00      1.00      1.00     60822\n",
            "\n",
            "Confusion Matrix:\n",
            " [[  498     0     0     2     3     4     0     1     2     0     1     2]\n",
            " [    0    53     2     1     0     0     0     0     0     0     0     0]\n",
            " [    2     4 12726     1     2     1     1     0     4     6    24     1]\n",
            " [    4     0     0   821     3     2     0     1     0     1     2     1]\n",
            " [    3     0     1     0  7468     3     0     0     1     0     0     1]\n",
            " [    5     0     2     0    10  7167     1     1     0     0     0    10]\n",
            " [    0     0     5     1     2     0  7140     0     1    11     6     0]\n",
            " [    1     0     0     1     0     2     0    14     2     0     0     4]\n",
            " [    3     0     0     0     6     9     0     6  6287     0     0     0]\n",
            " [    0     0     8     0     0     0     5     0     0  8145     4     0]\n",
            " [    2     0    14     0     1     1    15     0     0     1  9728     0]\n",
            " [    4     0     1     0     2     6     0     0     5     1     0   529]]\n"
          ]
        }
      ]
    },
    {
      "cell_type": "markdown",
      "source": [
        "# **25 Features**"
      ],
      "metadata": {
        "id": "-1itEs0urtak"
      }
    },
    {
      "cell_type": "code",
      "source": [
        "skb_selector = SelectKBest(score_func=mutual_info_classif, k=12)\n",
        "skb_selector.fit_transform(X, y)\n",
        "\n",
        "# printing the scores\n",
        "skb_feature_scores = pd.DataFrame({'Feature': X.columns, 'Score': skb_selector.scores_})\n",
        "skb_feature_scores = skb_feature_scores.sort_values(by='Score', ascending=False)  # Sort by importance\n",
        "print(skb_feature_scores)\n",
        "\n",
        "# Get the selected feature names\n",
        "skb_selected_feature_names = X.columns[skb_selector.get_support()]\n",
        "print(\"skb_selected_feature_names = \", skb_selected_feature_names)"
      ],
      "metadata": {
        "colab": {
          "base_uri": "https://localhost:8080/"
        },
        "outputId": "cf0f8435-d03c-495d-fbb0-1808ced61a05",
        "collapsed": true,
        "id": "2xVaNS3Mr0FB"
      },
      "execution_count": null,
      "outputs": [
        {
          "output_type": "stream",
          "name": "stdout",
          "text": [
            "            Feature     Score\n",
            "39              IAT  2.037642\n",
            "1     Header_Length  1.138465\n",
            "34              Min  1.048045\n",
            "38         Tot size  1.041559\n",
            "41         Magnitue  1.037611\n",
            "36              AVG  1.033072\n",
            "33          Tot sum  1.028993\n",
            "2     Protocol Type  0.981286\n",
            "35              Max  0.978332\n",
            "26              TCP  0.664879\n",
            "15        syn_count  0.616445\n",
            "30             ICMP  0.531165\n",
            "8   syn_flag_number  0.528811\n",
            "4              Rate  0.526021\n",
            "5             Srate  0.525105\n",
            "0     flow_duration  0.477022\n",
            "27              UDP  0.437237\n",
            "18        rst_count  0.434859\n",
            "16        fin_count  0.399585\n",
            "17        urg_count  0.390177\n",
            "14        ack_count  0.378515\n",
            "7   fin_flag_number  0.363562\n",
            "10  psh_flag_number  0.358671\n",
            "9   rst_flag_number  0.354765\n",
            "11  ack_flag_number  0.351912\n",
            "37              Std  0.226369\n",
            "43       Covariance  0.224975\n",
            "42           Radius  0.223993\n",
            "44         Variance  0.151464\n",
            "3          Duration  0.056953\n",
            "19             HTTP  0.031642\n",
            "20            HTTPS  0.016052\n",
            "32              LLC  0.008950\n",
            "31              IPv  0.008107\n",
            "40           Number  0.006862\n",
            "45           Weight  0.005456\n",
            "13  cwr_flag_number  0.002985\n",
            "22           Telnet  0.002926\n",
            "24              SSH  0.001659\n",
            "21              DNS  0.000987\n",
            "23             SMTP  0.000586\n",
            "12  ece_flag_number  0.000254\n",
            "29              ARP  0.000000\n",
            "28             DHCP  0.000000\n",
            "25              IRC  0.000000\n",
            "6             Drate  0.000000\n",
            "skb_selected_feature_names =  Index(['Header_Length', 'Protocol Type', 'syn_count', 'TCP', 'ICMP', 'Tot sum',\n",
            "       'Min', 'Max', 'AVG', 'Tot size', 'IAT', 'Magnitue'],\n",
            "      dtype='object')\n"
          ]
        }
      ]
    },
    {
      "cell_type": "code",
      "source": [
        "rfe_selector = RFE(estimator= DecisionTreeClassifier( ), n_features_to_select=13)\n",
        "rfe_selector.fit_transform(X, y)\n",
        "\n",
        "# Printing the rankings\n",
        "rfe_feature_scores = pd.DataFrame({'Feature': X.columns, 'Score': rfe_selector.ranking_})\n",
        "rfe_feature_scores = rfe_feature_scores.sort_values(by='Score', ascending=True)  # Sort by importance (ascending)\n",
        "print(rfe_feature_scores)\n",
        "\n",
        "# Get the selected feature names\n",
        "rfe_selected_feature_names = X.columns[rfe_selector.get_support()]\n",
        "print(' rfe_feature_scores = ', rfe_selected_feature_names)"
      ],
      "metadata": {
        "colab": {
          "base_uri": "https://localhost:8080/"
        },
        "outputId": "3e929a93-0f43-43be-a6d0-5b77aa32bc91",
        "collapsed": true,
        "id": "GXVIYPUer0FD"
      },
      "execution_count": null,
      "outputs": [
        {
          "output_type": "stream",
          "name": "stdout",
          "text": [
            "            Feature  Score\n",
            "39              IAT      1\n",
            "17        urg_count      1\n",
            "15        syn_count      1\n",
            "44         Variance      1\n",
            "34              Min      1\n",
            "38         Tot size      1\n",
            "10  psh_flag_number      1\n",
            "8   syn_flag_number      1\n",
            "43       Covariance      1\n",
            "5             Srate      1\n",
            "2     Protocol Type      1\n",
            "1     Header_Length      1\n",
            "7   fin_flag_number      1\n",
            "3          Duration      2\n",
            "26              TCP      3\n",
            "42           Radius      4\n",
            "36              AVG      5\n",
            "45           Weight      6\n",
            "16        fin_count      7\n",
            "4              Rate      8\n",
            "14        ack_count      9\n",
            "37              Std     10\n",
            "35              Max     11\n",
            "6             Drate     12\n",
            "29              ARP     13\n",
            "33          Tot sum     14\n",
            "12  ece_flag_number     15\n",
            "31              IPv     16\n",
            "40           Number     17\n",
            "41         Magnitue     18\n",
            "13  cwr_flag_number     19\n",
            "32              LLC     20\n",
            "28             DHCP     21\n",
            "11  ack_flag_number     22\n",
            "9   rst_flag_number     23\n",
            "18        rst_count     24\n",
            "27              UDP     25\n",
            "19             HTTP     26\n",
            "30             ICMP     27\n",
            "20            HTTPS     28\n",
            "25              IRC     29\n",
            "24              SSH     30\n",
            "0     flow_duration     31\n",
            "21              DNS     32\n",
            "23             SMTP     33\n",
            "22           Telnet     34\n",
            " rfe_feature_scores =  Index(['Header_Length', 'Protocol Type', 'Srate', 'fin_flag_number',\n",
            "       'syn_flag_number', 'psh_flag_number', 'syn_count', 'urg_count', 'Min',\n",
            "       'Tot size', 'IAT', 'Covariance', 'Variance'],\n",
            "      dtype='object')\n"
          ]
        }
      ]
    },
    {
      "cell_type": "code",
      "source": [
        "top_features_combined = list(set(skb_selected_feature_names) | set(rfe_selected_feature_names))\n",
        "print(top_features_combined)"
      ],
      "metadata": {
        "colab": {
          "base_uri": "https://localhost:8080/"
        },
        "outputId": "52e59d6a-89c1-409c-8b0d-246c3296e77e",
        "id": "Qa7ao-57r0FD"
      },
      "execution_count": null,
      "outputs": [
        {
          "output_type": "stream",
          "name": "stdout",
          "text": [
            "['fin_flag_number', 'Tot sum', 'ICMP', 'TCP', 'Max', 'Magnitue', 'AVG', 'syn_flag_number', 'psh_flag_number', 'Covariance', 'Protocol Type', 'urg_count', 'Variance', 'Min', 'syn_count', 'Srate', 'IAT', 'Tot size', 'Header_Length']\n"
          ]
        }
      ]
    },
    {
      "cell_type": "code",
      "source": [
        "no_of_redundent_features = 25-(len(top_features_combined))\n",
        "\n",
        "# Find the next 3 best-ranked features NOT in SelectKBest\n",
        "extra_features_from_rfe = []\n",
        "\n",
        "for feature in rfe_feature_scores['Feature']:\n",
        "    if feature not in top_features_combined:\n",
        "        extra_features_from_rfe.append(feature)\n",
        "    if len(extra_features_from_rfe) == no_of_redundent_features:  # Stop once we have 3 features\n",
        "        break\n",
        "\n",
        "print(\"Extra features from RFE:\", extra_features_from_rfe)\n",
        "\n",
        "top_features_combined.extend(extra_features_from_rfe)\n",
        "print('top_features_combined = ', top_features_combined)\n",
        "\n",
        "X_selected = X[top_features_combined]"
      ],
      "metadata": {
        "colab": {
          "base_uri": "https://localhost:8080/"
        },
        "outputId": "2b061463-b6dd-430b-f295-f64146d1a2ff",
        "id": "Zye3C48Lr0FE"
      },
      "execution_count": null,
      "outputs": [
        {
          "output_type": "stream",
          "name": "stdout",
          "text": [
            "Extra features from RFE: ['Duration', 'Radius', 'Weight', 'fin_count', 'Rate', 'ack_count']\n",
            "top_features_combined =  ['fin_flag_number', 'Tot sum', 'ICMP', 'TCP', 'Max', 'Magnitue', 'AVG', 'syn_flag_number', 'psh_flag_number', 'Covariance', 'Protocol Type', 'urg_count', 'Variance', 'Min', 'syn_count', 'Srate', 'IAT', 'Tot size', 'Header_Length', 'Duration', 'Radius', 'Weight', 'fin_count', 'Rate', 'ack_count']\n"
          ]
        }
      ]
    },
    {
      "cell_type": "code",
      "source": [
        "\n",
        "# Step 4: Train and Test Split\n",
        "X_train, X_test, y_train, y_test = train_test_split(X_selected, y, test_size=0.35, random_state=42)\n",
        "\n",
        "# Step 5: Train K-Nearest Neighbors Classifier\n",
        "knn_model = KNeighborsClassifier(n_neighbors=5)  # You can adjust n_neighbors as needed\n",
        "knn_model.fit(X_train, y_train)\n",
        "\n",
        "# Step 6: Evaluate the model\n",
        "y_pred = knn_model.predict(X_test)\n",
        "\n",
        "# Metrics\n",
        "accuracy = accuracy_score(y_test, y_pred)\n",
        "precision = precision_score(y_test, y_pred, average='weighted')  # Weighted for imbalanced classes\n",
        "recall = recall_score(y_test, y_pred, average='weighted')  # Weighted for imbalanced classes\n",
        "f1 = f1_score(y_test, y_pred, average='weighted')  # Weighted for imbalanced classes\n",
        "\n",
        "# Print metrics\n",
        "print(\"Accuracy:\", accuracy)\n",
        "print(\"Precision:\", precision)\n",
        "print(\"Recall:\", recall)\n",
        "print(\"F1 Score:\", f1)\n",
        "print(\"Classification Report:\\n\", classification_report(y_test, y_pred))\n",
        "\n",
        "# Confusion Matrix\n",
        "conf_matrix = confusion_matrix(y_test, y_pred)\n",
        "print(\"Confusion Matrix:\\n\", conf_matrix)"
      ],
      "metadata": {
        "colab": {
          "base_uri": "https://localhost:8080/"
        },
        "outputId": "c149a0da-cd34-4a12-ba87-22d94c26f621",
        "id": "JKdyH0e2r0FE"
      },
      "execution_count": null,
      "outputs": [
        {
          "output_type": "stream",
          "name": "stdout",
          "text": [
            "Accuracy: 0.9956759067442702\n",
            "Precision: 0.9956783160849333\n",
            "Recall: 0.9956759067442702\n",
            "F1 Score: 0.9956751833314686\n",
            "Classification Report:\n",
            "                          precision    recall  f1-score   support\n",
            "\n",
            " DDoS-ACK_Fragmentation       0.95      0.97      0.96       513\n",
            "        DDoS-HTTP_Flood       0.93      0.95      0.94        56\n",
            "        DDoS-ICMP_Flood       1.00      1.00      1.00     12772\n",
            "DDoS-ICMP_Fragmentation       0.99      0.98      0.99       835\n",
            "      DDoS-PSHACK_Flood       1.00      1.00      1.00      7477\n",
            "       DDoS-RSTFINFlood       1.00      1.00      1.00      7196\n",
            "         DDoS-SYN_Flood       1.00      1.00      1.00      7166\n",
            "         DDoS-SlowLoris       0.61      0.58      0.60        24\n",
            "DDoS-SynonymousIP_Flood       1.00      1.00      1.00      6311\n",
            "         DDoS-TCP_Flood       1.00      1.00      1.00      8162\n",
            "         DDoS-UDP_Flood       0.99      1.00      1.00      9762\n",
            " DDoS-UDP_Fragmentation       0.97      0.96      0.96       548\n",
            "\n",
            "               accuracy                           1.00     60822\n",
            "              macro avg       0.95      0.95      0.95     60822\n",
            "           weighted avg       1.00      1.00      1.00     60822\n",
            "\n",
            "Confusion Matrix:\n",
            " [[  498     0     0     2     3     4     0     1     2     0     1     2]\n",
            " [    0    53     2     1     0     0     0     0     0     0     0     0]\n",
            " [    2     4 12717     1     2     2     1     0     4     7    31     1]\n",
            " [    4     0     0   821     3     2     0     1     0     1     2     1]\n",
            " [    3     0     1     0  7465     6     0     0     1     0     0     1]\n",
            " [    5     0     2     0    12  7165     1     1     0     0     0    10]\n",
            " [    0     0     5     1     2     0  7135     0     1    11    11     0]\n",
            " [    1     0     0     1     0     2     0    14     2     0     0     4]\n",
            " [    3     0     0     0     6     9     0     6  6287     0     0     0]\n",
            " [    0     0     8     0     0     0     5     0     0  8144     5     0]\n",
            " [    2     0    12     0     1     1    13     0     0     1  9732     0]\n",
            " [    5     0     1     0     2     6     0     0     5     1     0   528]]\n"
          ]
        }
      ]
    }
  ]
}