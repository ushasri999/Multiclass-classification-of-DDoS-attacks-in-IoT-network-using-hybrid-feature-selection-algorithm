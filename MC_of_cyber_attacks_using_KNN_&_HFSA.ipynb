{
  "nbformat": 4,
  "nbformat_minor": 0,
  "metadata": {
    "colab": {
      "provenance": [],
      "authorship_tag": "ABX9TyO4LNebIuF4TgbDlfQVGrgW",
      "include_colab_link": true
    },
    "kernelspec": {
      "name": "python3",
      "display_name": "Python 3"
    },
    "language_info": {
      "name": "python"
    }
  },
  "cells": [
    {
      "cell_type": "markdown",
      "metadata": {
        "id": "view-in-github",
        "colab_type": "text"
      },
      "source": [
        "<a href=\"https://colab.research.google.com/github/ushasri999/Multiclass-classification-of-DDoS-attacks-in-IoT-network-using-hybrid-feature-selection-algorithm/blob/main/MC_of_cyber_attacks_using_KNN_%26_HFSA.ipynb\" target=\"_parent\"><img src=\"https://colab.research.google.com/assets/colab-badge.svg\" alt=\"Open In Colab\"/></a>"
      ]
    },
    {
      "cell_type": "code",
      "source": [
        "from google.colab import drive\n",
        "drive.mount('/content/drive')"
      ],
      "metadata": {
        "colab": {
          "base_uri": "https://localhost:8080/"
        },
        "id": "2gkMIA4E7o3N",
        "outputId": "47a7d3e3-1476-42b5-f5cf-d43ff6593108"
      },
      "execution_count": null,
      "outputs": [
        {
          "output_type": "stream",
          "name": "stdout",
          "text": [
            "Mounted at /content/drive\n"
          ]
        }
      ]
    },
    {
      "cell_type": "code",
      "execution_count": null,
      "metadata": {
        "colab": {
          "base_uri": "https://localhost:8080/"
        },
        "id": "W02TRHtLbR6x",
        "outputId": "8876c43a-7646-474a-af56-1fff9f894eec"
      },
      "outputs": [
        {
          "output_type": "stream",
          "name": "stdout",
          "text": [
            "(238687, 46)\n",
            "(238687,)\n"
          ]
        }
      ],
      "source": [
        "import pandas as pd\n",
        "import numpy as np\n",
        "from sklearn.tree import DecisionTreeClassifier\n",
        "from sklearn.model_selection import train_test_split, cross_val_score\n",
        "from sklearn.feature_selection import SelectKBest, mutual_info_classif, RFE\n",
        "from sklearn.metrics import classification_report, accuracy_score, confusion_matrix, precision_score, f1_score,recall_score\n",
        "\n",
        "# Step 1: Load the dataset\n",
        "df = pd.read_csv('/content/drive/MyDrive/data.csv')\n",
        "\n",
        "# Step 2: Separate features and target\n",
        "X = df.drop(\"label\", axis=1, errors='ignore')\n",
        "y = df[\"label\"] if 'label' in df.columns else pd.Series([])\n",
        "\n",
        "# Check if X and y are valid\n",
        "print(X.shape)\n",
        "print(y.shape)\n"
      ]
    },
    {
      "cell_type": "markdown",
      "source": [
        "# 5 features"
      ],
      "metadata": {
        "id": "W84Z5GGxnkBt"
      }
    },
    {
      "cell_type": "code",
      "source": [
        "skb_selector = SelectKBest(score_func=mutual_info_classif, k=2)\n",
        "skb_selector.fit_transform(X, y)\n",
        "\n",
        "# printing the scores\n",
        "skb_feature_scores = pd.DataFrame({'Feature': X.columns, 'Score': skb_selector.scores_})\n",
        "skb_feature_scores = skb_feature_scores.sort_values(by='Score', ascending=False)  # Sort by importance\n",
        "print(skb_feature_scores)\n",
        "\n",
        "# Get the selected feature names\n",
        "skb_selected_feature_names = X.columns[skb_selector.get_support()]\n",
        "print(\"skb_selected_feature_names = \", skb_selected_feature_names)"
      ],
      "metadata": {
        "colab": {
          "base_uri": "https://localhost:8080/"
        },
        "id": "Klp9fJoFd7ST",
        "outputId": "59a83f11-9671-4cef-fe1a-f127b8df87d5",
        "collapsed": true
      },
      "execution_count": null,
      "outputs": [
        {
          "output_type": "stream",
          "name": "stdout",
          "text": [
            "            Feature     Score\n",
            "39              IAT  2.601478\n",
            "38         Tot size  1.337739\n",
            "1     Header_Length  1.326407\n",
            "41         Magnitue  1.318772\n",
            "36              AVG  1.312611\n",
            "33          Tot sum  1.304776\n",
            "34              Min  1.298815\n",
            "35              Max  1.272458\n",
            "2     Protocol Type  1.162507\n",
            "26              TCP  0.654012\n",
            "15        syn_count  0.648266\n",
            "0     flow_duration  0.637336\n",
            "5             Srate  0.632963\n",
            "4              Rate  0.632455\n",
            "18        rst_count  0.510328\n",
            "8   syn_flag_number  0.498034\n",
            "27              UDP  0.493474\n",
            "17        urg_count  0.462270\n",
            "30             ICMP  0.439984\n",
            "37              Std  0.383198\n",
            "43       Covariance  0.382293\n",
            "42           Radius  0.380481\n",
            "16        fin_count  0.347933\n",
            "14        ack_count  0.332644\n",
            "11  ack_flag_number  0.326908\n",
            "44         Variance  0.299656\n",
            "7   fin_flag_number  0.295323\n",
            "9   rst_flag_number  0.284024\n",
            "10  psh_flag_number  0.283991\n",
            "3          Duration  0.211574\n",
            "40           Number  0.180829\n",
            "45           Weight  0.175109\n",
            "20            HTTPS  0.072201\n",
            "19             HTTP  0.031978\n",
            "31              IPv  0.005738\n",
            "32              LLC  0.004577\n",
            "23             SMTP  0.003112\n",
            "12  ece_flag_number  0.001357\n",
            "13  cwr_flag_number  0.001138\n",
            "29              ARP  0.000795\n",
            "22           Telnet  0.000220\n",
            "21              DNS  0.000018\n",
            "28             DHCP  0.000000\n",
            "25              IRC  0.000000\n",
            "24              SSH  0.000000\n",
            "6             Drate  0.000000\n",
            "skb_selected_feature_names =  Index(['Header_Length', 'AVG', 'Tot size', 'IAT', 'Magnitue'], dtype='object')\n"
          ]
        }
      ]
    },
    {
      "cell_type": "code",
      "source": [
        "rfe_selector = RFE(estimator= DecisionTreeClassifier( ), n_features_to_select=3)\n",
        "rfe_selector.fit_transform(X, y)\n",
        "\n",
        "# Printing the rankings\n",
        "rfe_feature_scores = pd.DataFrame({'Feature': X.columns, 'Score': rfe_selector.ranking_})\n",
        "rfe_feature_scores = rfe_feature_scores.sort_values(by='Score', ascending=True)  # Sort by importance (ascending)\n",
        "print(rfe_feature_scores)\n",
        "\n",
        "# Get the selected feature names\n",
        "rfe_selected_feature_names = X.columns[rfe_selector.get_support()]\n",
        "print(' rfe_feature_scores = ', rfe_selected_feature_names)"
      ],
      "metadata": {
        "colab": {
          "base_uri": "https://localhost:8080/"
        },
        "id": "CaAiKvkSS5Kf",
        "outputId": "fe306249-315c-4e82-a076-b6298d731acf",
        "collapsed": true
      },
      "execution_count": null,
      "outputs": [
        {
          "output_type": "stream",
          "name": "stdout",
          "text": [
            "            Feature  Score\n",
            "39              IAT      1\n",
            "34              Min      1\n",
            "41         Magnitue      1\n",
            "7   fin_flag_number      2\n",
            "10  psh_flag_number      3\n",
            "8   syn_flag_number      4\n",
            "33          Tot sum      5\n",
            "2     Protocol Type      6\n",
            "30             ICMP      7\n",
            "1     Header_Length      8\n",
            "18        rst_count      9\n",
            "42           Radius     10\n",
            "5             Srate     11\n",
            "16        fin_count     12\n",
            "0     flow_duration     13\n",
            "36              AVG     14\n",
            "15        syn_count     15\n",
            "44         Variance     16\n",
            "3          Duration     17\n",
            "4              Rate     18\n",
            "17        urg_count     19\n",
            "38         Tot size     20\n",
            "40           Number     21\n",
            "20            HTTPS     22\n",
            "35              Max     23\n",
            "37              Std     24\n",
            "43       Covariance     25\n",
            "14        ack_count     26\n",
            "45           Weight     27\n",
            "27              UDP     28\n",
            "19             HTTP     29\n",
            "24              SSH     30\n",
            "26              TCP     31\n",
            "11  ack_flag_number     32\n",
            "9   rst_flag_number     33\n",
            "21              DNS     34\n",
            "6             Drate     35\n",
            "12  ece_flag_number     36\n",
            "31              IPv     37\n",
            "28             DHCP     38\n",
            "13  cwr_flag_number     39\n",
            "29              ARP     40\n",
            "32              LLC     41\n",
            "25              IRC     42\n",
            "23             SMTP     43\n",
            "22           Telnet     44\n",
            " rfe_feature_scores =  Index(['Min', 'IAT', 'Magnitue'], dtype='object')\n"
          ]
        }
      ]
    },
    {
      "cell_type": "code",
      "source": [
        "top_features_combined = list(set(skb_selected_feature_names) | set(rfe_selected_feature_names))\n",
        "print(top_features_combined)"
      ],
      "metadata": {
        "colab": {
          "base_uri": "https://localhost:8080/"
        },
        "id": "dCAJymSITV0C",
        "outputId": "e861aef9-a8cc-4586-87d5-dc3974509777"
      },
      "execution_count": null,
      "outputs": [
        {
          "output_type": "stream",
          "name": "stdout",
          "text": [
            "['Header_Length', 'Magnitue', 'Min', 'IAT', 'Tot size', 'AVG']\n"
          ]
        }
      ]
    },
    {
      "cell_type": "code",
      "source": [
        "no_of_redundent_features = 5-(len(top_features_combined))\n",
        "\n",
        "# Find the next 3 best-ranked features NOT in SelectKBest\n",
        "extra_features_from_rfe = []\n",
        "\n",
        "for feature in rfe_feature_scores['Feature']:\n",
        "    if feature not in top_features_combined:\n",
        "        extra_features_from_rfe.append(feature)\n",
        "    if len(extra_features_from_rfe) == no_of_redundent_features:  # Stop once we have 3 features\n",
        "        break\n",
        "\n",
        "print(\"Extra features from RFE:\", extra_features_from_rfe)\n",
        "\n",
        "top_features_combined.extend(extra_features_from_rfe)\n",
        "print('top_features_combined = ', top_features_combined)\n",
        "\n",
        "X_selected = X[top_features_combined]"
      ],
      "metadata": {
        "colab": {
          "base_uri": "https://localhost:8080/"
        },
        "id": "qc8aSXu-P7ZC",
        "outputId": "877a08db-e012-46ff-c422-2ef5692d386d"
      },
      "execution_count": null,
      "outputs": [
        {
          "output_type": "stream",
          "name": "stdout",
          "text": [
            "Extra features from RFE: ['fin_flag_number', 'psh_flag_number', 'syn_flag_number', 'Tot sum', 'Protocol Type', 'ICMP', 'rst_count', 'Radius', 'Srate', 'fin_count', 'flow_duration', 'syn_count', 'Variance', 'Duration', 'Rate', 'urg_count', 'Number', 'HTTPS', 'Max', 'Std', 'Covariance', 'ack_count', 'Weight', 'UDP', 'HTTP', 'SSH', 'TCP', 'ack_flag_number', 'rst_flag_number', 'DNS', 'Drate', 'ece_flag_number', 'IPv', 'DHCP', 'cwr_flag_number', 'ARP', 'LLC', 'IRC', 'SMTP', 'Telnet']\n",
            "top_features_combined =  ['Header_Length', 'Magnitue', 'Min', 'IAT', 'Tot size', 'AVG', 'fin_flag_number', 'psh_flag_number', 'syn_flag_number', 'Tot sum', 'Protocol Type', 'ICMP', 'rst_count', 'Radius', 'Srate', 'fin_count', 'flow_duration', 'syn_count', 'Variance', 'Duration', 'Rate', 'urg_count', 'Number', 'HTTPS', 'Max', 'Std', 'Covariance', 'ack_count', 'Weight', 'UDP', 'HTTP', 'SSH', 'TCP', 'ack_flag_number', 'rst_flag_number', 'DNS', 'Drate', 'ece_flag_number', 'IPv', 'DHCP', 'cwr_flag_number', 'ARP', 'LLC', 'IRC', 'SMTP', 'Telnet']\n"
          ]
        }
      ]
    },
    {
      "cell_type": "code",
      "source": [
        "\n",
        "from sklearn.neighbors import KNeighborsClassifier\n",
        "# Step 4: Train and Test Split\n",
        "X_train, X_test, y_train, y_test = train_test_split(X_selected, y, test_size=0.35, random_state=42)\n",
        "\n",
        "# Step 5: Train K-Nearest Neighbors Classifier\n",
        "knn_model = KNeighborsClassifier(n_neighbors=5)  # You can adjust n_neighbors as needed\n",
        "knn_model.fit(X_train, y_train)\n",
        "\n",
        "# Step 6: Evaluate the model\n",
        "y_pred = knn_model.predict(X_test)\n",
        "\n",
        "# Metrics\n",
        "accuracy = accuracy_score(y_test, y_pred)\n",
        "precision = precision_score(y_test, y_pred, average='weighted')  # Weighted for imbalanced classes\n",
        "recall = recall_score(y_test, y_pred, average='weighted')  # Weighted for imbalanced classes\n",
        "f1 = f1_score(y_test, y_pred, average='weighted')  # Weighted for imbalanced classes\n",
        "\n",
        "# Print metrics\n",
        "print(\"Accuracy:\", accuracy)\n",
        "print(\"Precision:\", precision)\n",
        "print(\"Recall:\", recall)\n",
        "print(\"F1 Score:\", f1)\n",
        "print(\"Classification Report:\\n\", classification_report(y_test, y_pred))\n",
        "\n",
        "# Confusion Matrix\n",
        "conf_matrix = confusion_matrix(y_test, y_pred)\n",
        "print(\"Confusion Matrix:\\n\", conf_matrix)"
      ],
      "metadata": {
        "colab": {
          "base_uri": "https://localhost:8080/"
        },
        "id": "bgVlQAbOqyMc",
        "outputId": "6f356b9f-57fd-4517-e88b-55e80b9a46af"
      },
      "execution_count": null,
      "outputs": [
        {
          "output_type": "stream",
          "name": "stderr",
          "text": [
            "/usr/local/lib/python3.11/dist-packages/sklearn/metrics/_classification.py:1565: UndefinedMetricWarning: Precision is ill-defined and being set to 0.0 in labels with no predicted samples. Use `zero_division` parameter to control this behavior.\n",
            "  _warn_prf(average, modifier, f\"{metric.capitalize()} is\", len(result))\n"
          ]
        },
        {
          "output_type": "stream",
          "name": "stdout",
          "text": [
            "Accuracy: 0.9822123268814115\n",
            "Precision: 0.9816663770415087\n",
            "Recall: 0.9822123268814115\n",
            "F1 Score: 0.9810553961963036\n"
          ]
        },
        {
          "output_type": "stream",
          "name": "stderr",
          "text": [
            "/usr/local/lib/python3.11/dist-packages/sklearn/metrics/_classification.py:1565: UndefinedMetricWarning: Precision is ill-defined and being set to 0.0 in labels with no predicted samples. Use `zero_division` parameter to control this behavior.\n",
            "  _warn_prf(average, modifier, f\"{metric.capitalize()} is\", len(result))\n",
            "/usr/local/lib/python3.11/dist-packages/sklearn/metrics/_classification.py:1565: UndefinedMetricWarning: Precision is ill-defined and being set to 0.0 in labels with no predicted samples. Use `zero_division` parameter to control this behavior.\n",
            "  _warn_prf(average, modifier, f\"{metric.capitalize()} is\", len(result))\n",
            "/usr/local/lib/python3.11/dist-packages/sklearn/metrics/_classification.py:1565: UndefinedMetricWarning: Precision is ill-defined and being set to 0.0 in labels with no predicted samples. Use `zero_division` parameter to control this behavior.\n",
            "  _warn_prf(average, modifier, f\"{metric.capitalize()} is\", len(result))\n"
          ]
        },
        {
          "output_type": "stream",
          "name": "stdout",
          "text": [
            "Classification Report:\n",
            "                          precision    recall  f1-score   support\n",
            "\n",
            "       Backdoor_Malware       0.22      0.50      0.31         4\n",
            "          BenignTraffic       0.73      0.93      0.82      1951\n",
            "       BrowserHijacking       0.00      0.00      0.00        11\n",
            "       CommandInjection       0.62      0.62      0.62         8\n",
            " DDoS-ACK_Fragmentation       0.94      0.96      0.95       539\n",
            "        DDoS-HTTP_Flood       0.96      0.89      0.92        61\n",
            "        DDoS-ICMP_Flood       1.00      1.00      1.00     12879\n",
            "DDoS-ICMP_Fragmentation       0.96      0.98      0.97       816\n",
            "      DDoS-PSHACK_Flood       1.00      1.00      1.00      7396\n",
            "       DDoS-RSTFINFlood       0.99      0.99      0.99      7230\n",
            "         DDoS-SYN_Flood       1.00      0.99      1.00      7309\n",
            "         DDoS-SlowLoris       0.69      0.43      0.53        47\n",
            "DDoS-SynonymousIP_Flood       1.00      1.00      1.00      6251\n",
            "         DDoS-TCP_Flood       1.00      1.00      1.00      8058\n",
            "         DDoS-UDP_Flood       0.99      1.00      1.00      9797\n",
            " DDoS-UDP_Fragmentation       0.96      0.97      0.96       511\n",
            "           DNS_Spoofing       0.71      0.47      0.57       316\n",
            "   DictionaryBruteForce       0.50      0.05      0.10        19\n",
            "         DoS-HTTP_Flood       0.82      0.83      0.83       139\n",
            "          DoS-SYN_Flood       1.00      0.99      0.99      3562\n",
            "          DoS-TCP_Flood       1.00      1.00      1.00      4823\n",
            "          DoS-UDP_Flood       0.99      1.00      0.99      5859\n",
            "       MITM-ArpSpoofing       0.65      0.40      0.49       569\n",
            "     Mirai-greeth_flood       0.99      0.99      0.99      1729\n",
            "      Mirai-greip_flood       0.99      0.98      0.99      1332\n",
            "         Mirai-udpplain       0.99      0.99      0.99      1618\n",
            "    Recon-HostDiscovery       0.75      0.67      0.71       249\n",
            "           Recon-OSScan       0.64      0.29      0.40       204\n",
            "        Recon-PingSweep       0.00      0.00      0.00         1\n",
            "         Recon-PortScan       0.65      0.46      0.54       140\n",
            "           SqlInjection       1.00      0.23      0.38        13\n",
            "       Uploading_Attack       0.00      0.00      0.00         3\n",
            "      VulnerabilityScan       0.81      0.83      0.82        90\n",
            "                    XSS       0.00      0.00      0.00         7\n",
            "\n",
            "               accuracy                           0.98     83541\n",
            "              macro avg       0.75      0.69      0.70     83541\n",
            "           weighted avg       0.98      0.98      0.98     83541\n",
            "\n",
            "Confusion Matrix:\n",
            " [[   2    0    0 ...    0    0    0]\n",
            " [   4 1821    0 ...    0    0    0]\n",
            " [   0    5    0 ...    0    0    0]\n",
            " ...\n",
            " [   1    2    0 ...    0    0    0]\n",
            " [   0    0    0 ...    0   75    0]\n",
            " [   0    3    0 ...    0    0    0]]\n"
          ]
        }
      ]
    },
    {
      "cell_type": "markdown",
      "source": [
        "# 10 features"
      ],
      "metadata": {
        "id": "-3Vqi79mnWQS"
      }
    },
    {
      "cell_type": "code",
      "source": [
        "skb_selector = SelectKBest(score_func=mutual_info_classif, k=5)\n",
        "skb_selector.fit_transform(X, y)\n",
        "\n",
        "# printing the scores\n",
        "skb_feature_scores = pd.DataFrame({'Feature': X.columns, 'Score': skb_selector.scores_})\n",
        "skb_feature_scores = skb_feature_scores.sort_values(by='Score', ascending=False)  # Sort by importance\n",
        "print(skb_feature_scores)\n",
        "\n",
        "# Get the selected feature names\n",
        "skb_selected_feature_names = X.columns[skb_selector.get_support()]\n",
        "print(\"skb_selected_feature_names = \", skb_selected_feature_names)"
      ],
      "metadata": {
        "colab": {
          "base_uri": "https://localhost:8080/"
        },
        "id": "XF5BixW5cs_1",
        "outputId": "1c7ea72b-4b9d-48e0-c001-26731c338b78",
        "collapsed": true
      },
      "execution_count": null,
      "outputs": [
        {
          "output_type": "stream",
          "name": "stdout",
          "text": [
            "            Feature     Score\n",
            "39              IAT  2.601473\n",
            "38         Tot size  1.337934\n",
            "1     Header_Length  1.327710\n",
            "41         Magnitue  1.318071\n",
            "36              AVG  1.312015\n",
            "33          Tot sum  1.305782\n",
            "34              Min  1.297050\n",
            "35              Max  1.272283\n",
            "2     Protocol Type  1.162467\n",
            "26              TCP  0.655537\n",
            "15        syn_count  0.649357\n",
            "0     flow_duration  0.636118\n",
            "4              Rate  0.632770\n",
            "5             Srate  0.632701\n",
            "18        rst_count  0.511235\n",
            "8   syn_flag_number  0.495702\n",
            "27              UDP  0.495266\n",
            "17        urg_count  0.460430\n",
            "30             ICMP  0.444715\n",
            "37              Std  0.382921\n",
            "42           Radius  0.382133\n",
            "43       Covariance  0.381825\n",
            "16        fin_count  0.347460\n",
            "14        ack_count  0.331654\n",
            "11  ack_flag_number  0.324013\n",
            "44         Variance  0.299108\n",
            "7   fin_flag_number  0.295511\n",
            "10  psh_flag_number  0.287651\n",
            "9   rst_flag_number  0.287155\n",
            "3          Duration  0.209518\n",
            "40           Number  0.178862\n",
            "45           Weight  0.176798\n",
            "20            HTTPS  0.069969\n",
            "19             HTTP  0.031610\n",
            "32              LLC  0.006634\n",
            "31              IPv  0.005434\n",
            "12  ece_flag_number  0.001505\n",
            "13  cwr_flag_number  0.001056\n",
            "23             SMTP  0.000624\n",
            "6             Drate  0.000376\n",
            "25              IRC  0.000191\n",
            "29              ARP  0.000128\n",
            "21              DNS  0.000088\n",
            "28             DHCP  0.000000\n",
            "24              SSH  0.000000\n",
            "22           Telnet  0.000000\n",
            "skb_selected_feature_names =  Index(['Header_Length', 'AVG', 'Tot size', 'IAT', 'Magnitue'], dtype='object')\n"
          ]
        }
      ]
    },
    {
      "cell_type": "code",
      "source": [
        "rfe_selector = RFE(estimator= DecisionTreeClassifier( ), n_features_to_select=5)\n",
        "rfe_selector.fit_transform(X, y)\n",
        "\n",
        "# Printing the rankings\n",
        "rfe_feature_scores = pd.DataFrame({'Feature': X.columns, 'Score': rfe_selector.ranking_})\n",
        "rfe_feature_scores = rfe_feature_scores.sort_values(by='Score', ascending=True)  # Sort by importance (ascending)\n",
        "print(rfe_feature_scores)\n",
        "\n",
        "# Get the selected feature names\n",
        "rfe_selected_feature_names = X.columns[rfe_selector.get_support()]\n",
        "print(' rfe_feature_scores = ', rfe_selected_feature_names)"
      ],
      "metadata": {
        "colab": {
          "base_uri": "https://localhost:8080/"
        },
        "id": "HPLywwbXdaHy",
        "outputId": "88cb5101-2fc4-4d20-bf45-ef6bcc332334",
        "collapsed": true
      },
      "execution_count": null,
      "outputs": [
        {
          "output_type": "stream",
          "name": "stdout",
          "text": [
            "            Feature  Score\n",
            "34              Min      1\n",
            "7   fin_flag_number      1\n",
            "10  psh_flag_number      1\n",
            "41         Magnitue      1\n",
            "39              IAT      1\n",
            "8   syn_flag_number      2\n",
            "33          Tot sum      3\n",
            "2     Protocol Type      4\n",
            "1     Header_Length      5\n",
            "30             ICMP      6\n",
            "18        rst_count      7\n",
            "42           Radius      8\n",
            "4              Rate      9\n",
            "16        fin_count     10\n",
            "0     flow_duration     11\n",
            "36              AVG     12\n",
            "15        syn_count     13\n",
            "44         Variance     14\n",
            "3          Duration     15\n",
            "5             Srate     16\n",
            "17        urg_count     17\n",
            "38         Tot size     18\n",
            "20            HTTPS     19\n",
            "35              Max     20\n",
            "40           Number     21\n",
            "43       Covariance     22\n",
            "14        ack_count     23\n",
            "27              UDP     24\n",
            "37              Std     25\n",
            "45           Weight     26\n",
            "19             HTTP     27\n",
            "11  ack_flag_number     28\n",
            "24              SSH     29\n",
            "26              TCP     30\n",
            "9   rst_flag_number     31\n",
            "21              DNS     32\n",
            "29              ARP     33\n",
            "6             Drate     34\n",
            "31              IPv     35\n",
            "12  ece_flag_number     36\n",
            "13  cwr_flag_number     37\n",
            "25              IRC     38\n",
            "28             DHCP     39\n",
            "32              LLC     40\n",
            "23             SMTP     41\n",
            "22           Telnet     42\n",
            " rfe_feature_scores =  Index(['fin_flag_number', 'psh_flag_number', 'Min', 'IAT', 'Magnitue'], dtype='object')\n"
          ]
        }
      ]
    },
    {
      "cell_type": "code",
      "source": [
        "top_features_combined = list(set(skb_selected_feature_names) | set(rfe_selected_feature_names))\n",
        "print(top_features_combined)"
      ],
      "metadata": {
        "colab": {
          "base_uri": "https://localhost:8080/"
        },
        "id": "BGoAK4csb2In",
        "outputId": "a34cc8b3-69f0-4fc4-ea48-185e50f83ea3"
      },
      "execution_count": null,
      "outputs": [
        {
          "output_type": "stream",
          "name": "stdout",
          "text": [
            "['Magnitue', 'Min', 'fin_flag_number', 'Tot size', 'Header_Length', 'IAT', 'psh_flag_number', 'AVG']\n"
          ]
        }
      ]
    },
    {
      "cell_type": "code",
      "source": [
        "no_of_redundent_features = 10-(len(top_features_combined))\n",
        "\n",
        "# Find the next 3 best-ranked features NOT in SelectKBest\n",
        "extra_features_from_rfe = []\n",
        "\n",
        "for feature in rfe_feature_scores['Feature']:\n",
        "    if feature not in top_features_combined:\n",
        "        extra_features_from_rfe.append(feature)\n",
        "    if len(extra_features_from_rfe) == no_of_redundent_features:  # Stop once we have 3 features\n",
        "        break\n",
        "\n",
        "print(\"Extra features from RFE:\", extra_features_from_rfe)\n",
        "\n",
        "top_features_combined.extend(extra_features_from_rfe)\n",
        "print('top_features_combined = ', top_features_combined)\n",
        "\n",
        "X_selected = X[top_features_combined]"
      ],
      "metadata": {
        "colab": {
          "base_uri": "https://localhost:8080/"
        },
        "id": "uZhgkxsNqZUz",
        "outputId": "94492025-7bfd-4682-d237-dc80a41a65f1"
      },
      "execution_count": null,
      "outputs": [
        {
          "output_type": "stream",
          "name": "stdout",
          "text": [
            "Extra features from RFE: ['syn_flag_number', 'Tot sum']\n",
            "top_features_combined =  ['Magnitue', 'Min', 'fin_flag_number', 'Tot size', 'Header_Length', 'IAT', 'psh_flag_number', 'AVG', 'syn_flag_number', 'Tot sum']\n"
          ]
        }
      ]
    },
    {
      "cell_type": "code",
      "source": [
        "\n",
        "# Step 4: Train and Test Split\n",
        "X_train, X_test, y_train, y_test = train_test_split(X_selected, y, test_size=0.35, random_state=42)\n",
        "\n",
        "# Step 5: Train K-Nearest Neighbors Classifier\n",
        "knn_model = KNeighborsClassifier(n_neighbors=5)  # You can adjust n_neighbors as needed\n",
        "knn_model.fit(X_train, y_train)\n",
        "\n",
        "# Step 6: Evaluate the model\n",
        "y_pred = knn_model.predict(X_test)\n",
        "\n",
        "# Metrics\n",
        "accuracy = accuracy_score(y_test, y_pred)\n",
        "precision = precision_score(y_test, y_pred, average='weighted')  # Weighted for imbalanced classes\n",
        "recall = recall_score(y_test, y_pred, average='weighted')  # Weighted for imbalanced classes\n",
        "f1 = f1_score(y_test, y_pred, average='weighted')  # Weighted for imbalanced classes\n",
        "\n",
        "# Print metrics\n",
        "print(\"Accuracy:\", accuracy)\n",
        "print(\"Precision:\", precision)\n",
        "print(\"Recall:\", recall)\n",
        "print(\"F1 Score:\", f1)\n",
        "print(\"Classification Report:\\n\", classification_report(y_test, y_pred))\n",
        "\n",
        "# Confusion Matrix\n",
        "conf_matrix = confusion_matrix(y_test, y_pred)\n",
        "print(\"Confusion Matrix:\\n\", conf_matrix)"
      ],
      "metadata": {
        "colab": {
          "base_uri": "https://localhost:8080/"
        },
        "id": "sRTv6zbQq1DG",
        "outputId": "4f82e92a-abc9-4bb5-f9a4-6631a380b0e5"
      },
      "execution_count": null,
      "outputs": [
        {
          "output_type": "stream",
          "name": "stderr",
          "text": [
            "/usr/local/lib/python3.11/dist-packages/sklearn/metrics/_classification.py:1565: UndefinedMetricWarning: Precision is ill-defined and being set to 0.0 in labels with no predicted samples. Use `zero_division` parameter to control this behavior.\n",
            "  _warn_prf(average, modifier, f\"{metric.capitalize()} is\", len(result))\n"
          ]
        },
        {
          "output_type": "stream",
          "name": "stdout",
          "text": [
            "Accuracy: 0.98697645467495\n",
            "Precision: 0.986852777112305\n",
            "Recall: 0.98697645467495\n",
            "F1 Score: 0.9863097009629476\n"
          ]
        },
        {
          "output_type": "stream",
          "name": "stderr",
          "text": [
            "/usr/local/lib/python3.11/dist-packages/sklearn/metrics/_classification.py:1565: UndefinedMetricWarning: Precision is ill-defined and being set to 0.0 in labels with no predicted samples. Use `zero_division` parameter to control this behavior.\n",
            "  _warn_prf(average, modifier, f\"{metric.capitalize()} is\", len(result))\n",
            "/usr/local/lib/python3.11/dist-packages/sklearn/metrics/_classification.py:1565: UndefinedMetricWarning: Precision is ill-defined and being set to 0.0 in labels with no predicted samples. Use `zero_division` parameter to control this behavior.\n",
            "  _warn_prf(average, modifier, f\"{metric.capitalize()} is\", len(result))\n",
            "/usr/local/lib/python3.11/dist-packages/sklearn/metrics/_classification.py:1565: UndefinedMetricWarning: Precision is ill-defined and being set to 0.0 in labels with no predicted samples. Use `zero_division` parameter to control this behavior.\n",
            "  _warn_prf(average, modifier, f\"{metric.capitalize()} is\", len(result))\n"
          ]
        },
        {
          "output_type": "stream",
          "name": "stdout",
          "text": [
            "Classification Report:\n",
            "                          precision    recall  f1-score   support\n",
            "\n",
            "       Backdoor_Malware       0.29      1.00      0.44         4\n",
            "          BenignTraffic       0.77      0.94      0.84      1951\n",
            "       BrowserHijacking       0.00      0.00      0.00        11\n",
            "       CommandInjection       0.56      0.62      0.59         8\n",
            " DDoS-ACK_Fragmentation       0.97      0.98      0.97       539\n",
            "        DDoS-HTTP_Flood       1.00      1.00      1.00        61\n",
            "        DDoS-ICMP_Flood       1.00      1.00      1.00     12879\n",
            "DDoS-ICMP_Fragmentation       0.98      0.98      0.98       816\n",
            "      DDoS-PSHACK_Flood       1.00      1.00      1.00      7396\n",
            "       DDoS-RSTFINFlood       1.00      1.00      1.00      7230\n",
            "         DDoS-SYN_Flood       1.00      1.00      1.00      7309\n",
            "         DDoS-SlowLoris       0.94      0.62      0.74        47\n",
            "DDoS-SynonymousIP_Flood       1.00      1.00      1.00      6251\n",
            "         DDoS-TCP_Flood       1.00      1.00      1.00      8058\n",
            "         DDoS-UDP_Flood       1.00      1.00      1.00      9797\n",
            " DDoS-UDP_Fragmentation       0.94      0.98      0.96       511\n",
            "           DNS_Spoofing       0.72      0.51      0.60       316\n",
            "   DictionaryBruteForce       0.67      0.21      0.32        19\n",
            "         DoS-HTTP_Flood       0.99      0.96      0.97       139\n",
            "          DoS-SYN_Flood       1.00      1.00      1.00      3562\n",
            "          DoS-TCP_Flood       1.00      1.00      1.00      4823\n",
            "          DoS-UDP_Flood       1.00      1.00      1.00      5859\n",
            "       MITM-ArpSpoofing       0.79      0.56      0.66       569\n",
            "     Mirai-greeth_flood       0.99      0.99      0.99      1729\n",
            "      Mirai-greip_flood       1.00      0.99      0.99      1332\n",
            "         Mirai-udpplain       0.99      0.99      0.99      1618\n",
            "    Recon-HostDiscovery       0.72      0.67      0.69       249\n",
            "           Recon-OSScan       0.71      0.41      0.52       204\n",
            "        Recon-PingSweep       0.00      0.00      0.00         1\n",
            "         Recon-PortScan       0.69      0.49      0.57       140\n",
            "           SqlInjection       1.00      0.46      0.63        13\n",
            "       Uploading_Attack       0.00      0.00      0.00         3\n",
            "      VulnerabilityScan       0.87      0.99      0.93        90\n",
            "                    XSS       0.00      0.00      0.00         7\n",
            "\n",
            "               accuracy                           0.99     83541\n",
            "              macro avg       0.78      0.75      0.75     83541\n",
            "           weighted avg       0.99      0.99      0.99     83541\n",
            "\n",
            "Confusion Matrix:\n",
            " [[   4    0    0 ...    0    0    0]\n",
            " [   4 1825    0 ...    0    0    0]\n",
            " [   0    4    0 ...    0    0    0]\n",
            " ...\n",
            " [   0    1    0 ...    0    0    0]\n",
            " [   0    0    0 ...    0   89    0]\n",
            " [   0    3    0 ...    0    0    0]]\n"
          ]
        }
      ]
    },
    {
      "cell_type": "markdown",
      "source": [
        "# 15 features"
      ],
      "metadata": {
        "id": "czfPtbIInQCa"
      }
    },
    {
      "cell_type": "code",
      "source": [
        "skb_selector = SelectKBest(score_func=mutual_info_classif, k=7)\n",
        "skb_selector.fit_transform(X, y)\n",
        "\n",
        "# printing the scores\n",
        "skb_feature_scores = pd.DataFrame({'Feature': X.columns, 'Score': skb_selector.scores_})\n",
        "skb_feature_scores = skb_feature_scores.sort_values(by='Score', ascending=False)  # Sort by importance\n",
        "print(skb_feature_scores)\n",
        "\n",
        "# Get the selected feature names\n",
        "skb_selected_feature_names = X.columns[skb_selector.get_support()]\n",
        "print(\"skb_selected_feature_names = \", skb_selected_feature_names)"
      ],
      "metadata": {
        "colab": {
          "base_uri": "https://localhost:8080/"
        },
        "outputId": "b996f0a1-9b72-490f-f136-aaf5d40efb49",
        "collapsed": true,
        "id": "JR5akcz5rIv3"
      },
      "execution_count": null,
      "outputs": [
        {
          "output_type": "stream",
          "name": "stdout",
          "text": [
            "            Feature     Score\n",
            "39              IAT  2.601411\n",
            "38         Tot size  1.337880\n",
            "1     Header_Length  1.326567\n",
            "41         Magnitue  1.318801\n",
            "36              AVG  1.314731\n",
            "33          Tot sum  1.304261\n",
            "34              Min  1.297114\n",
            "35              Max  1.273074\n",
            "2     Protocol Type  1.162718\n",
            "26              TCP  0.656027\n",
            "15        syn_count  0.648717\n",
            "0     flow_duration  0.634438\n",
            "4              Rate  0.633025\n",
            "5             Srate  0.632282\n",
            "18        rst_count  0.509047\n",
            "8   syn_flag_number  0.497058\n",
            "27              UDP  0.495788\n",
            "17        urg_count  0.460852\n",
            "30             ICMP  0.443985\n",
            "37              Std  0.382452\n",
            "42           Radius  0.379909\n",
            "43       Covariance  0.378266\n",
            "16        fin_count  0.350968\n",
            "14        ack_count  0.331701\n",
            "11  ack_flag_number  0.324635\n",
            "44         Variance  0.298060\n",
            "7   fin_flag_number  0.296381\n",
            "9   rst_flag_number  0.285224\n",
            "10  psh_flag_number  0.285136\n",
            "3          Duration  0.211901\n",
            "45           Weight  0.178026\n",
            "40           Number  0.177194\n",
            "20            HTTPS  0.068831\n",
            "19             HTTP  0.032936\n",
            "32              LLC  0.002838\n",
            "31              IPv  0.002752\n",
            "12  ece_flag_number  0.001632\n",
            "23             SMTP  0.000958\n",
            "13  cwr_flag_number  0.000786\n",
            "24              SSH  0.000486\n",
            "29              ARP  0.000076\n",
            "28             DHCP  0.000000\n",
            "25              IRC  0.000000\n",
            "22           Telnet  0.000000\n",
            "21              DNS  0.000000\n",
            "6             Drate  0.000000\n",
            "skb_selected_feature_names =  Index(['Header_Length', 'Tot sum', 'Min', 'AVG', 'Tot size', 'IAT',\n",
            "       'Magnitue'],\n",
            "      dtype='object')\n"
          ]
        }
      ]
    },
    {
      "cell_type": "code",
      "source": [
        "rfe_selector = RFE(estimator= DecisionTreeClassifier( ), n_features_to_select=8)\n",
        "rfe_selector.fit_transform(X, y)\n",
        "\n",
        "# Printing the rankings\n",
        "rfe_feature_scores = pd.DataFrame({'Feature': X.columns, 'Score': rfe_selector.ranking_})\n",
        "rfe_feature_scores = rfe_feature_scores.sort_values(by='Score', ascending=True)  # Sort by importance (ascending)\n",
        "print(rfe_feature_scores)\n",
        "\n",
        "# Get the selected feature names\n",
        "rfe_selected_feature_names = X.columns[rfe_selector.get_support()]\n",
        "print(' rfe_feature_scores = ', rfe_selected_feature_names)"
      ],
      "metadata": {
        "colab": {
          "base_uri": "https://localhost:8080/"
        },
        "outputId": "1a68d0bc-17a6-4847-cdc9-c9ac8a941113",
        "collapsed": true,
        "id": "7pjHmJM7rIv4"
      },
      "execution_count": null,
      "outputs": [
        {
          "output_type": "stream",
          "name": "stdout",
          "text": [
            "            Feature  Score\n",
            "2     Protocol Type      1\n",
            "34              Min      1\n",
            "7   fin_flag_number      1\n",
            "8   syn_flag_number      1\n",
            "10  psh_flag_number      1\n",
            "41         Magnitue      1\n",
            "33          Tot sum      1\n",
            "39              IAT      1\n",
            "1     Header_Length      2\n",
            "30             ICMP      3\n",
            "18        rst_count      4\n",
            "37              Std      5\n",
            "4              Rate      6\n",
            "16        fin_count      7\n",
            "0     flow_duration      8\n",
            "36              AVG      9\n",
            "44         Variance     10\n",
            "3          Duration     11\n",
            "15        syn_count     12\n",
            "5             Srate     13\n",
            "17        urg_count     14\n",
            "38         Tot size     15\n",
            "20            HTTPS     16\n",
            "43       Covariance     17\n",
            "35              Max     18\n",
            "40           Number     19\n",
            "42           Radius     20\n",
            "14        ack_count     21\n",
            "19             HTTP     22\n",
            "45           Weight     23\n",
            "27              UDP     24\n",
            "11  ack_flag_number     25\n",
            "24              SSH     26\n",
            "9   rst_flag_number     27\n",
            "26              TCP     28\n",
            "21              DNS     29\n",
            "6             Drate     30\n",
            "12  ece_flag_number     31\n",
            "13  cwr_flag_number     32\n",
            "29              ARP     33\n",
            "25              IRC     34\n",
            "28             DHCP     35\n",
            "32              LLC     36\n",
            "31              IPv     37\n",
            "23             SMTP     38\n",
            "22           Telnet     39\n",
            " rfe_feature_scores =  Index(['Protocol Type', 'fin_flag_number', 'syn_flag_number',\n",
            "       'psh_flag_number', 'Tot sum', 'Min', 'IAT', 'Magnitue'],\n",
            "      dtype='object')\n"
          ]
        }
      ]
    },
    {
      "cell_type": "code",
      "source": [
        "top_features_combined = list(set(skb_selected_feature_names) | set(rfe_selected_feature_names))\n",
        "print(top_features_combined)"
      ],
      "metadata": {
        "colab": {
          "base_uri": "https://localhost:8080/"
        },
        "outputId": "18080d17-b495-44d7-820d-0d3a40932c3a",
        "id": "_zxf-ptlrIv5"
      },
      "execution_count": null,
      "outputs": [
        {
          "output_type": "stream",
          "name": "stdout",
          "text": [
            "['Magnitue', 'Min', 'fin_flag_number', 'Tot sum', 'Tot size', 'Header_Length', 'Protocol Type', 'IAT', 'syn_flag_number', 'psh_flag_number', 'AVG']\n"
          ]
        }
      ]
    },
    {
      "cell_type": "code",
      "source": [
        "no_of_redundent_features = 15-(len(top_features_combined))\n",
        "\n",
        "# Find the next 3 best-ranked features NOT in SelectKBest\n",
        "extra_features_from_rfe = []\n",
        "\n",
        "for feature in rfe_feature_scores['Feature']:\n",
        "    if feature not in top_features_combined:\n",
        "        extra_features_from_rfe.append(feature)\n",
        "    if len(extra_features_from_rfe) == no_of_redundent_features:  # Stop once we have 3 features\n",
        "        break\n",
        "\n",
        "print(\"Extra features from RFE:\", extra_features_from_rfe)\n",
        "\n",
        "top_features_combined.extend(extra_features_from_rfe)\n",
        "print('top_features_combined = ', top_features_combined)\n",
        "\n",
        "X_selected = X[top_features_combined]"
      ],
      "metadata": {
        "colab": {
          "base_uri": "https://localhost:8080/"
        },
        "outputId": "0b1a026d-0e23-4803-95df-9bff8e87b1fc",
        "id": "9jrD0eISrIv5"
      },
      "execution_count": null,
      "outputs": [
        {
          "output_type": "stream",
          "name": "stdout",
          "text": [
            "Extra features from RFE: ['ICMP', 'rst_count', 'Std', 'Rate']\n",
            "top_features_combined =  ['Magnitue', 'Min', 'fin_flag_number', 'Tot sum', 'Tot size', 'Header_Length', 'Protocol Type', 'IAT', 'syn_flag_number', 'psh_flag_number', 'AVG', 'ICMP', 'rst_count', 'Std', 'Rate']\n"
          ]
        }
      ]
    },
    {
      "cell_type": "code",
      "source": [
        "\n",
        "# Step 4: Train and Test Split\n",
        "X_train, X_test, y_train, y_test = train_test_split(X_selected, y, test_size=0.35, random_state=42)\n",
        "\n",
        "# Step 5: Train K-Nearest Neighbors Classifier\n",
        "knn_model = KNeighborsClassifier(n_neighbors=5)  # You can adjust n_neighbors as needed\n",
        "knn_model.fit(X_train, y_train)\n",
        "\n",
        "# Step 6: Evaluate the model\n",
        "y_pred = knn_model.predict(X_test)\n",
        "\n",
        "# Metrics\n",
        "accuracy = accuracy_score(y_test, y_pred)\n",
        "precision = precision_score(y_test, y_pred, average='weighted')  # Weighted for imbalanced classes\n",
        "recall = recall_score(y_test, y_pred, average='weighted')  # Weighted for imbalanced classes\n",
        "f1 = f1_score(y_test, y_pred, average='weighted')  # Weighted for imbalanced classes\n",
        "\n",
        "# Print metrics\n",
        "print(\"Accuracy:\", accuracy)\n",
        "print(\"Precision:\", precision)\n",
        "print(\"Recall:\", recall)\n",
        "print(\"F1 Score:\", f1)\n",
        "print(\"Classification Report:\\n\", classification_report(y_test, y_pred))\n",
        "\n",
        "# Confusion Matrix\n",
        "conf_matrix = confusion_matrix(y_test, y_pred)\n",
        "print(\"Confusion Matrix:\\n\", conf_matrix)"
      ],
      "metadata": {
        "colab": {
          "base_uri": "https://localhost:8080/"
        },
        "outputId": "b3db4b07-4ccc-48cf-f7d9-7703ed58c4ca",
        "collapsed": true,
        "id": "lgPzfBrbrIv6"
      },
      "execution_count": null,
      "outputs": [
        {
          "output_type": "stream",
          "name": "stderr",
          "text": [
            "/usr/local/lib/python3.11/dist-packages/sklearn/metrics/_classification.py:1565: UndefinedMetricWarning: Precision is ill-defined and being set to 0.0 in labels with no predicted samples. Use `zero_division` parameter to control this behavior.\n",
            "  _warn_prf(average, modifier, f\"{metric.capitalize()} is\", len(result))\n"
          ]
        },
        {
          "output_type": "stream",
          "name": "stdout",
          "text": [
            "Accuracy: 0.9852766904873056\n",
            "Precision: 0.9850432956447885\n",
            "Recall: 0.9852766904873056\n",
            "F1 Score: 0.9845637793781169\n"
          ]
        },
        {
          "output_type": "stream",
          "name": "stderr",
          "text": [
            "/usr/local/lib/python3.11/dist-packages/sklearn/metrics/_classification.py:1565: UndefinedMetricWarning: Precision is ill-defined and being set to 0.0 in labels with no predicted samples. Use `zero_division` parameter to control this behavior.\n",
            "  _warn_prf(average, modifier, f\"{metric.capitalize()} is\", len(result))\n",
            "/usr/local/lib/python3.11/dist-packages/sklearn/metrics/_classification.py:1565: UndefinedMetricWarning: Precision is ill-defined and being set to 0.0 in labels with no predicted samples. Use `zero_division` parameter to control this behavior.\n",
            "  _warn_prf(average, modifier, f\"{metric.capitalize()} is\", len(result))\n",
            "/usr/local/lib/python3.11/dist-packages/sklearn/metrics/_classification.py:1565: UndefinedMetricWarning: Precision is ill-defined and being set to 0.0 in labels with no predicted samples. Use `zero_division` parameter to control this behavior.\n",
            "  _warn_prf(average, modifier, f\"{metric.capitalize()} is\", len(result))\n"
          ]
        },
        {
          "output_type": "stream",
          "name": "stdout",
          "text": [
            "Classification Report:\n",
            "                          precision    recall  f1-score   support\n",
            "\n",
            "       Backdoor_Malware       0.29      1.00      0.44         4\n",
            "          BenignTraffic       0.77      0.93      0.84      1951\n",
            "       BrowserHijacking       0.00      0.00      0.00        11\n",
            "       CommandInjection       0.45      0.62      0.53         8\n",
            " DDoS-ACK_Fragmentation       0.96      0.95      0.95       539\n",
            "        DDoS-HTTP_Flood       1.00      0.95      0.97        61\n",
            "        DDoS-ICMP_Flood       1.00      1.00      1.00     12879\n",
            "DDoS-ICMP_Fragmentation       0.98      0.98      0.98       816\n",
            "      DDoS-PSHACK_Flood       1.00      1.00      1.00      7396\n",
            "       DDoS-RSTFINFlood       1.00      1.00      1.00      7230\n",
            "         DDoS-SYN_Flood       1.00      1.00      1.00      7309\n",
            "         DDoS-SlowLoris       0.84      0.55      0.67        47\n",
            "DDoS-SynonymousIP_Flood       1.00      1.00      1.00      6251\n",
            "         DDoS-TCP_Flood       1.00      1.00      1.00      8058\n",
            "         DDoS-UDP_Flood       0.99      1.00      1.00      9797\n",
            " DDoS-UDP_Fragmentation       0.94      0.97      0.96       511\n",
            "           DNS_Spoofing       0.70      0.50      0.58       316\n",
            "   DictionaryBruteForce       0.50      0.21      0.30        19\n",
            "         DoS-HTTP_Flood       0.96      0.94      0.95       139\n",
            "          DoS-SYN_Flood       1.00      1.00      1.00      3562\n",
            "          DoS-TCP_Flood       1.00      1.00      1.00      4823\n",
            "          DoS-UDP_Flood       1.00      1.00      1.00      5859\n",
            "       MITM-ArpSpoofing       0.78      0.56      0.65       569\n",
            "     Mirai-greeth_flood       0.99      0.99      0.99      1729\n",
            "      Mirai-greip_flood       1.00      0.99      0.99      1332\n",
            "         Mirai-udpplain       0.99      0.99      0.99      1618\n",
            "    Recon-HostDiscovery       0.70      0.66      0.68       249\n",
            "           Recon-OSScan       0.70      0.38      0.50       204\n",
            "        Recon-PingSweep       0.00      0.00      0.00         1\n",
            "         Recon-PortScan       0.70      0.49      0.57       140\n",
            "           SqlInjection       1.00      0.46      0.63        13\n",
            "       Uploading_Attack       0.00      0.00      0.00         3\n",
            "      VulnerabilityScan       0.88      0.94      0.91        90\n",
            "                    XSS       0.00      0.00      0.00         7\n",
            "\n",
            "               accuracy                           0.99     83541\n",
            "              macro avg       0.77      0.74      0.74     83541\n",
            "           weighted avg       0.99      0.99      0.98     83541\n",
            "\n",
            "Confusion Matrix:\n",
            " [[   4    0    0 ...    0    0    0]\n",
            " [   4 1824    0 ...    0    0    0]\n",
            " [   0    4    0 ...    0    0    0]\n",
            " ...\n",
            " [   0    2    0 ...    0    0    0]\n",
            " [   0    0    0 ...    0   85    0]\n",
            " [   0    3    0 ...    0    0    0]]\n"
          ]
        }
      ]
    },
    {
      "cell_type": "markdown",
      "source": [
        "# 20 Features"
      ],
      "metadata": {
        "id": "9sWBb6UM5x6o"
      }
    },
    {
      "cell_type": "code",
      "source": [
        "skb_selector = SelectKBest(score_func=mutual_info_classif, k=10)\n",
        "skb_selector.fit_transform(X, y)\n",
        "\n",
        "# printing the scores\n",
        "skb_feature_scores = pd.DataFrame({'Feature': X.columns, 'Score': skb_selector.scores_})\n",
        "skb_feature_scores = skb_feature_scores.sort_values(by='Score', ascending=False)  # Sort by importance\n",
        "print(skb_feature_scores)\n",
        "\n",
        "# Get the selected feature names\n",
        "skb_selected_feature_names = X.columns[skb_selector.get_support()]\n",
        "print(\"skb_selected_feature_names = \", skb_selected_feature_names)"
      ],
      "metadata": {
        "colab": {
          "base_uri": "https://localhost:8080/"
        },
        "outputId": "68a4cd75-e223-433d-e899-291486c6b3ef",
        "collapsed": true,
        "id": "p-8BqRTcrWyH"
      },
      "execution_count": null,
      "outputs": [
        {
          "output_type": "stream",
          "name": "stdout",
          "text": [
            "            Feature     Score\n",
            "39              IAT  2.601677\n",
            "38         Tot size  1.339809\n",
            "1     Header_Length  1.326893\n",
            "41         Magnitue  1.317881\n",
            "36              AVG  1.312906\n",
            "33          Tot sum  1.305667\n",
            "34              Min  1.297067\n",
            "35              Max  1.273413\n",
            "2     Protocol Type  1.162664\n",
            "26              TCP  0.655932\n",
            "15        syn_count  0.649593\n",
            "0     flow_duration  0.636320\n",
            "5             Srate  0.633108\n",
            "4              Rate  0.632402\n",
            "18        rst_count  0.511761\n",
            "8   syn_flag_number  0.496840\n",
            "27              UDP  0.494538\n",
            "17        urg_count  0.461748\n",
            "30             ICMP  0.441979\n",
            "43       Covariance  0.383886\n",
            "37              Std  0.382566\n",
            "42           Radius  0.381489\n",
            "16        fin_count  0.345445\n",
            "14        ack_count  0.332525\n",
            "11  ack_flag_number  0.325689\n",
            "44         Variance  0.298754\n",
            "7   fin_flag_number  0.295363\n",
            "9   rst_flag_number  0.285834\n",
            "10  psh_flag_number  0.285699\n",
            "3          Duration  0.208429\n",
            "45           Weight  0.181070\n",
            "40           Number  0.179106\n",
            "20            HTTPS  0.070427\n",
            "19             HTTP  0.032378\n",
            "32              LLC  0.006067\n",
            "31              IPv  0.005102\n",
            "13  cwr_flag_number  0.000552\n",
            "24              SSH  0.000491\n",
            "28             DHCP  0.000464\n",
            "23             SMTP  0.000229\n",
            "25              IRC  0.000169\n",
            "29              ARP  0.000000\n",
            "22           Telnet  0.000000\n",
            "21              DNS  0.000000\n",
            "12  ece_flag_number  0.000000\n",
            "6             Drate  0.000000\n",
            "skb_selected_feature_names =  Index(['Header_Length', 'Protocol Type', 'TCP', 'Tot sum', 'Min', 'Max', 'AVG',\n",
            "       'Tot size', 'IAT', 'Magnitue'],\n",
            "      dtype='object')\n"
          ]
        }
      ]
    },
    {
      "cell_type": "code",
      "source": [
        "rfe_selector = RFE(estimator= DecisionTreeClassifier( ), n_features_to_select=10)\n",
        "rfe_selector.fit_transform(X, y)\n",
        "\n",
        "# Printing the rankings\n",
        "rfe_feature_scores = pd.DataFrame({'Feature': X.columns, 'Score': rfe_selector.ranking_})\n",
        "rfe_feature_scores = rfe_feature_scores.sort_values(by='Score', ascending=True)  # Sort by importance (ascending)\n",
        "print(rfe_feature_scores)\n",
        "\n",
        "# Get the selected feature names\n",
        "rfe_selected_feature_names = X.columns[rfe_selector.get_support()]\n",
        "print(' rfe_feature_scores = ', rfe_selected_feature_names)"
      ],
      "metadata": {
        "colab": {
          "base_uri": "https://localhost:8080/"
        },
        "outputId": "ab728e7c-66ae-459e-e528-08f1d123bce3",
        "collapsed": true,
        "id": "szsfkv3TrWyH"
      },
      "execution_count": null,
      "outputs": [
        {
          "output_type": "stream",
          "name": "stdout",
          "text": [
            "            Feature  Score\n",
            "33          Tot sum      1\n",
            "1     Header_Length      1\n",
            "2     Protocol Type      1\n",
            "30             ICMP      1\n",
            "39              IAT      1\n",
            "7   fin_flag_number      1\n",
            "8   syn_flag_number      1\n",
            "34              Min      1\n",
            "10  psh_flag_number      1\n",
            "41         Magnitue      1\n",
            "18        rst_count      2\n",
            "42           Radius      3\n",
            "4              Rate      4\n",
            "16        fin_count      5\n",
            "0     flow_duration      6\n",
            "36              AVG      7\n",
            "3          Duration      8\n",
            "44         Variance      9\n",
            "5             Srate     10\n",
            "17        urg_count     11\n",
            "38         Tot size     12\n",
            "15        syn_count     13\n",
            "20            HTTPS     14\n",
            "35              Max     15\n",
            "43       Covariance     16\n",
            "40           Number     17\n",
            "37              Std     18\n",
            "14        ack_count     19\n",
            "27              UDP     20\n",
            "19             HTTP     21\n",
            "26              TCP     22\n",
            "11  ack_flag_number     23\n",
            "24              SSH     24\n",
            "9   rst_flag_number     25\n",
            "45           Weight     26\n",
            "21              DNS     27\n",
            "6             Drate     28\n",
            "29              ARP     29\n",
            "12  ece_flag_number     30\n",
            "25              IRC     31\n",
            "28             DHCP     32\n",
            "13  cwr_flag_number     33\n",
            "31              IPv     34\n",
            "32              LLC     35\n",
            "23             SMTP     36\n",
            "22           Telnet     37\n",
            " rfe_feature_scores =  Index(['Header_Length', 'Protocol Type', 'fin_flag_number', 'syn_flag_number',\n",
            "       'psh_flag_number', 'ICMP', 'Tot sum', 'Min', 'IAT', 'Magnitue'],\n",
            "      dtype='object')\n"
          ]
        }
      ]
    },
    {
      "cell_type": "code",
      "source": [
        "top_features_combined = list(set(skb_selected_feature_names) | set(rfe_selected_feature_names))\n",
        "print(top_features_combined)"
      ],
      "metadata": {
        "colab": {
          "base_uri": "https://localhost:8080/"
        },
        "outputId": "95bfcb8b-a900-44a7-9cb1-5382e9db2821",
        "id": "eGASCOctrWyI"
      },
      "execution_count": null,
      "outputs": [
        {
          "output_type": "stream",
          "name": "stdout",
          "text": [
            "['Magnitue', 'fin_flag_number', 'Tot sum', 'psh_flag_number', 'Min', 'ICMP', 'Tot size', 'Header_Length', 'Max', 'TCP', 'Protocol Type', 'IAT', 'syn_flag_number', 'AVG']\n"
          ]
        }
      ]
    },
    {
      "cell_type": "code",
      "source": [
        "no_of_redundent_features = 20-(len(top_features_combined))\n",
        "\n",
        "# Find the next 3 best-ranked features NOT in SelectKBest\n",
        "extra_features_from_rfe = []\n",
        "\n",
        "for feature in rfe_feature_scores['Feature']:\n",
        "    if feature not in top_features_combined:\n",
        "        extra_features_from_rfe.append(feature)\n",
        "    if len(extra_features_from_rfe) == no_of_redundent_features:  # Stop once we have 3 features\n",
        "        break\n",
        "\n",
        "print(\"Extra features from RFE:\", extra_features_from_rfe)\n",
        "\n",
        "top_features_combined.extend(extra_features_from_rfe)\n",
        "print('top_features_combined = ', top_features_combined)\n",
        "\n",
        "X_selected = X[top_features_combined]"
      ],
      "metadata": {
        "colab": {
          "base_uri": "https://localhost:8080/"
        },
        "outputId": "f1bd636c-c5c4-49f2-d5c5-0b5f1e541171",
        "id": "vtvS9_AArWyI"
      },
      "execution_count": null,
      "outputs": [
        {
          "output_type": "stream",
          "name": "stdout",
          "text": [
            "Extra features from RFE: ['rst_count', 'Radius', 'Rate', 'fin_count', 'flow_duration', 'Duration']\n",
            "top_features_combined =  ['Magnitue', 'fin_flag_number', 'Tot sum', 'psh_flag_number', 'Min', 'ICMP', 'Tot size', 'Header_Length', 'Max', 'TCP', 'Protocol Type', 'IAT', 'syn_flag_number', 'AVG', 'rst_count', 'Radius', 'Rate', 'fin_count', 'flow_duration', 'Duration']\n"
          ]
        }
      ]
    },
    {
      "cell_type": "code",
      "source": [
        "\n",
        "# Step 4: Train and Test Split\n",
        "X_train, X_test, y_train, y_test = train_test_split(X_selected, y, test_size=0.35, random_state=42)\n",
        "\n",
        "# Step 5: Train K-Nearest Neighbors Classifier\n",
        "knn_model = KNeighborsClassifier(n_neighbors=5)  # You can adjust n_neighbors as needed\n",
        "knn_model.fit(X_train, y_train)\n",
        "\n",
        "# Step 6: Evaluate the model\n",
        "y_pred = knn_model.predict(X_test)\n",
        "\n",
        "# Metrics\n",
        "accuracy = accuracy_score(y_test, y_pred)\n",
        "precision = precision_score(y_test, y_pred, average='weighted')  # Weighted for imbalanced classes\n",
        "recall = recall_score(y_test, y_pred, average='weighted')  # Weighted for imbalanced classes\n",
        "f1 = f1_score(y_test, y_pred, average='weighted')  # Weighted for imbalanced classes\n",
        "\n",
        "# Print metrics\n",
        "print(\"Accuracy:\", accuracy)\n",
        "print(\"Precision:\", precision)\n",
        "print(\"Recall:\", recall)\n",
        "print(\"F1 Score:\", f1)\n",
        "print(\"Classification Report:\\n\", classification_report(y_test, y_pred))\n",
        "\n",
        "# Confusion Matrix\n",
        "conf_matrix = confusion_matrix(y_test, y_pred)\n",
        "print(\"Confusion Matrix:\\n\", conf_matrix)"
      ],
      "metadata": {
        "colab": {
          "base_uri": "https://localhost:8080/"
        },
        "outputId": "35680799-56dc-4739-9b31-cb3060eebda5",
        "collapsed": true,
        "id": "ScE6kmRVrWyJ"
      },
      "execution_count": null,
      "outputs": [
        {
          "output_type": "stream",
          "name": "stderr",
          "text": [
            "/usr/local/lib/python3.11/dist-packages/sklearn/metrics/_classification.py:1565: UndefinedMetricWarning: Precision is ill-defined and being set to 0.0 in labels with no predicted samples. Use `zero_division` parameter to control this behavior.\n",
            "  _warn_prf(average, modifier, f\"{metric.capitalize()} is\", len(result))\n"
          ]
        },
        {
          "output_type": "stream",
          "name": "stdout",
          "text": [
            "Accuracy: 0.9855041237236806\n",
            "Precision: 0.9852830769357647\n",
            "Recall: 0.9855041237236806\n",
            "F1 Score: 0.9847829371394159\n"
          ]
        },
        {
          "output_type": "stream",
          "name": "stderr",
          "text": [
            "/usr/local/lib/python3.11/dist-packages/sklearn/metrics/_classification.py:1565: UndefinedMetricWarning: Precision is ill-defined and being set to 0.0 in labels with no predicted samples. Use `zero_division` parameter to control this behavior.\n",
            "  _warn_prf(average, modifier, f\"{metric.capitalize()} is\", len(result))\n",
            "/usr/local/lib/python3.11/dist-packages/sklearn/metrics/_classification.py:1565: UndefinedMetricWarning: Precision is ill-defined and being set to 0.0 in labels with no predicted samples. Use `zero_division` parameter to control this behavior.\n",
            "  _warn_prf(average, modifier, f\"{metric.capitalize()} is\", len(result))\n",
            "/usr/local/lib/python3.11/dist-packages/sklearn/metrics/_classification.py:1565: UndefinedMetricWarning: Precision is ill-defined and being set to 0.0 in labels with no predicted samples. Use `zero_division` parameter to control this behavior.\n",
            "  _warn_prf(average, modifier, f\"{metric.capitalize()} is\", len(result))\n"
          ]
        },
        {
          "output_type": "stream",
          "name": "stdout",
          "text": [
            "Classification Report:\n",
            "                          precision    recall  f1-score   support\n",
            "\n",
            "       Backdoor_Malware       0.36      1.00      0.53         4\n",
            "          BenignTraffic       0.77      0.94      0.85      1951\n",
            "       BrowserHijacking       0.00      0.00      0.00        11\n",
            "       CommandInjection       0.42      0.62      0.50         8\n",
            " DDoS-ACK_Fragmentation       0.96      0.95      0.96       539\n",
            "        DDoS-HTTP_Flood       1.00      0.95      0.97        61\n",
            "        DDoS-ICMP_Flood       1.00      1.00      1.00     12879\n",
            "DDoS-ICMP_Fragmentation       0.98      0.98      0.98       816\n",
            "      DDoS-PSHACK_Flood       1.00      1.00      1.00      7396\n",
            "       DDoS-RSTFINFlood       1.00      1.00      1.00      7230\n",
            "         DDoS-SYN_Flood       1.00      1.00      1.00      7309\n",
            "         DDoS-SlowLoris       0.84      0.55      0.67        47\n",
            "DDoS-SynonymousIP_Flood       1.00      1.00      1.00      6251\n",
            "         DDoS-TCP_Flood       1.00      1.00      1.00      8058\n",
            "         DDoS-UDP_Flood       0.99      1.00      1.00      9797\n",
            " DDoS-UDP_Fragmentation       0.94      0.97      0.96       511\n",
            "           DNS_Spoofing       0.71      0.50      0.59       316\n",
            "   DictionaryBruteForce       0.57      0.21      0.31        19\n",
            "         DoS-HTTP_Flood       0.96      0.94      0.95       139\n",
            "          DoS-SYN_Flood       1.00      1.00      1.00      3562\n",
            "          DoS-TCP_Flood       1.00      1.00      1.00      4823\n",
            "          DoS-UDP_Flood       1.00      1.00      1.00      5859\n",
            "       MITM-ArpSpoofing       0.77      0.56      0.65       569\n",
            "     Mirai-greeth_flood       0.99      0.99      0.99      1729\n",
            "      Mirai-greip_flood       1.00      0.99      0.99      1332\n",
            "         Mirai-udpplain       0.99      0.99      0.99      1618\n",
            "    Recon-HostDiscovery       0.74      0.69      0.71       249\n",
            "           Recon-OSScan       0.74      0.40      0.52       204\n",
            "        Recon-PingSweep       0.00      0.00      0.00         1\n",
            "         Recon-PortScan       0.66      0.48      0.56       140\n",
            "           SqlInjection       1.00      0.46      0.63        13\n",
            "       Uploading_Attack       0.00      0.00      0.00         3\n",
            "      VulnerabilityScan       0.88      0.94      0.91        90\n",
            "                    XSS       0.00      0.00      0.00         7\n",
            "\n",
            "               accuracy                           0.99     83541\n",
            "              macro avg       0.77      0.74      0.74     83541\n",
            "           weighted avg       0.99      0.99      0.98     83541\n",
            "\n",
            "Confusion Matrix:\n",
            " [[   4    0    0 ...    0    0    0]\n",
            " [   2 1835    0 ...    0    0    0]\n",
            " [   0    5    0 ...    0    0    0]\n",
            " ...\n",
            " [   0    1    0 ...    0    0    0]\n",
            " [   0    0    0 ...    0   85    0]\n",
            " [   0    2    0 ...    0    0    0]]\n"
          ]
        }
      ]
    },
    {
      "cell_type": "markdown",
      "source": [
        "# **25 Features**"
      ],
      "metadata": {
        "id": "-1itEs0urtak"
      }
    },
    {
      "cell_type": "code",
      "source": [
        "skb_selector = SelectKBest(score_func=mutual_info_classif, k=12)\n",
        "skb_selector.fit_transform(X, y)\n",
        "\n",
        "# printing the scores\n",
        "skb_feature_scores = pd.DataFrame({'Feature': X.columns, 'Score': skb_selector.scores_})\n",
        "skb_feature_scores = skb_feature_scores.sort_values(by='Score', ascending=False)  # Sort by importance\n",
        "print(skb_feature_scores)\n",
        "\n",
        "# Get the selected feature names\n",
        "skb_selected_feature_names = X.columns[skb_selector.get_support()]\n",
        "print(\"skb_selected_feature_names = \", skb_selected_feature_names)"
      ],
      "metadata": {
        "colab": {
          "base_uri": "https://localhost:8080/"
        },
        "outputId": "62407d54-f0b2-44ad-eba2-a30376fc4217",
        "collapsed": true,
        "id": "2xVaNS3Mr0FB"
      },
      "execution_count": null,
      "outputs": [
        {
          "output_type": "stream",
          "name": "stdout",
          "text": [
            "            Feature     Score\n",
            "39              IAT  2.601186\n",
            "38         Tot size  1.340401\n",
            "1     Header_Length  1.327574\n",
            "41         Magnitue  1.316188\n",
            "36              AVG  1.312840\n",
            "33          Tot sum  1.306688\n",
            "34              Min  1.297364\n",
            "35              Max  1.272401\n",
            "2     Protocol Type  1.162532\n",
            "26              TCP  0.653577\n",
            "15        syn_count  0.646147\n",
            "0     flow_duration  0.637630\n",
            "4              Rate  0.632844\n",
            "5             Srate  0.632789\n",
            "18        rst_count  0.512035\n",
            "27              UDP  0.497377\n",
            "8   syn_flag_number  0.496887\n",
            "17        urg_count  0.461296\n",
            "30             ICMP  0.445490\n",
            "43       Covariance  0.383683\n",
            "37              Std  0.382010\n",
            "42           Radius  0.378177\n",
            "16        fin_count  0.349839\n",
            "14        ack_count  0.334031\n",
            "11  ack_flag_number  0.326779\n",
            "44         Variance  0.297408\n",
            "7   fin_flag_number  0.292592\n",
            "10  psh_flag_number  0.287253\n",
            "9   rst_flag_number  0.286387\n",
            "3          Duration  0.210616\n",
            "40           Number  0.178830\n",
            "45           Weight  0.178355\n",
            "20            HTTPS  0.070125\n",
            "19             HTTP  0.031784\n",
            "32              LLC  0.007329\n",
            "31              IPv  0.005281\n",
            "23             SMTP  0.001360\n",
            "22           Telnet  0.001140\n",
            "28             DHCP  0.000496\n",
            "29              ARP  0.000000\n",
            "25              IRC  0.000000\n",
            "24              SSH  0.000000\n",
            "21              DNS  0.000000\n",
            "13  cwr_flag_number  0.000000\n",
            "12  ece_flag_number  0.000000\n",
            "6             Drate  0.000000\n",
            "skb_selected_feature_names =  Index(['flow_duration', 'Header_Length', 'Protocol Type', 'syn_count', 'TCP',\n",
            "       'Tot sum', 'Min', 'Max', 'AVG', 'Tot size', 'IAT', 'Magnitue'],\n",
            "      dtype='object')\n"
          ]
        }
      ]
    },
    {
      "cell_type": "code",
      "source": [
        "rfe_selector = RFE(estimator= DecisionTreeClassifier( ), n_features_to_select=13)\n",
        "rfe_selector.fit_transform(X, y)\n",
        "\n",
        "# Printing the rankings\n",
        "rfe_feature_scores = pd.DataFrame({'Feature': X.columns, 'Score': rfe_selector.ranking_})\n",
        "rfe_feature_scores = rfe_feature_scores.sort_values(by='Score', ascending=True)  # Sort by importance (ascending)\n",
        "print(rfe_feature_scores)\n",
        "\n",
        "# Get the selected feature names\n",
        "rfe_selected_feature_names = X.columns[rfe_selector.get_support()]\n",
        "print(' rfe_feature_scores = ', rfe_selected_feature_names)"
      ],
      "metadata": {
        "colab": {
          "base_uri": "https://localhost:8080/"
        },
        "outputId": "cb79e703-623f-4f18-afc8-fdfce6e60da0",
        "collapsed": true,
        "id": "GXVIYPUer0FD"
      },
      "execution_count": null,
      "outputs": [
        {
          "output_type": "stream",
          "name": "stdout",
          "text": [
            "            Feature  Score\n",
            "30             ICMP      1\n",
            "1     Header_Length      1\n",
            "2     Protocol Type      1\n",
            "34              Min      1\n",
            "4              Rate      1\n",
            "37              Std      1\n",
            "18        rst_count      1\n",
            "7   fin_flag_number      1\n",
            "8   syn_flag_number      1\n",
            "10  psh_flag_number      1\n",
            "41         Magnitue      1\n",
            "33          Tot sum      1\n",
            "39              IAT      1\n",
            "16        fin_count      2\n",
            "0     flow_duration      3\n",
            "36              AVG      4\n",
            "44         Variance      5\n",
            "3          Duration      6\n",
            "15        syn_count      7\n",
            "5             Srate      8\n",
            "17        urg_count      9\n",
            "38         Tot size     10\n",
            "20            HTTPS     11\n",
            "43       Covariance     12\n",
            "40           Number     13\n",
            "42           Radius     14\n",
            "35              Max     15\n",
            "14        ack_count     16\n",
            "19             HTTP     17\n",
            "45           Weight     18\n",
            "27              UDP     19\n",
            "24              SSH     20\n",
            "26              TCP     21\n",
            "9   rst_flag_number     22\n",
            "11  ack_flag_number     23\n",
            "21              DNS     24\n",
            "6             Drate     25\n",
            "12  ece_flag_number     26\n",
            "13  cwr_flag_number     27\n",
            "29              ARP     28\n",
            "25              IRC     29\n",
            "28             DHCP     30\n",
            "31              IPv     31\n",
            "32              LLC     32\n",
            "23             SMTP     33\n",
            "22           Telnet     34\n",
            " rfe_feature_scores =  Index(['Header_Length', 'Protocol Type', 'Rate', 'fin_flag_number',\n",
            "       'syn_flag_number', 'psh_flag_number', 'rst_count', 'ICMP', 'Tot sum',\n",
            "       'Min', 'Std', 'IAT', 'Magnitue'],\n",
            "      dtype='object')\n"
          ]
        }
      ]
    },
    {
      "cell_type": "code",
      "source": [
        "top_features_combined = list(set(skb_selected_feature_names) | set(rfe_selected_feature_names))\n",
        "print(top_features_combined)"
      ],
      "metadata": {
        "colab": {
          "base_uri": "https://localhost:8080/"
        },
        "outputId": "250451e5-0030-46e8-b5c2-e58a596c0568",
        "id": "Qa7ao-57r0FD"
      },
      "execution_count": null,
      "outputs": [
        {
          "output_type": "stream",
          "name": "stdout",
          "text": [
            "['Magnitue', 'syn_count', 'Std', 'Tot sum', 'fin_flag_number', 'flow_duration', 'psh_flag_number', 'AVG', 'Rate', 'ICMP', 'Tot size', 'Header_Length', 'Max', 'TCP', 'Protocol Type', 'IAT', 'syn_flag_number', 'rst_count', 'Min']\n"
          ]
        }
      ]
    },
    {
      "cell_type": "code",
      "source": [
        "no_of_redundent_features = 25-(len(top_features_combined))\n",
        "\n",
        "# Find the next 3 best-ranked features NOT in SelectKBest\n",
        "extra_features_from_rfe = []\n",
        "\n",
        "for feature in rfe_feature_scores['Feature']:\n",
        "    if feature not in top_features_combined:\n",
        "        extra_features_from_rfe.append(feature)\n",
        "    if len(extra_features_from_rfe) == no_of_redundent_features:  # Stop once we have 3 features\n",
        "        break\n",
        "\n",
        "print(\"Extra features from RFE:\", extra_features_from_rfe)\n",
        "\n",
        "top_features_combined.extend(extra_features_from_rfe)\n",
        "print('top_features_combined = ', top_features_combined)\n",
        "\n",
        "X_selected = X[top_features_combined]"
      ],
      "metadata": {
        "colab": {
          "base_uri": "https://localhost:8080/"
        },
        "outputId": "35da6721-5c5f-419d-94c2-b409daef2146",
        "id": "Zye3C48Lr0FE"
      },
      "execution_count": null,
      "outputs": [
        {
          "output_type": "stream",
          "name": "stdout",
          "text": [
            "Extra features from RFE: ['fin_count', 'Variance', 'Duration', 'Srate', 'urg_count', 'HTTPS']\n",
            "top_features_combined =  ['Magnitue', 'syn_count', 'Std', 'Tot sum', 'fin_flag_number', 'flow_duration', 'psh_flag_number', 'AVG', 'Rate', 'ICMP', 'Tot size', 'Header_Length', 'Max', 'TCP', 'Protocol Type', 'IAT', 'syn_flag_number', 'rst_count', 'Min', 'fin_count', 'Variance', 'Duration', 'Srate', 'urg_count', 'HTTPS']\n"
          ]
        }
      ]
    },
    {
      "cell_type": "code",
      "source": [
        "\n",
        "# Step 4: Train and Test Split\n",
        "X_train, X_test, y_train, y_test = train_test_split(X_selected, y, test_size=0.35, random_state=42)\n",
        "\n",
        "# Step 5: Train K-Nearest Neighbors Classifier\n",
        "knn_model = KNeighborsClassifier(n_neighbors=5)  # You can adjust n_neighbors as needed\n",
        "knn_model.fit(X_train, y_train)\n",
        "\n",
        "# Step 6: Evaluate the model\n",
        "y_pred = knn_model.predict(X_test)\n",
        "\n",
        "# Metrics\n",
        "accuracy = accuracy_score(y_test, y_pred)\n",
        "precision = precision_score(y_test, y_pred, average='weighted')  # Weighted for imbalanced classes\n",
        "recall = recall_score(y_test, y_pred, average='weighted')  # Weighted for imbalanced classes\n",
        "f1 = f1_score(y_test, y_pred, average='weighted')  # Weighted for imbalanced classes\n",
        "\n",
        "# Print metrics\n",
        "print(\"Accuracy:\", accuracy)\n",
        "print(\"Precision:\", precision)\n",
        "print(\"Recall:\", recall)\n",
        "print(\"F1 Score:\", f1)\n",
        "print(\"Classification Report:\\n\", classification_report(y_test, y_pred))\n",
        "\n",
        "# Confusion Matrix\n",
        "conf_matrix = confusion_matrix(y_test, y_pred)\n",
        "print(\"Confusion Matrix:\\n\", conf_matrix)"
      ],
      "metadata": {
        "colab": {
          "base_uri": "https://localhost:8080/"
        },
        "outputId": "880c8a0e-af4e-4127-94fb-293d4bc562b9",
        "id": "JKdyH0e2r0FE"
      },
      "execution_count": null,
      "outputs": [
        {
          "output_type": "stream",
          "name": "stderr",
          "text": [
            "/usr/local/lib/python3.11/dist-packages/sklearn/metrics/_classification.py:1565: UndefinedMetricWarning: Precision is ill-defined and being set to 0.0 in labels with no predicted samples. Use `zero_division` parameter to control this behavior.\n",
            "  _warn_prf(average, modifier, f\"{metric.capitalize()} is\", len(result))\n"
          ]
        },
        {
          "output_type": "stream",
          "name": "stdout",
          "text": [
            "Accuracy: 0.9851450186136149\n",
            "Precision: 0.9848902369728629\n",
            "Recall: 0.9851450186136149\n",
            "F1 Score: 0.9844286444721514\n"
          ]
        },
        {
          "output_type": "stream",
          "name": "stderr",
          "text": [
            "/usr/local/lib/python3.11/dist-packages/sklearn/metrics/_classification.py:1565: UndefinedMetricWarning: Precision is ill-defined and being set to 0.0 in labels with no predicted samples. Use `zero_division` parameter to control this behavior.\n",
            "  _warn_prf(average, modifier, f\"{metric.capitalize()} is\", len(result))\n",
            "/usr/local/lib/python3.11/dist-packages/sklearn/metrics/_classification.py:1565: UndefinedMetricWarning: Precision is ill-defined and being set to 0.0 in labels with no predicted samples. Use `zero_division` parameter to control this behavior.\n",
            "  _warn_prf(average, modifier, f\"{metric.capitalize()} is\", len(result))\n",
            "/usr/local/lib/python3.11/dist-packages/sklearn/metrics/_classification.py:1565: UndefinedMetricWarning: Precision is ill-defined and being set to 0.0 in labels with no predicted samples. Use `zero_division` parameter to control this behavior.\n",
            "  _warn_prf(average, modifier, f\"{metric.capitalize()} is\", len(result))\n"
          ]
        },
        {
          "output_type": "stream",
          "name": "stdout",
          "text": [
            "Classification Report:\n",
            "                          precision    recall  f1-score   support\n",
            "\n",
            "       Backdoor_Malware       0.36      1.00      0.53         4\n",
            "          BenignTraffic       0.77      0.94      0.84      1951\n",
            "       BrowserHijacking       0.00      0.00      0.00        11\n",
            "       CommandInjection       0.45      0.62      0.53         8\n",
            " DDoS-ACK_Fragmentation       0.96      0.95      0.96       539\n",
            "        DDoS-HTTP_Flood       1.00      0.93      0.97        61\n",
            "        DDoS-ICMP_Flood       1.00      1.00      1.00     12879\n",
            "DDoS-ICMP_Fragmentation       0.98      0.97      0.97       816\n",
            "      DDoS-PSHACK_Flood       1.00      1.00      1.00      7396\n",
            "       DDoS-RSTFINFlood       1.00      1.00      1.00      7230\n",
            "         DDoS-SYN_Flood       1.00      1.00      1.00      7309\n",
            "         DDoS-SlowLoris       0.83      0.53      0.65        47\n",
            "DDoS-SynonymousIP_Flood       1.00      1.00      1.00      6251\n",
            "         DDoS-TCP_Flood       1.00      1.00      1.00      8058\n",
            "         DDoS-UDP_Flood       0.99      1.00      1.00      9797\n",
            " DDoS-UDP_Fragmentation       0.94      0.97      0.96       511\n",
            "           DNS_Spoofing       0.72      0.50      0.59       316\n",
            "   DictionaryBruteForce       0.50      0.21      0.30        19\n",
            "         DoS-HTTP_Flood       0.97      0.94      0.95       139\n",
            "          DoS-SYN_Flood       1.00      1.00      1.00      3562\n",
            "          DoS-TCP_Flood       1.00      1.00      1.00      4823\n",
            "          DoS-UDP_Flood       0.99      1.00      1.00      5859\n",
            "       MITM-ArpSpoofing       0.77      0.56      0.65       569\n",
            "     Mirai-greeth_flood       0.99      0.99      0.99      1729\n",
            "      Mirai-greip_flood       0.99      0.99      0.99      1332\n",
            "         Mirai-udpplain       0.99      0.99      0.99      1618\n",
            "    Recon-HostDiscovery       0.76      0.68      0.72       249\n",
            "           Recon-OSScan       0.70      0.40      0.51       204\n",
            "        Recon-PingSweep       0.00      0.00      0.00         1\n",
            "         Recon-PortScan       0.67      0.49      0.56       140\n",
            "           SqlInjection       1.00      0.46      0.63        13\n",
            "       Uploading_Attack       0.00      0.00      0.00         3\n",
            "      VulnerabilityScan       0.84      0.94      0.89        90\n",
            "                    XSS       0.00      0.00      0.00         7\n",
            "\n",
            "               accuracy                           0.99     83541\n",
            "              macro avg       0.77      0.74      0.74     83541\n",
            "           weighted avg       0.98      0.99      0.98     83541\n",
            "\n",
            "Confusion Matrix:\n",
            " [[   4    0    0 ...    0    0    0]\n",
            " [   2 1829    0 ...    0    0    0]\n",
            " [   0    5    0 ...    0    0    0]\n",
            " ...\n",
            " [   0    1    0 ...    0    0    0]\n",
            " [   0    0    0 ...    0   85    0]\n",
            " [   0    2    0 ...    0    0    0]]\n"
          ]
        }
      ]
    }
  ]
}