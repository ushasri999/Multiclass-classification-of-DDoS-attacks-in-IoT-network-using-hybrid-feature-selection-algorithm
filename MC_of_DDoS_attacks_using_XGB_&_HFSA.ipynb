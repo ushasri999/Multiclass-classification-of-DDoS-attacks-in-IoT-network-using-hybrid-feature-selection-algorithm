{
  "cells": [
    {
      "cell_type": "markdown",
      "metadata": {
        "id": "view-in-github",
        "colab_type": "text"
      },
      "source": [
        "<a href=\"https://colab.research.google.com/github/ushasri999/Multiclass-classification-of-DDoS-attacks-in-IoT-network-using-hybrid-feature-selection-algorithm/blob/main/MC_of_DDoS_attacks_using_XGB_%26_HFSA.ipynb\" target=\"_parent\"><img src=\"https://colab.research.google.com/assets/colab-badge.svg\" alt=\"Open In Colab\"/></a>"
      ]
    },
    {
      "cell_type": "code",
      "execution_count": null,
      "metadata": {
        "colab": {
          "base_uri": "https://localhost:8080/"
        },
        "id": "ns9SmlXPu8Xd",
        "outputId": "4fe08370-926e-4ac6-91c4-183a5d57e226"
      },
      "outputs": [
        {
          "output_type": "stream",
          "name": "stdout",
          "text": [
            "Mounted at /content/drive\n"
          ]
        }
      ],
      "source": [
        "from google.colab import drive\n",
        "drive.mount('/content/drive')"
      ]
    },
    {
      "cell_type": "code",
      "execution_count": null,
      "metadata": {
        "colab": {
          "base_uri": "https://localhost:8080/"
        },
        "id": "agj5wdK0u_K7",
        "outputId": "25da7de4-9cca-4de2-ad29-6ea82fc0ee28"
      },
      "outputs": [
        {
          "output_type": "stream",
          "name": "stdout",
          "text": [
            "Features shape: (173777, 46)\n",
            "Target shape: (173777,)\n"
          ]
        }
      ],
      "source": [
        "import pandas as pd\n",
        "import numpy as np\n",
        "from xgboost import XGBClassifier\n",
        "from sklearn.model_selection import train_test_split, cross_val_score\n",
        "from sklearn.feature_selection import SelectKBest, mutual_info_classif, RFE\n",
        "from sklearn.metrics import classification_report, accuracy_score\n",
        "from sklearn.preprocessing import LabelEncoder\n",
        "\n",
        "# Step 1: Load and filter the dataset\n",
        "df = pd.read_csv('/content/drive/MyDrive/data.csv')\n",
        "df_ddos = df[df['label'].str.contains('DDoS', case=False, na=False)]\n",
        "\n",
        "# Step 2: Separate features and target\n",
        "X = df_ddos.drop(\"label\", axis=1, errors='ignore')\n",
        "y = df_ddos[\"label\"] if 'label' in df.columns else pd.Series([])\n",
        "\n",
        "# Encode target labels into numeric values\n",
        "label_encoder = LabelEncoder()\n",
        "y = label_encoder.fit_transform(y)\n",
        "\n",
        "# Check for valid features and labels\n",
        "print(f\"Features shape: {X.shape}\")\n",
        "print(f\"Target shape: {y.shape}\")"
      ]
    },
    {
      "cell_type": "markdown",
      "metadata": {
        "id": "ASn-FuAkvSkl"
      },
      "source": [
        "# 5 features"
      ]
    },
    {
      "cell_type": "code",
      "execution_count": null,
      "metadata": {
        "colab": {
          "base_uri": "https://localhost:8080/"
        },
        "collapsed": true,
        "id": "kKJGRgBlSuj6",
        "outputId": "b3407753-6b93-4af2-ba12-9b29ab717b3f"
      },
      "outputs": [
        {
          "output_type": "stream",
          "name": "stdout",
          "text": [
            "            Feature     Score\n",
            "39              IAT  2.037645\n",
            "1     Header_Length  1.138591\n",
            "34              Min  1.048405\n",
            "38         Tot size  1.043659\n",
            "41         Magnitue  1.035201\n",
            "36              AVG  1.032079\n",
            "33          Tot sum  1.028595\n",
            "2     Protocol Type  0.982687\n",
            "35              Max  0.976891\n",
            "26              TCP  0.667943\n",
            "15        syn_count  0.616002\n",
            "30             ICMP  0.534726\n",
            "8   syn_flag_number  0.528574\n",
            "4              Rate  0.525554\n",
            "5             Srate  0.525462\n",
            "0     flow_duration  0.480493\n",
            "18        rst_count  0.432804\n",
            "27              UDP  0.432019\n",
            "16        fin_count  0.400263\n",
            "17        urg_count  0.387378\n",
            "14        ack_count  0.382086\n",
            "7   fin_flag_number  0.367408\n",
            "9   rst_flag_number  0.358779\n",
            "10  psh_flag_number  0.355179\n",
            "11  ack_flag_number  0.353204\n",
            "37              Std  0.227711\n",
            "43       Covariance  0.222270\n",
            "42           Radius  0.221354\n",
            "44         Variance  0.147691\n",
            "3          Duration  0.060852\n",
            "19             HTTP  0.029799\n",
            "20            HTTPS  0.016401\n",
            "40           Number  0.006721\n",
            "31              IPv  0.006649\n",
            "32              LLC  0.004252\n",
            "6             Drate  0.002400\n",
            "13  cwr_flag_number  0.001405\n",
            "45           Weight  0.001360\n",
            "21              DNS  0.000947\n",
            "24              SSH  0.000073\n",
            "12  ece_flag_number  0.000000\n",
            "29              ARP  0.000000\n",
            "22           Telnet  0.000000\n",
            "28             DHCP  0.000000\n",
            "23             SMTP  0.000000\n",
            "25              IRC  0.000000\n",
            "skb_selected_feature_names =  Index(['Header_Length', 'IAT'], dtype='object')\n"
          ]
        }
      ],
      "source": [
        "skb_selector = SelectKBest(score_func=mutual_info_classif, k=2)\n",
        "skb_selector.fit_transform(X, y)\n",
        "\n",
        "# printing the scores\n",
        "skb_feature_scores = pd.DataFrame({'Feature': X.columns, 'Score': skb_selector.scores_})\n",
        "skb_feature_scores = skb_feature_scores.sort_values(by='Score', ascending=False)  # Sort by importance\n",
        "print(skb_feature_scores)\n",
        "\n",
        "# Get the selected feature names\n",
        "skb_selected_feature_names = X.columns[skb_selector.get_support()]\n",
        "print('skb_selected_feature_names = ', skb_selected_feature_names)"
      ]
    },
    {
      "cell_type": "code",
      "execution_count": null,
      "metadata": {
        "colab": {
          "base_uri": "https://localhost:8080/"
        },
        "collapsed": true,
        "id": "CaAiKvkSS5Kf",
        "outputId": "525e992e-3afc-4f13-f61b-322ca3cfbd74"
      },
      "outputs": [
        {
          "output_type": "stream",
          "name": "stdout",
          "text": [
            "            Feature  Score\n",
            "7   fin_flag_number      1\n",
            "8   syn_flag_number      1\n",
            "10  psh_flag_number      1\n",
            "27              UDP      2\n",
            "39              IAT      3\n",
            "34              Min      4\n",
            "30             ICMP      5\n",
            "17        urg_count      6\n",
            "15        syn_count      7\n",
            "44         Variance      8\n",
            "1     Header_Length      9\n",
            "18        rst_count     10\n",
            "33          Tot sum     11\n",
            "43       Covariance     12\n",
            "37              Std     13\n",
            "41         Magnitue     14\n",
            "38         Tot size     15\n",
            "26              TCP     16\n",
            "19             HTTP     17\n",
            "45           Weight     18\n",
            "2     Protocol Type     19\n",
            "11  ack_flag_number     20\n",
            "4              Rate     21\n",
            "35              Max     22\n",
            "14        ack_count     23\n",
            "20            HTTPS     24\n",
            "42           Radius     25\n",
            "0     flow_duration     26\n",
            "16        fin_count     27\n",
            "9   rst_flag_number     28\n",
            "31              IPv     29\n",
            "3          Duration     30\n",
            "40           Number     31\n",
            "36              AVG     32\n",
            "21              DNS     33\n",
            "23             SMTP     34\n",
            "22           Telnet     35\n",
            "32              LLC     36\n",
            "29              ARP     37\n",
            "25              IRC     38\n",
            "24              SSH     39\n",
            "28             DHCP     40\n",
            "13  cwr_flag_number     41\n",
            "12  ece_flag_number     42\n",
            "5             Srate     43\n",
            "6             Drate     44\n",
            "rfe_selected_feature_names =  Index(['fin_flag_number', 'syn_flag_number', 'psh_flag_number'], dtype='object')\n"
          ]
        }
      ],
      "source": [
        "rfe_selector = RFE(estimator=XGBClassifier(eval_metric='mlogloss'), n_features_to_select=3)\n",
        "rfe_selector.fit_transform(X, y)\n",
        "\n",
        "# printing the ranks\n",
        "rfe_feature_scores = pd.DataFrame({'Feature': X.columns, 'Score': rfe_selector.ranking_})\n",
        "rfe_feature_scores = rfe_feature_scores.sort_values(by='Score', ascending=True)  # Sort by importance (ascending)\n",
        "print(rfe_feature_scores)\n",
        "\n",
        "# Get the selected feature names\n",
        "rfe_selected_feature_names = X.columns[rfe_selector.get_support()]\n",
        "print('rfe_selected_feature_names = ', rfe_selected_feature_names)"
      ]
    },
    {
      "cell_type": "code",
      "execution_count": null,
      "metadata": {
        "colab": {
          "base_uri": "https://localhost:8080/"
        },
        "id": "dCAJymSITV0C",
        "outputId": "bb88e7ac-0c95-4d3c-f606-68de58d27c05"
      },
      "outputs": [
        {
          "output_type": "stream",
          "name": "stdout",
          "text": [
            "top_features_combined =  ['syn_flag_number', 'Header_Length', 'psh_flag_number', 'IAT', 'fin_flag_number']\n"
          ]
        }
      ],
      "source": [
        "top_features_combined = list(set(skb_selected_feature_names) | set(rfe_selected_feature_names))\n",
        "print('top_features_combined = ', top_features_combined)"
      ]
    },
    {
      "cell_type": "code",
      "execution_count": null,
      "metadata": {
        "colab": {
          "base_uri": "https://localhost:8080/"
        },
        "id": "qc8aSXu-P7ZC",
        "outputId": "926c629c-8a57-4088-ac0f-0b874f5ecda0"
      },
      "outputs": [
        {
          "output_type": "stream",
          "name": "stdout",
          "text": [
            "Extra features from RFE: []\n",
            "top_features_combined =  ['syn_flag_number', 'Header_Length', 'psh_flag_number', 'IAT', 'fin_flag_number']\n"
          ]
        }
      ],
      "source": [
        "no_of_redundent_features = 5-(len(top_features_combined))\n",
        "\n",
        "# Find the next 3 best-ranked features NOT in SelectKBest\n",
        "extra_features_from_rfe = []\n",
        "\n",
        "for feature in rfe_feature_scores['Feature']:\n",
        "    if feature not in top_features_combined:\n",
        "        print(\"selected feature: \", feature)\n",
        "        extra_features_from_rfe.append(feature)\n",
        "    if len(extra_features_from_rfe) == no_of_redundent_features:\n",
        "        break\n",
        "\n",
        "print(\"Extra features from RFE:\", extra_features_from_rfe)\n",
        "\n",
        "top_features_combined.extend(extra_features_from_rfe)\n",
        "print('top_features_combined = ', top_features_combined)\n",
        "\n",
        "X_selected = X[top_features_combined]"
      ]
    },
    {
      "cell_type": "code",
      "execution_count": null,
      "metadata": {
        "colab": {
          "base_uri": "https://localhost:8080/"
        },
        "id": "e7rS65-s7192",
        "outputId": "4ae8a6fb-bd18-4396-9bc8-5b88a5b8a51d"
      },
      "outputs": [
        {
          "output_type": "stream",
          "name": "stdout",
          "text": [
            "Accuracy: 0.9982572095623294\n",
            "Precision: 0.9982512644929352\n",
            "Recall: 0.9982572095623294\n",
            "F1 Score: 0.9982539056204952\n",
            "Classification Report:\n",
            "               precision    recall  f1-score   support\n",
            "\n",
            "           0       1.00      1.00      1.00       513\n",
            "           1       0.85      0.82      0.84        56\n",
            "           2       1.00      1.00      1.00     12772\n",
            "           3       0.97      0.96      0.96       835\n",
            "           4       1.00      1.00      1.00      7477\n",
            "           5       1.00      1.00      1.00      7196\n",
            "           6       1.00      1.00      1.00      7166\n",
            "           7       0.42      0.42      0.42        24\n",
            "           8       1.00      1.00      1.00      6311\n",
            "           9       1.00      1.00      1.00      8162\n",
            "          10       1.00      1.00      1.00      9762\n",
            "          11       0.98      0.98      0.98       548\n",
            "\n",
            "    accuracy                           1.00     60822\n",
            "   macro avg       0.93      0.93      0.93     60822\n",
            "weighted avg       1.00      1.00      1.00     60822\n",
            "\n",
            "Confusion Matrix:\n",
            " [[  511     1     0     0     1     0     0     0     0     0     0     0]\n",
            " [    0    46     4     1     0     0     0     3     0     0     0     2]\n",
            " [    0     2 12744    25     0     0     0     0     0     0     0     1]\n",
            " [    0     0    30   804     0     0     0     0     0     1     0     0]\n",
            " [    0     0     0     0  7477     0     0     0     0     0     0     0]\n",
            " [    0     0     0     0     0  7196     0     0     0     0     0     0]\n",
            " [    0     0     0     0     0     0  7163     0     1     1     1     0]\n",
            " [    0     5     0     0     0     0     0    10     0     0     0     9]\n",
            " [    0     0     0     0     0     1     3     0  6307     0     0     0]\n",
            " [    0     0     0     2     0     0     0     0     0  8160     0     0]\n",
            " [    1     0     0     0     0     0     0     0     0     0  9761     0]\n",
            " [    0     0     0     0     0     0     0    11     0     0     0   537]]\n"
          ]
        }
      ],
      "source": [
        "from sklearn.metrics import precision_score, recall_score, f1_score, confusion_matrix\n",
        "\n",
        "# Step 6: Train-Test Split\n",
        "X_train, X_test, y_train, y_test = train_test_split(X_selected, y, test_size=0.35, random_state=42)\n",
        "\n",
        "# Step 7: Train XGBoost Classifier\n",
        "xgb_model = XGBClassifier(eval_metric='mlogloss', random_state=42)\n",
        "xgb_model.fit(X_train, y_train)\n",
        "\n",
        "# Step 8: Evaluate the model\n",
        "y_pred = xgb_model.predict(X_test)\n",
        "\n",
        "# Metrics\n",
        "accuracy = accuracy_score(y_test, y_pred)\n",
        "precision = precision_score(y_test, y_pred, average='weighted')\n",
        "recall = recall_score(y_test, y_pred, average='weighted')\n",
        "f1 = f1_score(y_test, y_pred, average='weighted')\n",
        "\n",
        "# Print metrics\n",
        "print(\"Accuracy:\", accuracy)\n",
        "print(\"Precision:\", precision)\n",
        "print(\"Recall:\", recall)\n",
        "print(\"F1 Score:\", f1)\n",
        "print(\"Classification Report:\\n\", classification_report(y_test, y_pred))\n",
        "\n",
        "# Confusion Matrix\n",
        "conf_matrix = confusion_matrix(y_test, y_pred)\n",
        "print(\"Confusion Matrix:\\n\", conf_matrix)"
      ]
    },
    {
      "cell_type": "markdown",
      "metadata": {
        "id": "fi-TguUdxU1K"
      },
      "source": [
        "# 10 features"
      ]
    },
    {
      "cell_type": "code",
      "execution_count": null,
      "metadata": {
        "colab": {
          "base_uri": "https://localhost:8080/"
        },
        "collapsed": true,
        "id": "tYR8_PpPxU1L",
        "outputId": "5afbbf54-df76-4256-e0f4-f46650250740"
      },
      "outputs": [
        {
          "output_type": "stream",
          "name": "stdout",
          "text": [
            "            Feature     Score\n",
            "39              IAT  2.037636\n",
            "1     Header_Length  1.139532\n",
            "34              Min  1.047411\n",
            "38         Tot size  1.042684\n",
            "41         Magnitue  1.036512\n",
            "33          Tot sum  1.030449\n",
            "36              AVG  1.029815\n",
            "35              Max  0.978178\n",
            "2     Protocol Type  0.977986\n",
            "26              TCP  0.667274\n",
            "15        syn_count  0.613907\n",
            "30             ICMP  0.533262\n",
            "8   syn_flag_number  0.530390\n",
            "5             Srate  0.525770\n",
            "4              Rate  0.525511\n",
            "0     flow_duration  0.479255\n",
            "27              UDP  0.436314\n",
            "18        rst_count  0.434267\n",
            "16        fin_count  0.401572\n",
            "17        urg_count  0.392326\n",
            "14        ack_count  0.379281\n",
            "7   fin_flag_number  0.363786\n",
            "10  psh_flag_number  0.360051\n",
            "9   rst_flag_number  0.357129\n",
            "11  ack_flag_number  0.352174\n",
            "37              Std  0.226539\n",
            "43       Covariance  0.223701\n",
            "42           Radius  0.222929\n",
            "44         Variance  0.146826\n",
            "3          Duration  0.056623\n",
            "19             HTTP  0.030074\n",
            "20            HTTPS  0.018144\n",
            "31              IPv  0.008259\n",
            "40           Number  0.007604\n",
            "45           Weight  0.005686\n",
            "32              LLC  0.005663\n",
            "24              SSH  0.001950\n",
            "28             DHCP  0.000897\n",
            "21              DNS  0.000529\n",
            "12  ece_flag_number  0.000189\n",
            "13  cwr_flag_number  0.000000\n",
            "6             Drate  0.000000\n",
            "29              ARP  0.000000\n",
            "22           Telnet  0.000000\n",
            "23             SMTP  0.000000\n",
            "25              IRC  0.000000\n",
            "skb_selected_feature_names =  Index(['Header_Length', 'Min', 'Tot size', 'IAT', 'Magnitue'], dtype='object')\n"
          ]
        }
      ],
      "source": [
        "skb_selector = SelectKBest(score_func=mutual_info_classif, k=5)\n",
        "skb_selector.fit_transform(X, y)\n",
        "\n",
        "# printing the scores\n",
        "skb_feature_scores = pd.DataFrame({'Feature': X.columns, 'Score': skb_selector.scores_})\n",
        "skb_feature_scores = skb_feature_scores.sort_values(by='Score', ascending=False)  # Sort by importance\n",
        "print(skb_feature_scores)\n",
        "\n",
        "# Get the selected feature names\n",
        "skb_selected_feature_names = X.columns[skb_selector.get_support()]\n",
        "print('skb_selected_feature_names = ', skb_selected_feature_names)"
      ]
    },
    {
      "cell_type": "code",
      "execution_count": null,
      "metadata": {
        "colab": {
          "base_uri": "https://localhost:8080/"
        },
        "collapsed": true,
        "id": "seIkEtFBxU1M",
        "outputId": "edc3aafa-1aaa-43b7-ff87-5f3066c25961"
      },
      "outputs": [
        {
          "output_type": "stream",
          "name": "stdout",
          "text": [
            "            Feature  Score\n",
            "7   fin_flag_number      1\n",
            "8   syn_flag_number      1\n",
            "10  psh_flag_number      1\n",
            "27              UDP      1\n",
            "39              IAT      1\n",
            "34              Min      2\n",
            "30             ICMP      3\n",
            "17        urg_count      4\n",
            "15        syn_count      5\n",
            "44         Variance      6\n",
            "1     Header_Length      7\n",
            "18        rst_count      8\n",
            "33          Tot sum      9\n",
            "43       Covariance     10\n",
            "37              Std     11\n",
            "41         Magnitue     12\n",
            "38         Tot size     13\n",
            "26              TCP     14\n",
            "19             HTTP     15\n",
            "45           Weight     16\n",
            "2     Protocol Type     17\n",
            "11  ack_flag_number     18\n",
            "4              Rate     19\n",
            "35              Max     20\n",
            "14        ack_count     21\n",
            "20            HTTPS     22\n",
            "42           Radius     23\n",
            "0     flow_duration     24\n",
            "16        fin_count     25\n",
            "9   rst_flag_number     26\n",
            "31              IPv     27\n",
            "3          Duration     28\n",
            "40           Number     29\n",
            "36              AVG     30\n",
            "21              DNS     31\n",
            "23             SMTP     32\n",
            "22           Telnet     33\n",
            "32              LLC     34\n",
            "29              ARP     35\n",
            "25              IRC     36\n",
            "24              SSH     37\n",
            "28             DHCP     38\n",
            "13  cwr_flag_number     39\n",
            "12  ece_flag_number     40\n",
            "5             Srate     41\n",
            "6             Drate     42\n",
            "rfe_selected_feature_names =  Index(['fin_flag_number', 'syn_flag_number', 'psh_flag_number', 'UDP', 'IAT'], dtype='object')\n"
          ]
        }
      ],
      "source": [
        "rfe_selector = RFE(estimator=XGBClassifier(eval_metric='mlogloss'), n_features_to_select=5)\n",
        "rfe_selector.fit_transform(X, y)\n",
        "\n",
        "# printing the ranks\n",
        "rfe_feature_scores = pd.DataFrame({'Feature': X.columns, 'Score': rfe_selector.ranking_})\n",
        "rfe_feature_scores = rfe_feature_scores.sort_values(by='Score', ascending=True)  # Sort by importance (ascending)\n",
        "print(rfe_feature_scores)\n",
        "\n",
        "# Get the selected feature names\n",
        "rfe_selected_feature_names = X.columns[rfe_selector.get_support()]\n",
        "print('rfe_selected_feature_names = ', rfe_selected_feature_names)"
      ]
    },
    {
      "cell_type": "code",
      "execution_count": null,
      "metadata": {
        "colab": {
          "base_uri": "https://localhost:8080/"
        },
        "id": "fKpbLyTaxU1M",
        "outputId": "03a282ed-f7c9-4f65-c95f-1b67efa0f0cc"
      },
      "outputs": [
        {
          "output_type": "stream",
          "name": "stdout",
          "text": [
            "top_features_combined =  ['UDP', 'syn_flag_number', 'Magnitue', 'Tot size', 'psh_flag_number', 'fin_flag_number', 'Header_Length', 'IAT', 'Min']\n"
          ]
        }
      ],
      "source": [
        "top_features_combined = list(set(skb_selected_feature_names) | set(rfe_selected_feature_names))\n",
        "print('top_features_combined = ', top_features_combined)"
      ]
    },
    {
      "cell_type": "code",
      "execution_count": null,
      "metadata": {
        "colab": {
          "base_uri": "https://localhost:8080/"
        },
        "id": "hp1ypsA5xU1M",
        "outputId": "3ab031dd-386b-4254-9c3f-9b83f20f5520"
      },
      "outputs": [
        {
          "output_type": "stream",
          "name": "stdout",
          "text": [
            "selected feature:  ICMP\n",
            "Extra features from RFE: ['ICMP']\n",
            "top_features_combined =  ['UDP', 'syn_flag_number', 'Magnitue', 'Tot size', 'psh_flag_number', 'fin_flag_number', 'Header_Length', 'IAT', 'Min', 'ICMP']\n"
          ]
        }
      ],
      "source": [
        "no_of_redundent_features = 10-(len(top_features_combined))\n",
        "\n",
        "# Find the next 3 best-ranked features NOT in SelectKBest\n",
        "extra_features_from_rfe = []\n",
        "\n",
        "for feature in rfe_feature_scores['Feature']:\n",
        "    if feature not in top_features_combined:\n",
        "        print(\"selected feature: \", feature)\n",
        "        extra_features_from_rfe.append(feature)\n",
        "    if len(extra_features_from_rfe) == no_of_redundent_features:\n",
        "        break\n",
        "\n",
        "print(\"Extra features from RFE:\", extra_features_from_rfe)\n",
        "\n",
        "top_features_combined.extend(extra_features_from_rfe)\n",
        "print('top_features_combined = ', top_features_combined)\n",
        "\n",
        "X_selected = X[top_features_combined]"
      ]
    },
    {
      "cell_type": "code",
      "execution_count": null,
      "metadata": {
        "colab": {
          "base_uri": "https://localhost:8080/"
        },
        "id": "uYyOV0iqxU1M",
        "outputId": "29fe46eb-717e-4d24-e7d1-e7c1b5513e3f",
        "collapsed": true
      },
      "outputs": [
        {
          "output_type": "stream",
          "name": "stdout",
          "text": [
            "Accuracy: 0.9994738745848541\n",
            "Precision: 0.9995005620141906\n",
            "Recall: 0.9994738745848541\n",
            "F1 Score: 0.9994841514936077\n",
            "Classification Report:\n",
            "               precision    recall  f1-score   support\n",
            "\n",
            "           0       1.00      1.00      1.00       513\n",
            "           1       0.91      0.86      0.88        56\n",
            "           2       1.00      1.00      1.00     12772\n",
            "           3       1.00      1.00      1.00       835\n",
            "           4       1.00      1.00      1.00      7477\n",
            "           5       1.00      1.00      1.00      7196\n",
            "           6       1.00      1.00      1.00      7166\n",
            "           7       0.62      0.75      0.68        24\n",
            "           8       1.00      1.00      1.00      6311\n",
            "           9       1.00      1.00      1.00      8162\n",
            "          10       1.00      1.00      1.00      9762\n",
            "          11       0.99      0.99      0.99       548\n",
            "\n",
            "    accuracy                           1.00     60822\n",
            "   macro avg       0.96      0.97      0.96     60822\n",
            "weighted avg       1.00      1.00      1.00     60822\n",
            "\n",
            "Confusion Matrix:\n",
            " [[  511     0     0     0     1     0     0     0     0     1     0     0]\n",
            " [    0    48     0     1     0     0     0     6     0     0     0     1]\n",
            " [    0     0 12771     0     0     0     0     0     0     0     0     1]\n",
            " [    0     0     0   834     0     0     0     0     0     0     1     0]\n",
            " [    0     0     0     0  7476     0     0     1     0     0     0     0]\n",
            " [    0     0     0     0     0  7195     0     0     0     0     1     0]\n",
            " [    0     0     0     0     0     0  7163     0     1     1     1     0]\n",
            " [    0     3     0     0     0     0     0    18     0     0     0     3]\n",
            " [    0     0     0     0     0     0     3     0  6308     0     0     0]\n",
            " [    0     1     0     0     0     0     0     0     0  8161     0     0]\n",
            " [    0     1     0     0     0     0     0     0     0     0  9761     0]\n",
            " [    0     0     0     0     0     0     0     4     0     0     0   544]]\n"
          ]
        }
      ],
      "source": [
        "from sklearn.metrics import precision_score, recall_score, f1_score, confusion_matrix\n",
        "\n",
        "# Step 6: Train-Test Split\n",
        "X_train, X_test, y_train, y_test = train_test_split(X_selected, y, test_size=0.35, random_state=42)\n",
        "\n",
        "# Step 7: Train XGBoost Classifier\n",
        "xgb_model = XGBClassifier(eval_metric='mlogloss', random_state=42)\n",
        "xgb_model.fit(X_train, y_train)\n",
        "\n",
        "# Step 8: Evaluate the model\n",
        "y_pred = xgb_model.predict(X_test)\n",
        "\n",
        "# Metrics\n",
        "accuracy = accuracy_score(y_test, y_pred)\n",
        "precision = precision_score(y_test, y_pred, average='weighted')\n",
        "recall = recall_score(y_test, y_pred, average='weighted')\n",
        "f1 = f1_score(y_test, y_pred, average='weighted')\n",
        "\n",
        "# Print metrics\n",
        "print(\"Accuracy:\", accuracy)\n",
        "print(\"Precision:\", precision)\n",
        "print(\"Recall:\", recall)\n",
        "print(\"F1 Score:\", f1)\n",
        "print(\"Classification Report:\\n\", classification_report(y_test, y_pred))\n",
        "\n",
        "# Confusion Matrix\n",
        "conf_matrix = confusion_matrix(y_test, y_pred)\n",
        "print(\"Confusion Matrix:\\n\", conf_matrix)"
      ]
    },
    {
      "cell_type": "markdown",
      "metadata": {
        "id": "1sATaUQExkxi"
      },
      "source": [
        "# 15 features"
      ]
    },
    {
      "cell_type": "code",
      "execution_count": null,
      "metadata": {
        "colab": {
          "base_uri": "https://localhost:8080/"
        },
        "collapsed": true,
        "id": "Yb5_TdPzxkxj",
        "outputId": "7f126a90-22d7-4c16-d4a1-008c188587f3"
      },
      "outputs": [
        {
          "output_type": "stream",
          "name": "stdout",
          "text": [
            "            Feature     Score\n",
            "39              IAT  2.037641\n",
            "1     Header_Length  1.136766\n",
            "34              Min  1.050435\n",
            "38         Tot size  1.042562\n",
            "41         Magnitue  1.038226\n",
            "36              AVG  1.032098\n",
            "33          Tot sum  1.027270\n",
            "2     Protocol Type  0.981133\n",
            "35              Max  0.978302\n",
            "26              TCP  0.667992\n",
            "15        syn_count  0.615501\n",
            "30             ICMP  0.533271\n",
            "8   syn_flag_number  0.527674\n",
            "4              Rate  0.525725\n",
            "5             Srate  0.525546\n",
            "0     flow_duration  0.478363\n",
            "27              UDP  0.436284\n",
            "18        rst_count  0.434036\n",
            "16        fin_count  0.401273\n",
            "17        urg_count  0.387513\n",
            "14        ack_count  0.380493\n",
            "7   fin_flag_number  0.363018\n",
            "9   rst_flag_number  0.359308\n",
            "10  psh_flag_number  0.356355\n",
            "11  ack_flag_number  0.352058\n",
            "42           Radius  0.225459\n",
            "37              Std  0.225199\n",
            "43       Covariance  0.224380\n",
            "44         Variance  0.150294\n",
            "3          Duration  0.058356\n",
            "19             HTTP  0.031141\n",
            "20            HTTPS  0.017731\n",
            "40           Number  0.008071\n",
            "32              LLC  0.006936\n",
            "45           Weight  0.006104\n",
            "31              IPv  0.006072\n",
            "21              DNS  0.003235\n",
            "12  ece_flag_number  0.002854\n",
            "6             Drate  0.001006\n",
            "25              IRC  0.000519\n",
            "13  cwr_flag_number  0.000000\n",
            "29              ARP  0.000000\n",
            "22           Telnet  0.000000\n",
            "28             DHCP  0.000000\n",
            "23             SMTP  0.000000\n",
            "24              SSH  0.000000\n",
            "skb_selected_feature_names =  Index(['Header_Length', 'Tot sum', 'Min', 'AVG', 'Tot size', 'IAT',\n",
            "       'Magnitue'],\n",
            "      dtype='object')\n"
          ]
        }
      ],
      "source": [
        "skb_selector = SelectKBest(score_func=mutual_info_classif, k=7)\n",
        "skb_selector.fit_transform(X, y)\n",
        "\n",
        "# printing the scores\n",
        "skb_feature_scores = pd.DataFrame({'Feature': X.columns, 'Score': skb_selector.scores_})\n",
        "skb_feature_scores = skb_feature_scores.sort_values(by='Score', ascending=False)  # Sort by importance\n",
        "print(skb_feature_scores)\n",
        "\n",
        "# Get the selected feature names\n",
        "skb_selected_feature_names = X.columns[skb_selector.get_support()]\n",
        "print('skb_selected_feature_names = ', skb_selected_feature_names)"
      ]
    },
    {
      "cell_type": "code",
      "execution_count": null,
      "metadata": {
        "colab": {
          "base_uri": "https://localhost:8080/"
        },
        "collapsed": true,
        "id": "lBMdIui2xkxj",
        "outputId": "06098207-1166-4e02-b58d-f5f8c936293a"
      },
      "outputs": [
        {
          "output_type": "stream",
          "name": "stdout",
          "text": [
            "            Feature  Score\n",
            "7   fin_flag_number      1\n",
            "8   syn_flag_number      1\n",
            "10  psh_flag_number      1\n",
            "17        urg_count      1\n",
            "27              UDP      1\n",
            "30             ICMP      1\n",
            "39              IAT      1\n",
            "34              Min      1\n",
            "15        syn_count      2\n",
            "44         Variance      3\n",
            "1     Header_Length      4\n",
            "18        rst_count      5\n",
            "33          Tot sum      6\n",
            "43       Covariance      7\n",
            "37              Std      8\n",
            "41         Magnitue      9\n",
            "38         Tot size     10\n",
            "26              TCP     11\n",
            "19             HTTP     12\n",
            "45           Weight     13\n",
            "2     Protocol Type     14\n",
            "11  ack_flag_number     15\n",
            "4              Rate     16\n",
            "35              Max     17\n",
            "14        ack_count     18\n",
            "20            HTTPS     19\n",
            "42           Radius     20\n",
            "0     flow_duration     21\n",
            "16        fin_count     22\n",
            "9   rst_flag_number     23\n",
            "31              IPv     24\n",
            "3          Duration     25\n",
            "40           Number     26\n",
            "36              AVG     27\n",
            "21              DNS     28\n",
            "23             SMTP     29\n",
            "22           Telnet     30\n",
            "32              LLC     31\n",
            "29              ARP     32\n",
            "25              IRC     33\n",
            "24              SSH     34\n",
            "28             DHCP     35\n",
            "13  cwr_flag_number     36\n",
            "12  ece_flag_number     37\n",
            "5             Srate     38\n",
            "6             Drate     39\n",
            "rfe_selected_feature_names =  Index(['fin_flag_number', 'syn_flag_number', 'psh_flag_number', 'urg_count',\n",
            "       'UDP', 'ICMP', 'Min', 'IAT'],\n",
            "      dtype='object')\n"
          ]
        }
      ],
      "source": [
        "rfe_selector = RFE(estimator=XGBClassifier(eval_metric='mlogloss'), n_features_to_select=8)\n",
        "rfe_selector.fit_transform(X, y)\n",
        "\n",
        "# printing the ranks\n",
        "rfe_feature_scores = pd.DataFrame({'Feature': X.columns, 'Score': rfe_selector.ranking_})\n",
        "rfe_feature_scores = rfe_feature_scores.sort_values(by='Score', ascending=True)  # Sort by importance (ascending)\n",
        "print(rfe_feature_scores)\n",
        "\n",
        "# Get the selected feature names\n",
        "rfe_selected_feature_names = X.columns[rfe_selector.get_support()]\n",
        "print('rfe_selected_feature_names = ', rfe_selected_feature_names)"
      ]
    },
    {
      "cell_type": "code",
      "execution_count": null,
      "metadata": {
        "colab": {
          "base_uri": "https://localhost:8080/"
        },
        "id": "x2rDhy1rxkxk",
        "outputId": "81e49f07-e30a-4f14-d7f1-e8a4741bb2e2"
      },
      "outputs": [
        {
          "output_type": "stream",
          "name": "stdout",
          "text": [
            "top_features_combined =  ['UDP', 'Tot sum', 'syn_flag_number', 'Magnitue', 'Tot size', 'psh_flag_number', 'AVG', 'fin_flag_number', 'ICMP', 'Header_Length', 'urg_count', 'IAT', 'Min']\n"
          ]
        }
      ],
      "source": [
        "top_features_combined = list(set(skb_selected_feature_names) | set(rfe_selected_feature_names))\n",
        "print('top_features_combined = ', top_features_combined)"
      ]
    },
    {
      "cell_type": "code",
      "execution_count": null,
      "metadata": {
        "colab": {
          "base_uri": "https://localhost:8080/"
        },
        "id": "jCMPiJOPxkxk",
        "outputId": "58cf0b4a-9c94-47eb-9471-e67d3a275eb5"
      },
      "outputs": [
        {
          "output_type": "stream",
          "name": "stdout",
          "text": [
            "selected feature:  syn_count\n",
            "selected feature:  Variance\n",
            "Extra features from RFE: ['syn_count', 'Variance']\n",
            "top_features_combined =  ['UDP', 'Tot sum', 'syn_flag_number', 'Magnitue', 'Tot size', 'psh_flag_number', 'AVG', 'fin_flag_number', 'ICMP', 'Header_Length', 'urg_count', 'IAT', 'Min', 'syn_count', 'Variance']\n"
          ]
        }
      ],
      "source": [
        "no_of_redundent_features = 15-(len(top_features_combined))\n",
        "\n",
        "# Find the next 3 best-ranked features NOT in SelectKBest\n",
        "extra_features_from_rfe = []\n",
        "\n",
        "for feature in rfe_feature_scores['Feature']:\n",
        "    if feature not in top_features_combined:\n",
        "        print(\"selected feature: \", feature)\n",
        "        extra_features_from_rfe.append(feature)\n",
        "    if len(extra_features_from_rfe) == no_of_redundent_features:\n",
        "        break\n",
        "\n",
        "print(\"Extra features from RFE:\", extra_features_from_rfe)\n",
        "\n",
        "top_features_combined.extend(extra_features_from_rfe)\n",
        "print('top_features_combined = ', top_features_combined)\n",
        "\n",
        "X_selected = X[top_features_combined]"
      ]
    },
    {
      "cell_type": "code",
      "execution_count": null,
      "metadata": {
        "colab": {
          "base_uri": "https://localhost:8080/"
        },
        "id": "5bahUnk3xkxk",
        "outputId": "4e2afdac-ed28-48c3-8566-75670cd32c83",
        "collapsed": true
      },
      "outputs": [
        {
          "output_type": "stream",
          "name": "stdout",
          "text": [
            "Accuracy: 0.9997040544539805\n",
            "Precision: 0.9997299523553076\n",
            "Recall: 0.9997040544539805\n",
            "F1 Score: 0.9997104768568654\n",
            "Classification Report:\n",
            "               precision    recall  f1-score   support\n",
            "\n",
            "           0       1.00      0.99      1.00       513\n",
            "           1       1.00      0.95      0.97        56\n",
            "           2       1.00      1.00      1.00     12772\n",
            "           3       1.00      1.00      1.00       835\n",
            "           4       1.00      1.00      1.00      7477\n",
            "           5       1.00      1.00      1.00      7196\n",
            "           6       1.00      1.00      1.00      7166\n",
            "           7       0.77      1.00      0.87        24\n",
            "           8       1.00      1.00      1.00      6311\n",
            "           9       1.00      1.00      1.00      8162\n",
            "          10       1.00      1.00      1.00      9762\n",
            "          11       1.00      0.99      0.99       548\n",
            "\n",
            "    accuracy                           1.00     60822\n",
            "   macro avg       0.98      0.99      0.99     60822\n",
            "weighted avg       1.00      1.00      1.00     60822\n",
            "\n",
            "Confusion Matrix:\n",
            " [[  509     0     1     0     1     0     0     0     0     1     1     0]\n",
            " [    0    53     0     0     0     0     0     3     0     0     0     0]\n",
            " [    0     0 12770     0     0     0     0     0     0     0     0     2]\n",
            " [    0     0     0   834     0     1     0     0     0     0     0     0]\n",
            " [    0     0     0     0  7477     0     0     0     0     0     0     0]\n",
            " [    0     0     0     0     0  7195     0     0     0     0     1     0]\n",
            " [    0     0     0     0     0     0  7166     0     0     0     0     0]\n",
            " [    0     0     0     0     0     0     0    24     0     0     0     0]\n",
            " [    0     0     0     0     0     0     3     0  6308     0     0     0]\n",
            " [    0     0     0     0     0     0     0     0     0  8162     0     0]\n",
            " [    0     0     0     0     0     0     0     0     0     0  9762     0]\n",
            " [    0     0     0     0     0     0     0     4     0     0     0   544]]\n"
          ]
        }
      ],
      "source": [
        "from sklearn.metrics import precision_score, recall_score, f1_score, confusion_matrix\n",
        "\n",
        "# Step 6: Train-Test Split\n",
        "X_train, X_test, y_train, y_test = train_test_split(X_selected, y, test_size=0.35, random_state=42)\n",
        "\n",
        "# Step 7: Train XGBoost Classifier\n",
        "xgb_model = XGBClassifier(eval_metric='mlogloss', random_state=42)\n",
        "xgb_model.fit(X_train, y_train)\n",
        "\n",
        "# Step 8: Evaluate the model\n",
        "y_pred = xgb_model.predict(X_test)\n",
        "\n",
        "# Metrics\n",
        "accuracy = accuracy_score(y_test, y_pred)\n",
        "precision = precision_score(y_test, y_pred, average='weighted')\n",
        "recall = recall_score(y_test, y_pred, average='weighted')\n",
        "f1 = f1_score(y_test, y_pred, average='weighted')\n",
        "\n",
        "# Print metrics\n",
        "print(\"Accuracy:\", accuracy)\n",
        "print(\"Precision:\", precision)\n",
        "print(\"Recall:\", recall)\n",
        "print(\"F1 Score:\", f1)\n",
        "print(\"Classification Report:\\n\", classification_report(y_test, y_pred))\n",
        "\n",
        "# Confusion Matrix\n",
        "conf_matrix = confusion_matrix(y_test, y_pred)\n",
        "print(\"Confusion Matrix:\\n\", conf_matrix)"
      ]
    },
    {
      "cell_type": "markdown",
      "metadata": {
        "id": "J65_H7c4xs5q"
      },
      "source": [
        "# 20 features"
      ]
    },
    {
      "cell_type": "code",
      "execution_count": null,
      "metadata": {
        "colab": {
          "base_uri": "https://localhost:8080/"
        },
        "collapsed": true,
        "id": "EwjkVjXBxs5q",
        "outputId": "78a8d6d9-ec66-4381-b73a-55165fb58e3b"
      },
      "outputs": [
        {
          "output_type": "stream",
          "name": "stdout",
          "text": [
            "            Feature     Score\n",
            "39              IAT  2.037642\n",
            "1     Header_Length  1.139460\n",
            "34              Min  1.046864\n",
            "38         Tot size  1.042665\n",
            "41         Magnitue  1.036904\n",
            "36              AVG  1.032282\n",
            "33          Tot sum  1.026865\n",
            "35              Max  0.977885\n",
            "2     Protocol Type  0.977443\n",
            "26              TCP  0.667115\n",
            "15        syn_count  0.615432\n",
            "30             ICMP  0.531554\n",
            "8   syn_flag_number  0.530867\n",
            "4              Rate  0.525505\n",
            "5             Srate  0.525368\n",
            "0     flow_duration  0.479652\n",
            "27              UDP  0.434700\n",
            "18        rst_count  0.434198\n",
            "16        fin_count  0.399572\n",
            "17        urg_count  0.386209\n",
            "14        ack_count  0.380977\n",
            "7   fin_flag_number  0.365935\n",
            "9   rst_flag_number  0.358086\n",
            "10  psh_flag_number  0.356838\n",
            "11  ack_flag_number  0.352890\n",
            "37              Std  0.227178\n",
            "43       Covariance  0.226716\n",
            "42           Radius  0.223394\n",
            "44         Variance  0.150464\n",
            "3          Duration  0.056429\n",
            "19             HTTP  0.029399\n",
            "20            HTTPS  0.015852\n",
            "31              IPv  0.008836\n",
            "32              LLC  0.008072\n",
            "40           Number  0.006701\n",
            "45           Weight  0.006685\n",
            "24              SSH  0.003489\n",
            "25              IRC  0.003285\n",
            "28             DHCP  0.001628\n",
            "13  cwr_flag_number  0.001200\n",
            "23             SMTP  0.000815\n",
            "21              DNS  0.000266\n",
            "12  ece_flag_number  0.000000\n",
            "6             Drate  0.000000\n",
            "29              ARP  0.000000\n",
            "22           Telnet  0.000000\n",
            "skb_selected_feature_names =  Index(['Header_Length', 'Protocol Type', 'TCP', 'Tot sum', 'Min', 'Max', 'AVG',\n",
            "       'Tot size', 'IAT', 'Magnitue'],\n",
            "      dtype='object')\n"
          ]
        }
      ],
      "source": [
        "skb_selector = SelectKBest(score_func=mutual_info_classif, k=10)\n",
        "skb_selector.fit_transform(X, y)\n",
        "\n",
        "# printing the scores\n",
        "skb_feature_scores = pd.DataFrame({'Feature': X.columns, 'Score': skb_selector.scores_})\n",
        "skb_feature_scores = skb_feature_scores.sort_values(by='Score', ascending=False)  # Sort by importance\n",
        "print(skb_feature_scores)\n",
        "\n",
        "# Get the selected feature names\n",
        "skb_selected_feature_names = X.columns[skb_selector.get_support()]\n",
        "print('skb_selected_feature_names = ', skb_selected_feature_names)"
      ]
    },
    {
      "cell_type": "code",
      "execution_count": null,
      "metadata": {
        "colab": {
          "base_uri": "https://localhost:8080/"
        },
        "id": "nxsyWxs4xs5r",
        "collapsed": true,
        "outputId": "acf5a017-de9f-4e4e-f169-a86010fd47e8"
      },
      "outputs": [
        {
          "output_type": "stream",
          "name": "stdout",
          "text": [
            "            Feature  Score\n",
            "7   fin_flag_number      1\n",
            "15        syn_count      1\n",
            "10  psh_flag_number      1\n",
            "8   syn_flag_number      1\n",
            "27              UDP      1\n",
            "30             ICMP      1\n",
            "17        urg_count      1\n",
            "34              Min      1\n",
            "39              IAT      1\n",
            "44         Variance      1\n",
            "1     Header_Length      2\n",
            "18        rst_count      3\n",
            "33          Tot sum      4\n",
            "43       Covariance      5\n",
            "37              Std      6\n",
            "41         Magnitue      7\n",
            "38         Tot size      8\n",
            "26              TCP      9\n",
            "19             HTTP     10\n",
            "45           Weight     11\n",
            "2     Protocol Type     12\n",
            "11  ack_flag_number     13\n",
            "4              Rate     14\n",
            "35              Max     15\n",
            "14        ack_count     16\n",
            "20            HTTPS     17\n",
            "42           Radius     18\n",
            "0     flow_duration     19\n",
            "16        fin_count     20\n",
            "9   rst_flag_number     21\n",
            "31              IPv     22\n",
            "3          Duration     23\n",
            "40           Number     24\n",
            "36              AVG     25\n",
            "21              DNS     26\n",
            "23             SMTP     27\n",
            "22           Telnet     28\n",
            "32              LLC     29\n",
            "29              ARP     30\n",
            "25              IRC     31\n",
            "24              SSH     32\n",
            "28             DHCP     33\n",
            "13  cwr_flag_number     34\n",
            "12  ece_flag_number     35\n",
            "5             Srate     36\n",
            "6             Drate     37\n",
            "rfe_selected_feature_names =  Index(['fin_flag_number', 'syn_flag_number', 'psh_flag_number', 'syn_count',\n",
            "       'urg_count', 'UDP', 'ICMP', 'Min', 'IAT', 'Variance'],\n",
            "      dtype='object')\n"
          ]
        }
      ],
      "source": [
        "rfe_selector = RFE(estimator=XGBClassifier(eval_metric='mlogloss'), n_features_to_select=10)\n",
        "rfe_selector.fit_transform(X, y)\n",
        "\n",
        "# printing the ranks\n",
        "rfe_feature_scores = pd.DataFrame({'Feature': X.columns, 'Score': rfe_selector.ranking_})\n",
        "rfe_feature_scores = rfe_feature_scores.sort_values(by='Score', ascending=True)  # Sort by importance (ascending)\n",
        "print(rfe_feature_scores)\n",
        "\n",
        "# Get the selected feature names\n",
        "rfe_selected_feature_names = X.columns[rfe_selector.get_support()]\n",
        "print('rfe_selected_feature_names = ', rfe_selected_feature_names)"
      ]
    },
    {
      "cell_type": "code",
      "execution_count": null,
      "metadata": {
        "colab": {
          "base_uri": "https://localhost:8080/"
        },
        "id": "lh1-KyUNxs5r",
        "outputId": "b9690066-118a-489c-9901-2a76bd9db5bd"
      },
      "outputs": [
        {
          "output_type": "stream",
          "name": "stdout",
          "text": [
            "top_features_combined =  ['Tot sum', 'Protocol Type', 'Magnitue', 'Tot size', 'IAT', 'psh_flag_number', 'UDP', 'Max', 'Variance', 'TCP', 'AVG', 'fin_flag_number', 'ICMP', 'Header_Length', 'urg_count', 'syn_flag_number', 'syn_count', 'Min']\n"
          ]
        }
      ],
      "source": [
        "top_features_combined = list(set(skb_selected_feature_names) | set(rfe_selected_feature_names))\n",
        "print('top_features_combined = ', top_features_combined)"
      ]
    },
    {
      "cell_type": "code",
      "execution_count": null,
      "metadata": {
        "colab": {
          "base_uri": "https://localhost:8080/"
        },
        "id": "CtRUwFe3xs5s",
        "outputId": "7637ee82-b4e9-41e9-f50e-208dac9debd8"
      },
      "outputs": [
        {
          "output_type": "stream",
          "name": "stdout",
          "text": [
            "selected feature:  rst_count\n",
            "selected feature:  Covariance\n",
            "Extra features from RFE: ['rst_count', 'Covariance']\n",
            "top_features_combined =  ['Tot sum', 'Protocol Type', 'Magnitue', 'Tot size', 'IAT', 'psh_flag_number', 'UDP', 'Max', 'Variance', 'TCP', 'AVG', 'fin_flag_number', 'ICMP', 'Header_Length', 'urg_count', 'syn_flag_number', 'syn_count', 'Min', 'rst_count', 'Covariance']\n"
          ]
        }
      ],
      "source": [
        "no_of_redundent_features = 20-(len(top_features_combined))\n",
        "\n",
        "# Find the next 3 best-ranked features NOT in SelectKBest\n",
        "extra_features_from_rfe = []\n",
        "\n",
        "for feature in rfe_feature_scores['Feature']:\n",
        "    if feature not in top_features_combined:\n",
        "        print(\"selected feature: \", feature)\n",
        "        extra_features_from_rfe.append(feature)\n",
        "    if len(extra_features_from_rfe) == no_of_redundent_features:\n",
        "        break\n",
        "\n",
        "print(\"Extra features from RFE:\", extra_features_from_rfe)\n",
        "\n",
        "top_features_combined.extend(extra_features_from_rfe)\n",
        "print('top_features_combined = ', top_features_combined)\n",
        "\n",
        "X_selected = X[top_features_combined]"
      ]
    },
    {
      "cell_type": "code",
      "execution_count": null,
      "metadata": {
        "colab": {
          "base_uri": "https://localhost:8080/"
        },
        "id": "j4PlXpRhxs5s",
        "collapsed": true,
        "outputId": "12c627db-9688-49d7-c684-acb68c285f56"
      },
      "outputs": [
        {
          "output_type": "stream",
          "name": "stdout",
          "text": [
            "Accuracy: 0.9997369372924271\n",
            "Precision: 0.9997457516692028\n",
            "Recall: 0.9997369372924271\n",
            "F1 Score: 0.9997387926665342\n",
            "Classification Report:\n",
            "               precision    recall  f1-score   support\n",
            "\n",
            "           0       1.00      0.99      1.00       513\n",
            "           1       0.98      0.95      0.96        56\n",
            "           2       1.00      1.00      1.00     12772\n",
            "           3       1.00      1.00      1.00       835\n",
            "           4       1.00      1.00      1.00      7477\n",
            "           5       1.00      1.00      1.00      7196\n",
            "           6       1.00      1.00      1.00      7166\n",
            "           7       0.86      1.00      0.92        24\n",
            "           8       1.00      1.00      1.00      6311\n",
            "           9       1.00      1.00      1.00      8162\n",
            "          10       1.00      1.00      1.00      9762\n",
            "          11       1.00      1.00      1.00       548\n",
            "\n",
            "    accuracy                           1.00     60822\n",
            "   macro avg       0.99      0.99      0.99     60822\n",
            "weighted avg       1.00      1.00      1.00     60822\n",
            "\n",
            "Confusion Matrix:\n",
            " [[  510     0     1     0     1     0     0     0     0     1     0     0]\n",
            " [    0    53     0     0     0     0     0     3     0     0     0     0]\n",
            " [    0     0 12770     0     0     0     0     0     0     0     0     2]\n",
            " [    0     0     0   834     0     0     0     0     0     0     1     0]\n",
            " [    0     0     0     0  7477     0     0     0     0     0     0     0]\n",
            " [    0     0     0     0     0  7195     0     0     0     0     1     0]\n",
            " [    0     0     0     0     0     0  7166     0     0     0     0     0]\n",
            " [    0     0     0     0     0     0     0    24     0     0     0     0]\n",
            " [    0     0     0     0     0     0     3     0  6308     0     0     0]\n",
            " [    0     0     0     0     0     0     0     0     0  8162     0     0]\n",
            " [    0     0     1     0     0     0     0     0     0     0  9761     0]\n",
            " [    0     1     0     0     0     0     0     1     0     0     0   546]]\n"
          ]
        }
      ],
      "source": [
        "from sklearn.metrics import precision_score, recall_score, f1_score, confusion_matrix\n",
        "\n",
        "# Step 6: Train-Test Split\n",
        "X_train, X_test, y_train, y_test = train_test_split(X_selected, y, test_size=0.35, random_state=42)\n",
        "\n",
        "# Step 7: Train XGBoost Classifier\n",
        "xgb_model = XGBClassifier(eval_metric='mlogloss', random_state=42)\n",
        "xgb_model.fit(X_train, y_train)\n",
        "\n",
        "# Step 8: Evaluate the model\n",
        "y_pred = xgb_model.predict(X_test)\n",
        "\n",
        "# Metrics\n",
        "accuracy = accuracy_score(y_test, y_pred)\n",
        "precision = precision_score(y_test, y_pred, average='weighted')\n",
        "recall = recall_score(y_test, y_pred, average='weighted')\n",
        "f1 = f1_score(y_test, y_pred, average='weighted')\n",
        "\n",
        "# Print metrics\n",
        "print(\"Accuracy:\", accuracy)\n",
        "print(\"Precision:\", precision)\n",
        "print(\"Recall:\", recall)\n",
        "print(\"F1 Score:\", f1)\n",
        "print(\"Classification Report:\\n\", classification_report(y_test, y_pred))\n",
        "\n",
        "# Confusion Matrix\n",
        "conf_matrix = confusion_matrix(y_test, y_pred)\n",
        "print(\"Confusion Matrix:\\n\", conf_matrix)"
      ]
    },
    {
      "cell_type": "markdown",
      "metadata": {
        "id": "-bVHeAeDx3rU"
      },
      "source": [
        "# 25 features"
      ]
    },
    {
      "cell_type": "code",
      "execution_count": null,
      "metadata": {
        "colab": {
          "base_uri": "https://localhost:8080/"
        },
        "collapsed": true,
        "id": "oF1wqN-Ex3rV",
        "outputId": "eb8163c7-ac83-415d-d199-b725c88a3916"
      },
      "outputs": [
        {
          "output_type": "stream",
          "name": "stdout",
          "text": [
            "            Feature     Score\n",
            "39              IAT  2.037658\n",
            "1     Header_Length  1.140325\n",
            "34              Min  1.046195\n",
            "38         Tot size  1.042299\n",
            "41         Magnitue  1.037969\n",
            "36              AVG  1.031729\n",
            "33          Tot sum  1.025190\n",
            "2     Protocol Type  0.978749\n",
            "35              Max  0.975940\n",
            "26              TCP  0.666572\n",
            "15        syn_count  0.616285\n",
            "30             ICMP  0.531580\n",
            "8   syn_flag_number  0.529195\n",
            "5             Srate  0.526111\n",
            "4              Rate  0.525778\n",
            "0     flow_duration  0.477116\n",
            "27              UDP  0.436043\n",
            "18        rst_count  0.435994\n",
            "16        fin_count  0.398984\n",
            "17        urg_count  0.388940\n",
            "14        ack_count  0.383663\n",
            "7   fin_flag_number  0.367765\n",
            "10  psh_flag_number  0.358153\n",
            "9   rst_flag_number  0.357659\n",
            "11  ack_flag_number  0.350077\n",
            "37              Std  0.226813\n",
            "43       Covariance  0.226098\n",
            "42           Radius  0.224591\n",
            "44         Variance  0.149210\n",
            "3          Duration  0.057877\n",
            "19             HTTP  0.032451\n",
            "20            HTTPS  0.016084\n",
            "32              LLC  0.008395\n",
            "40           Number  0.007443\n",
            "31              IPv  0.006669\n",
            "45           Weight  0.004825\n",
            "13  cwr_flag_number  0.001838\n",
            "28             DHCP  0.001657\n",
            "12  ece_flag_number  0.000000\n",
            "6             Drate  0.000000\n",
            "29              ARP  0.000000\n",
            "23             SMTP  0.000000\n",
            "22           Telnet  0.000000\n",
            "21              DNS  0.000000\n",
            "24              SSH  0.000000\n",
            "25              IRC  0.000000\n",
            "skb_selected_feature_names =  Index(['Header_Length', 'Protocol Type', 'syn_count', 'TCP', 'ICMP', 'Tot sum',\n",
            "       'Min', 'Max', 'AVG', 'Tot size', 'IAT', 'Magnitue'],\n",
            "      dtype='object')\n"
          ]
        }
      ],
      "source": [
        "skb_selector = SelectKBest(score_func=mutual_info_classif, k=12)\n",
        "skb_selector.fit_transform(X, y)\n",
        "\n",
        "# printing the scores\n",
        "skb_feature_scores = pd.DataFrame({'Feature': X.columns, 'Score': skb_selector.scores_})\n",
        "skb_feature_scores = skb_feature_scores.sort_values(by='Score', ascending=False)  # Sort by importance\n",
        "print(skb_feature_scores)\n",
        "\n",
        "# Get the selected feature names\n",
        "skb_selected_feature_names = X.columns[skb_selector.get_support()]\n",
        "print('skb_selected_feature_names = ', skb_selected_feature_names)"
      ]
    },
    {
      "cell_type": "code",
      "execution_count": null,
      "metadata": {
        "colab": {
          "base_uri": "https://localhost:8080/"
        },
        "id": "wnih525Fx3rV",
        "collapsed": true,
        "outputId": "711c07a9-b818-4d47-e75b-902ee9f2a131"
      },
      "outputs": [
        {
          "output_type": "stream",
          "name": "stdout",
          "text": [
            "            Feature  Score\n",
            "1     Header_Length      1\n",
            "7   fin_flag_number      1\n",
            "10  psh_flag_number      1\n",
            "8   syn_flag_number      1\n",
            "15        syn_count      1\n",
            "30             ICMP      1\n",
            "18        rst_count      1\n",
            "17        urg_count      1\n",
            "27              UDP      1\n",
            "39              IAT      1\n",
            "34              Min      1\n",
            "33          Tot sum      1\n",
            "44         Variance      1\n",
            "43       Covariance      2\n",
            "37              Std      3\n",
            "41         Magnitue      4\n",
            "38         Tot size      5\n",
            "26              TCP      6\n",
            "19             HTTP      7\n",
            "45           Weight      8\n",
            "2     Protocol Type      9\n",
            "11  ack_flag_number     10\n",
            "4              Rate     11\n",
            "35              Max     12\n",
            "14        ack_count     13\n",
            "20            HTTPS     14\n",
            "42           Radius     15\n",
            "0     flow_duration     16\n",
            "16        fin_count     17\n",
            "9   rst_flag_number     18\n",
            "31              IPv     19\n",
            "3          Duration     20\n",
            "40           Number     21\n",
            "36              AVG     22\n",
            "21              DNS     23\n",
            "23             SMTP     24\n",
            "22           Telnet     25\n",
            "32              LLC     26\n",
            "29              ARP     27\n",
            "25              IRC     28\n",
            "24              SSH     29\n",
            "28             DHCP     30\n",
            "13  cwr_flag_number     31\n",
            "12  ece_flag_number     32\n",
            "5             Srate     33\n",
            "6             Drate     34\n",
            "rfe_selected_feature_names =  Index(['Header_Length', 'fin_flag_number', 'syn_flag_number',\n",
            "       'psh_flag_number', 'syn_count', 'urg_count', 'rst_count', 'UDP', 'ICMP',\n",
            "       'Tot sum', 'Min', 'IAT', 'Variance'],\n",
            "      dtype='object')\n"
          ]
        }
      ],
      "source": [
        "rfe_selector = RFE(estimator=XGBClassifier(eval_metric='mlogloss'), n_features_to_select=13)\n",
        "rfe_selector.fit_transform(X, y)\n",
        "\n",
        "# printing the ranks\n",
        "rfe_feature_scores = pd.DataFrame({'Feature': X.columns, 'Score': rfe_selector.ranking_})\n",
        "rfe_feature_scores = rfe_feature_scores.sort_values(by='Score', ascending=True)  # Sort by importance (ascending)\n",
        "print(rfe_feature_scores)\n",
        "\n",
        "# Get the selected feature names\n",
        "rfe_selected_feature_names = X.columns[rfe_selector.get_support()]\n",
        "print('rfe_selected_feature_names = ', rfe_selected_feature_names)"
      ]
    },
    {
      "cell_type": "code",
      "execution_count": null,
      "metadata": {
        "colab": {
          "base_uri": "https://localhost:8080/"
        },
        "id": "UEF3ca4jx3rV",
        "outputId": "e79c01cd-a674-4997-bf1c-2d9762a1aa91"
      },
      "outputs": [
        {
          "output_type": "stream",
          "name": "stdout",
          "text": [
            "top_features_combined =  ['Tot sum', 'Protocol Type', 'Magnitue', 'Tot size', 'IAT', 'psh_flag_number', 'UDP', 'Max', 'Variance', 'TCP', 'AVG', 'fin_flag_number', 'ICMP', 'Header_Length', 'urg_count', 'rst_count', 'syn_flag_number', 'syn_count', 'Min']\n"
          ]
        }
      ],
      "source": [
        "top_features_combined = list(set(skb_selected_feature_names) | set(rfe_selected_feature_names))\n",
        "print('top_features_combined = ', top_features_combined)"
      ]
    },
    {
      "cell_type": "code",
      "execution_count": null,
      "metadata": {
        "colab": {
          "base_uri": "https://localhost:8080/"
        },
        "id": "jj89IGD4x3rW",
        "outputId": "000f6a50-c916-4e7d-b411-cc71b476685f"
      },
      "outputs": [
        {
          "output_type": "stream",
          "name": "stdout",
          "text": [
            "selected feature:  Covariance\n",
            "selected feature:  Std\n",
            "selected feature:  HTTP\n",
            "selected feature:  Weight\n",
            "selected feature:  ack_flag_number\n",
            "selected feature:  Rate\n",
            "Extra features from RFE: ['Covariance', 'Std', 'HTTP', 'Weight', 'ack_flag_number', 'Rate']\n",
            "top_features_combined =  ['Tot sum', 'Protocol Type', 'Magnitue', 'Tot size', 'IAT', 'psh_flag_number', 'UDP', 'Max', 'Variance', 'TCP', 'AVG', 'fin_flag_number', 'ICMP', 'Header_Length', 'urg_count', 'rst_count', 'syn_flag_number', 'syn_count', 'Min', 'Covariance', 'Std', 'HTTP', 'Weight', 'ack_flag_number', 'Rate']\n"
          ]
        }
      ],
      "source": [
        "no_of_redundent_features = 25-(len(top_features_combined))\n",
        "\n",
        "# Find the next 3 best-ranked features NOT in SelectKBest\n",
        "extra_features_from_rfe = []\n",
        "\n",
        "for feature in rfe_feature_scores['Feature']:\n",
        "    if feature not in top_features_combined:\n",
        "        print(\"selected feature: \", feature)\n",
        "        extra_features_from_rfe.append(feature)\n",
        "    if len(extra_features_from_rfe) == no_of_redundent_features:\n",
        "        break\n",
        "\n",
        "print(\"Extra features from RFE:\", extra_features_from_rfe)\n",
        "\n",
        "top_features_combined.extend(extra_features_from_rfe)\n",
        "print('top_features_combined = ', top_features_combined)\n",
        "\n",
        "X_selected = X[top_features_combined]"
      ]
    },
    {
      "cell_type": "code",
      "execution_count": null,
      "metadata": {
        "colab": {
          "base_uri": "https://localhost:8080/"
        },
        "id": "PI8A2nEHx3rW",
        "collapsed": true,
        "outputId": "8ec156b9-3e1b-479b-f32a-0b3f12142346"
      },
      "outputs": [
        {
          "output_type": "stream",
          "name": "stdout",
          "text": [
            "Accuracy: 0.9997369372924271\n",
            "Precision: 0.9997422416123637\n",
            "Recall: 0.9997369372924271\n",
            "F1 Score: 0.99973814884181\n",
            "Classification Report:\n",
            "               precision    recall  f1-score   support\n",
            "\n",
            "           0       1.00      1.00      1.00       513\n",
            "           1       0.98      0.96      0.97        56\n",
            "           2       1.00      1.00      1.00     12772\n",
            "           3       1.00      1.00      1.00       835\n",
            "           4       1.00      1.00      1.00      7477\n",
            "           5       1.00      1.00      1.00      7196\n",
            "           6       1.00      1.00      1.00      7166\n",
            "           7       0.89      1.00      0.94        24\n",
            "           8       1.00      1.00      1.00      6311\n",
            "           9       1.00      1.00      1.00      8162\n",
            "          10       1.00      1.00      1.00      9762\n",
            "          11       1.00      1.00      1.00       548\n",
            "\n",
            "    accuracy                           1.00     60822\n",
            "   macro avg       0.99      1.00      0.99     60822\n",
            "weighted avg       1.00      1.00      1.00     60822\n",
            "\n",
            "Confusion Matrix:\n",
            " [[  511     0     1     0     1     0     0     0     0     0     0     0]\n",
            " [    0    54     0     0     0     0     0     2     0     0     0     0]\n",
            " [    0     0 12770     0     0     0     0     0     0     0     0     2]\n",
            " [    0     0     0   834     0     0     0     0     0     0     1     0]\n",
            " [    0     0     0     0  7477     0     0     0     0     0     0     0]\n",
            " [    0     1     0     0     0  7194     0     0     0     0     1     0]\n",
            " [    0     0     0     0     0     0  7166     0     0     0     0     0]\n",
            " [    0     0     0     0     0     0     0    24     0     0     0     0]\n",
            " [    0     0     0     0     0     0     5     0  6306     0     0     0]\n",
            " [    0     0     0     0     0     0     0     0     0  8162     0     0]\n",
            " [    0     0     1     0     0     0     0     0     0     0  9761     0]\n",
            " [    0     0     0     0     0     0     0     1     0     0     0   547]]\n"
          ]
        }
      ],
      "source": [
        "from sklearn.metrics import precision_score, recall_score, f1_score, confusion_matrix\n",
        "\n",
        "# Step 6: Train-Test Split\n",
        "X_train, X_test, y_train, y_test = train_test_split(X_selected, y, test_size=0.35, random_state=42)\n",
        "\n",
        "# Step 7: Train XGBoost Classifier\n",
        "xgb_model = XGBClassifier(eval_metric='mlogloss', random_state=42)\n",
        "xgb_model.fit(X_train, y_train)\n",
        "\n",
        "# Step 8: Evaluate the model\n",
        "y_pred = xgb_model.predict(X_test)\n",
        "\n",
        "# Metrics\n",
        "accuracy = accuracy_score(y_test, y_pred)\n",
        "precision = precision_score(y_test, y_pred, average='weighted')\n",
        "recall = recall_score(y_test, y_pred, average='weighted')\n",
        "f1 = f1_score(y_test, y_pred, average='weighted')\n",
        "\n",
        "# Print metrics\n",
        "print(\"Accuracy:\", accuracy)\n",
        "print(\"Precision:\", precision)\n",
        "print(\"Recall:\", recall)\n",
        "print(\"F1 Score:\", f1)\n",
        "print(\"Classification Report:\\n\", classification_report(y_test, y_pred))\n",
        "\n",
        "# Confusion Matrix\n",
        "conf_matrix = confusion_matrix(y_test, y_pred)\n",
        "print(\"Confusion Matrix:\\n\", conf_matrix)"
      ]
    }
  ],
  "metadata": {
    "colab": {
      "provenance": [],
      "gpuType": "T4",
      "include_colab_link": true
    },
    "kernelspec": {
      "display_name": "Python 3",
      "name": "python3"
    },
    "language_info": {
      "name": "python"
    },
    "accelerator": "GPU"
  },
  "nbformat": 4,
  "nbformat_minor": 0
}