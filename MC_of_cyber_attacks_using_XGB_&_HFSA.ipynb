{
  "nbformat": 4,
  "nbformat_minor": 0,
  "metadata": {
    "colab": {
      "provenance": [],
      "include_colab_link": true
    },
    "kernelspec": {
      "name": "python3",
      "display_name": "Python 3"
    },
    "language_info": {
      "name": "python"
    }
  },
  "cells": [
    {
      "cell_type": "markdown",
      "metadata": {
        "id": "view-in-github",
        "colab_type": "text"
      },
      "source": [
        "<a href=\"https://colab.research.google.com/github/ushasri999/Multiclass-classification-of-DDoS-attacks-in-IoT-network-using-hybrid-feature-selection-algorithm/blob/main/MC_of_cyber_attacks_using_XGB_%26_HFSA.ipynb\" target=\"_parent\"><img src=\"https://colab.research.google.com/assets/colab-badge.svg\" alt=\"Open In Colab\"/></a>"
      ]
    },
    {
      "cell_type": "code",
      "execution_count": null,
      "metadata": {
        "colab": {
          "base_uri": "https://localhost:8080/"
        },
        "id": "ns9SmlXPu8Xd",
        "outputId": "7656c369-5a4d-4685-d13b-2b2d87c1a4a5"
      },
      "outputs": [
        {
          "output_type": "stream",
          "name": "stdout",
          "text": [
            "Mounted at /content/drive\n"
          ]
        }
      ],
      "source": [
        "from google.colab import drive\n",
        "drive.mount('/content/drive')"
      ]
    },
    {
      "cell_type": "code",
      "execution_count": null,
      "metadata": {
        "colab": {
          "base_uri": "https://localhost:8080/"
        },
        "id": "agj5wdK0u_K7",
        "outputId": "84c39b33-fa79-41e1-d72c-ffa9f421d859"
      },
      "outputs": [
        {
          "output_type": "stream",
          "name": "stdout",
          "text": [
            "Features shape: (238687, 46)\n",
            "Target shape: (238687,)\n"
          ]
        }
      ],
      "source": [
        "import pandas as pd\n",
        "import numpy as np\n",
        "from xgboost import XGBClassifier\n",
        "from sklearn.model_selection import train_test_split, cross_val_score\n",
        "from sklearn.feature_selection import SelectKBest, mutual_info_classif, RFE\n",
        "from sklearn.metrics import classification_report, accuracy_score\n",
        "from sklearn.preprocessing import LabelEncoder\n",
        "\n",
        "# Step 1: Load and filter the dataset\n",
        "df = pd.read_csv('/content/drive/MyDrive/data.csv')\n",
        "\n",
        "# Step 2: Separate features and target\n",
        "X = df.drop(\"label\", axis=1, errors='ignore')\n",
        "y = df[\"label\"] if 'label' in df.columns else pd.Series([])\n",
        "\n",
        "# Encode target labels into numeric values\n",
        "label_encoder = LabelEncoder()\n",
        "y = label_encoder.fit_transform(y)\n",
        "\n",
        "# Check for valid features and labels\n",
        "print(f\"Features shape: {X.shape}\")\n",
        "print(f\"Target shape: {y.shape}\")"
      ]
    },
    {
      "cell_type": "markdown",
      "metadata": {
        "id": "ASn-FuAkvSkl"
      },
      "source": [
        "# 5 features"
      ]
    },
    {
      "cell_type": "code",
      "execution_count": null,
      "metadata": {
        "colab": {
          "base_uri": "https://localhost:8080/"
        },
        "collapsed": true,
        "id": "kKJGRgBlSuj6",
        "outputId": "a029c857-748a-4a1d-f474-f04a0aa42398"
      },
      "outputs": [
        {
          "output_type": "stream",
          "name": "stdout",
          "text": [
            "            Feature     Score\n",
            "39              IAT  2.601156\n",
            "38         Tot size  1.337866\n",
            "1     Header_Length  1.326675\n",
            "41         Magnitue  1.318371\n",
            "36              AVG  1.313078\n",
            "33          Tot sum  1.306669\n",
            "34              Min  1.296478\n",
            "35              Max  1.272257\n",
            "2     Protocol Type  1.161106\n",
            "26              TCP  0.656225\n",
            "15        syn_count  0.652480\n",
            "0     flow_duration  0.637555\n",
            "5             Srate  0.632753\n",
            "4              Rate  0.632677\n",
            "18        rst_count  0.510322\n",
            "8   syn_flag_number  0.496163\n",
            "27              UDP  0.495042\n",
            "17        urg_count  0.459172\n",
            "30             ICMP  0.444478\n",
            "37              Std  0.382657\n",
            "43       Covariance  0.381131\n",
            "42           Radius  0.379571\n",
            "16        fin_count  0.349149\n",
            "14        ack_count  0.331337\n",
            "11  ack_flag_number  0.327544\n",
            "44         Variance  0.300313\n",
            "7   fin_flag_number  0.294076\n",
            "10  psh_flag_number  0.285729\n",
            "9   rst_flag_number  0.283657\n",
            "3          Duration  0.210094\n",
            "40           Number  0.177794\n",
            "45           Weight  0.176016\n",
            "20            HTTPS  0.069701\n",
            "19             HTTP  0.032733\n",
            "31              IPv  0.005583\n",
            "24              SSH  0.002998\n",
            "23             SMTP  0.002350\n",
            "22           Telnet  0.000639\n",
            "32              LLC  0.000574\n",
            "25              IRC  0.000127\n",
            "29              ARP  0.000000\n",
            "28             DHCP  0.000000\n",
            "21              DNS  0.000000\n",
            "13  cwr_flag_number  0.000000\n",
            "12  ece_flag_number  0.000000\n",
            "6             Drate  0.000000\n",
            "skb_selected_feature_names =  Index(['Tot size', 'IAT'], dtype='object')\n"
          ]
        }
      ],
      "source": [
        "skb_selector = SelectKBest(score_func=mutual_info_classif, k=2)\n",
        "skb_selector.fit_transform(X, y)\n",
        "\n",
        "# printing the scores\n",
        "skb_feature_scores = pd.DataFrame({'Feature': X.columns, 'Score': skb_selector.scores_})\n",
        "skb_feature_scores = skb_feature_scores.sort_values(by='Score', ascending=False)  # Sort by importance\n",
        "print(skb_feature_scores)\n",
        "\n",
        "# Get the selected feature names\n",
        "skb_selected_feature_names = X.columns[skb_selector.get_support()]\n",
        "print('skb_selected_feature_names = ', skb_selected_feature_names)"
      ]
    },
    {
      "cell_type": "code",
      "execution_count": null,
      "metadata": {
        "colab": {
          "base_uri": "https://localhost:8080/"
        },
        "collapsed": true,
        "id": "CaAiKvkSS5Kf",
        "outputId": "25feb2a5-d96c-4597-9c6a-46a63a7be74e"
      },
      "outputs": [
        {
          "output_type": "stream",
          "name": "stdout",
          "text": [
            "            Feature  Score\n",
            "30             ICMP      1\n",
            "10  psh_flag_number      1\n",
            "7   fin_flag_number      1\n",
            "8   syn_flag_number      2\n",
            "39              IAT      3\n",
            "27              UDP      4\n",
            "34              Min      5\n",
            "45           Weight      6\n",
            "9   rst_flag_number      7\n",
            "2     Protocol Type      8\n",
            "4              Rate      9\n",
            "18        rst_count     10\n",
            "40           Number     11\n",
            "20            HTTPS     12\n",
            "16        fin_count     13\n",
            "24              SSH     14\n",
            "19             HTTP     15\n",
            "33          Tot sum     16\n",
            "44         Variance     17\n",
            "11  ack_flag_number     18\n",
            "1     Header_Length     19\n",
            "38         Tot size     20\n",
            "15        syn_count     21\n",
            "17        urg_count     22\n",
            "14        ack_count     23\n",
            "0     flow_duration     24\n",
            "35              Max     25\n",
            "43       Covariance     26\n",
            "36              AVG     27\n",
            "41         Magnitue     28\n",
            "26              TCP     29\n",
            "42           Radius     30\n",
            "29              ARP     31\n",
            "3          Duration     32\n",
            "37              Std     33\n",
            "31              IPv     34\n",
            "21              DNS     35\n",
            "28             DHCP     36\n",
            "32              LLC     37\n",
            "6             Drate     38\n",
            "5             Srate     39\n",
            "12  ece_flag_number     40\n",
            "13  cwr_flag_number     41\n",
            "25              IRC     42\n",
            "23             SMTP     43\n",
            "22           Telnet     44\n",
            "rfe_selected_feature_names =  Index(['fin_flag_number', 'psh_flag_number', 'ICMP'], dtype='object')\n"
          ]
        }
      ],
      "source": [
        "rfe_selector = RFE(estimator=XGBClassifier(eval_metric='mlogloss'), n_features_to_select=3)\n",
        "rfe_selector.fit_transform(X, y)\n",
        "\n",
        "# printing the ranks\n",
        "rfe_feature_scores = pd.DataFrame({'Feature': X.columns, 'Score': rfe_selector.ranking_})\n",
        "rfe_feature_scores = rfe_feature_scores.sort_values(by='Score', ascending=True)  # Sort by importance (ascending)\n",
        "print(rfe_feature_scores)\n",
        "\n",
        "# Get the selected feature names\n",
        "rfe_selected_feature_names = X.columns[rfe_selector.get_support()]\n",
        "print('rfe_selected_feature_names = ', rfe_selected_feature_names)"
      ]
    },
    {
      "cell_type": "code",
      "execution_count": null,
      "metadata": {
        "colab": {
          "base_uri": "https://localhost:8080/"
        },
        "id": "dCAJymSITV0C",
        "outputId": "3eded33e-d264-4e4f-87ed-f84f80550746"
      },
      "outputs": [
        {
          "output_type": "stream",
          "name": "stdout",
          "text": [
            "top_features_combined =  ['ICMP', 'psh_flag_number', 'fin_flag_number', 'IAT', 'Tot size']\n"
          ]
        }
      ],
      "source": [
        "top_features_combined = list(set(skb_selected_feature_names) | set(rfe_selected_feature_names))\n",
        "print('top_features_combined = ', top_features_combined)"
      ]
    },
    {
      "cell_type": "code",
      "execution_count": null,
      "metadata": {
        "colab": {
          "base_uri": "https://localhost:8080/"
        },
        "id": "qc8aSXu-P7ZC",
        "outputId": "349ca6c8-4878-4afd-d29f-73bb821aa05d"
      },
      "outputs": [
        {
          "output_type": "stream",
          "name": "stdout",
          "text": [
            "Extra features from RFE: []\n",
            "top_features_combined =  ['ICMP', 'psh_flag_number', 'fin_flag_number', 'IAT', 'Tot size']\n"
          ]
        }
      ],
      "source": [
        "no_of_redundent_features = 5-(len(top_features_combined))\n",
        "\n",
        "# Find the next 3 best-ranked features NOT in SelectKBest\n",
        "extra_features_from_rfe = []\n",
        "\n",
        "for feature in rfe_feature_scores['Feature']:\n",
        "    if feature not in top_features_combined:\n",
        "        print(\"selected feature: \", feature)\n",
        "        extra_features_from_rfe.append(feature)\n",
        "    if len(extra_features_from_rfe) == no_of_redundent_features:\n",
        "        break\n",
        "\n",
        "print(\"Extra features from RFE:\", extra_features_from_rfe)\n",
        "\n",
        "top_features_combined.extend(extra_features_from_rfe)\n",
        "print('top_features_combined = ', top_features_combined)\n",
        "\n",
        "X_selected = X[top_features_combined]"
      ]
    },
    {
      "cell_type": "code",
      "execution_count": null,
      "metadata": {
        "colab": {
          "base_uri": "https://localhost:8080/"
        },
        "id": "e7rS65-s7192",
        "outputId": "92320090-23ba-4030-cefa-8c67984cf740"
      },
      "outputs": [
        {
          "output_type": "stream",
          "name": "stdout",
          "text": [
            "Accuracy: 0.9830143282938916\n",
            "Precision: 0.9818127523679997\n",
            "Recall: 0.9830143282938916\n",
            "F1 Score: 0.9815473019462784\n",
            "Classification Report:\n",
            "               precision    recall  f1-score   support\n",
            "\n",
            "           0       0.00      0.00      0.00         4\n",
            "           1       0.74      0.92      0.82      1951\n",
            "           2       0.00      0.00      0.00        11\n",
            "           3       0.00      0.00      0.00         8\n",
            "           4       0.99      0.98      0.99       539\n",
            "           5       0.61      0.70      0.66        61\n",
            "           6       1.00      1.00      1.00     12879\n",
            "           7       1.00      1.00      1.00       816\n",
            "           8       1.00      1.00      1.00      7396\n",
            "           9       1.00      1.00      1.00      7230\n",
            "          10       1.00      0.99      1.00      7309\n",
            "          11       0.72      0.45      0.55        47\n",
            "          12       1.00      1.00      1.00      6251\n",
            "          13       0.99      1.00      1.00      8058\n",
            "          14       1.00      1.00      1.00      9797\n",
            "          15       0.95      0.99      0.97       511\n",
            "          16       0.53      0.37      0.43       316\n",
            "          17       0.00      0.00      0.00        19\n",
            "          18       0.90      0.88      0.89       139\n",
            "          19       0.96      0.99      0.98      3562\n",
            "          20       1.00      0.97      0.99      4823\n",
            "          21       1.00      1.00      1.00      5859\n",
            "          22       0.64      0.58      0.61       569\n",
            "          23       0.99      0.98      0.99      1729\n",
            "          24       0.98      0.99      0.99      1332\n",
            "          25       0.99      0.99      0.99      1618\n",
            "          26       0.61      0.48      0.54       249\n",
            "          27       0.58      0.07      0.12       204\n",
            "          28       0.00      0.00      0.00         1\n",
            "          29       0.56      0.50      0.53       140\n",
            "          30       0.00      0.00      0.00        13\n",
            "          31       0.00      0.00      0.00         3\n",
            "          32       0.86      0.82      0.84        90\n",
            "          33       0.00      0.00      0.00         7\n",
            "\n",
            "    accuracy                           0.98     83541\n",
            "   macro avg       0.67      0.64      0.64     83541\n",
            "weighted avg       0.98      0.98      0.98     83541\n",
            "\n",
            "Confusion Matrix:\n",
            " [[   0    0    0 ...    0    0    0]\n",
            " [   0 1795    0 ...    0    0    0]\n",
            " [   0    4    0 ...    0    0    0]\n",
            " ...\n",
            " [   0    2    0 ...    0    0    0]\n",
            " [   0    0    0 ...    0   74    0]\n",
            " [   0    5    0 ...    0    0    0]]\n"
          ]
        },
        {
          "output_type": "stream",
          "name": "stderr",
          "text": [
            "/usr/local/lib/python3.11/dist-packages/sklearn/metrics/_classification.py:1565: UndefinedMetricWarning: Precision is ill-defined and being set to 0.0 in labels with no predicted samples. Use `zero_division` parameter to control this behavior.\n",
            "  _warn_prf(average, modifier, f\"{metric.capitalize()} is\", len(result))\n",
            "/usr/local/lib/python3.11/dist-packages/sklearn/metrics/_classification.py:1565: UndefinedMetricWarning: Precision is ill-defined and being set to 0.0 in labels with no predicted samples. Use `zero_division` parameter to control this behavior.\n",
            "  _warn_prf(average, modifier, f\"{metric.capitalize()} is\", len(result))\n",
            "/usr/local/lib/python3.11/dist-packages/sklearn/metrics/_classification.py:1565: UndefinedMetricWarning: Precision is ill-defined and being set to 0.0 in labels with no predicted samples. Use `zero_division` parameter to control this behavior.\n",
            "  _warn_prf(average, modifier, f\"{metric.capitalize()} is\", len(result))\n",
            "/usr/local/lib/python3.11/dist-packages/sklearn/metrics/_classification.py:1565: UndefinedMetricWarning: Precision is ill-defined and being set to 0.0 in labels with no predicted samples. Use `zero_division` parameter to control this behavior.\n",
            "  _warn_prf(average, modifier, f\"{metric.capitalize()} is\", len(result))\n"
          ]
        }
      ],
      "source": [
        "from sklearn.metrics import precision_score, recall_score, f1_score, confusion_matrix\n",
        "\n",
        "# Step 6: Train-Test Split\n",
        "X_train, X_test, y_train, y_test = train_test_split(X_selected, y, test_size=0.35, random_state=42)\n",
        "\n",
        "# Step 7: Train XGBoost Classifier\n",
        "xgb_model = XGBClassifier(eval_metric='mlogloss', random_state=42)\n",
        "xgb_model.fit(X_train, y_train)\n",
        "\n",
        "# Step 8: Evaluate the model\n",
        "y_pred = xgb_model.predict(X_test)\n",
        "\n",
        "# Metrics\n",
        "accuracy = accuracy_score(y_test, y_pred)\n",
        "precision = precision_score(y_test, y_pred, average='weighted')\n",
        "recall = recall_score(y_test, y_pred, average='weighted')\n",
        "f1 = f1_score(y_test, y_pred, average='weighted')\n",
        "\n",
        "# Print metrics\n",
        "print(\"Accuracy:\", accuracy)\n",
        "print(\"Precision:\", precision)\n",
        "print(\"Recall:\", recall)\n",
        "print(\"F1 Score:\", f1)\n",
        "print(\"Classification Report:\\n\", classification_report(y_test, y_pred))\n",
        "\n",
        "# Confusion Matrix\n",
        "conf_matrix = confusion_matrix(y_test, y_pred)\n",
        "print(\"Confusion Matrix:\\n\", conf_matrix)"
      ]
    },
    {
      "cell_type": "markdown",
      "metadata": {
        "id": "fi-TguUdxU1K"
      },
      "source": [
        "# 10 features"
      ]
    },
    {
      "cell_type": "code",
      "execution_count": null,
      "metadata": {
        "colab": {
          "base_uri": "https://localhost:8080/"
        },
        "collapsed": true,
        "id": "tYR8_PpPxU1L",
        "outputId": "d1027925-b350-47b0-b47d-c9693beec06f"
      },
      "outputs": [
        {
          "output_type": "stream",
          "name": "stdout",
          "text": [
            "            Feature     Score\n",
            "39              IAT  2.601669\n",
            "38         Tot size  1.338297\n",
            "1     Header_Length  1.327945\n",
            "41         Magnitue  1.318590\n",
            "36              AVG  1.312474\n",
            "33          Tot sum  1.305038\n",
            "34              Min  1.296882\n",
            "35              Max  1.271419\n",
            "2     Protocol Type  1.161066\n",
            "26              TCP  0.657788\n",
            "15        syn_count  0.646165\n",
            "0     flow_duration  0.637556\n",
            "4              Rate  0.632753\n",
            "5             Srate  0.632408\n",
            "18        rst_count  0.507936\n",
            "8   syn_flag_number  0.498120\n",
            "27              UDP  0.494075\n",
            "17        urg_count  0.461779\n",
            "30             ICMP  0.444127\n",
            "37              Std  0.383823\n",
            "43       Covariance  0.379916\n",
            "42           Radius  0.378057\n",
            "16        fin_count  0.350504\n",
            "14        ack_count  0.332451\n",
            "11  ack_flag_number  0.326396\n",
            "7   fin_flag_number  0.295364\n",
            "44         Variance  0.295290\n",
            "10  psh_flag_number  0.286201\n",
            "9   rst_flag_number  0.284471\n",
            "3          Duration  0.207787\n",
            "40           Number  0.177851\n",
            "45           Weight  0.174944\n",
            "20            HTTPS  0.069740\n",
            "19             HTTP  0.031640\n",
            "32              LLC  0.004111\n",
            "31              IPv  0.003743\n",
            "23             SMTP  0.001950\n",
            "28             DHCP  0.001366\n",
            "25              IRC  0.001280\n",
            "22           Telnet  0.000744\n",
            "24              SSH  0.000688\n",
            "29              ARP  0.000000\n",
            "21              DNS  0.000000\n",
            "13  cwr_flag_number  0.000000\n",
            "12  ece_flag_number  0.000000\n",
            "6             Drate  0.000000\n",
            "skb_selected_feature_names =  Index(['Header_Length', 'AVG', 'Tot size', 'IAT', 'Magnitue'], dtype='object')\n"
          ]
        }
      ],
      "source": [
        "skb_selector = SelectKBest(score_func=mutual_info_classif, k=5)\n",
        "skb_selector.fit_transform(X, y)\n",
        "\n",
        "# printing the scores\n",
        "skb_feature_scores = pd.DataFrame({'Feature': X.columns, 'Score': skb_selector.scores_})\n",
        "skb_feature_scores = skb_feature_scores.sort_values(by='Score', ascending=False)  # Sort by importance\n",
        "print(skb_feature_scores)\n",
        "\n",
        "# Get the selected feature names\n",
        "skb_selected_feature_names = X.columns[skb_selector.get_support()]\n",
        "print('skb_selected_feature_names = ', skb_selected_feature_names)"
      ]
    },
    {
      "cell_type": "code",
      "execution_count": null,
      "metadata": {
        "collapsed": true,
        "id": "seIkEtFBxU1M",
        "colab": {
          "base_uri": "https://localhost:8080/"
        },
        "outputId": "91803e56-31d7-4b68-861f-b0320d7998ba"
      },
      "outputs": [
        {
          "output_type": "stream",
          "name": "stdout",
          "text": [
            "            Feature  Score\n",
            "30             ICMP      1\n",
            "10  psh_flag_number      1\n",
            "8   syn_flag_number      1\n",
            "39              IAT      1\n",
            "7   fin_flag_number      1\n",
            "27              UDP      2\n",
            "34              Min      3\n",
            "45           Weight      4\n",
            "9   rst_flag_number      5\n",
            "2     Protocol Type      6\n",
            "4              Rate      7\n",
            "18        rst_count      8\n",
            "40           Number      9\n",
            "20            HTTPS     10\n",
            "16        fin_count     11\n",
            "24              SSH     12\n",
            "19             HTTP     13\n",
            "33          Tot sum     14\n",
            "44         Variance     15\n",
            "11  ack_flag_number     16\n",
            "1     Header_Length     17\n",
            "38         Tot size     18\n",
            "15        syn_count     19\n",
            "17        urg_count     20\n",
            "14        ack_count     21\n",
            "0     flow_duration     22\n",
            "35              Max     23\n",
            "43       Covariance     24\n",
            "36              AVG     25\n",
            "41         Magnitue     26\n",
            "26              TCP     27\n",
            "42           Radius     28\n",
            "29              ARP     29\n",
            "3          Duration     30\n",
            "37              Std     31\n",
            "31              IPv     32\n",
            "21              DNS     33\n",
            "28             DHCP     34\n",
            "32              LLC     35\n",
            "6             Drate     36\n",
            "5             Srate     37\n",
            "12  ece_flag_number     38\n",
            "13  cwr_flag_number     39\n",
            "25              IRC     40\n",
            "23             SMTP     41\n",
            "22           Telnet     42\n",
            "rfe_selected_feature_names =  Index(['fin_flag_number', 'syn_flag_number', 'psh_flag_number', 'ICMP', 'IAT'], dtype='object')\n"
          ]
        }
      ],
      "source": [
        "rfe_selector = RFE(estimator=XGBClassifier(eval_metric='mlogloss'), n_features_to_select=5)\n",
        "rfe_selector.fit_transform(X, y)\n",
        "\n",
        "# printing the ranks\n",
        "rfe_feature_scores = pd.DataFrame({'Feature': X.columns, 'Score': rfe_selector.ranking_})\n",
        "rfe_feature_scores = rfe_feature_scores.sort_values(by='Score', ascending=True)  # Sort by importance (ascending)\n",
        "print(rfe_feature_scores)\n",
        "\n",
        "# Get the selected feature names\n",
        "rfe_selected_feature_names = X.columns[rfe_selector.get_support()]\n",
        "print('rfe_selected_feature_names = ', rfe_selected_feature_names)"
      ]
    },
    {
      "cell_type": "code",
      "execution_count": null,
      "metadata": {
        "id": "fKpbLyTaxU1M",
        "colab": {
          "base_uri": "https://localhost:8080/"
        },
        "outputId": "b1acc1ff-956f-4076-cfce-1f98ac0aa845"
      },
      "outputs": [
        {
          "output_type": "stream",
          "name": "stdout",
          "text": [
            "top_features_combined =  ['AVG', 'psh_flag_number', 'Header_Length', 'Magnitue', 'IAT', 'Tot size', 'fin_flag_number', 'syn_flag_number', 'ICMP']\n"
          ]
        }
      ],
      "source": [
        "top_features_combined = list(set(skb_selected_feature_names) | set(rfe_selected_feature_names))\n",
        "print('top_features_combined = ', top_features_combined)"
      ]
    },
    {
      "cell_type": "code",
      "execution_count": null,
      "metadata": {
        "id": "hp1ypsA5xU1M",
        "colab": {
          "base_uri": "https://localhost:8080/"
        },
        "outputId": "b4873319-0efa-4b49-8663-d37fd73703d3"
      },
      "outputs": [
        {
          "output_type": "stream",
          "name": "stdout",
          "text": [
            "selected feature:  UDP\n",
            "Extra features from RFE: ['UDP']\n",
            "top_features_combined =  ['AVG', 'psh_flag_number', 'Header_Length', 'Magnitue', 'IAT', 'Tot size', 'fin_flag_number', 'syn_flag_number', 'ICMP', 'UDP']\n"
          ]
        }
      ],
      "source": [
        "no_of_redundent_features = 10-(len(top_features_combined))\n",
        "\n",
        "# Find the next 3 best-ranked features NOT in SelectKBest\n",
        "extra_features_from_rfe = []\n",
        "\n",
        "for feature in rfe_feature_scores['Feature']:\n",
        "    if feature not in top_features_combined:\n",
        "        print(\"selected feature: \", feature)\n",
        "        extra_features_from_rfe.append(feature)\n",
        "    if len(extra_features_from_rfe) == no_of_redundent_features:\n",
        "        break\n",
        "\n",
        "print(\"Extra features from RFE:\", extra_features_from_rfe)\n",
        "\n",
        "top_features_combined.extend(extra_features_from_rfe)\n",
        "print('top_features_combined = ', top_features_combined)\n",
        "\n",
        "X_selected = X[top_features_combined]"
      ]
    },
    {
      "cell_type": "code",
      "execution_count": null,
      "metadata": {
        "id": "uYyOV0iqxU1M",
        "colab": {
          "base_uri": "https://localhost:8080/"
        },
        "outputId": "3b096557-bc3e-4291-fa03-f8e837e7ef18"
      },
      "outputs": [
        {
          "output_type": "stream",
          "name": "stdout",
          "text": [
            "Accuracy: 0.9872996492740092\n",
            "Precision: 0.9860600939656112\n",
            "Recall: 0.9872996492740092\n",
            "F1 Score: 0.9863875929987911\n",
            "Classification Report:\n",
            "               precision    recall  f1-score   support\n",
            "\n",
            "           0       0.00      0.00      0.00         4\n",
            "           1       0.79      0.91      0.85      1951\n",
            "           2       0.00      0.00      0.00        11\n",
            "           3       0.00      0.00      0.00         8\n",
            "           4       1.00      1.00      1.00       539\n",
            "           5       0.78      0.85      0.81        61\n",
            "           6       1.00      1.00      1.00     12879\n",
            "           7       1.00      1.00      1.00       816\n",
            "           8       1.00      1.00      1.00      7396\n",
            "           9       1.00      1.00      1.00      7230\n",
            "          10       1.00      1.00      1.00      7309\n",
            "          11       0.83      0.74      0.79        47\n",
            "          12       1.00      1.00      1.00      6251\n",
            "          13       1.00      1.00      1.00      8058\n",
            "          14       1.00      1.00      1.00      9797\n",
            "          15       0.99      0.99      0.99       511\n",
            "          16       0.56      0.47      0.51       316\n",
            "          17       0.00      0.00      0.00        19\n",
            "          18       0.94      0.98      0.96       139\n",
            "          19       1.00      0.99      1.00      3562\n",
            "          20       1.00      1.00      1.00      4823\n",
            "          21       1.00      1.00      1.00      5859\n",
            "          22       0.66      0.65      0.65       569\n",
            "          23       0.99      1.00      1.00      1729\n",
            "          24       1.00      0.99      0.99      1332\n",
            "          25       1.00      1.00      1.00      1618\n",
            "          26       0.64      0.60      0.62       249\n",
            "          27       0.39      0.11      0.17       204\n",
            "          28       0.00      0.00      0.00         1\n",
            "          29       0.61      0.58      0.59       140\n",
            "          30       0.00      0.00      0.00        13\n",
            "          31       0.00      0.00      0.00         3\n",
            "          32       0.94      0.92      0.93        90\n",
            "          33       0.00      0.00      0.00         7\n",
            "\n",
            "    accuracy                           0.99     83541\n",
            "   macro avg       0.68      0.67      0.67     83541\n",
            "weighted avg       0.99      0.99      0.99     83541\n",
            "\n",
            "Confusion Matrix:\n",
            " [[   0    0    0 ...    0    0    0]\n",
            " [   0 1770    0 ...    0    0    1]\n",
            " [   0    1    0 ...    0    0    0]\n",
            " ...\n",
            " [   0    0    0 ...    0    0    0]\n",
            " [   0    0    0 ...    0   83    0]\n",
            " [   0    3    0 ...    0    0    0]]\n"
          ]
        },
        {
          "output_type": "stream",
          "name": "stderr",
          "text": [
            "/usr/local/lib/python3.11/dist-packages/sklearn/metrics/_classification.py:1565: UndefinedMetricWarning: Precision is ill-defined and being set to 0.0 in labels with no predicted samples. Use `zero_division` parameter to control this behavior.\n",
            "  _warn_prf(average, modifier, f\"{metric.capitalize()} is\", len(result))\n",
            "/usr/local/lib/python3.11/dist-packages/sklearn/metrics/_classification.py:1565: UndefinedMetricWarning: Precision is ill-defined and being set to 0.0 in labels with no predicted samples. Use `zero_division` parameter to control this behavior.\n",
            "  _warn_prf(average, modifier, f\"{metric.capitalize()} is\", len(result))\n",
            "/usr/local/lib/python3.11/dist-packages/sklearn/metrics/_classification.py:1565: UndefinedMetricWarning: Precision is ill-defined and being set to 0.0 in labels with no predicted samples. Use `zero_division` parameter to control this behavior.\n",
            "  _warn_prf(average, modifier, f\"{metric.capitalize()} is\", len(result))\n",
            "/usr/local/lib/python3.11/dist-packages/sklearn/metrics/_classification.py:1565: UndefinedMetricWarning: Precision is ill-defined and being set to 0.0 in labels with no predicted samples. Use `zero_division` parameter to control this behavior.\n",
            "  _warn_prf(average, modifier, f\"{metric.capitalize()} is\", len(result))\n"
          ]
        }
      ],
      "source": [
        "from sklearn.metrics import precision_score, recall_score, f1_score, confusion_matrix\n",
        "\n",
        "# Step 6: Train-Test Split\n",
        "X_train, X_test, y_train, y_test = train_test_split(X_selected, y, test_size=0.35, random_state=42)\n",
        "\n",
        "# Step 7: Train XGBoost Classifier\n",
        "xgb_model = XGBClassifier(eval_metric='mlogloss', random_state=42)\n",
        "xgb_model.fit(X_train, y_train)\n",
        "\n",
        "# Step 8: Evaluate the model\n",
        "y_pred = xgb_model.predict(X_test)\n",
        "\n",
        "# Metrics\n",
        "accuracy = accuracy_score(y_test, y_pred)\n",
        "precision = precision_score(y_test, y_pred, average='weighted')\n",
        "recall = recall_score(y_test, y_pred, average='weighted')\n",
        "f1 = f1_score(y_test, y_pred, average='weighted')\n",
        "\n",
        "# Print metrics\n",
        "print(\"Accuracy:\", accuracy)\n",
        "print(\"Precision:\", precision)\n",
        "print(\"Recall:\", recall)\n",
        "print(\"F1 Score:\", f1)\n",
        "print(\"Classification Report:\\n\", classification_report(y_test, y_pred))\n",
        "\n",
        "# Confusion Matrix\n",
        "conf_matrix = confusion_matrix(y_test, y_pred)\n",
        "print(\"Confusion Matrix:\\n\", conf_matrix)"
      ]
    },
    {
      "cell_type": "markdown",
      "metadata": {
        "id": "1sATaUQExkxi"
      },
      "source": [
        "# 15 features"
      ]
    },
    {
      "cell_type": "code",
      "execution_count": null,
      "metadata": {
        "collapsed": true,
        "id": "Yb5_TdPzxkxj",
        "colab": {
          "base_uri": "https://localhost:8080/"
        },
        "outputId": "d633bdbd-dfa9-4b99-bab5-58015f5775dd"
      },
      "outputs": [
        {
          "output_type": "stream",
          "name": "stdout",
          "text": [
            "            Feature     Score\n",
            "39              IAT  2.601410\n",
            "38         Tot size  1.338830\n",
            "1     Header_Length  1.327250\n",
            "41         Magnitue  1.315900\n",
            "36              AVG  1.313518\n",
            "33          Tot sum  1.306942\n",
            "34              Min  1.297045\n",
            "35              Max  1.270041\n",
            "2     Protocol Type  1.162497\n",
            "26              TCP  0.657042\n",
            "15        syn_count  0.648497\n",
            "0     flow_duration  0.634860\n",
            "5             Srate  0.632531\n",
            "4              Rate  0.632317\n",
            "18        rst_count  0.506954\n",
            "27              UDP  0.496407\n",
            "8   syn_flag_number  0.496167\n",
            "17        urg_count  0.460945\n",
            "30             ICMP  0.445222\n",
            "37              Std  0.383741\n",
            "42           Radius  0.382481\n",
            "43       Covariance  0.379983\n",
            "16        fin_count  0.349797\n",
            "14        ack_count  0.331705\n",
            "11  ack_flag_number  0.325948\n",
            "44         Variance  0.298982\n",
            "7   fin_flag_number  0.296520\n",
            "10  psh_flag_number  0.287234\n",
            "9   rst_flag_number  0.285494\n",
            "3          Duration  0.207286\n",
            "40           Number  0.180050\n",
            "45           Weight  0.175908\n",
            "20            HTTPS  0.068658\n",
            "19             HTTP  0.034282\n",
            "31              IPv  0.005859\n",
            "32              LLC  0.005541\n",
            "21              DNS  0.001305\n",
            "28             DHCP  0.000733\n",
            "12  ece_flag_number  0.000482\n",
            "29              ARP  0.000000\n",
            "25              IRC  0.000000\n",
            "24              SSH  0.000000\n",
            "22           Telnet  0.000000\n",
            "13  cwr_flag_number  0.000000\n",
            "6             Drate  0.000000\n",
            "23             SMTP  0.000000\n",
            "skb_selected_feature_names =  Index(['Header_Length', 'Tot sum', 'Min', 'AVG', 'Tot size', 'IAT',\n",
            "       'Magnitue'],\n",
            "      dtype='object')\n"
          ]
        }
      ],
      "source": [
        "skb_selector = SelectKBest(score_func=mutual_info_classif, k=7)\n",
        "skb_selector.fit_transform(X, y)\n",
        "\n",
        "# printing the scores\n",
        "skb_feature_scores = pd.DataFrame({'Feature': X.columns, 'Score': skb_selector.scores_})\n",
        "skb_feature_scores = skb_feature_scores.sort_values(by='Score', ascending=False)  # Sort by importance\n",
        "print(skb_feature_scores)\n",
        "\n",
        "# Get the selected feature names\n",
        "skb_selected_feature_names = X.columns[skb_selector.get_support()]\n",
        "print('skb_selected_feature_names = ', skb_selected_feature_names)"
      ]
    },
    {
      "cell_type": "code",
      "execution_count": null,
      "metadata": {
        "collapsed": true,
        "id": "lBMdIui2xkxj",
        "colab": {
          "base_uri": "https://localhost:8080/"
        },
        "outputId": "9e232cad-a11e-47f2-df6a-3df62fe314a4"
      },
      "outputs": [
        {
          "output_type": "stream",
          "name": "stdout",
          "text": [
            "            Feature  Score\n",
            "45           Weight      1\n",
            "30             ICMP      1\n",
            "27              UDP      1\n",
            "10  psh_flag_number      1\n",
            "8   syn_flag_number      1\n",
            "7   fin_flag_number      1\n",
            "34              Min      1\n",
            "39              IAT      1\n",
            "9   rst_flag_number      2\n",
            "2     Protocol Type      3\n",
            "4              Rate      4\n",
            "18        rst_count      5\n",
            "40           Number      6\n",
            "20            HTTPS      7\n",
            "16        fin_count      8\n",
            "24              SSH      9\n",
            "19             HTTP     10\n",
            "33          Tot sum     11\n",
            "44         Variance     12\n",
            "11  ack_flag_number     13\n",
            "1     Header_Length     14\n",
            "38         Tot size     15\n",
            "15        syn_count     16\n",
            "17        urg_count     17\n",
            "14        ack_count     18\n",
            "0     flow_duration     19\n",
            "35              Max     20\n",
            "43       Covariance     21\n",
            "36              AVG     22\n",
            "41         Magnitue     23\n",
            "26              TCP     24\n",
            "42           Radius     25\n",
            "29              ARP     26\n",
            "3          Duration     27\n",
            "37              Std     28\n",
            "31              IPv     29\n",
            "21              DNS     30\n",
            "28             DHCP     31\n",
            "32              LLC     32\n",
            "6             Drate     33\n",
            "5             Srate     34\n",
            "12  ece_flag_number     35\n",
            "13  cwr_flag_number     36\n",
            "25              IRC     37\n",
            "23             SMTP     38\n",
            "22           Telnet     39\n",
            "rfe_selected_feature_names =  Index(['fin_flag_number', 'syn_flag_number', 'psh_flag_number', 'UDP', 'ICMP',\n",
            "       'Min', 'IAT', 'Weight'],\n",
            "      dtype='object')\n"
          ]
        }
      ],
      "source": [
        "rfe_selector = RFE(estimator=XGBClassifier(eval_metric='mlogloss'), n_features_to_select=8)\n",
        "rfe_selector.fit_transform(X, y)\n",
        "\n",
        "# printing the ranks\n",
        "rfe_feature_scores = pd.DataFrame({'Feature': X.columns, 'Score': rfe_selector.ranking_})\n",
        "rfe_feature_scores = rfe_feature_scores.sort_values(by='Score', ascending=True)  # Sort by importance (ascending)\n",
        "print(rfe_feature_scores)\n",
        "\n",
        "# Get the selected feature names\n",
        "rfe_selected_feature_names = X.columns[rfe_selector.get_support()]\n",
        "print('rfe_selected_feature_names = ', rfe_selected_feature_names)"
      ]
    },
    {
      "cell_type": "code",
      "execution_count": null,
      "metadata": {
        "id": "x2rDhy1rxkxk",
        "colab": {
          "base_uri": "https://localhost:8080/"
        },
        "outputId": "ba6f5d80-5afa-422e-b988-5e5e6e23d15f"
      },
      "outputs": [
        {
          "output_type": "stream",
          "name": "stdout",
          "text": [
            "top_features_combined =  ['AVG', 'Weight', 'Tot sum', 'psh_flag_number', 'Header_Length', 'UDP', 'Magnitue', 'IAT', 'Tot size', 'Min', 'fin_flag_number', 'syn_flag_number', 'ICMP']\n"
          ]
        }
      ],
      "source": [
        "top_features_combined = list(set(skb_selected_feature_names) | set(rfe_selected_feature_names))\n",
        "print('top_features_combined = ', top_features_combined)"
      ]
    },
    {
      "cell_type": "code",
      "execution_count": null,
      "metadata": {
        "id": "jCMPiJOPxkxk",
        "colab": {
          "base_uri": "https://localhost:8080/"
        },
        "outputId": "2bd4898f-a769-426f-ff2e-aa0d574d6047"
      },
      "outputs": [
        {
          "output_type": "stream",
          "name": "stdout",
          "text": [
            "selected feature:  rst_flag_number\n",
            "selected feature:  Protocol Type\n",
            "Extra features from RFE: ['rst_flag_number', 'Protocol Type']\n",
            "top_features_combined =  ['AVG', 'Weight', 'Tot sum', 'psh_flag_number', 'Header_Length', 'UDP', 'Magnitue', 'IAT', 'Tot size', 'Min', 'fin_flag_number', 'syn_flag_number', 'ICMP', 'rst_flag_number', 'Protocol Type']\n"
          ]
        }
      ],
      "source": [
        "no_of_redundent_features = 15-(len(top_features_combined))\n",
        "\n",
        "# Find the next 3 best-ranked features NOT in SelectKBest\n",
        "extra_features_from_rfe = []\n",
        "\n",
        "for feature in rfe_feature_scores['Feature']:\n",
        "    if feature not in top_features_combined:\n",
        "        print(\"selected feature: \", feature)\n",
        "        extra_features_from_rfe.append(feature)\n",
        "    if len(extra_features_from_rfe) == no_of_redundent_features:\n",
        "        break\n",
        "\n",
        "print(\"Extra features from RFE:\", extra_features_from_rfe)\n",
        "\n",
        "top_features_combined.extend(extra_features_from_rfe)\n",
        "print('top_features_combined = ', top_features_combined)\n",
        "\n",
        "X_selected = X[top_features_combined]"
      ]
    },
    {
      "cell_type": "code",
      "execution_count": null,
      "metadata": {
        "id": "5bahUnk3xkxk",
        "colab": {
          "base_uri": "https://localhost:8080/"
        },
        "outputId": "5335fd7c-7383-4982-f171-9fcd9d06144d"
      },
      "outputs": [
        {
          "output_type": "stream",
          "name": "stdout",
          "text": [
            "Accuracy: 0.9884368154558839\n",
            "Precision: 0.9872215504479657\n",
            "Recall: 0.9884368154558839\n",
            "F1 Score: 0.9874526296239975\n",
            "Classification Report:\n",
            "               precision    recall  f1-score   support\n",
            "\n",
            "           0       0.00      0.00      0.00         4\n",
            "           1       0.80      0.92      0.86      1951\n",
            "           2       0.00      0.00      0.00        11\n",
            "           3       0.00      0.00      0.00         8\n",
            "           4       1.00      1.00      1.00       539\n",
            "           5       0.83      0.89      0.86        61\n",
            "           6       1.00      1.00      1.00     12879\n",
            "           7       1.00      1.00      1.00       816\n",
            "           8       1.00      1.00      1.00      7396\n",
            "           9       1.00      1.00      1.00      7230\n",
            "          10       1.00      1.00      1.00      7309\n",
            "          11       0.86      0.81      0.84        47\n",
            "          12       1.00      1.00      1.00      6251\n",
            "          13       1.00      1.00      1.00      8058\n",
            "          14       1.00      1.00      1.00      9797\n",
            "          15       0.99      1.00      0.99       511\n",
            "          16       0.59      0.48      0.53       316\n",
            "          17       0.17      0.05      0.08        19\n",
            "          18       0.99      0.99      0.99       139\n",
            "          19       1.00      1.00      1.00      3562\n",
            "          20       1.00      1.00      1.00      4823\n",
            "          21       1.00      1.00      1.00      5859\n",
            "          22       0.70      0.66      0.68       569\n",
            "          23       0.99      1.00      1.00      1729\n",
            "          24       1.00      0.99      1.00      1332\n",
            "          25       1.00      1.00      1.00      1618\n",
            "          26       0.66      0.65      0.65       249\n",
            "          27       0.45      0.12      0.19       204\n",
            "          28       0.00      0.00      0.00         1\n",
            "          29       0.60      0.59      0.59       140\n",
            "          30       0.00      0.00      0.00        13\n",
            "          31       0.00      0.00      0.00         3\n",
            "          32       0.99      0.94      0.97        90\n",
            "          33       0.00      0.00      0.00         7\n",
            "\n",
            "    accuracy                           0.99     83541\n",
            "   macro avg       0.69      0.68      0.68     83541\n",
            "weighted avg       0.99      0.99      0.99     83541\n",
            "\n",
            "Confusion Matrix:\n",
            " [[   0    0    0 ...    0    0    0]\n",
            " [   0 1799    0 ...    0    0    1]\n",
            " [   0    2    0 ...    0    0    0]\n",
            " ...\n",
            " [   0    1    0 ...    0    0    0]\n",
            " [   0    0    0 ...    0   85    0]\n",
            " [   0    3    0 ...    0    0    0]]\n"
          ]
        },
        {
          "output_type": "stream",
          "name": "stderr",
          "text": [
            "/usr/local/lib/python3.11/dist-packages/sklearn/metrics/_classification.py:1565: UndefinedMetricWarning: Precision is ill-defined and being set to 0.0 in labels with no predicted samples. Use `zero_division` parameter to control this behavior.\n",
            "  _warn_prf(average, modifier, f\"{metric.capitalize()} is\", len(result))\n",
            "/usr/local/lib/python3.11/dist-packages/sklearn/metrics/_classification.py:1565: UndefinedMetricWarning: Precision is ill-defined and being set to 0.0 in labels with no predicted samples. Use `zero_division` parameter to control this behavior.\n",
            "  _warn_prf(average, modifier, f\"{metric.capitalize()} is\", len(result))\n",
            "/usr/local/lib/python3.11/dist-packages/sklearn/metrics/_classification.py:1565: UndefinedMetricWarning: Precision is ill-defined and being set to 0.0 in labels with no predicted samples. Use `zero_division` parameter to control this behavior.\n",
            "  _warn_prf(average, modifier, f\"{metric.capitalize()} is\", len(result))\n",
            "/usr/local/lib/python3.11/dist-packages/sklearn/metrics/_classification.py:1565: UndefinedMetricWarning: Precision is ill-defined and being set to 0.0 in labels with no predicted samples. Use `zero_division` parameter to control this behavior.\n",
            "  _warn_prf(average, modifier, f\"{metric.capitalize()} is\", len(result))\n"
          ]
        }
      ],
      "source": [
        "from sklearn.metrics import precision_score, recall_score, f1_score, confusion_matrix\n",
        "\n",
        "# Step 6: Train-Test Split\n",
        "X_train, X_test, y_train, y_test = train_test_split(X_selected, y, test_size=0.35, random_state=42)\n",
        "\n",
        "# Step 7: Train XGBoost Classifier\n",
        "xgb_model = XGBClassifier(eval_metric='mlogloss', random_state=42)\n",
        "xgb_model.fit(X_train, y_train)\n",
        "\n",
        "# Step 8: Evaluate the model\n",
        "y_pred = xgb_model.predict(X_test)\n",
        "\n",
        "# Metrics\n",
        "accuracy = accuracy_score(y_test, y_pred)\n",
        "precision = precision_score(y_test, y_pred, average='weighted')\n",
        "recall = recall_score(y_test, y_pred, average='weighted')\n",
        "f1 = f1_score(y_test, y_pred, average='weighted')\n",
        "\n",
        "# Print metrics\n",
        "print(\"Accuracy:\", accuracy)\n",
        "print(\"Precision:\", precision)\n",
        "print(\"Recall:\", recall)\n",
        "print(\"F1 Score:\", f1)\n",
        "print(\"Classification Report:\\n\", classification_report(y_test, y_pred))\n",
        "\n",
        "# Confusion Matrix\n",
        "conf_matrix = confusion_matrix(y_test, y_pred)\n",
        "print(\"Confusion Matrix:\\n\", conf_matrix)"
      ]
    },
    {
      "cell_type": "markdown",
      "metadata": {
        "id": "J65_H7c4xs5q"
      },
      "source": [
        "# 20 features"
      ]
    },
    {
      "cell_type": "code",
      "execution_count": null,
      "metadata": {
        "collapsed": true,
        "id": "EwjkVjXBxs5q",
        "colab": {
          "base_uri": "https://localhost:8080/"
        },
        "outputId": "306bdfbc-a3f4-44fa-96b9-6b40bc3d5b84"
      },
      "outputs": [
        {
          "output_type": "stream",
          "name": "stdout",
          "text": [
            "            Feature     Score\n",
            "39              IAT  2.601516\n",
            "38         Tot size  1.338850\n",
            "1     Header_Length  1.326070\n",
            "41         Magnitue  1.318450\n",
            "36              AVG  1.315383\n",
            "33          Tot sum  1.303433\n",
            "34              Min  1.296095\n",
            "35              Max  1.275103\n",
            "2     Protocol Type  1.162732\n",
            "26              TCP  0.656486\n",
            "15        syn_count  0.648404\n",
            "0     flow_duration  0.635293\n",
            "5             Srate  0.632808\n",
            "4              Rate  0.632420\n",
            "18        rst_count  0.511767\n",
            "8   syn_flag_number  0.497604\n",
            "27              UDP  0.494290\n",
            "17        urg_count  0.461282\n",
            "30             ICMP  0.442946\n",
            "37              Std  0.382819\n",
            "43       Covariance  0.381570\n",
            "42           Radius  0.381349\n",
            "16        fin_count  0.350787\n",
            "14        ack_count  0.333453\n",
            "11  ack_flag_number  0.323853\n",
            "44         Variance  0.297885\n",
            "7   fin_flag_number  0.293281\n",
            "10  psh_flag_number  0.287816\n",
            "9   rst_flag_number  0.286176\n",
            "3          Duration  0.212210\n",
            "40           Number  0.177980\n",
            "45           Weight  0.176595\n",
            "20            HTTPS  0.068680\n",
            "19             HTTP  0.028803\n",
            "32              LLC  0.004704\n",
            "31              IPv  0.003932\n",
            "23             SMTP  0.002948\n",
            "29              ARP  0.001573\n",
            "22           Telnet  0.001348\n",
            "25              IRC  0.000446\n",
            "28             DHCP  0.000000\n",
            "24              SSH  0.000000\n",
            "21              DNS  0.000000\n",
            "13  cwr_flag_number  0.000000\n",
            "12  ece_flag_number  0.000000\n",
            "6             Drate  0.000000\n",
            "skb_selected_feature_names =  Index(['Header_Length', 'Protocol Type', 'TCP', 'Tot sum', 'Min', 'Max', 'AVG',\n",
            "       'Tot size', 'IAT', 'Magnitue'],\n",
            "      dtype='object')\n"
          ]
        }
      ],
      "source": [
        "skb_selector = SelectKBest(score_func=mutual_info_classif, k=10)\n",
        "skb_selector.fit_transform(X, y)\n",
        "\n",
        "# printing the scores\n",
        "skb_feature_scores = pd.DataFrame({'Feature': X.columns, 'Score': skb_selector.scores_})\n",
        "skb_feature_scores = skb_feature_scores.sort_values(by='Score', ascending=False)  # Sort by importance\n",
        "print(skb_feature_scores)\n",
        "\n",
        "# Get the selected feature names\n",
        "skb_selected_feature_names = X.columns[skb_selector.get_support()]\n",
        "print('skb_selected_feature_names = ', skb_selected_feature_names)"
      ]
    },
    {
      "cell_type": "code",
      "execution_count": null,
      "metadata": {
        "id": "nxsyWxs4xs5r",
        "collapsed": true,
        "colab": {
          "base_uri": "https://localhost:8080/"
        },
        "outputId": "8013408b-42c1-432f-d59a-b1255b0be67f"
      },
      "outputs": [
        {
          "output_type": "stream",
          "name": "stdout",
          "text": [
            "            Feature  Score\n",
            "45           Weight      1\n",
            "30             ICMP      1\n",
            "27              UDP      1\n",
            "10  psh_flag_number      1\n",
            "9   rst_flag_number      1\n",
            "8   syn_flag_number      1\n",
            "7   fin_flag_number      1\n",
            "34              Min      1\n",
            "39              IAT      1\n",
            "2     Protocol Type      1\n",
            "4              Rate      2\n",
            "18        rst_count      3\n",
            "40           Number      4\n",
            "20            HTTPS      5\n",
            "16        fin_count      6\n",
            "24              SSH      7\n",
            "19             HTTP      8\n",
            "33          Tot sum      9\n",
            "44         Variance     10\n",
            "11  ack_flag_number     11\n",
            "1     Header_Length     12\n",
            "38         Tot size     13\n",
            "15        syn_count     14\n",
            "17        urg_count     15\n",
            "14        ack_count     16\n",
            "0     flow_duration     17\n",
            "35              Max     18\n",
            "43       Covariance     19\n",
            "36              AVG     20\n",
            "41         Magnitue     21\n",
            "26              TCP     22\n",
            "42           Radius     23\n",
            "29              ARP     24\n",
            "3          Duration     25\n",
            "37              Std     26\n",
            "31              IPv     27\n",
            "21              DNS     28\n",
            "28             DHCP     29\n",
            "32              LLC     30\n",
            "6             Drate     31\n",
            "5             Srate     32\n",
            "12  ece_flag_number     33\n",
            "13  cwr_flag_number     34\n",
            "25              IRC     35\n",
            "23             SMTP     36\n",
            "22           Telnet     37\n",
            "rfe_selected_feature_names =  Index(['Protocol Type', 'fin_flag_number', 'syn_flag_number',\n",
            "       'rst_flag_number', 'psh_flag_number', 'UDP', 'ICMP', 'Min', 'IAT',\n",
            "       'Weight'],\n",
            "      dtype='object')\n"
          ]
        }
      ],
      "source": [
        "rfe_selector = RFE(estimator=XGBClassifier(eval_metric='mlogloss'), n_features_to_select=10)\n",
        "rfe_selector.fit_transform(X, y)\n",
        "\n",
        "# printing the ranks\n",
        "rfe_feature_scores = pd.DataFrame({'Feature': X.columns, 'Score': rfe_selector.ranking_})\n",
        "rfe_feature_scores = rfe_feature_scores.sort_values(by='Score', ascending=True)  # Sort by importance (ascending)\n",
        "print(rfe_feature_scores)\n",
        "\n",
        "# Get the selected feature names\n",
        "rfe_selected_feature_names = X.columns[rfe_selector.get_support()]\n",
        "print('rfe_selected_feature_names = ', rfe_selected_feature_names)"
      ]
    },
    {
      "cell_type": "code",
      "execution_count": null,
      "metadata": {
        "id": "lh1-KyUNxs5r",
        "colab": {
          "base_uri": "https://localhost:8080/"
        },
        "outputId": "baa1e8c1-9f9f-4a7c-84c8-42f41a1eb717"
      },
      "outputs": [
        {
          "output_type": "stream",
          "name": "stdout",
          "text": [
            "top_features_combined =  ['AVG', 'Weight', 'psh_flag_number', 'Magnitue', 'Tot size', 'rst_flag_number', 'Max', 'UDP', 'TCP', 'Tot sum', 'Header_Length', 'Protocol Type', 'IAT', 'Min', 'fin_flag_number', 'syn_flag_number', 'ICMP']\n"
          ]
        }
      ],
      "source": [
        "top_features_combined = list(set(skb_selected_feature_names) | set(rfe_selected_feature_names))\n",
        "print('top_features_combined = ', top_features_combined)"
      ]
    },
    {
      "cell_type": "code",
      "execution_count": null,
      "metadata": {
        "id": "CtRUwFe3xs5s",
        "colab": {
          "base_uri": "https://localhost:8080/"
        },
        "outputId": "fc1ff32e-3e42-4794-d43d-6263292495d6"
      },
      "outputs": [
        {
          "output_type": "stream",
          "name": "stdout",
          "text": [
            "selected feature:  Rate\n",
            "selected feature:  rst_count\n",
            "selected feature:  Number\n",
            "Extra features from RFE: ['Rate', 'rst_count', 'Number']\n",
            "top_features_combined =  ['AVG', 'Weight', 'psh_flag_number', 'Magnitue', 'Tot size', 'rst_flag_number', 'Max', 'UDP', 'TCP', 'Tot sum', 'Header_Length', 'Protocol Type', 'IAT', 'Min', 'fin_flag_number', 'syn_flag_number', 'ICMP', 'Rate', 'rst_count', 'Number']\n"
          ]
        }
      ],
      "source": [
        "no_of_redundent_features = 20-(len(top_features_combined))\n",
        "\n",
        "# Find the next 3 best-ranked features NOT in SelectKBest\n",
        "extra_features_from_rfe = []\n",
        "\n",
        "for feature in rfe_feature_scores['Feature']:\n",
        "    if feature not in top_features_combined:\n",
        "        print(\"selected feature: \", feature)\n",
        "        extra_features_from_rfe.append(feature)\n",
        "    if len(extra_features_from_rfe) == no_of_redundent_features:\n",
        "        break\n",
        "\n",
        "print(\"Extra features from RFE:\", extra_features_from_rfe)\n",
        "\n",
        "top_features_combined.extend(extra_features_from_rfe)\n",
        "print('top_features_combined = ', top_features_combined)\n",
        "\n",
        "X_selected = X[top_features_combined]"
      ]
    },
    {
      "cell_type": "code",
      "execution_count": null,
      "metadata": {
        "id": "j4PlXpRhxs5s",
        "colab": {
          "base_uri": "https://localhost:8080/"
        },
        "outputId": "f8f06366-2211-4c83-ef4e-b5278c4b7073"
      },
      "outputs": [
        {
          "output_type": "stream",
          "name": "stdout",
          "text": [
            "Accuracy: 0.9901964304952059\n",
            "Precision: 0.989055226285607\n",
            "Recall: 0.9901964304952059\n",
            "F1 Score: 0.9893459031576205\n",
            "Classification Report:\n",
            "               precision    recall  f1-score   support\n",
            "\n",
            "           0       0.00      0.00      0.00         4\n",
            "           1       0.84      0.94      0.89      1951\n",
            "           2       0.00      0.00      0.00        11\n",
            "           3       0.00      0.00      0.00         8\n",
            "           4       1.00      1.00      1.00       539\n",
            "           5       0.91      0.95      0.93        61\n",
            "           6       1.00      1.00      1.00     12879\n",
            "           7       1.00      1.00      1.00       816\n",
            "           8       1.00      1.00      1.00      7396\n",
            "           9       1.00      1.00      1.00      7230\n",
            "          10       1.00      1.00      1.00      7309\n",
            "          11       0.94      0.96      0.95        47\n",
            "          12       1.00      1.00      1.00      6251\n",
            "          13       1.00      1.00      1.00      8058\n",
            "          14       1.00      1.00      1.00      9797\n",
            "          15       1.00      0.99      1.00       511\n",
            "          16       0.58      0.54      0.56       316\n",
            "          17       0.17      0.05      0.08        19\n",
            "          18       0.98      0.96      0.97       139\n",
            "          19       1.00      1.00      1.00      3562\n",
            "          20       1.00      1.00      1.00      4823\n",
            "          21       1.00      1.00      1.00      5859\n",
            "          22       0.79      0.77      0.78       569\n",
            "          23       1.00      1.00      1.00      1729\n",
            "          24       1.00      0.99      1.00      1332\n",
            "          25       1.00      1.00      1.00      1618\n",
            "          26       0.69      0.67      0.68       249\n",
            "          27       0.49      0.17      0.25       204\n",
            "          28       0.00      0.00      0.00         1\n",
            "          29       0.67      0.56      0.61       140\n",
            "          30       0.00      0.00      0.00        13\n",
            "          31       0.00      0.00      0.00         3\n",
            "          32       0.98      0.97      0.97        90\n",
            "          33       0.00      0.00      0.00         7\n",
            "\n",
            "    accuracy                           0.99     83541\n",
            "   macro avg       0.71      0.69      0.70     83541\n",
            "weighted avg       0.99      0.99      0.99     83541\n",
            "\n",
            "Confusion Matrix:\n",
            " [[   0    0    0 ...    0    0    0]\n",
            " [   0 1841    1 ...    0    0    0]\n",
            " [   0    3    0 ...    0    0    0]\n",
            " ...\n",
            " [   0    1    0 ...    0    0    0]\n",
            " [   0    0    0 ...    0   87    0]\n",
            " [   0    2    0 ...    0    0    0]]\n"
          ]
        },
        {
          "output_type": "stream",
          "name": "stderr",
          "text": [
            "/usr/local/lib/python3.11/dist-packages/sklearn/metrics/_classification.py:1565: UndefinedMetricWarning: Precision is ill-defined and being set to 0.0 in labels with no predicted samples. Use `zero_division` parameter to control this behavior.\n",
            "  _warn_prf(average, modifier, f\"{metric.capitalize()} is\", len(result))\n",
            "/usr/local/lib/python3.11/dist-packages/sklearn/metrics/_classification.py:1565: UndefinedMetricWarning: Precision is ill-defined and being set to 0.0 in labels with no predicted samples. Use `zero_division` parameter to control this behavior.\n",
            "  _warn_prf(average, modifier, f\"{metric.capitalize()} is\", len(result))\n",
            "/usr/local/lib/python3.11/dist-packages/sklearn/metrics/_classification.py:1565: UndefinedMetricWarning: Precision is ill-defined and being set to 0.0 in labels with no predicted samples. Use `zero_division` parameter to control this behavior.\n",
            "  _warn_prf(average, modifier, f\"{metric.capitalize()} is\", len(result))\n",
            "/usr/local/lib/python3.11/dist-packages/sklearn/metrics/_classification.py:1565: UndefinedMetricWarning: Precision is ill-defined and being set to 0.0 in labels with no predicted samples. Use `zero_division` parameter to control this behavior.\n",
            "  _warn_prf(average, modifier, f\"{metric.capitalize()} is\", len(result))\n"
          ]
        }
      ],
      "source": [
        "from sklearn.metrics import precision_score, recall_score, f1_score, confusion_matrix\n",
        "\n",
        "# Step 6: Train-Test Split\n",
        "X_train, X_test, y_train, y_test = train_test_split(X_selected, y, test_size=0.35, random_state=42)\n",
        "\n",
        "# Step 7: Train XGBoost Classifier\n",
        "xgb_model = XGBClassifier(eval_metric='mlogloss', random_state=42)\n",
        "xgb_model.fit(X_train, y_train)\n",
        "\n",
        "# Step 8: Evaluate the model\n",
        "y_pred = xgb_model.predict(X_test)\n",
        "\n",
        "# Metrics\n",
        "accuracy = accuracy_score(y_test, y_pred)\n",
        "precision = precision_score(y_test, y_pred, average='weighted')\n",
        "recall = recall_score(y_test, y_pred, average='weighted')\n",
        "f1 = f1_score(y_test, y_pred, average='weighted')\n",
        "\n",
        "# Print metrics\n",
        "print(\"Accuracy:\", accuracy)\n",
        "print(\"Precision:\", precision)\n",
        "print(\"Recall:\", recall)\n",
        "print(\"F1 Score:\", f1)\n",
        "print(\"Classification Report:\\n\", classification_report(y_test, y_pred))\n",
        "\n",
        "# Confusion Matrix\n",
        "conf_matrix = confusion_matrix(y_test, y_pred)\n",
        "print(\"Confusion Matrix:\\n\", conf_matrix)"
      ]
    },
    {
      "cell_type": "markdown",
      "metadata": {
        "id": "-bVHeAeDx3rU"
      },
      "source": [
        "# 25 features"
      ]
    },
    {
      "cell_type": "code",
      "execution_count": null,
      "metadata": {
        "collapsed": true,
        "id": "oF1wqN-Ex3rV",
        "colab": {
          "base_uri": "https://localhost:8080/"
        },
        "outputId": "6a09383a-4bf9-484b-a9c4-edf5abd6f69b"
      },
      "outputs": [
        {
          "output_type": "stream",
          "name": "stdout",
          "text": [
            "            Feature     Score\n",
            "39              IAT  2.601328\n",
            "38         Tot size  1.339335\n",
            "1     Header_Length  1.327400\n",
            "41         Magnitue  1.318020\n",
            "36              AVG  1.314042\n",
            "33          Tot sum  1.305144\n",
            "34              Min  1.295671\n",
            "35              Max  1.271420\n",
            "2     Protocol Type  1.162947\n",
            "26              TCP  0.656476\n",
            "15        syn_count  0.648856\n",
            "0     flow_duration  0.634361\n",
            "4              Rate  0.633166\n",
            "5             Srate  0.632632\n",
            "18        rst_count  0.509843\n",
            "27              UDP  0.495907\n",
            "8   syn_flag_number  0.495547\n",
            "17        urg_count  0.462133\n",
            "30             ICMP  0.442603\n",
            "43       Covariance  0.382473\n",
            "37              Std  0.381508\n",
            "42           Radius  0.379551\n",
            "16        fin_count  0.350280\n",
            "14        ack_count  0.330329\n",
            "11  ack_flag_number  0.326109\n",
            "7   fin_flag_number  0.296841\n",
            "44         Variance  0.296346\n",
            "10  psh_flag_number  0.286394\n",
            "9   rst_flag_number  0.286292\n",
            "3          Duration  0.211540\n",
            "45           Weight  0.177165\n",
            "40           Number  0.176849\n",
            "20            HTTPS  0.070489\n",
            "19             HTTP  0.031845\n",
            "32              LLC  0.005497\n",
            "31              IPv  0.005292\n",
            "22           Telnet  0.003145\n",
            "25              IRC  0.001406\n",
            "28             DHCP  0.000114\n",
            "29              ARP  0.000000\n",
            "24              SSH  0.000000\n",
            "21              DNS  0.000000\n",
            "13  cwr_flag_number  0.000000\n",
            "12  ece_flag_number  0.000000\n",
            "6             Drate  0.000000\n",
            "23             SMTP  0.000000\n",
            "skb_selected_feature_names =  Index(['flow_duration', 'Header_Length', 'Protocol Type', 'syn_count', 'TCP',\n",
            "       'Tot sum', 'Min', 'Max', 'AVG', 'Tot size', 'IAT', 'Magnitue'],\n",
            "      dtype='object')\n"
          ]
        }
      ],
      "source": [
        "skb_selector = SelectKBest(score_func=mutual_info_classif, k=12)\n",
        "skb_selector.fit_transform(X, y)\n",
        "\n",
        "# printing the scores\n",
        "skb_feature_scores = pd.DataFrame({'Feature': X.columns, 'Score': skb_selector.scores_})\n",
        "skb_feature_scores = skb_feature_scores.sort_values(by='Score', ascending=False)  # Sort by importance\n",
        "print(skb_feature_scores)\n",
        "\n",
        "# Get the selected feature names\n",
        "skb_selected_feature_names = X.columns[skb_selector.get_support()]\n",
        "print('skb_selected_feature_names = ', skb_selected_feature_names)"
      ]
    },
    {
      "cell_type": "code",
      "execution_count": null,
      "metadata": {
        "id": "wnih525Fx3rV",
        "collapsed": true,
        "colab": {
          "base_uri": "https://localhost:8080/"
        },
        "outputId": "ca06b949-c501-4a00-fbf9-5ef00c89b25e"
      },
      "outputs": [
        {
          "output_type": "stream",
          "name": "stdout",
          "text": [
            "            Feature  Score\n",
            "45           Weight      1\n",
            "30             ICMP      1\n",
            "18        rst_count      1\n",
            "27              UDP      1\n",
            "10  psh_flag_number      1\n",
            "9   rst_flag_number      1\n",
            "8   syn_flag_number      1\n",
            "34              Min      1\n",
            "39              IAT      1\n",
            "4              Rate      1\n",
            "40           Number      1\n",
            "2     Protocol Type      1\n",
            "7   fin_flag_number      1\n",
            "20            HTTPS      2\n",
            "16        fin_count      3\n",
            "24              SSH      4\n",
            "19             HTTP      5\n",
            "33          Tot sum      6\n",
            "44         Variance      7\n",
            "11  ack_flag_number      8\n",
            "1     Header_Length      9\n",
            "38         Tot size     10\n",
            "15        syn_count     11\n",
            "17        urg_count     12\n",
            "14        ack_count     13\n",
            "0     flow_duration     14\n",
            "35              Max     15\n",
            "43       Covariance     16\n",
            "36              AVG     17\n",
            "41         Magnitue     18\n",
            "26              TCP     19\n",
            "42           Radius     20\n",
            "29              ARP     21\n",
            "3          Duration     22\n",
            "37              Std     23\n",
            "31              IPv     24\n",
            "21              DNS     25\n",
            "28             DHCP     26\n",
            "32              LLC     27\n",
            "6             Drate     28\n",
            "5             Srate     29\n",
            "12  ece_flag_number     30\n",
            "13  cwr_flag_number     31\n",
            "25              IRC     32\n",
            "23             SMTP     33\n",
            "22           Telnet     34\n",
            "rfe_selected_feature_names =  Index(['Protocol Type', 'Rate', 'fin_flag_number', 'syn_flag_number',\n",
            "       'rst_flag_number', 'psh_flag_number', 'rst_count', 'UDP', 'ICMP', 'Min',\n",
            "       'IAT', 'Number', 'Weight'],\n",
            "      dtype='object')\n"
          ]
        }
      ],
      "source": [
        "rfe_selector = RFE(estimator=XGBClassifier(eval_metric='mlogloss'), n_features_to_select=13)\n",
        "rfe_selector.fit_transform(X, y)\n",
        "\n",
        "# printing the ranks\n",
        "rfe_feature_scores = pd.DataFrame({'Feature': X.columns, 'Score': rfe_selector.ranking_})\n",
        "rfe_feature_scores = rfe_feature_scores.sort_values(by='Score', ascending=True)  # Sort by importance (ascending)\n",
        "print(rfe_feature_scores)\n",
        "\n",
        "# Get the selected feature names\n",
        "rfe_selected_feature_names = X.columns[rfe_selector.get_support()]\n",
        "print('rfe_selected_feature_names = ', rfe_selected_feature_names)"
      ]
    },
    {
      "cell_type": "code",
      "execution_count": null,
      "metadata": {
        "id": "UEF3ca4jx3rV",
        "colab": {
          "base_uri": "https://localhost:8080/"
        },
        "outputId": "048a2fde-2fee-400f-c1c8-dff3ce27e36e"
      },
      "outputs": [
        {
          "output_type": "stream",
          "name": "stdout",
          "text": [
            "top_features_combined =  ['AVG', 'Weight', 'Number', 'psh_flag_number', 'Magnitue', 'syn_count', 'Tot size', 'flow_duration', 'rst_flag_number', 'Max', 'UDP', 'TCP', 'Tot sum', 'rst_count', 'Header_Length', 'Protocol Type', 'IAT', 'Min', 'Rate', 'fin_flag_number', 'syn_flag_number', 'ICMP']\n"
          ]
        }
      ],
      "source": [
        "top_features_combined = list(set(skb_selected_feature_names) | set(rfe_selected_feature_names))\n",
        "print('top_features_combined = ', top_features_combined)"
      ]
    },
    {
      "cell_type": "code",
      "execution_count": null,
      "metadata": {
        "id": "jj89IGD4x3rW",
        "colab": {
          "base_uri": "https://localhost:8080/"
        },
        "outputId": "ee2d49dd-01d7-40f4-db61-1db6db1b8536"
      },
      "outputs": [
        {
          "output_type": "stream",
          "name": "stdout",
          "text": [
            "selected feature:  HTTPS\n",
            "selected feature:  fin_count\n",
            "selected feature:  SSH\n",
            "Extra features from RFE: ['HTTPS', 'fin_count', 'SSH']\n",
            "top_features_combined =  ['AVG', 'Weight', 'Number', 'psh_flag_number', 'Magnitue', 'syn_count', 'Tot size', 'flow_duration', 'rst_flag_number', 'Max', 'UDP', 'TCP', 'Tot sum', 'rst_count', 'Header_Length', 'Protocol Type', 'IAT', 'Min', 'Rate', 'fin_flag_number', 'syn_flag_number', 'ICMP', 'HTTPS', 'fin_count', 'SSH']\n"
          ]
        }
      ],
      "source": [
        "no_of_redundent_features = 25-(len(top_features_combined))\n",
        "\n",
        "# Find the next 3 best-ranked features NOT in SelectKBest\n",
        "extra_features_from_rfe = []\n",
        "\n",
        "for feature in rfe_feature_scores['Feature']:\n",
        "    if feature not in top_features_combined:\n",
        "        print(\"selected feature: \", feature)\n",
        "        extra_features_from_rfe.append(feature)\n",
        "    if len(extra_features_from_rfe) == no_of_redundent_features:\n",
        "        break\n",
        "\n",
        "print(\"Extra features from RFE:\", extra_features_from_rfe)\n",
        "\n",
        "top_features_combined.extend(extra_features_from_rfe)\n",
        "print('top_features_combined = ', top_features_combined)\n",
        "\n",
        "X_selected = X[top_features_combined]"
      ]
    },
    {
      "cell_type": "code",
      "execution_count": null,
      "metadata": {
        "id": "PI8A2nEHx3rW",
        "colab": {
          "base_uri": "https://localhost:8080/"
        },
        "outputId": "abdcd907-a705-4857-8622-e0a11faad226"
      },
      "outputs": [
        {
          "output_type": "stream",
          "name": "stdout",
          "text": [
            "Accuracy: 0.990723117989969\n",
            "Precision: 0.9898401549296735\n",
            "Recall: 0.990723117989969\n",
            "F1 Score: 0.9900424091136766\n",
            "Classification Report:\n",
            "               precision    recall  f1-score   support\n",
            "\n",
            "           0       0.00      0.00      0.00         4\n",
            "           1       0.85      0.94      0.90      1951\n",
            "           2       0.00      0.00      0.00        11\n",
            "           3       1.00      0.12      0.22         8\n",
            "           4       1.00      1.00      1.00       539\n",
            "           5       0.87      0.97      0.91        61\n",
            "           6       1.00      1.00      1.00     12879\n",
            "           7       1.00      1.00      1.00       816\n",
            "           8       1.00      1.00      1.00      7396\n",
            "           9       1.00      1.00      1.00      7230\n",
            "          10       1.00      1.00      1.00      7309\n",
            "          11       0.96      0.91      0.93        47\n",
            "          12       1.00      1.00      1.00      6251\n",
            "          13       1.00      1.00      1.00      8058\n",
            "          14       1.00      1.00      1.00      9797\n",
            "          15       0.99      0.99      0.99       511\n",
            "          16       0.60      0.59      0.60       316\n",
            "          17       0.67      0.21      0.32        19\n",
            "          18       0.99      0.96      0.97       139\n",
            "          19       1.00      1.00      1.00      3562\n",
            "          20       1.00      1.00      1.00      4823\n",
            "          21       1.00      1.00      1.00      5859\n",
            "          22       0.82      0.78      0.80       569\n",
            "          23       1.00      1.00      1.00      1729\n",
            "          24       1.00      0.99      1.00      1332\n",
            "          25       1.00      1.00      1.00      1618\n",
            "          26       0.71      0.70      0.70       249\n",
            "          27       0.47      0.21      0.29       204\n",
            "          28       0.00      0.00      0.00         1\n",
            "          29       0.63      0.61      0.62       140\n",
            "          30       0.00      0.00      0.00        13\n",
            "          31       0.00      0.00      0.00         3\n",
            "          32       0.99      0.93      0.96        90\n",
            "          33       0.00      0.00      0.00         7\n",
            "\n",
            "    accuracy                           0.99     83541\n",
            "   macro avg       0.75      0.70      0.71     83541\n",
            "weighted avg       0.99      0.99      0.99     83541\n",
            "\n",
            "Confusion Matrix:\n",
            " [[   0    0    0 ...    0    0    0]\n",
            " [   0 1843    1 ...    0    0    0]\n",
            " [   0    3    0 ...    0    0    0]\n",
            " ...\n",
            " [   0    1    0 ...    0    0    0]\n",
            " [   0    0    0 ...    0   84    0]\n",
            " [   0    1    0 ...    0    0    0]]\n"
          ]
        },
        {
          "output_type": "stream",
          "name": "stderr",
          "text": [
            "/usr/local/lib/python3.11/dist-packages/sklearn/metrics/_classification.py:1565: UndefinedMetricWarning: Precision is ill-defined and being set to 0.0 in labels with no predicted samples. Use `zero_division` parameter to control this behavior.\n",
            "  _warn_prf(average, modifier, f\"{metric.capitalize()} is\", len(result))\n",
            "/usr/local/lib/python3.11/dist-packages/sklearn/metrics/_classification.py:1565: UndefinedMetricWarning: Precision is ill-defined and being set to 0.0 in labels with no predicted samples. Use `zero_division` parameter to control this behavior.\n",
            "  _warn_prf(average, modifier, f\"{metric.capitalize()} is\", len(result))\n",
            "/usr/local/lib/python3.11/dist-packages/sklearn/metrics/_classification.py:1565: UndefinedMetricWarning: Precision is ill-defined and being set to 0.0 in labels with no predicted samples. Use `zero_division` parameter to control this behavior.\n",
            "  _warn_prf(average, modifier, f\"{metric.capitalize()} is\", len(result))\n",
            "/usr/local/lib/python3.11/dist-packages/sklearn/metrics/_classification.py:1565: UndefinedMetricWarning: Precision is ill-defined and being set to 0.0 in labels with no predicted samples. Use `zero_division` parameter to control this behavior.\n",
            "  _warn_prf(average, modifier, f\"{metric.capitalize()} is\", len(result))\n"
          ]
        }
      ],
      "source": [
        "from sklearn.metrics import precision_score, recall_score, f1_score, confusion_matrix\n",
        "\n",
        "# Step 6: Train-Test Split\n",
        "X_train, X_test, y_train, y_test = train_test_split(X_selected, y, test_size=0.35, random_state=42)\n",
        "\n",
        "# Step 7: Train XGBoost Classifier\n",
        "xgb_model = XGBClassifier(eval_metric='mlogloss', random_state=42)\n",
        "xgb_model.fit(X_train, y_train)\n",
        "\n",
        "# Step 8: Evaluate the model\n",
        "y_pred = xgb_model.predict(X_test)\n",
        "\n",
        "# Metrics\n",
        "accuracy = accuracy_score(y_test, y_pred)\n",
        "precision = precision_score(y_test, y_pred, average='weighted')\n",
        "recall = recall_score(y_test, y_pred, average='weighted')\n",
        "f1 = f1_score(y_test, y_pred, average='weighted')\n",
        "\n",
        "# Print metrics\n",
        "print(\"Accuracy:\", accuracy)\n",
        "print(\"Precision:\", precision)\n",
        "print(\"Recall:\", recall)\n",
        "print(\"F1 Score:\", f1)\n",
        "print(\"Classification Report:\\n\", classification_report(y_test, y_pred))\n",
        "\n",
        "# Confusion Matrix\n",
        "conf_matrix = confusion_matrix(y_test, y_pred)\n",
        "print(\"Confusion Matrix:\\n\", conf_matrix)"
      ]
    }
  ]
}