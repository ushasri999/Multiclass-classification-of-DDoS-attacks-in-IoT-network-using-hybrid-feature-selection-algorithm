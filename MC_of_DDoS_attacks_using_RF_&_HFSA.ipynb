{
  "cells": [
    {
      "cell_type": "markdown",
      "metadata": {
        "id": "view-in-github",
        "colab_type": "text"
      },
      "source": [
        "<a href=\"https://colab.research.google.com/github/ushasri999/Multiclass-classification-of-DDoS-attacks-in-IoT-network-using-hybrid-feature-selection-algorithm/blob/main/MC_of_DDoS_attacks_using_RF_%26_HFSA.ipynb\" target=\"_parent\"><img src=\"https://colab.research.google.com/assets/colab-badge.svg\" alt=\"Open In Colab\"/></a>"
      ]
    },
    {
      "cell_type": "code",
      "source": [
        "from google.colab import drive\n",
        "drive.mount('/content/drive')"
      ],
      "metadata": {
        "colab": {
          "base_uri": "https://localhost:8080/"
        },
        "id": "n8Kx72om60rh",
        "outputId": "13b5c7c9-25f6-4e67-ffc3-cdc27f018d35"
      },
      "execution_count": 1,
      "outputs": [
        {
          "output_type": "stream",
          "name": "stdout",
          "text": [
            "Drive already mounted at /content/drive; to attempt to forcibly remount, call drive.mount(\"/content/drive\", force_remount=True).\n"
          ]
        }
      ]
    },
    {
      "cell_type": "code",
      "execution_count": 1,
      "metadata": {
        "colab": {
          "base_uri": "https://localhost:8080/"
        },
        "id": "Mfy-qpheskZi",
        "outputId": "e0c4762d-b665-4c67-9283-304f9e9f4f80"
      },
      "outputs": [
        {
          "output_type": "stream",
          "name": "stdout",
          "text": [
            "Features shape: (173777, 46)\n",
            "Target shape: (173777,)\n"
          ]
        }
      ],
      "source": [
        "import pandas as pd\n",
        "import numpy as np\n",
        "from sklearn.ensemble import RandomForestClassifier\n",
        "from sklearn.model_selection import train_test_split, cross_val_score\n",
        "from sklearn.feature_selection import SelectKBest, mutual_info_classif, RFE\n",
        "from sklearn.metrics import classification_report, accuracy_score\n",
        "from sklearn.preprocessing import LabelEncoder\n",
        "\n",
        "# Step 1: Load the dataset\n",
        "df = pd.read_csv('/content/drive/MyDrive/data.csv')\n",
        "df_ddos = df[df['label'].str.contains('DDoS', case=False, na=False)]\n",
        "\n",
        "# Step 2: Separate features and target\n",
        "X = df_ddos.drop(\"label\", axis=1, errors='ignore')\n",
        "y = df_ddos[\"label\"] if 'label' in df_ddos.columns else pd.Series([])\n",
        "\n",
        "# Encode target labels into numeric values\n",
        "label_encoder = LabelEncoder()\n",
        "y = label_encoder.fit_transform(y)\n",
        "\n",
        "# Check for valid features and labels\n",
        "print(f\"Features shape: {X.shape}\")\n",
        "print(f\"Target shape: {y.shape}\")\n"
      ]
    },
    {
      "cell_type": "markdown",
      "metadata": {
        "id": "5da4QmaFs6MZ"
      },
      "source": [
        "# 5 Features"
      ]
    },
    {
      "cell_type": "code",
      "execution_count": 5,
      "metadata": {
        "colab": {
          "base_uri": "https://localhost:8080/"
        },
        "collapsed": true,
        "id": "HezhQRaCskKm",
        "outputId": "503acfc0-1cdc-418a-e141-41fe141e1797"
      },
      "outputs": [
        {
          "output_type": "stream",
          "name": "stdout",
          "text": [
            "            Feature     Score\n",
            "39              IAT  2.037655\n",
            "1     Header_Length  1.137673\n",
            "34              Min  1.048091\n",
            "38         Tot size  1.040580\n",
            "41         Magnitue  1.035853\n",
            "36              AVG  1.030769\n",
            "33          Tot sum  1.027818\n",
            "2     Protocol Type  0.977589\n",
            "35              Max  0.976750\n",
            "26              TCP  0.666537\n",
            "15        syn_count  0.615892\n",
            "30             ICMP  0.532460\n",
            "8   syn_flag_number  0.529614\n",
            "4              Rate  0.526137\n",
            "5             Srate  0.525697\n",
            "0     flow_duration  0.478410\n",
            "27              UDP  0.435094\n",
            "18        rst_count  0.433737\n",
            "16        fin_count  0.404035\n",
            "17        urg_count  0.387752\n",
            "14        ack_count  0.380753\n",
            "7   fin_flag_number  0.365498\n",
            "10  psh_flag_number  0.355848\n",
            "9   rst_flag_number  0.355565\n",
            "11  ack_flag_number  0.349758\n",
            "42           Radius  0.226610\n",
            "37              Std  0.226518\n",
            "43       Covariance  0.223591\n",
            "44         Variance  0.150267\n",
            "3          Duration  0.055064\n",
            "19             HTTP  0.030318\n",
            "20            HTTPS  0.016695\n",
            "32              LLC  0.007980\n",
            "45           Weight  0.007664\n",
            "40           Number  0.005082\n",
            "6             Drate  0.004841\n",
            "31              IPv  0.004733\n",
            "29              ARP  0.001764\n",
            "22           Telnet  0.001433\n",
            "23             SMTP  0.001309\n",
            "25              IRC  0.001009\n",
            "28             DHCP  0.000884\n",
            "24              SSH  0.000580\n",
            "21              DNS  0.000454\n",
            "13  cwr_flag_number  0.000355\n",
            "12  ece_flag_number  0.000000\n",
            "skb_selected_feature_names:  ['Header_Length', 'IAT']\n"
          ]
        }
      ],
      "source": [
        "skb_selector = SelectKBest(score_func=mutual_info_classif, k=2)\n",
        "skb_selector.fit_transform(X, y)\n",
        "\n",
        "# printing the scores\n",
        "skb_feature_scores = pd.DataFrame({'Feature': X.columns, 'Score': skb_selector.scores_})\n",
        "skb_feature_scores = skb_feature_scores.sort_values(by='Score', ascending=False)  # Sort by importance\n",
        "print(skb_feature_scores)\n",
        "\n",
        "# Get the selected feature names\n",
        "skb_selected_feature_names = X.columns[skb_selector.get_support()]\n",
        "print('skb_selected_feature_names: ',skb_selected_feature_names.to_list())"
      ]
    },
    {
      "cell_type": "code",
      "execution_count": 7,
      "metadata": {
        "colab": {
          "base_uri": "https://localhost:8080/"
        },
        "collapsed": true,
        "id": "O1r8DTDgsj07",
        "outputId": "b4d0ad14-177d-4adf-a90c-ed840fd19bac"
      },
      "outputs": [
        {
          "output_type": "stream",
          "name": "stdout",
          "text": [
            "            Feature  Score\n",
            "34              Min      1\n",
            "39              IAT      1\n",
            "41         Magnitue      1\n",
            "15        syn_count      2\n",
            "7   fin_flag_number      3\n",
            "36              AVG      4\n",
            "17        urg_count      5\n",
            "38         Tot size      6\n",
            "1     Header_Length      7\n",
            "14        ack_count      8\n",
            "10  psh_flag_number      9\n",
            "33          Tot sum     10\n",
            "8   syn_flag_number     11\n",
            "2     Protocol Type     12\n",
            "27              UDP     13\n",
            "16        fin_count     14\n",
            "11  ack_flag_number     15\n",
            "18        rst_count     16\n",
            "0     flow_duration     17\n",
            "35              Max     18\n",
            "30             ICMP     19\n",
            "4              Rate     20\n",
            "9   rst_flag_number     21\n",
            "26              TCP     22\n",
            "5             Srate     23\n",
            "42           Radius     24\n",
            "44         Variance     25\n",
            "37              Std     26\n",
            "43       Covariance     27\n",
            "3          Duration     28\n",
            "19             HTTP     29\n",
            "40           Number     30\n",
            "45           Weight     31\n",
            "20            HTTPS     32\n",
            "29              ARP     33\n",
            "32              LLC     34\n",
            "31              IPv     35\n",
            "6             Drate     36\n",
            "21              DNS     37\n",
            "12  ece_flag_number     38\n",
            "13  cwr_flag_number     39\n",
            "24              SSH     40\n",
            "25              IRC     41\n",
            "28             DHCP     42\n",
            "23             SMTP     43\n",
            "22           Telnet     44\n",
            "rfe_selected_feature_names:  ['Min', 'IAT', 'Magnitue']\n"
          ]
        }
      ],
      "source": [
        "rfe_selector = RFE(estimator=RandomForestClassifier(), n_features_to_select=3)\n",
        "rfe_selector.fit_transform(X, y)\n",
        "\n",
        "rfe_feature_scores = pd.DataFrame({'Feature': X.columns, 'Score': rfe_selector.ranking_})\n",
        "rfe_feature_scores = rfe_feature_scores.sort_values(by='Score', ascending=True)  # Sort by importance (ascending)\n",
        "print(rfe_feature_scores)\n",
        "\n",
        "# Get the selected feature names\n",
        "rfe_selected_feature_names = X.columns[rfe_selector.get_support()]\n",
        "print('rfe_selected_feature_names: ',rfe_selected_feature_names.to_list())"
      ]
    },
    {
      "cell_type": "code",
      "execution_count": 8,
      "metadata": {
        "colab": {
          "base_uri": "https://localhost:8080/"
        },
        "id": "-IxoaU2iuv5g",
        "outputId": "6ad78879-9bb7-4173-c03e-4e8b2667f1a7"
      },
      "outputs": [
        {
          "output_type": "stream",
          "name": "stdout",
          "text": [
            "['Min', 'Magnitue', 'IAT', 'Header_Length']\n"
          ]
        }
      ],
      "source": [
        "top_features_combined = list(set(skb_selected_feature_names) | set(rfe_selected_feature_names))\n",
        "print(top_features_combined)"
      ]
    },
    {
      "cell_type": "code",
      "execution_count": 9,
      "metadata": {
        "colab": {
          "base_uri": "https://localhost:8080/"
        },
        "id": "OO6OxAsExETQ",
        "outputId": "4c04d7eb-246b-4109-94cb-c07597e4ff82"
      },
      "outputs": [
        {
          "output_type": "stream",
          "name": "stdout",
          "text": [
            "Extra features from RFE: ['syn_count']\n",
            "['Min', 'Magnitue', 'IAT', 'Header_Length', 'syn_count']\n"
          ]
        }
      ],
      "source": [
        "no_of_redundent_features = 5-(len(top_features_combined))\n",
        "\n",
        "\n",
        "extra_features_from_rfe = []\n",
        "\n",
        "for feature in rfe_feature_scores['Feature']:\n",
        "    if feature not in top_features_combined:\n",
        "        extra_features_from_rfe.append(feature)\n",
        "    if len(extra_features_from_rfe) == no_of_redundent_features:  # Stop once we have 3 features\n",
        "        break\n",
        "\n",
        "print(\"Extra features from RFE:\", extra_features_from_rfe)\n",
        "\n",
        "top_features_combined.extend(extra_features_from_rfe)\n",
        "print(top_features_combined)\n",
        "\n",
        "X_selected = X[top_features_combined]"
      ]
    },
    {
      "cell_type": "code",
      "execution_count": 10,
      "metadata": {
        "colab": {
          "base_uri": "https://localhost:8080/"
        },
        "id": "pWabVFNfyJG1",
        "outputId": "63be6a04-9151-45c2-f23f-d287378dde4a"
      },
      "outputs": [
        {
          "output_type": "stream",
          "name": "stdout",
          "text": [
            "Accuracy: 0.999572523100194\n",
            "Precision: 0.9995868334491375\n",
            "Recall: 0.999572523100194\n",
            "F1 Score: 0.9995767771147368\n",
            "Classification Report:\n",
            "               precision    recall  f1-score   support\n",
            "\n",
            "           0       1.00      0.99      1.00       513\n",
            "           1       0.95      1.00      0.97        56\n",
            "           2       1.00      1.00      1.00     12772\n",
            "           3       1.00      1.00      1.00       835\n",
            "           4       1.00      1.00      1.00      7477\n",
            "           5       1.00      1.00      1.00      7196\n",
            "           6       1.00      1.00      1.00      7166\n",
            "           7       0.82      0.96      0.88        24\n",
            "           8       1.00      1.00      1.00      6311\n",
            "           9       1.00      1.00      1.00      8162\n",
            "          10       1.00      1.00      1.00      9762\n",
            "          11       1.00      0.99      1.00       548\n",
            "\n",
            "    accuracy                           1.00     60822\n",
            "   macro avg       0.98      1.00      0.99     60822\n",
            "weighted avg       1.00      1.00      1.00     60822\n",
            "\n",
            "Confusion Matrix:\n",
            " [[  510     0     0     1     1     1     0     0     0     0     0     0]\n",
            " [    0    56     0     0     0     0     0     0     0     0     0     0]\n",
            " [    0     1 12769     0     0     0     0     1     0     0     1     0]\n",
            " [    0     2     0   833     0     0     0     0     0     0     0     0]\n",
            " [    0     0     0     0  7475     2     0     0     0     0     0     0]\n",
            " [    0     0     0     0     0  7195     0     0     0     0     1     0]\n",
            " [    0     0     0     0     0     0  7162     0     2     0     2     0]\n",
            " [    0     0     0     0     0     0     0    23     1     0     0     0]\n",
            " [    0     0     0     0     0     0     0     0  6310     0     1     0]\n",
            " [    0     0     0     1     0     0     0     0     0  8161     0     0]\n",
            " [    0     0     2     0     0     1     0     1     0     0  9758     0]\n",
            " [    0     0     0     0     0     0     0     3     0     0     1   544]]\n",
            "Cross-validation Accuracy: 0.999545393954184\n"
          ]
        }
      ],
      "source": [
        "# Step 6: Train and Test Split\n",
        "from sklearn.metrics import precision_score, recall_score, f1_score, confusion_matrix\n",
        "X_train, X_test, y_train, y_test = train_test_split(X_selected, y, test_size=0.35, random_state=42)\n",
        "\n",
        "# Step 7: Train Random Forest Classifier\n",
        "rf_model = RandomForestClassifier(random_state=42)\n",
        "rf_model.fit(X_train, y_train)\n",
        "\n",
        "# Step 8: Evaluate the model\n",
        "y_pred = rf_model.predict(X_test)\n",
        "# Metrics\n",
        "accuracy = accuracy_score(y_test, y_pred)\n",
        "precision = precision_score(y_test, y_pred, average='weighted')  # Weighted for imbalanced classes\n",
        "recall = recall_score(y_test, y_pred, average='weighted')  # Weighted for imbalanced classes\n",
        "f1 = f1_score(y_test, y_pred, average='weighted')  # Weighted for imbalanced classes\n",
        "\n",
        "# Print metrics\n",
        "print(\"Accuracy:\", accuracy)\n",
        "print(\"Precision:\", precision)\n",
        "print(\"Recall:\", recall)\n",
        "print(\"F1 Score:\", f1)\n",
        "print(\"Classification Report:\\n\", classification_report(y_test, y_pred))\n",
        "\n",
        "# Confusion Matrix\n",
        "conf_matrix = confusion_matrix(y_test, y_pred)\n",
        "print(\"Confusion Matrix:\\n\", conf_matrix)\n",
        "\n",
        "# Step 9: Cross-validation (optional)\n",
        "cv_scores = cross_val_score(rf_model, X_selected, y, cv=5)\n",
        "print(\"Cross-validation Accuracy:\", np.mean(cv_scores))"
      ]
    },
    {
      "cell_type": "markdown",
      "metadata": {
        "id": "b9QR3gpw2HHS"
      },
      "source": [
        "# 10 Features"
      ]
    },
    {
      "cell_type": "code",
      "execution_count": 11,
      "metadata": {
        "colab": {
          "base_uri": "https://localhost:8080/"
        },
        "collapsed": true,
        "id": "JuKsolEa1iVC",
        "outputId": "61678273-4e66-4ab9-d05c-2fb459ed6c31"
      },
      "outputs": [
        {
          "output_type": "stream",
          "name": "stdout",
          "text": [
            "            Feature     Score\n",
            "39              IAT  2.037637\n",
            "1     Header_Length  1.137538\n",
            "34              Min  1.045685\n",
            "38         Tot size  1.044083\n",
            "41         Magnitue  1.038732\n",
            "36              AVG  1.031253\n",
            "33          Tot sum  1.027172\n",
            "2     Protocol Type  0.978991\n",
            "35              Max  0.976818\n",
            "26              TCP  0.666643\n",
            "15        syn_count  0.613916\n",
            "30             ICMP  0.535843\n",
            "8   syn_flag_number  0.527543\n",
            "4              Rate  0.526116\n",
            "5             Srate  0.525484\n",
            "0     flow_duration  0.479123\n",
            "18        rst_count  0.434747\n",
            "27              UDP  0.432365\n",
            "16        fin_count  0.404588\n",
            "17        urg_count  0.387327\n",
            "14        ack_count  0.380186\n",
            "7   fin_flag_number  0.364685\n",
            "10  psh_flag_number  0.358402\n",
            "9   rst_flag_number  0.356558\n",
            "11  ack_flag_number  0.350159\n",
            "37              Std  0.226226\n",
            "43       Covariance  0.224749\n",
            "42           Radius  0.221926\n",
            "44         Variance  0.150547\n",
            "3          Duration  0.057520\n",
            "19             HTTP  0.032015\n",
            "20            HTTPS  0.016778\n",
            "40           Number  0.010866\n",
            "32              LLC  0.008190\n",
            "31              IPv  0.008041\n",
            "45           Weight  0.007544\n",
            "22           Telnet  0.001496\n",
            "6             Drate  0.001100\n",
            "29              ARP  0.000830\n",
            "25              IRC  0.000496\n",
            "23             SMTP  0.000472\n",
            "28             DHCP  0.000317\n",
            "24              SSH  0.000000\n",
            "21              DNS  0.000000\n",
            "13  cwr_flag_number  0.000000\n",
            "12  ece_flag_number  0.000000\n",
            "skb_selected_feature_names:  ['Header_Length', 'Min', 'Tot size', 'IAT', 'Magnitue']\n"
          ]
        }
      ],
      "source": [
        "skb_selector = SelectKBest(score_func=mutual_info_classif, k=5)\n",
        "skb_selector.fit_transform(X, y)\n",
        "\n",
        "# printing the scores\n",
        "skb_feature_scores = pd.DataFrame({'Feature': X.columns, 'Score': skb_selector.scores_})\n",
        "skb_feature_scores = skb_feature_scores.sort_values(by='Score', ascending=False)  # Sort by importance\n",
        "print(skb_feature_scores)\n",
        "\n",
        "# Get the selected feature names\n",
        "skb_selected_feature_names = X.columns[skb_selector.get_support()]\n",
        "print('skb_selected_feature_names: ',skb_selected_feature_names.to_list())"
      ]
    },
    {
      "cell_type": "code",
      "execution_count": 12,
      "metadata": {
        "colab": {
          "base_uri": "https://localhost:8080/"
        },
        "collapsed": true,
        "id": "dTgTFswh2Y5L",
        "outputId": "a2c75be0-1bf8-46fa-a2fe-fea4391f508a"
      },
      "outputs": [
        {
          "output_type": "stream",
          "name": "stdout",
          "text": [
            "            Feature  Score\n",
            "15        syn_count      1\n",
            "34              Min      1\n",
            "41         Magnitue      1\n",
            "7   fin_flag_number      1\n",
            "39              IAT      1\n",
            "38         Tot size      2\n",
            "10  psh_flag_number      3\n",
            "36              AVG      4\n",
            "27              UDP      5\n",
            "1     Header_Length      6\n",
            "14        ack_count      7\n",
            "8   syn_flag_number      8\n",
            "2     Protocol Type      9\n",
            "17        urg_count     10\n",
            "33          Tot sum     11\n",
            "16        fin_count     12\n",
            "35              Max     13\n",
            "11  ack_flag_number     14\n",
            "0     flow_duration     15\n",
            "18        rst_count     16\n",
            "30             ICMP     17\n",
            "5             Srate     18\n",
            "9   rst_flag_number     19\n",
            "26              TCP     20\n",
            "4              Rate     21\n",
            "37              Std     22\n",
            "43       Covariance     23\n",
            "44         Variance     24\n",
            "42           Radius     25\n",
            "3          Duration     26\n",
            "19             HTTP     27\n",
            "45           Weight     28\n",
            "20            HTTPS     29\n",
            "40           Number     30\n",
            "31              IPv     31\n",
            "32              LLC     32\n",
            "29              ARP     33\n",
            "21              DNS     34\n",
            "6             Drate     35\n",
            "12  ece_flag_number     36\n",
            "13  cwr_flag_number     37\n",
            "24              SSH     38\n",
            "25              IRC     39\n",
            "28             DHCP     40\n",
            "23             SMTP     41\n",
            "22           Telnet     42\n",
            "rfe_selected_feature_names:  ['fin_flag_number', 'syn_count', 'Min', 'IAT', 'Magnitue']\n"
          ]
        }
      ],
      "source": [
        "rfe_selector = RFE(estimator=RandomForestClassifier(), n_features_to_select=5)\n",
        "rfe_selector.fit_transform(X, y)\n",
        "\n",
        "rfe_feature_scores = pd.DataFrame({'Feature': X.columns, 'Score': rfe_selector.ranking_})\n",
        "rfe_feature_scores = rfe_feature_scores.sort_values(by='Score', ascending=True)  # Sort by importance (ascending)\n",
        "print(rfe_feature_scores)\n",
        "\n",
        "# Get the selected feature names\n",
        "rfe_selected_feature_names = X.columns[rfe_selector.get_support()]\n",
        "print('rfe_selected_feature_names: ',rfe_selected_feature_names.to_list())"
      ]
    },
    {
      "cell_type": "code",
      "execution_count": 13,
      "metadata": {
        "colab": {
          "base_uri": "https://localhost:8080/"
        },
        "id": "WXjWlVeP2hji",
        "outputId": "7e7d915e-f9b8-4c15-89f8-3bbd6ad4306d"
      },
      "outputs": [
        {
          "output_type": "stream",
          "name": "stdout",
          "text": [
            "['Min', 'IAT', 'fin_flag_number', 'syn_count', 'Tot size', 'Magnitue', 'Header_Length']\n"
          ]
        }
      ],
      "source": [
        "top_features_combined = list(set(skb_selected_feature_names) | set(rfe_selected_feature_names))\n",
        "print(top_features_combined)"
      ]
    },
    {
      "cell_type": "code",
      "execution_count": 14,
      "metadata": {
        "colab": {
          "base_uri": "https://localhost:8080/"
        },
        "id": "c5i6dExn2mKf",
        "outputId": "264bfd52-adcc-467a-b2e5-824ae97a2847"
      },
      "outputs": [
        {
          "output_type": "stream",
          "name": "stdout",
          "text": [
            "Extra features from RFE: ['psh_flag_number', 'AVG', 'UDP']\n",
            "['Min', 'IAT', 'fin_flag_number', 'syn_count', 'Tot size', 'Magnitue', 'Header_Length', 'psh_flag_number', 'AVG', 'UDP']\n"
          ]
        }
      ],
      "source": [
        "no_of_redundent_features = 10-(len(top_features_combined))\n",
        "\n",
        "extra_features_from_rfe = []\n",
        "\n",
        "for feature in rfe_feature_scores['Feature']:\n",
        "    if feature not in top_features_combined:\n",
        "        extra_features_from_rfe.append(feature)\n",
        "    if len(extra_features_from_rfe) == no_of_redundent_features:\n",
        "        break\n",
        "\n",
        "print(\"Extra features from RFE:\", extra_features_from_rfe)\n",
        "\n",
        "top_features_combined.extend(extra_features_from_rfe)\n",
        "print(top_features_combined)\n",
        "\n",
        "X_selected = X[top_features_combined]"
      ]
    },
    {
      "cell_type": "code",
      "execution_count": 15,
      "metadata": {
        "colab": {
          "base_uri": "https://localhost:8080/"
        },
        "id": "uHuMS3qe2q10",
        "outputId": "7487b434-175f-45d4-b208-a6d9f8df4b67"
      },
      "outputs": [
        {
          "output_type": "stream",
          "name": "stdout",
          "text": [
            "Accuracy: 0.9992436947157278\n",
            "Precision: 0.9992582603259019\n",
            "Recall: 0.9992436947157278\n",
            "F1 Score: 0.9992486987396392\n",
            "Classification Report:\n",
            "               precision    recall  f1-score   support\n",
            "\n",
            "           0       0.99      0.99      0.99       513\n",
            "           1       0.92      0.98      0.95        56\n",
            "           2       1.00      1.00      1.00     12772\n",
            "           3       0.99      1.00      0.99       835\n",
            "           4       1.00      1.00      1.00      7477\n",
            "           5       1.00      1.00      1.00      7196\n",
            "           6       1.00      1.00      1.00      7166\n",
            "           7       0.81      0.92      0.86        24\n",
            "           8       1.00      1.00      1.00      6311\n",
            "           9       1.00      1.00      1.00      8162\n",
            "          10       1.00      1.00      1.00      9762\n",
            "          11       0.99      0.99      0.99       548\n",
            "\n",
            "    accuracy                           1.00     60822\n",
            "   macro avg       0.98      0.99      0.98     60822\n",
            "weighted avg       1.00      1.00      1.00     60822\n",
            "\n",
            "Confusion Matrix:\n",
            " [[  508     0     0     1     2     0     0     0     1     0     0     1]\n",
            " [    0    55     1     0     0     0     0     0     0     0     0     0]\n",
            " [    0     1 12770     0     0     0     0     0     0     0     0     1]\n",
            " [    0     2     0   831     0     1     0     0     0     0     1     0]\n",
            " [    0     0     0     2  7472     0     0     0     2     0     0     1]\n",
            " [    3     0     0     1     0  7191     0     0     0     0     1     0]\n",
            " [    0     0     0     0     0     0  7163     0     2     0     1     0]\n",
            " [    0     0     0     0     0     0     0    22     0     0     1     1]\n",
            " [    1     0     0     0     0     0     0     0  6306     0     3     1]\n",
            " [    0     1     0     0     0     0     0     0     0  8161     0     0]\n",
            " [    0     1     2     2     0     0     0     0     0     0  9756     1]\n",
            " [    0     0     0     0     0     0     0     5     1     0     1   541]]\n",
            "Cross-validation Accuracy: 0.99941879495518\n"
          ]
        }
      ],
      "source": [
        "# Step 6: Train and Test Split\n",
        "from sklearn.metrics import precision_score, recall_score, f1_score, confusion_matrix\n",
        "X_train, X_test, y_train, y_test = train_test_split(X_selected, y, test_size=0.35, random_state=42)\n",
        "\n",
        "# Step 7: Train Random Forest Classifier\n",
        "rf_model = RandomForestClassifier(random_state=42)\n",
        "rf_model.fit(X_train, y_train)\n",
        "\n",
        "# Step 8: Evaluate the model\n",
        "y_pred = rf_model.predict(X_test)\n",
        "# Metrics\n",
        "accuracy = accuracy_score(y_test, y_pred)\n",
        "precision = precision_score(y_test, y_pred, average='weighted')  # Weighted for imbalanced classes\n",
        "recall = recall_score(y_test, y_pred, average='weighted')  # Weighted for imbalanced classes\n",
        "f1 = f1_score(y_test, y_pred, average='weighted')  # Weighted for imbalanced classes\n",
        "\n",
        "# Print metrics\n",
        "print(\"Accuracy:\", accuracy)\n",
        "print(\"Precision:\", precision)\n",
        "print(\"Recall:\", recall)\n",
        "print(\"F1 Score:\", f1)\n",
        "print(\"Classification Report:\\n\", classification_report(y_test, y_pred))\n",
        "\n",
        "# Confusion Matrix\n",
        "conf_matrix = confusion_matrix(y_test, y_pred)\n",
        "print(\"Confusion Matrix:\\n\", conf_matrix)\n",
        "\n",
        "# Step 9: Cross-validation (optional)\n",
        "cv_scores = cross_val_score(rf_model, X_selected, y, cv=5)\n",
        "print(\"Cross-validation Accuracy:\", np.mean(cv_scores))"
      ]
    },
    {
      "cell_type": "markdown",
      "metadata": {
        "id": "JOf12oFn281u"
      },
      "source": [
        "# 15 Features"
      ]
    },
    {
      "cell_type": "code",
      "execution_count": 16,
      "metadata": {
        "colab": {
          "base_uri": "https://localhost:8080/"
        },
        "id": "kGh3-j6E4DPO",
        "outputId": "d6034e03-5a78-469c-d7b1-754e10d885c6"
      },
      "outputs": [
        {
          "output_type": "stream",
          "name": "stdout",
          "text": [
            "            Feature     Score\n",
            "39              IAT  2.037639\n",
            "1     Header_Length  1.141106\n",
            "34              Min  1.047393\n",
            "38         Tot size  1.044076\n",
            "41         Magnitue  1.034924\n",
            "36              AVG  1.031075\n",
            "33          Tot sum  1.029023\n",
            "2     Protocol Type  0.978941\n",
            "35              Max  0.977176\n",
            "26              TCP  0.667349\n",
            "15        syn_count  0.614043\n",
            "30             ICMP  0.534656\n",
            "8   syn_flag_number  0.530088\n",
            "5             Srate  0.526210\n",
            "4              Rate  0.525888\n",
            "0     flow_duration  0.477293\n",
            "27              UDP  0.434623\n",
            "18        rst_count  0.433292\n",
            "16        fin_count  0.399610\n",
            "17        urg_count  0.387811\n",
            "14        ack_count  0.381246\n",
            "7   fin_flag_number  0.364537\n",
            "9   rst_flag_number  0.357917\n",
            "10  psh_flag_number  0.354913\n",
            "11  ack_flag_number  0.349575\n",
            "37              Std  0.227330\n",
            "42           Radius  0.224622\n",
            "43       Covariance  0.223007\n",
            "44         Variance  0.149418\n",
            "3          Duration  0.055324\n",
            "19             HTTP  0.030285\n",
            "20            HTTPS  0.014197\n",
            "32              LLC  0.009656\n",
            "45           Weight  0.007905\n",
            "31              IPv  0.006386\n",
            "40           Number  0.005217\n",
            "21              DNS  0.003233\n",
            "12  ece_flag_number  0.000528\n",
            "28             DHCP  0.000155\n",
            "29              ARP  0.000000\n",
            "25              IRC  0.000000\n",
            "24              SSH  0.000000\n",
            "22           Telnet  0.000000\n",
            "13  cwr_flag_number  0.000000\n",
            "6             Drate  0.000000\n",
            "23             SMTP  0.000000\n",
            "skb_selected_feature_names:  ['Header_Length', 'Tot sum', 'Min', 'AVG', 'Tot size', 'IAT', 'Magnitue']\n"
          ]
        }
      ],
      "source": [
        "skb_selector = SelectKBest(score_func=mutual_info_classif, k=7)\n",
        "skb_selector.fit_transform(X, y)\n",
        "\n",
        "# printing the scores\n",
        "skb_feature_scores = pd.DataFrame({'Feature': X.columns, 'Score': skb_selector.scores_})\n",
        "skb_feature_scores = skb_feature_scores.sort_values(by='Score', ascending=False)  # Sort by importance\n",
        "print(skb_feature_scores)\n",
        "\n",
        "# Get the selected feature names\n",
        "skb_selected_feature_names = X.columns[skb_selector.get_support()]\n",
        "print('skb_selected_feature_names: ',skb_selected_feature_names.to_list())"
      ]
    },
    {
      "cell_type": "code",
      "execution_count": 17,
      "metadata": {
        "colab": {
          "base_uri": "https://localhost:8080/"
        },
        "id": "azBXswc331cJ",
        "outputId": "d04c3bff-2879-49cb-ca8c-4dc24deef28e"
      },
      "outputs": [
        {
          "output_type": "stream",
          "name": "stdout",
          "text": [
            "            Feature  Score\n",
            "15        syn_count      1\n",
            "1     Header_Length      1\n",
            "41         Magnitue      1\n",
            "34              Min      1\n",
            "10  psh_flag_number      1\n",
            "39              IAT      1\n",
            "38         Tot size      1\n",
            "7   fin_flag_number      1\n",
            "8   syn_flag_number      2\n",
            "36              AVG      3\n",
            "14        ack_count      4\n",
            "33          Tot sum      5\n",
            "17        urg_count      6\n",
            "27              UDP      7\n",
            "16        fin_count      8\n",
            "18        rst_count      9\n",
            "2     Protocol Type     10\n",
            "11  ack_flag_number     11\n",
            "0     flow_duration     12\n",
            "9   rst_flag_number     13\n",
            "35              Max     14\n",
            "30             ICMP     15\n",
            "5             Srate     16\n",
            "4              Rate     17\n",
            "26              TCP     18\n",
            "44         Variance     19\n",
            "37              Std     20\n",
            "42           Radius     21\n",
            "43       Covariance     22\n",
            "3          Duration     23\n",
            "19             HTTP     24\n",
            "45           Weight     25\n",
            "20            HTTPS     26\n",
            "40           Number     27\n",
            "31              IPv     28\n",
            "32              LLC     29\n",
            "29              ARP     30\n",
            "6             Drate     31\n",
            "21              DNS     32\n",
            "12  ece_flag_number     33\n",
            "13  cwr_flag_number     34\n",
            "24              SSH     35\n",
            "25              IRC     36\n",
            "28             DHCP     37\n",
            "23             SMTP     38\n",
            "22           Telnet     39\n",
            "rfe_selected_feature_names:  ['Header_Length', 'fin_flag_number', 'psh_flag_number', 'syn_count', 'Min', 'Tot size', 'IAT', 'Magnitue']\n"
          ]
        }
      ],
      "source": [
        "rfe_selector = RFE(estimator=RandomForestClassifier(), n_features_to_select=8)\n",
        "rfe_selector.fit_transform(X, y)\n",
        "\n",
        "rfe_feature_scores = pd.DataFrame({'Feature': X.columns, 'Score': rfe_selector.ranking_})\n",
        "rfe_feature_scores = rfe_feature_scores.sort_values(by='Score', ascending=True)  # Sort by importance (ascending)\n",
        "print(rfe_feature_scores)\n",
        "\n",
        "# Get the selected feature names\n",
        "rfe_selected_feature_names = X.columns[rfe_selector.get_support()]\n",
        "print('rfe_selected_feature_names: ',rfe_selected_feature_names.to_list())"
      ]
    },
    {
      "cell_type": "code",
      "execution_count": 18,
      "metadata": {
        "colab": {
          "base_uri": "https://localhost:8080/"
        },
        "id": "j5I4QzZ03yXG",
        "outputId": "9b83f550-61bc-4e0e-9636-642a15c6f4a2"
      },
      "outputs": [
        {
          "output_type": "stream",
          "name": "stdout",
          "text": [
            "['Min', 'Tot sum', 'AVG', 'IAT', 'fin_flag_number', 'syn_count', 'Tot size', 'psh_flag_number', 'Magnitue', 'Header_Length']\n"
          ]
        }
      ],
      "source": [
        "top_features_combined = list(set(skb_selected_feature_names) | set(rfe_selected_feature_names))\n",
        "print(top_features_combined)"
      ]
    },
    {
      "cell_type": "code",
      "execution_count": 19,
      "metadata": {
        "colab": {
          "base_uri": "https://localhost:8080/"
        },
        "id": "pYFaumBr3r8A",
        "outputId": "69a03207-9544-42c9-948a-d9bf2b16e5e4"
      },
      "outputs": [
        {
          "output_type": "stream",
          "name": "stdout",
          "text": [
            "Extra features from RFE: ['syn_flag_number', 'ack_count', 'urg_count', 'UDP', 'fin_count']\n",
            "['Min', 'Tot sum', 'AVG', 'IAT', 'fin_flag_number', 'syn_count', 'Tot size', 'psh_flag_number', 'Magnitue', 'Header_Length', 'syn_flag_number', 'ack_count', 'urg_count', 'UDP', 'fin_count']\n"
          ]
        }
      ],
      "source": [
        "no_of_redundent_features = 15-(len(top_features_combined))\n",
        "\n",
        "\n",
        "extra_features_from_rfe = []\n",
        "\n",
        "for feature in rfe_feature_scores['Feature']:\n",
        "    if feature not in top_features_combined:\n",
        "        extra_features_from_rfe.append(feature)\n",
        "    if len(extra_features_from_rfe) == no_of_redundent_features:  # Stop once we have 3 features\n",
        "        break\n",
        "\n",
        "print(\"Extra features from RFE:\", extra_features_from_rfe)\n",
        "\n",
        "top_features_combined.extend(extra_features_from_rfe)\n",
        "print(top_features_combined)\n",
        "\n",
        "X_selected = X[top_features_combined]"
      ]
    },
    {
      "cell_type": "code",
      "execution_count": 20,
      "metadata": {
        "colab": {
          "base_uri": "https://localhost:8080/"
        },
        "id": "G3sJL3HF2_9l",
        "outputId": "69c4a02f-d4a0-4643-c2b0-386bcf57dceb"
      },
      "outputs": [
        {
          "output_type": "stream",
          "name": "stdout",
          "text": [
            "Accuracy: 0.9991614876196113\n",
            "Precision: 0.9991925368045159\n",
            "Recall: 0.9991614876196113\n",
            "F1 Score: 0.9991720549094997\n",
            "Classification Report:\n",
            "               precision    recall  f1-score   support\n",
            "\n",
            "           0       0.99      0.99      0.99       513\n",
            "           1       0.92      0.96      0.94        56\n",
            "           2       1.00      1.00      1.00     12772\n",
            "           3       0.99      1.00      0.99       835\n",
            "           4       1.00      1.00      1.00      7477\n",
            "           5       1.00      1.00      1.00      7196\n",
            "           6       1.00      1.00      1.00      7166\n",
            "           7       0.73      0.92      0.81        24\n",
            "           8       1.00      1.00      1.00      6311\n",
            "           9       1.00      1.00      1.00      8162\n",
            "          10       1.00      1.00      1.00      9762\n",
            "          11       0.99      0.99      0.99       548\n",
            "\n",
            "    accuracy                           1.00     60822\n",
            "   macro avg       0.97      0.99      0.98     60822\n",
            "weighted avg       1.00      1.00      1.00     60822\n",
            "\n",
            "Confusion Matrix:\n",
            " [[  508     1     0     1     2     0     0     0     0     0     0     1]\n",
            " [    0    54     0     1     0     0     0     0     1     0     0     0]\n",
            " [    0     0 12770     1     0     0     0     1     0     0     0     0]\n",
            " [    0     2     0   832     0     0     0     0     0     0     1     0]\n",
            " [    0     0     0     0  7474     0     0     1     2     0     0     0]\n",
            " [    2     0     0     1     0  7189     0     1     0     0     3     0]\n",
            " [    0     0     0     0     0     0  7162     0     2     1     1     0]\n",
            " [    1     0     0     0     0     0     0    22     0     0     0     1]\n",
            " [    2     1     0     2     0     0     0     1  6301     0     3     1]\n",
            " [    0     0     1     0     0     0     0     0     0  8161     0     0]\n",
            " [    0     0     2     1     0     0     0     0     0     0  9758     1]\n",
            " [    0     1     0     2     0     0     0     4     1     0     0   540]]\n",
            "Cross-validation Accuracy: 0.9992116336642475\n"
          ]
        }
      ],
      "source": [
        "# Step 6: Train and Test Split\n",
        "from sklearn.metrics import precision_score, recall_score, f1_score, confusion_matrix\n",
        "X_train, X_test, y_train, y_test = train_test_split(X_selected, y, test_size=0.35, random_state=42)\n",
        "\n",
        "# Step 7: Train Random Forest Classifier\n",
        "rf_model = RandomForestClassifier(random_state=42)\n",
        "rf_model.fit(X_train, y_train)\n",
        "\n",
        "# Step 8: Evaluate the model\n",
        "y_pred = rf_model.predict(X_test)\n",
        "# Metrics\n",
        "accuracy = accuracy_score(y_test, y_pred)\n",
        "precision = precision_score(y_test, y_pred, average='weighted')  # Weighted for imbalanced classes\n",
        "recall = recall_score(y_test, y_pred, average='weighted')  # Weighted for imbalanced classes\n",
        "f1 = f1_score(y_test, y_pred, average='weighted')  # Weighted for imbalanced classes\n",
        "\n",
        "# Print metrics\n",
        "print(\"Accuracy:\", accuracy)\n",
        "print(\"Precision:\", precision)\n",
        "print(\"Recall:\", recall)\n",
        "print(\"F1 Score:\", f1)\n",
        "print(\"Classification Report:\\n\", classification_report(y_test, y_pred))\n",
        "\n",
        "# Confusion Matrix\n",
        "conf_matrix = confusion_matrix(y_test, y_pred)\n",
        "print(\"Confusion Matrix:\\n\", conf_matrix)\n",
        "\n",
        "# Step 9: Cross-validation (optional)\n",
        "cv_scores = cross_val_score(rf_model, X_selected, y, cv=5)\n",
        "print(\"Cross-validation Accuracy:\", np.mean(cv_scores))"
      ]
    },
    {
      "cell_type": "markdown",
      "metadata": {
        "id": "7s1C4_bj-VFU"
      },
      "source": [
        "# 20 Features"
      ]
    },
    {
      "cell_type": "code",
      "execution_count": 21,
      "metadata": {
        "colab": {
          "base_uri": "https://localhost:8080/"
        },
        "id": "PqdUUmhy-mQV",
        "outputId": "2eb94a4a-2137-4080-cdca-6575d02ec8b2"
      },
      "outputs": [
        {
          "output_type": "stream",
          "name": "stdout",
          "text": [
            "            Feature     Score\n",
            "39              IAT  2.037654\n",
            "1     Header_Length  1.140839\n",
            "34              Min  1.049792\n",
            "38         Tot size  1.043792\n",
            "41         Magnitue  1.036765\n",
            "36              AVG  1.031844\n",
            "33          Tot sum  1.028628\n",
            "2     Protocol Type  0.978248\n",
            "35              Max  0.977770\n",
            "26              TCP  0.666819\n",
            "15        syn_count  0.610603\n",
            "30             ICMP  0.530515\n",
            "8   syn_flag_number  0.529094\n",
            "4              Rate  0.525599\n",
            "5             Srate  0.525481\n",
            "0     flow_duration  0.476558\n",
            "18        rst_count  0.434453\n",
            "27              UDP  0.433974\n",
            "16        fin_count  0.401336\n",
            "17        urg_count  0.389136\n",
            "14        ack_count  0.381653\n",
            "7   fin_flag_number  0.363826\n",
            "9   rst_flag_number  0.357010\n",
            "10  psh_flag_number  0.356748\n",
            "11  ack_flag_number  0.353305\n",
            "37              Std  0.227218\n",
            "42           Radius  0.224236\n",
            "43       Covariance  0.224231\n",
            "44         Variance  0.147551\n",
            "3          Duration  0.060308\n",
            "19             HTTP  0.030518\n",
            "20            HTTPS  0.018487\n",
            "32              LLC  0.008108\n",
            "31              IPv  0.008055\n",
            "40           Number  0.006773\n",
            "45           Weight  0.002792\n",
            "24              SSH  0.001997\n",
            "28             DHCP  0.001752\n",
            "21              DNS  0.000836\n",
            "23             SMTP  0.000513\n",
            "29              ARP  0.000477\n",
            "6             Drate  0.000224\n",
            "13  cwr_flag_number  0.000165\n",
            "25              IRC  0.000000\n",
            "22           Telnet  0.000000\n",
            "12  ece_flag_number  0.000000\n",
            "skb_selected_feature_names:  ['Header_Length', 'Protocol Type', 'TCP', 'Tot sum', 'Min', 'Max', 'AVG', 'Tot size', 'IAT', 'Magnitue']\n"
          ]
        }
      ],
      "source": [
        "skb_selector = SelectKBest(score_func=mutual_info_classif, k=10)\n",
        "skb_selector.fit_transform(X, y)\n",
        "\n",
        "# printing the scores\n",
        "skb_feature_scores = pd.DataFrame({'Feature': X.columns, 'Score': skb_selector.scores_})\n",
        "skb_feature_scores = skb_feature_scores.sort_values(by='Score', ascending=False)  # Sort by importance\n",
        "print(skb_feature_scores)\n",
        "\n",
        "# Get the selected feature names\n",
        "skb_selected_feature_names = X.columns[skb_selector.get_support()]\n",
        "print('skb_selected_feature_names: ',skb_selected_feature_names.to_list())"
      ]
    },
    {
      "cell_type": "code",
      "execution_count": 22,
      "metadata": {
        "colab": {
          "base_uri": "https://localhost:8080/"
        },
        "id": "7KRTFKNy-jVX",
        "outputId": "92d43b61-564f-4fc3-a2b7-d9f8060e0b13"
      },
      "outputs": [
        {
          "output_type": "stream",
          "name": "stdout",
          "text": [
            "            Feature  Score\n",
            "1     Header_Length      1\n",
            "36              AVG      1\n",
            "27              UDP      1\n",
            "38         Tot size      1\n",
            "39              IAT      1\n",
            "17        urg_count      1\n",
            "7   fin_flag_number      1\n",
            "34              Min      1\n",
            "15        syn_count      1\n",
            "41         Magnitue      1\n",
            "14        ack_count      2\n",
            "10  psh_flag_number      3\n",
            "8   syn_flag_number      4\n",
            "33          Tot sum      5\n",
            "16        fin_count      6\n",
            "18        rst_count      7\n",
            "2     Protocol Type      8\n",
            "11  ack_flag_number      9\n",
            "35              Max     10\n",
            "30             ICMP     11\n",
            "0     flow_duration     12\n",
            "5             Srate     13\n",
            "4              Rate     14\n",
            "26              TCP     15\n",
            "9   rst_flag_number     16\n",
            "37              Std     17\n",
            "44         Variance     18\n",
            "42           Radius     19\n",
            "43       Covariance     20\n",
            "19             HTTP     21\n",
            "3          Duration     22\n",
            "40           Number     23\n",
            "20            HTTPS     24\n",
            "45           Weight     25\n",
            "31              IPv     26\n",
            "32              LLC     27\n",
            "29              ARP     28\n",
            "6             Drate     29\n",
            "21              DNS     30\n",
            "12  ece_flag_number     31\n",
            "13  cwr_flag_number     32\n",
            "24              SSH     33\n",
            "25              IRC     34\n",
            "28             DHCP     35\n",
            "23             SMTP     36\n",
            "22           Telnet     37\n",
            "rfe_selected_feature_names:  ['Header_Length', 'fin_flag_number', 'syn_count', 'urg_count', 'UDP', 'Min', 'AVG', 'Tot size', 'IAT', 'Magnitue']\n"
          ]
        }
      ],
      "source": [
        "rfe_selector = RFE(estimator=RandomForestClassifier(), n_features_to_select=10)\n",
        "rfe_selector.fit_transform(X, y)\n",
        "\n",
        "rfe_feature_scores = pd.DataFrame({'Feature': X.columns, 'Score': rfe_selector.ranking_})\n",
        "rfe_feature_scores = rfe_feature_scores.sort_values(by='Score', ascending=True)  # Sort by importance (ascending)\n",
        "print(rfe_feature_scores)\n",
        "\n",
        "# Get the selected feature names\n",
        "rfe_selected_feature_names = X.columns[rfe_selector.get_support()]\n",
        "print('rfe_selected_feature_names: ',rfe_selected_feature_names.to_list())"
      ]
    },
    {
      "cell_type": "code",
      "execution_count": 23,
      "metadata": {
        "colab": {
          "base_uri": "https://localhost:8080/"
        },
        "id": "fjFIAlF8-gEG",
        "outputId": "5513a10e-ec03-4783-b3b6-c4d8fc5f764b"
      },
      "outputs": [
        {
          "output_type": "stream",
          "name": "stdout",
          "text": [
            "['Min', 'Protocol Type', 'IAT', 'fin_flag_number', 'Tot size', 'UDP', 'urg_count', 'Header_Length', 'Tot sum', 'AVG', 'syn_count', 'Magnitue', 'TCP', 'Max']\n"
          ]
        }
      ],
      "source": [
        "top_features_combined = list(set(skb_selected_feature_names) | set(rfe_selected_feature_names))\n",
        "print(top_features_combined)"
      ]
    },
    {
      "cell_type": "code",
      "execution_count": 24,
      "metadata": {
        "colab": {
          "base_uri": "https://localhost:8080/"
        },
        "id": "hu7xFHHW-d8J",
        "outputId": "2e0a9264-5f36-4823-aa53-9f89eb2a7689"
      },
      "outputs": [
        {
          "output_type": "stream",
          "name": "stdout",
          "text": [
            "Extra features from RFE: ['ack_count', 'psh_flag_number', 'syn_flag_number', 'fin_count', 'rst_count', 'ack_flag_number']\n",
            "['Min', 'Protocol Type', 'IAT', 'fin_flag_number', 'Tot size', 'UDP', 'urg_count', 'Header_Length', 'Tot sum', 'AVG', 'syn_count', 'Magnitue', 'TCP', 'Max', 'ack_count', 'psh_flag_number', 'syn_flag_number', 'fin_count', 'rst_count', 'ack_flag_number']\n"
          ]
        }
      ],
      "source": [
        "no_of_redundent_features = 20-(len(top_features_combined))\n",
        "\n",
        "extra_features_from_rfe = []\n",
        "\n",
        "for feature in rfe_feature_scores['Feature']:\n",
        "    if feature not in top_features_combined:\n",
        "        extra_features_from_rfe.append(feature)\n",
        "    if len(extra_features_from_rfe) == no_of_redundent_features:\n",
        "        break\n",
        "\n",
        "print(\"Extra features from RFE:\", extra_features_from_rfe)\n",
        "\n",
        "top_features_combined.extend(extra_features_from_rfe)\n",
        "print(top_features_combined)\n",
        "\n",
        "X_selected = X[top_features_combined]"
      ]
    },
    {
      "cell_type": "code",
      "execution_count": 25,
      "metadata": {
        "colab": {
          "base_uri": "https://localhost:8080/"
        },
        "id": "s7uIplp_-Yit",
        "outputId": "eb4da637-81a5-4353-c030-851707f94b38"
      },
      "outputs": [
        {
          "output_type": "stream",
          "name": "stdout",
          "text": [
            "Accuracy: 0.9991779290388346\n",
            "Precision: 0.9991900197575078\n",
            "Recall: 0.9991779290388346\n",
            "F1 Score: 0.9991814742902781\n",
            "Classification Report:\n",
            "               precision    recall  f1-score   support\n",
            "\n",
            "           0       0.99      0.99      0.99       513\n",
            "           1       0.97      1.00      0.98        56\n",
            "           2       1.00      1.00      1.00     12772\n",
            "           3       0.98      1.00      0.99       835\n",
            "           4       1.00      1.00      1.00      7477\n",
            "           5       1.00      1.00      1.00      7196\n",
            "           6       1.00      1.00      1.00      7166\n",
            "           7       0.85      0.96      0.90        24\n",
            "           8       1.00      1.00      1.00      6311\n",
            "           9       1.00      1.00      1.00      8162\n",
            "          10       1.00      1.00      1.00      9762\n",
            "          11       1.00      0.99      0.99       548\n",
            "\n",
            "    accuracy                           1.00     60822\n",
            "   macro avg       0.98      0.99      0.99     60822\n",
            "weighted avg       1.00      1.00      1.00     60822\n",
            "\n",
            "Confusion Matrix:\n",
            " [[  508     1     0     1     2     0     0     0     1     0     0     0]\n",
            " [    0    56     0     0     0     0     0     0     0     0     0     0]\n",
            " [    0     0 12767     2     0     0     0     0     0     0     2     1]\n",
            " [    0     1     0   832     0     0     0     1     0     0     1     0]\n",
            " [    0     0     0     3  7472     0     0     0     1     0     1     0]\n",
            " [    2     0     0     1     1  7190     0     0     1     0     1     0]\n",
            " [    0     0     0     0     0     0  7162     0     2     1     1     0]\n",
            " [    0     0     0     1     0     0     0    23     0     0     0     0]\n",
            " [    1     0     0     5     0     0     0     1  6301     0     3     0]\n",
            " [    0     0     0     0     0     0     0     0     0  8162     0     0]\n",
            " [    0     0     2     2     0     0     0     0     0     0  9757     1]\n",
            " [    1     0     0     1     0     0     0     2     2     0     0   542]]\n",
            "Cross-validation Accuracy: 0.999292195956176\n"
          ]
        }
      ],
      "source": [
        "# Step 6: Train and Test Split\n",
        "from sklearn.metrics import precision_score, recall_score, f1_score, confusion_matrix\n",
        "X_train, X_test, y_train, y_test = train_test_split(X_selected, y, test_size=0.35, random_state=42)\n",
        "\n",
        "# Step 7: Train Random Forest Classifier\n",
        "rf_model = RandomForestClassifier(random_state=42)\n",
        "rf_model.fit(X_train, y_train)\n",
        "\n",
        "# Step 8: Evaluate the model\n",
        "y_pred = rf_model.predict(X_test)\n",
        "# Metrics\n",
        "accuracy = accuracy_score(y_test, y_pred)\n",
        "precision = precision_score(y_test, y_pred, average='weighted')  # Weighted for imbalanced classes\n",
        "recall = recall_score(y_test, y_pred, average='weighted')  # Weighted for imbalanced classes\n",
        "f1 = f1_score(y_test, y_pred, average='weighted')  # Weighted for imbalanced classes\n",
        "\n",
        "# Print metrics\n",
        "print(\"Accuracy:\", accuracy)\n",
        "print(\"Precision:\", precision)\n",
        "print(\"Recall:\", recall)\n",
        "print(\"F1 Score:\", f1)\n",
        "print(\"Classification Report:\\n\", classification_report(y_test, y_pred))\n",
        "\n",
        "# Confusion Matrix\n",
        "conf_matrix = confusion_matrix(y_test, y_pred)\n",
        "print(\"Confusion Matrix:\\n\", conf_matrix)\n",
        "\n",
        "# Step 9: Cross-validation (optional)\n",
        "cv_scores = cross_val_score(rf_model, X_selected, y, cv=5)\n",
        "print(\"Cross-validation Accuracy:\", np.mean(cv_scores))"
      ]
    },
    {
      "cell_type": "markdown",
      "metadata": {
        "id": "e8nv6t8X_1jt"
      },
      "source": [
        "# 25 Features"
      ]
    },
    {
      "cell_type": "code",
      "execution_count": 26,
      "metadata": {
        "colab": {
          "base_uri": "https://localhost:8080/"
        },
        "id": "EZTsh0hPAFni",
        "outputId": "f594ae19-4e74-4d61-ad73-df6ee73b70fa"
      },
      "outputs": [
        {
          "output_type": "stream",
          "name": "stdout",
          "text": [
            "            Feature     Score\n",
            "39              IAT  2.037667\n",
            "1     Header_Length  1.137331\n",
            "34              Min  1.047731\n",
            "38         Tot size  1.042350\n",
            "41         Magnitue  1.038449\n",
            "36              AVG  1.032249\n",
            "33          Tot sum  1.029861\n",
            "2     Protocol Type  0.979617\n",
            "35              Max  0.977488\n",
            "26              TCP  0.669488\n",
            "15        syn_count  0.615645\n",
            "30             ICMP  0.533193\n",
            "8   syn_flag_number  0.530077\n",
            "5             Srate  0.525655\n",
            "4              Rate  0.525389\n",
            "0     flow_duration  0.477055\n",
            "27              UDP  0.434234\n",
            "18        rst_count  0.433090\n",
            "16        fin_count  0.400893\n",
            "17        urg_count  0.388131\n",
            "14        ack_count  0.380211\n",
            "7   fin_flag_number  0.365576\n",
            "10  psh_flag_number  0.358072\n",
            "9   rst_flag_number  0.356337\n",
            "11  ack_flag_number  0.350323\n",
            "43       Covariance  0.226241\n",
            "37              Std  0.225009\n",
            "42           Radius  0.223542\n",
            "44         Variance  0.149737\n",
            "3          Duration  0.057544\n",
            "19             HTTP  0.032423\n",
            "20            HTTPS  0.016839\n",
            "40           Number  0.007764\n",
            "31              IPv  0.004912\n",
            "32              LLC  0.004184\n",
            "45           Weight  0.003692\n",
            "23             SMTP  0.001804\n",
            "25              IRC  0.000246\n",
            "6             Drate  0.000106\n",
            "12  ece_flag_number  0.000028\n",
            "29              ARP  0.000000\n",
            "28             DHCP  0.000000\n",
            "24              SSH  0.000000\n",
            "22           Telnet  0.000000\n",
            "21              DNS  0.000000\n",
            "13  cwr_flag_number  0.000000\n",
            "skb_selected_feature_names:  ['Header_Length', 'Protocol Type', 'syn_count', 'TCP', 'ICMP', 'Tot sum', 'Min', 'Max', 'AVG', 'Tot size', 'IAT', 'Magnitue']\n"
          ]
        }
      ],
      "source": [
        "skb_selector = SelectKBest(score_func=mutual_info_classif, k=12)\n",
        "skb_selector.fit_transform(X, y)\n",
        "\n",
        "# printing the scores\n",
        "skb_feature_scores = pd.DataFrame({'Feature': X.columns, 'Score': skb_selector.scores_})\n",
        "skb_feature_scores = skb_feature_scores.sort_values(by='Score', ascending=False)  # Sort by importance\n",
        "print(skb_feature_scores)\n",
        "\n",
        "# Get the selected feature names\n",
        "skb_selected_feature_names = X.columns[skb_selector.get_support()]\n",
        "print('skb_selected_feature_names: ',skb_selected_feature_names.to_list())"
      ]
    },
    {
      "cell_type": "code",
      "execution_count": 27,
      "metadata": {
        "colab": {
          "base_uri": "https://localhost:8080/"
        },
        "id": "cFwLah3OAB1t",
        "outputId": "c73f1dfc-f8ee-4528-9199-9b96e1ade039"
      },
      "outputs": [
        {
          "output_type": "stream",
          "name": "stdout",
          "text": [
            "            Feature  Score\n",
            "15        syn_count      1\n",
            "17        urg_count      1\n",
            "33          Tot sum      1\n",
            "14        ack_count      1\n",
            "41         Magnitue      1\n",
            "38         Tot size      1\n",
            "10  psh_flag_number      1\n",
            "8   syn_flag_number      1\n",
            "39              IAT      1\n",
            "36              AVG      1\n",
            "34              Min      1\n",
            "1     Header_Length      1\n",
            "7   fin_flag_number      1\n",
            "27              UDP      2\n",
            "18        rst_count      3\n",
            "16        fin_count      4\n",
            "2     Protocol Type      5\n",
            "35              Max      6\n",
            "9   rst_flag_number      7\n",
            "11  ack_flag_number      8\n",
            "0     flow_duration      9\n",
            "30             ICMP     10\n",
            "5             Srate     11\n",
            "4              Rate     12\n",
            "26              TCP     13\n",
            "37              Std     14\n",
            "44         Variance     15\n",
            "42           Radius     16\n",
            "43       Covariance     17\n",
            "3          Duration     18\n",
            "19             HTTP     19\n",
            "45           Weight     20\n",
            "20            HTTPS     21\n",
            "40           Number     22\n",
            "32              LLC     23\n",
            "29              ARP     24\n",
            "31              IPv     25\n",
            "6             Drate     26\n",
            "21              DNS     27\n",
            "12  ece_flag_number     28\n",
            "13  cwr_flag_number     29\n",
            "24              SSH     30\n",
            "25              IRC     31\n",
            "28             DHCP     32\n",
            "23             SMTP     33\n",
            "22           Telnet     34\n",
            "rfe_selected_feature_names:  ['Header_Length', 'fin_flag_number', 'syn_flag_number', 'psh_flag_number', 'ack_count', 'syn_count', 'urg_count', 'Tot sum', 'Min', 'AVG', 'Tot size', 'IAT', 'Magnitue']\n"
          ]
        }
      ],
      "source": [
        "rfe_selector = RFE(estimator=RandomForestClassifier(), n_features_to_select=13)\n",
        "rfe_selector.fit_transform(X, y)\n",
        "\n",
        "rfe_feature_scores = pd.DataFrame({'Feature': X.columns, 'Score': rfe_selector.ranking_})\n",
        "rfe_feature_scores = rfe_feature_scores.sort_values(by='Score', ascending=True)  # Sort by importance (ascending)\n",
        "print(rfe_feature_scores)\n",
        "\n",
        "# Get the selected feature names\n",
        "rfe_selected_feature_names = X.columns[rfe_selector.get_support()]\n",
        "print('rfe_selected_feature_names: ',rfe_selected_feature_names.to_list())"
      ]
    },
    {
      "cell_type": "code",
      "execution_count": 28,
      "metadata": {
        "colab": {
          "base_uri": "https://localhost:8080/"
        },
        "id": "RcNR_JqW__Hn",
        "outputId": "5c14df96-d100-4e70-a604-5dbc975bc31f"
      },
      "outputs": [
        {
          "output_type": "stream",
          "name": "stdout",
          "text": [
            "['Min', 'ICMP', 'Protocol Type', 'IAT', 'fin_flag_number', 'Tot size', 'urg_count', 'Header_Length', 'psh_flag_number', 'Tot sum', 'AVG', 'syn_flag_number', 'syn_count', 'Magnitue', 'ack_count', 'TCP', 'Max']\n"
          ]
        }
      ],
      "source": [
        "top_features_combined = list(set(skb_selected_feature_names) | set(rfe_selected_feature_names))\n",
        "print(top_features_combined)"
      ]
    },
    {
      "cell_type": "code",
      "execution_count": 29,
      "metadata": {
        "colab": {
          "base_uri": "https://localhost:8080/"
        },
        "id": "rJXkmcXn_7-9",
        "outputId": "79197e97-5b99-4fad-a349-6fc9d123004b"
      },
      "outputs": [
        {
          "output_type": "stream",
          "name": "stdout",
          "text": [
            "Extra features from RFE: ['UDP', 'rst_count', 'fin_count', 'rst_flag_number', 'ack_flag_number', 'flow_duration', 'Srate', 'Rate']\n",
            "['Min', 'ICMP', 'Protocol Type', 'IAT', 'fin_flag_number', 'Tot size', 'urg_count', 'Header_Length', 'psh_flag_number', 'Tot sum', 'AVG', 'syn_flag_number', 'syn_count', 'Magnitue', 'ack_count', 'TCP', 'Max', 'UDP', 'rst_count', 'fin_count', 'rst_flag_number', 'ack_flag_number', 'flow_duration', 'Srate', 'Rate']\n"
          ]
        }
      ],
      "source": [
        "no_of_redundent_features = 25-(len(top_features_combined))\n",
        "\n",
        "extra_features_from_rfe = []\n",
        "\n",
        "for feature in rfe_feature_scores['Feature']:\n",
        "    if feature not in top_features_combined:\n",
        "        extra_features_from_rfe.append(feature)\n",
        "    if len(extra_features_from_rfe) == no_of_redundent_features:\n",
        "        break\n",
        "\n",
        "print(\"Extra features from RFE:\", extra_features_from_rfe)\n",
        "\n",
        "top_features_combined.extend(extra_features_from_rfe)\n",
        "print(top_features_combined)\n",
        "\n",
        "X_selected = X[top_features_combined]"
      ]
    },
    {
      "cell_type": "code",
      "execution_count": 30,
      "metadata": {
        "id": "7AnfwWza_5C0",
        "colab": {
          "base_uri": "https://localhost:8080/"
        },
        "outputId": "bb75d7d8-0057-44b6-8a66-d93621a61bbc"
      },
      "outputs": [
        {
          "output_type": "stream",
          "name": "stdout",
          "text": [
            "Accuracy: 0.9992930189733977\n",
            "Precision: 0.9993092840129629\n",
            "Recall: 0.9992930189733977\n",
            "F1 Score: 0.9992973340413825\n",
            "Classification Report:\n",
            "               precision    recall  f1-score   support\n",
            "\n",
            "           0       1.00      0.99      0.99       513\n",
            "           1       0.98      1.00      0.99        56\n",
            "           2       1.00      1.00      1.00     12772\n",
            "           3       0.99      1.00      0.99       835\n",
            "           4       1.00      1.00      1.00      7477\n",
            "           5       1.00      1.00      1.00      7196\n",
            "           6       1.00      1.00      1.00      7166\n",
            "           7       0.83      1.00      0.91        24\n",
            "           8       1.00      1.00      1.00      6311\n",
            "           9       1.00      1.00      1.00      8162\n",
            "          10       1.00      1.00      1.00      9762\n",
            "          11       1.00      0.99      0.99       548\n",
            "\n",
            "    accuracy                           1.00     60822\n",
            "   macro avg       0.98      1.00      0.99     60822\n",
            "weighted avg       1.00      1.00      1.00     60822\n",
            "\n",
            "Confusion Matrix:\n",
            " [[  509     0     0     0     3     0     0     0     0     0     1     0]\n",
            " [    0    56     0     0     0     0     0     0     0     0     0     0]\n",
            " [    0     0 12769     1     0     0     0     0     0     0     1     1]\n",
            " [    0     1     0   832     0     0     0     0     0     0     2     0]\n",
            " [    0     0     0     2  7473     0     0     0     2     0     0     0]\n",
            " [    0     0     0     3     2  7189     0     0     0     0     2     0]\n",
            " [    0     0     0     0     0     0  7162     0     2     0     2     0]\n",
            " [    0     0     0     0     0     0     0    24     0     0     0     0]\n",
            " [    2     0     0     3     1     1     0     1  6303     0     0     0]\n",
            " [    0     0     0     0     0     0     0     0     0  8162     0     0]\n",
            " [    0     0     2     2     0     0     0     0     0     0  9757     1]\n",
            " [    0     0     0     1     0     0     0     4     0     0     0   543]]\n",
            "Cross-validation Accuracy: 0.9993094603215222\n"
          ]
        }
      ],
      "source": [
        "# Step 6: Train and Test Split\n",
        "from sklearn.metrics import precision_score, recall_score, f1_score, confusion_matrix\n",
        "X_train, X_test, y_train, y_test = train_test_split(X_selected, y, test_size=0.35, random_state=42)\n",
        "\n",
        "# Step 7: Train Random Forest Classifier\n",
        "rf_model = RandomForestClassifier(random_state=42)\n",
        "rf_model.fit(X_train, y_train)\n",
        "\n",
        "# Step 8: Evaluate the model\n",
        "y_pred = rf_model.predict(X_test)\n",
        "# Metrics\n",
        "accuracy = accuracy_score(y_test, y_pred)\n",
        "precision = precision_score(y_test, y_pred, average='weighted')  # Weighted for imbalanced classes\n",
        "recall = recall_score(y_test, y_pred, average='weighted')  # Weighted for imbalanced classes\n",
        "f1 = f1_score(y_test, y_pred, average='weighted')  # Weighted for imbalanced classes\n",
        "\n",
        "# Print metrics\n",
        "print(\"Accuracy:\", accuracy)\n",
        "print(\"Precision:\", precision)\n",
        "print(\"Recall:\", recall)\n",
        "print(\"F1 Score:\", f1)\n",
        "print(\"Classification Report:\\n\", classification_report(y_test, y_pred))\n",
        "\n",
        "# Confusion Matrix\n",
        "conf_matrix = confusion_matrix(y_test, y_pred)\n",
        "print(\"Confusion Matrix:\\n\", conf_matrix)\n",
        "\n",
        "# Step 9: Cross-validation (optional)\n",
        "cv_scores = cross_val_score(rf_model, X_selected, y, cv=5)\n",
        "print(\"Cross-validation Accuracy:\", np.mean(cv_scores))"
      ]
    }
  ],
  "metadata": {
    "colab": {
      "provenance": [],
      "mount_file_id": "12eaDBF53XhfCOaXMhT3gq-8GzsdRTtnR",
      "authorship_tag": "ABX9TyOFnor6dKf1KslARe828Nak",
      "include_colab_link": true
    },
    "kernelspec": {
      "display_name": "Python 3",
      "name": "python3"
    },
    "language_info": {
      "name": "python"
    }
  },
  "nbformat": 4,
  "nbformat_minor": 0
}