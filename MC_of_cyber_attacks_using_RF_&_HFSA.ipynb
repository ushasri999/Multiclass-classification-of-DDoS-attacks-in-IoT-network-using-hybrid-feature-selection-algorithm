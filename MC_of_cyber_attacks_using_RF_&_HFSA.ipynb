{
  "cells": [
    {
      "cell_type": "markdown",
      "metadata": {
        "id": "view-in-github",
        "colab_type": "text"
      },
      "source": [
        "<a href=\"https://colab.research.google.com/github/ushasri999/Multiclass-classification-of-DDoS-attacks-in-IoT-network-using-hybrid-feature-selection-algorithm/blob/main/MC_of_cyber_attacks_using_RF_%26_HFSA.ipynb\" target=\"_parent\"><img src=\"https://colab.research.google.com/assets/colab-badge.svg\" alt=\"Open In Colab\"/></a>"
      ]
    },
    {
      "cell_type": "code",
      "execution_count": null,
      "metadata": {
        "colab": {
          "base_uri": "https://localhost:8080/"
        },
        "id": "n8Kx72om60rh",
        "outputId": "8b02c3f9-fa43-4928-a93b-29c2a2f12042"
      },
      "outputs": [
        {
          "name": "stdout",
          "output_type": "stream",
          "text": [
            "Drive already mounted at /content/drive; to attempt to forcibly remount, call drive.mount(\"/content/drive\", force_remount=True).\n"
          ]
        }
      ],
      "source": [
        "from google.colab import drive\n",
        "drive.mount('/content/drive')"
      ]
    },
    {
      "cell_type": "code",
      "execution_count": null,
      "metadata": {
        "colab": {
          "base_uri": "https://localhost:8080/"
        },
        "id": "Mfy-qpheskZi",
        "outputId": "efe3213b-5755-4ffd-f377-017a488d5115"
      },
      "outputs": [
        {
          "name": "stdout",
          "output_type": "stream",
          "text": [
            "Features shape: (238687, 46)\n",
            "Target shape: (238687,)\n"
          ]
        }
      ],
      "source": [
        "import pandas as pd\n",
        "import numpy as np\n",
        "from sklearn.ensemble import RandomForestClassifier\n",
        "from sklearn.model_selection import train_test_split, cross_val_score\n",
        "from sklearn.feature_selection import SelectKBest, mutual_info_classif, RFE\n",
        "from sklearn.metrics import classification_report, accuracy_score\n",
        "from sklearn.preprocessing import LabelEncoder\n",
        "\n",
        "# Step 1: Load the dataset\n",
        "df = pd.read_csv('/content/drive/MyDrive/data.csv')\n",
        "\n",
        "# Step 2: Separate features and target\n",
        "X = df.drop(\"label\", axis=1, errors='ignore')\n",
        "y = df[\"label\"] if 'label' in df.columns else pd.Series([])\n",
        "\n",
        "# Encode target labels into numeric values\n",
        "label_encoder = LabelEncoder()\n",
        "y = label_encoder.fit_transform(y)\n",
        "\n",
        "# Check for valid features and labels\n",
        "print(f\"Features shape: {X.shape}\")\n",
        "print(f\"Target shape: {y.shape}\")\n"
      ]
    },
    {
      "cell_type": "markdown",
      "metadata": {
        "id": "5da4QmaFs6MZ"
      },
      "source": [
        "# 5 Features"
      ]
    },
    {
      "cell_type": "code",
      "execution_count": null,
      "metadata": {
        "colab": {
          "base_uri": "https://localhost:8080/"
        },
        "collapsed": true,
        "id": "HezhQRaCskKm",
        "outputId": "8dd5ddca-42b2-41b1-d5f8-0f9c2dbaf174"
      },
      "outputs": [
        {
          "name": "stdout",
          "output_type": "stream",
          "text": [
            "            Feature     Score\n",
            "39              IAT  2.601526\n",
            "38         Tot size  1.338491\n",
            "1     Header_Length  1.327253\n",
            "41         Magnitue  1.316873\n",
            "36              AVG  1.312922\n",
            "33          Tot sum  1.303143\n",
            "34              Min  1.297709\n",
            "35              Max  1.271486\n",
            "2     Protocol Type  1.162077\n",
            "26              TCP  0.655380\n",
            "15        syn_count  0.647037\n",
            "0     flow_duration  0.634361\n",
            "5             Srate  0.632944\n",
            "4              Rate  0.632361\n",
            "18        rst_count  0.510583\n",
            "8   syn_flag_number  0.498558\n",
            "27              UDP  0.495764\n",
            "17        urg_count  0.460873\n",
            "30             ICMP  0.443863\n",
            "37              Std  0.383906\n",
            "43       Covariance  0.382039\n",
            "42           Radius  0.380824\n",
            "16        fin_count  0.347048\n",
            "14        ack_count  0.331640\n",
            "11  ack_flag_number  0.327203\n",
            "44         Variance  0.297658\n",
            "7   fin_flag_number  0.291331\n",
            "9   rst_flag_number  0.285713\n",
            "10  psh_flag_number  0.285226\n",
            "3          Duration  0.212666\n",
            "45           Weight  0.178388\n",
            "40           Number  0.177406\n",
            "20            HTTPS  0.069597\n",
            "19             HTTP  0.032909\n",
            "32              LLC  0.007116\n",
            "31              IPv  0.003588\n",
            "13  cwr_flag_number  0.002693\n",
            "29              ARP  0.001376\n",
            "21              DNS  0.001348\n",
            "25              IRC  0.000607\n",
            "22           Telnet  0.000567\n",
            "6             Drate  0.000563\n",
            "28             DHCP  0.000469\n",
            "12  ece_flag_number  0.000406\n",
            "23             SMTP  0.000238\n",
            "24              SSH  0.000000\n",
            "skb_selected_feature_names:  ['Tot size', 'IAT']\n"
          ]
        }
      ],
      "source": [
        "skb_selector = SelectKBest(score_func=mutual_info_classif, k=2)\n",
        "skb_selector.fit_transform(X, y)\n",
        "\n",
        "# printing the scores\n",
        "skb_feature_scores = pd.DataFrame({'Feature': X.columns, 'Score': skb_selector.scores_})\n",
        "skb_feature_scores = skb_feature_scores.sort_values(by='Score', ascending=False)  # Sort by importance\n",
        "print(skb_feature_scores)\n",
        "\n",
        "# Get the selected feature names\n",
        "skb_selected_feature_names = X.columns[skb_selector.get_support()]\n",
        "print('skb_selected_feature_names: ',skb_selected_feature_names.to_list())"
      ]
    },
    {
      "cell_type": "code",
      "execution_count": null,
      "metadata": {
        "colab": {
          "base_uri": "https://localhost:8080/"
        },
        "collapsed": true,
        "id": "O1r8DTDgsj07",
        "outputId": "63bd2f65-51a0-4095-a92a-141c60b015c9"
      },
      "outputs": [
        {
          "name": "stdout",
          "output_type": "stream",
          "text": [
            "            Feature  Score\n",
            "34              Min      1\n",
            "39              IAT      1\n",
            "41         Magnitue      1\n",
            "15        syn_count      2\n",
            "38         Tot size      3\n",
            "36              AVG      4\n",
            "7   fin_flag_number      5\n",
            "10  psh_flag_number      6\n",
            "1     Header_Length      7\n",
            "2     Protocol Type      8\n",
            "8   syn_flag_number      9\n",
            "33          Tot sum     10\n",
            "17        urg_count     11\n",
            "14        ack_count     12\n",
            "0     flow_duration     13\n",
            "35              Max     14\n",
            "18        rst_count     15\n",
            "16        fin_count     16\n",
            "5             Srate     17\n",
            "27              UDP     18\n",
            "11  ack_flag_number     19\n",
            "4              Rate     20\n",
            "30             ICMP     21\n",
            "44         Variance     22\n",
            "26              TCP     23\n",
            "9   rst_flag_number     24\n",
            "42           Radius     25\n",
            "43       Covariance     26\n",
            "37              Std     27\n",
            "40           Number     28\n",
            "3          Duration     29\n",
            "45           Weight     30\n",
            "20            HTTPS     31\n",
            "19             HTTP     32\n",
            "21              DNS     33\n",
            "24              SSH     34\n",
            "32              LLC     35\n",
            "31              IPv     36\n",
            "29              ARP     37\n",
            "6             Drate     38\n",
            "12  ece_flag_number     39\n",
            "13  cwr_flag_number     40\n",
            "25              IRC     41\n",
            "28             DHCP     42\n",
            "23             SMTP     43\n",
            "22           Telnet     44\n",
            "rfe_selected_feature_names:  ['Min', 'IAT', 'Magnitue']\n"
          ]
        }
      ],
      "source": [
        "rfe_selector = RFE(estimator=RandomForestClassifier(), n_features_to_select=3)\n",
        "rfe_selector.fit_transform(X, y)\n",
        "\n",
        "rfe_feature_scores = pd.DataFrame({'Feature': X.columns, 'Score': rfe_selector.ranking_})\n",
        "rfe_feature_scores = rfe_feature_scores.sort_values(by='Score', ascending=True)  # Sort by importance (ascending)\n",
        "print(rfe_feature_scores)\n",
        "\n",
        "# Get the selected feature names\n",
        "rfe_selected_feature_names = X.columns[rfe_selector.get_support()]\n",
        "print('rfe_selected_feature_names: ',rfe_selected_feature_names.to_list())"
      ]
    },
    {
      "cell_type": "code",
      "execution_count": null,
      "metadata": {
        "colab": {
          "base_uri": "https://localhost:8080/"
        },
        "id": "-IxoaU2iuv5g",
        "outputId": "da46de49-6fb4-40b8-90e5-3eb062ae8b04"
      },
      "outputs": [
        {
          "name": "stdout",
          "output_type": "stream",
          "text": [
            "['Tot size', 'IAT', 'Min', 'Magnitue']\n"
          ]
        }
      ],
      "source": [
        "top_features_combined = list(set(skb_selected_feature_names) | set(rfe_selected_feature_names))\n",
        "print(top_features_combined)"
      ]
    },
    {
      "cell_type": "code",
      "execution_count": null,
      "metadata": {
        "colab": {
          "base_uri": "https://localhost:8080/"
        },
        "id": "OO6OxAsExETQ",
        "outputId": "1bef725d-11c1-4f95-f442-13b38b00eda7"
      },
      "outputs": [
        {
          "name": "stdout",
          "output_type": "stream",
          "text": [
            "Extra features from RFE: ['syn_count']\n",
            "['Tot size', 'IAT', 'Min', 'Magnitue', 'syn_count']\n"
          ]
        }
      ],
      "source": [
        "no_of_redundent_features = 5-(len(top_features_combined))\n",
        "\n",
        "\n",
        "extra_features_from_rfe = []\n",
        "\n",
        "for feature in rfe_feature_scores['Feature']:\n",
        "    if feature not in top_features_combined:\n",
        "        extra_features_from_rfe.append(feature)\n",
        "    if len(extra_features_from_rfe) == no_of_redundent_features:  # Stop once we have 3 features\n",
        "        break\n",
        "\n",
        "print(\"Extra features from RFE:\", extra_features_from_rfe)\n",
        "\n",
        "top_features_combined.extend(extra_features_from_rfe)\n",
        "print(top_features_combined)\n",
        "\n",
        "X_selected = X[top_features_combined]"
      ]
    },
    {
      "cell_type": "code",
      "execution_count": null,
      "metadata": {
        "colab": {
          "base_uri": "https://localhost:8080/"
        },
        "id": "pWabVFNfyJG1",
        "outputId": "622856be-c91f-4e56-ae95-2c8a765982e4"
      },
      "outputs": [
        {
          "name": "stderr",
          "output_type": "stream",
          "text": [
            "/usr/local/lib/python3.11/dist-packages/sklearn/metrics/_classification.py:1565: UndefinedMetricWarning: Precision is ill-defined and being set to 0.0 in labels with no predicted samples. Use `zero_division` parameter to control this behavior.\n",
            "  _warn_prf(average, modifier, f\"{metric.capitalize()} is\", len(result))\n",
            "/usr/local/lib/python3.11/dist-packages/sklearn/metrics/_classification.py:1565: UndefinedMetricWarning: Precision is ill-defined and being set to 0.0 in labels with no predicted samples. Use `zero_division` parameter to control this behavior.\n",
            "  _warn_prf(average, modifier, f\"{metric.capitalize()} is\", len(result))\n",
            "/usr/local/lib/python3.11/dist-packages/sklearn/metrics/_classification.py:1565: UndefinedMetricWarning: Precision is ill-defined and being set to 0.0 in labels with no predicted samples. Use `zero_division` parameter to control this behavior.\n",
            "  _warn_prf(average, modifier, f\"{metric.capitalize()} is\", len(result))\n",
            "/usr/local/lib/python3.11/dist-packages/sklearn/metrics/_classification.py:1565: UndefinedMetricWarning: Precision is ill-defined and being set to 0.0 in labels with no predicted samples. Use `zero_division` parameter to control this behavior.\n",
            "  _warn_prf(average, modifier, f\"{metric.capitalize()} is\", len(result))\n"
          ]
        },
        {
          "name": "stdout",
          "output_type": "stream",
          "text": [
            "Accuracy: 0.9910343424186926\n",
            "Precision: 0.9906822805370231\n",
            "Recall: 0.9910343424186926\n",
            "F1 Score: 0.9904485910818993\n",
            "Classification Report:\n",
            "               precision    recall  f1-score   support\n",
            "\n",
            "           0       0.00      0.00      0.00         4\n",
            "           1       0.81      0.96      0.88      1951\n",
            "           2       0.00      0.00      0.00        11\n",
            "           3       0.00      0.00      0.00         8\n",
            "           4       0.99      0.99      0.99       539\n",
            "           5       0.92      1.00      0.96        61\n",
            "           6       1.00      1.00      1.00     12879\n",
            "           7       0.99      1.00      1.00       816\n",
            "           8       1.00      1.00      1.00      7396\n",
            "           9       1.00      1.00      1.00      7230\n",
            "          10       1.00      1.00      1.00      7309\n",
            "          11       0.96      0.96      0.96        47\n",
            "          12       1.00      1.00      1.00      6251\n",
            "          13       1.00      1.00      1.00      8058\n",
            "          14       1.00      1.00      1.00      9797\n",
            "          15       0.99      0.99      0.99       511\n",
            "          16       0.74      0.59      0.65       316\n",
            "          17       0.71      0.26      0.38        19\n",
            "          18       0.97      1.00      0.98       139\n",
            "          19       1.00      1.00      1.00      3562\n",
            "          20       1.00      1.00      1.00      4823\n",
            "          21       1.00      1.00      1.00      5859\n",
            "          22       0.83      0.72      0.77       569\n",
            "          23       1.00      1.00      1.00      1729\n",
            "          24       1.00      1.00      1.00      1332\n",
            "          25       1.00      1.00      1.00      1618\n",
            "          26       0.81      0.72      0.76       249\n",
            "          27       0.79      0.48      0.60       204\n",
            "          28       0.00      0.00      0.00         1\n",
            "          29       0.76      0.51      0.61       140\n",
            "          30       0.33      0.08      0.12        13\n",
            "          31       0.00      0.00      0.00         3\n",
            "          32       0.98      0.98      0.98        90\n",
            "          33       1.00      0.14      0.25         7\n",
            "\n",
            "    accuracy                           0.99     83541\n",
            "   macro avg       0.78      0.72      0.73     83541\n",
            "weighted avg       0.99      0.99      0.99     83541\n",
            "\n",
            "Confusion Matrix:\n",
            " [[   0    0    0 ...    0    0    0]\n",
            " [   0 1871    0 ...    0    0    0]\n",
            " [   0    4    0 ...    0    0    0]\n",
            " ...\n",
            " [   0    1    0 ...    0    0    0]\n",
            " [   0    0    0 ...    0   88    0]\n",
            " [   0    5    0 ...    0    0    1]]\n",
            "Cross-validation Accuracy: 0.9912144353072321\n"
          ]
        }
      ],
      "source": [
        "# Step 6: Train and Test Split\n",
        "from sklearn.metrics import precision_score, recall_score, f1_score, confusion_matrix\n",
        "X_train, X_test, y_train, y_test = train_test_split(X_selected, y, test_size=0.35, random_state=42)\n",
        "\n",
        "# Step 7: Train Random Forest Classifier\n",
        "rf_model = RandomForestClassifier(random_state=42)\n",
        "rf_model.fit(X_train, y_train)\n",
        "\n",
        "# Step 8: Evaluate the model\n",
        "y_pred = rf_model.predict(X_test)\n",
        "# Metrics\n",
        "accuracy = accuracy_score(y_test, y_pred)\n",
        "precision = precision_score(y_test, y_pred, average='weighted')  # Weighted for imbalanced classes\n",
        "recall = recall_score(y_test, y_pred, average='weighted')  # Weighted for imbalanced classes\n",
        "f1 = f1_score(y_test, y_pred, average='weighted')  # Weighted for imbalanced classes\n",
        "\n",
        "# Print metrics\n",
        "print(\"Accuracy:\", accuracy)\n",
        "print(\"Precision:\", precision)\n",
        "print(\"Recall:\", recall)\n",
        "print(\"F1 Score:\", f1)\n",
        "print(\"Classification Report:\\n\", classification_report(y_test, y_pred))\n",
        "\n",
        "# Confusion Matrix\n",
        "conf_matrix = confusion_matrix(y_test, y_pred)\n",
        "print(\"Confusion Matrix:\\n\", conf_matrix)\n",
        "\n",
        "# Step 9: Cross-validation (optional)\n",
        "cv_scores = cross_val_score(rf_model, X_selected, y, cv=5)\n",
        "print(\"Cross-validation Accuracy:\", np.mean(cv_scores))"
      ]
    },
    {
      "cell_type": "markdown",
      "metadata": {
        "id": "b9QR3gpw2HHS"
      },
      "source": [
        "# 10 Features"
      ]
    },
    {
      "cell_type": "code",
      "execution_count": null,
      "metadata": {
        "colab": {
          "base_uri": "https://localhost:8080/"
        },
        "collapsed": true,
        "id": "JuKsolEa1iVC",
        "outputId": "e58b4be7-cbee-45ed-88bd-b8812cdf1bc4"
      },
      "outputs": [
        {
          "name": "stdout",
          "output_type": "stream",
          "text": [
            "            Feature     Score\n",
            "39              IAT  2.601493\n",
            "38         Tot size  1.337445\n",
            "1     Header_Length  1.326649\n",
            "41         Magnitue  1.318354\n",
            "36              AVG  1.311915\n",
            "33          Tot sum  1.305875\n",
            "34              Min  1.295828\n",
            "35              Max  1.272968\n",
            "2     Protocol Type  1.162741\n",
            "26              TCP  0.656333\n",
            "15        syn_count  0.646946\n",
            "0     flow_duration  0.636168\n",
            "4              Rate  0.632633\n",
            "5             Srate  0.632600\n",
            "18        rst_count  0.509842\n",
            "8   syn_flag_number  0.498780\n",
            "27              UDP  0.492435\n",
            "17        urg_count  0.461447\n",
            "30             ICMP  0.445349\n",
            "43       Covariance  0.381943\n",
            "37              Std  0.379853\n",
            "42           Radius  0.379124\n",
            "16        fin_count  0.347370\n",
            "14        ack_count  0.332304\n",
            "11  ack_flag_number  0.326482\n",
            "44         Variance  0.299211\n",
            "7   fin_flag_number  0.293657\n",
            "10  psh_flag_number  0.286020\n",
            "9   rst_flag_number  0.285511\n",
            "3          Duration  0.211844\n",
            "40           Number  0.176741\n",
            "45           Weight  0.176223\n",
            "20            HTTPS  0.068699\n",
            "19             HTTP  0.031706\n",
            "32              LLC  0.006393\n",
            "31              IPv  0.005371\n",
            "22           Telnet  0.002352\n",
            "23             SMTP  0.000985\n",
            "29              ARP  0.000320\n",
            "28             DHCP  0.000299\n",
            "25              IRC  0.000000\n",
            "24              SSH  0.000000\n",
            "21              DNS  0.000000\n",
            "13  cwr_flag_number  0.000000\n",
            "12  ece_flag_number  0.000000\n",
            "6             Drate  0.000000\n",
            "skb_selected_feature_names:  ['Header_Length', 'AVG', 'Tot size', 'IAT', 'Magnitue']\n"
          ]
        }
      ],
      "source": [
        "skb_selector = SelectKBest(score_func=mutual_info_classif, k=5)\n",
        "skb_selector.fit_transform(X, y)\n",
        "\n",
        "# printing the scores\n",
        "skb_feature_scores = pd.DataFrame({'Feature': X.columns, 'Score': skb_selector.scores_})\n",
        "skb_feature_scores = skb_feature_scores.sort_values(by='Score', ascending=False)  # Sort by importance\n",
        "print(skb_feature_scores)\n",
        "\n",
        "# Get the selected feature names\n",
        "skb_selected_feature_names = X.columns[skb_selector.get_support()]\n",
        "print('skb_selected_feature_names: ',skb_selected_feature_names.to_list())"
      ]
    },
    {
      "cell_type": "code",
      "execution_count": null,
      "metadata": {
        "colab": {
          "base_uri": "https://localhost:8080/"
        },
        "collapsed": true,
        "id": "dTgTFswh2Y5L",
        "outputId": "55635888-11ac-4535-99a5-fe271baa0cd0"
      },
      "outputs": [
        {
          "name": "stdout",
          "output_type": "stream",
          "text": [
            "            Feature  Score\n",
            "34              Min      1\n",
            "38         Tot size      1\n",
            "39              IAT      1\n",
            "15        syn_count      1\n",
            "41         Magnitue      1\n",
            "36              AVG      2\n",
            "7   fin_flag_number      3\n",
            "10  psh_flag_number      4\n",
            "1     Header_Length      5\n",
            "2     Protocol Type      6\n",
            "18        rst_count      7\n",
            "35              Max      8\n",
            "8   syn_flag_number      9\n",
            "14        ack_count     10\n",
            "33          Tot sum     11\n",
            "0     flow_duration     12\n",
            "5             Srate     13\n",
            "16        fin_count     14\n",
            "17        urg_count     15\n",
            "30             ICMP     16\n",
            "27              UDP     17\n",
            "4              Rate     18\n",
            "11  ack_flag_number     19\n",
            "44         Variance     20\n",
            "9   rst_flag_number     21\n",
            "26              TCP     22\n",
            "37              Std     23\n",
            "42           Radius     24\n",
            "43       Covariance     25\n",
            "3          Duration     26\n",
            "45           Weight     27\n",
            "40           Number     28\n",
            "20            HTTPS     29\n",
            "19             HTTP     30\n",
            "24              SSH     31\n",
            "21              DNS     32\n",
            "31              IPv     33\n",
            "32              LLC     34\n",
            "29              ARP     35\n",
            "6             Drate     36\n",
            "12  ece_flag_number     37\n",
            "13  cwr_flag_number     38\n",
            "25              IRC     39\n",
            "28             DHCP     40\n",
            "23             SMTP     41\n",
            "22           Telnet     42\n",
            "rfe_selected_feature_names:  ['syn_count', 'Min', 'Tot size', 'IAT', 'Magnitue']\n"
          ]
        }
      ],
      "source": [
        "rfe_selector = RFE(estimator=RandomForestClassifier(), n_features_to_select=5)\n",
        "rfe_selector.fit_transform(X, y)\n",
        "\n",
        "rfe_feature_scores = pd.DataFrame({'Feature': X.columns, 'Score': rfe_selector.ranking_})\n",
        "rfe_feature_scores = rfe_feature_scores.sort_values(by='Score', ascending=True)  # Sort by importance (ascending)\n",
        "print(rfe_feature_scores)\n",
        "\n",
        "# Get the selected feature names\n",
        "rfe_selected_feature_names = X.columns[rfe_selector.get_support()]\n",
        "print('rfe_selected_feature_names: ',rfe_selected_feature_names.to_list())"
      ]
    },
    {
      "cell_type": "code",
      "execution_count": null,
      "metadata": {
        "colab": {
          "base_uri": "https://localhost:8080/"
        },
        "id": "WXjWlVeP2hji",
        "outputId": "63bd9db7-a5ac-476b-848e-a16ac1443168"
      },
      "outputs": [
        {
          "name": "stdout",
          "output_type": "stream",
          "text": [
            "['Tot size', 'IAT', 'Magnitue', 'Header_Length', 'syn_count', 'AVG', 'Min']\n"
          ]
        }
      ],
      "source": [
        "top_features_combined = list(set(skb_selected_feature_names) | set(rfe_selected_feature_names))\n",
        "print(top_features_combined)"
      ]
    },
    {
      "cell_type": "code",
      "execution_count": null,
      "metadata": {
        "colab": {
          "base_uri": "https://localhost:8080/"
        },
        "id": "c5i6dExn2mKf",
        "outputId": "88699339-7e21-455c-ef9b-cdb3563d4a0d"
      },
      "outputs": [
        {
          "name": "stdout",
          "output_type": "stream",
          "text": [
            "Extra features from RFE: ['fin_flag_number', 'psh_flag_number', 'Protocol Type']\n",
            "['Tot size', 'IAT', 'Magnitue', 'Header_Length', 'syn_count', 'AVG', 'Min', 'fin_flag_number', 'psh_flag_number', 'Protocol Type']\n"
          ]
        }
      ],
      "source": [
        "no_of_redundent_features = 10-(len(top_features_combined))\n",
        "\n",
        "extra_features_from_rfe = []\n",
        "\n",
        "for feature in rfe_feature_scores['Feature']:\n",
        "    if feature not in top_features_combined:\n",
        "        extra_features_from_rfe.append(feature)\n",
        "    if len(extra_features_from_rfe) == no_of_redundent_features:\n",
        "        break\n",
        "\n",
        "print(\"Extra features from RFE:\", extra_features_from_rfe)\n",
        "\n",
        "top_features_combined.extend(extra_features_from_rfe)\n",
        "print(top_features_combined)\n",
        "\n",
        "X_selected = X[top_features_combined]"
      ]
    },
    {
      "cell_type": "code",
      "execution_count": null,
      "metadata": {
        "colab": {
          "base_uri": "https://localhost:8080/"
        },
        "id": "uHuMS3qe2q10",
        "outputId": "598f308c-500d-46b9-c295-8646615a46ba"
      },
      "outputs": [
        {
          "name": "stderr",
          "output_type": "stream",
          "text": [
            "/usr/local/lib/python3.11/dist-packages/sklearn/metrics/_classification.py:1565: UndefinedMetricWarning: Precision is ill-defined and being set to 0.0 in labels with no predicted samples. Use `zero_division` parameter to control this behavior.\n",
            "  _warn_prf(average, modifier, f\"{metric.capitalize()} is\", len(result))\n",
            "/usr/local/lib/python3.11/dist-packages/sklearn/metrics/_classification.py:1565: UndefinedMetricWarning: Precision is ill-defined and being set to 0.0 in labels with no predicted samples. Use `zero_division` parameter to control this behavior.\n",
            "  _warn_prf(average, modifier, f\"{metric.capitalize()} is\", len(result))\n",
            "/usr/local/lib/python3.11/dist-packages/sklearn/metrics/_classification.py:1565: UndefinedMetricWarning: Precision is ill-defined and being set to 0.0 in labels with no predicted samples. Use `zero_division` parameter to control this behavior.\n",
            "  _warn_prf(average, modifier, f\"{metric.capitalize()} is\", len(result))\n",
            "/usr/local/lib/python3.11/dist-packages/sklearn/metrics/_classification.py:1565: UndefinedMetricWarning: Precision is ill-defined and being set to 0.0 in labels with no predicted samples. Use `zero_division` parameter to control this behavior.\n",
            "  _warn_prf(average, modifier, f\"{metric.capitalize()} is\", len(result))\n"
          ]
        },
        {
          "name": "stdout",
          "output_type": "stream",
          "text": [
            "Accuracy: 0.9915610299134556\n",
            "Precision: 0.9911607372622913\n",
            "Recall: 0.9915610299134556\n",
            "F1 Score: 0.9909040444856537\n",
            "Classification Report:\n",
            "               precision    recall  f1-score   support\n",
            "\n",
            "           0       0.00      0.00      0.00         4\n",
            "           1       0.83      0.97      0.90      1951\n",
            "           2       0.00      0.00      0.00        11\n",
            "           3       0.00      0.00      0.00         8\n",
            "           4       0.99      0.98      0.99       539\n",
            "           5       0.83      0.97      0.89        61\n",
            "           6       1.00      1.00      1.00     12879\n",
            "           7       0.98      1.00      0.99       816\n",
            "           8       1.00      1.00      1.00      7396\n",
            "           9       1.00      1.00      1.00      7230\n",
            "          10       1.00      1.00      1.00      7309\n",
            "          11       0.85      0.87      0.86        47\n",
            "          12       1.00      1.00      1.00      6251\n",
            "          13       1.00      1.00      1.00      8058\n",
            "          14       1.00      1.00      1.00      9797\n",
            "          15       0.99      0.99      0.99       511\n",
            "          16       0.78      0.59      0.67       316\n",
            "          17       1.00      0.05      0.10        19\n",
            "          18       0.97      1.00      0.98       139\n",
            "          19       1.00      1.00      1.00      3562\n",
            "          20       1.00      1.00      1.00      4823\n",
            "          21       1.00      1.00      1.00      5859\n",
            "          22       0.84      0.77      0.80       569\n",
            "          23       1.00      1.00      1.00      1729\n",
            "          24       1.00      1.00      1.00      1332\n",
            "          25       1.00      1.00      1.00      1618\n",
            "          26       0.82      0.74      0.78       249\n",
            "          27       0.80      0.49      0.61       204\n",
            "          28       0.00      0.00      0.00         1\n",
            "          29       0.77      0.52      0.62       140\n",
            "          30       0.50      0.08      0.13        13\n",
            "          31       0.00      0.00      0.00         3\n",
            "          32       0.93      0.91      0.92        90\n",
            "          33       0.00      0.00      0.00         7\n",
            "\n",
            "    accuracy                           0.99     83541\n",
            "   macro avg       0.76      0.70      0.71     83541\n",
            "weighted avg       0.99      0.99      0.99     83541\n",
            "\n",
            "Confusion Matrix:\n",
            " [[   0    0    0 ...    0    0    0]\n",
            " [   0 1900    0 ...    0    0    0]\n",
            " [   0    5    0 ...    0    0    0]\n",
            " ...\n",
            " [   0    0    0 ...    0    0    0]\n",
            " [   0    0    0 ...    0   82    0]\n",
            " [   0    4    0 ...    0    0    0]]\n",
            "Cross-validation Accuracy: 0.9914909499405843\n"
          ]
        }
      ],
      "source": [
        "# Step 6: Train and Test Split\n",
        "from sklearn.metrics import precision_score, recall_score, f1_score, confusion_matrix\n",
        "X_train, X_test, y_train, y_test = train_test_split(X_selected, y, test_size=0.35, random_state=42)\n",
        "\n",
        "# Step 7: Train Random Forest Classifier\n",
        "rf_model = RandomForestClassifier(random_state=42)\n",
        "rf_model.fit(X_train, y_train)\n",
        "\n",
        "# Step 8: Evaluate the model\n",
        "y_pred = rf_model.predict(X_test)\n",
        "# Metrics\n",
        "accuracy = accuracy_score(y_test, y_pred)\n",
        "precision = precision_score(y_test, y_pred, average='weighted')  # Weighted for imbalanced classes\n",
        "recall = recall_score(y_test, y_pred, average='weighted')  # Weighted for imbalanced classes\n",
        "f1 = f1_score(y_test, y_pred, average='weighted')  # Weighted for imbalanced classes\n",
        "\n",
        "# Print metrics\n",
        "print(\"Accuracy:\", accuracy)\n",
        "print(\"Precision:\", precision)\n",
        "print(\"Recall:\", recall)\n",
        "print(\"F1 Score:\", f1)\n",
        "print(\"Classification Report:\\n\", classification_report(y_test, y_pred))\n",
        "\n",
        "# Confusion Matrix\n",
        "conf_matrix = confusion_matrix(y_test, y_pred)\n",
        "print(\"Confusion Matrix:\\n\", conf_matrix)\n",
        "\n",
        "# Step 9: Cross-validation (optional)\n",
        "cv_scores = cross_val_score(rf_model, X_selected, y, cv=5)\n",
        "print(\"Cross-validation Accuracy:\", np.mean(cv_scores))"
      ]
    },
    {
      "cell_type": "markdown",
      "metadata": {
        "id": "JOf12oFn281u"
      },
      "source": [
        "# 15 Features"
      ]
    },
    {
      "cell_type": "code",
      "execution_count": null,
      "metadata": {
        "colab": {
          "base_uri": "https://localhost:8080/"
        },
        "id": "kGh3-j6E4DPO",
        "outputId": "2a76ef88-7789-40df-d226-9ea5f62c9388"
      },
      "outputs": [
        {
          "name": "stdout",
          "output_type": "stream",
          "text": [
            "            Feature     Score\n",
            "39              IAT  2.601205\n",
            "38         Tot size  1.338093\n",
            "1     Header_Length  1.326020\n",
            "41         Magnitue  1.318289\n",
            "36              AVG  1.311659\n",
            "33          Tot sum  1.304061\n",
            "34              Min  1.298065\n",
            "35              Max  1.271573\n",
            "2     Protocol Type  1.162413\n",
            "26              TCP  0.656795\n",
            "15        syn_count  0.650762\n",
            "0     flow_duration  0.636389\n",
            "4              Rate  0.632693\n",
            "5             Srate  0.631931\n",
            "18        rst_count  0.510628\n",
            "8   syn_flag_number  0.496774\n",
            "27              UDP  0.493230\n",
            "17        urg_count  0.462407\n",
            "30             ICMP  0.442824\n",
            "37              Std  0.382852\n",
            "42           Radius  0.380368\n",
            "43       Covariance  0.379815\n",
            "16        fin_count  0.349282\n",
            "14        ack_count  0.333188\n",
            "11  ack_flag_number  0.326725\n",
            "44         Variance  0.298468\n",
            "7   fin_flag_number  0.295421\n",
            "9   rst_flag_number  0.286672\n",
            "10  psh_flag_number  0.285321\n",
            "3          Duration  0.210859\n",
            "40           Number  0.178582\n",
            "45           Weight  0.178282\n",
            "20            HTTPS  0.068037\n",
            "19             HTTP  0.031989\n",
            "31              IPv  0.008498\n",
            "32              LLC  0.003609\n",
            "22           Telnet  0.001757\n",
            "24              SSH  0.001027\n",
            "23             SMTP  0.000254\n",
            "29              ARP  0.000141\n",
            "28             DHCP  0.000000\n",
            "25              IRC  0.000000\n",
            "21              DNS  0.000000\n",
            "13  cwr_flag_number  0.000000\n",
            "12  ece_flag_number  0.000000\n",
            "6             Drate  0.000000\n",
            "skb_selected_feature_names:  ['Header_Length', 'Tot sum', 'Min', 'AVG', 'Tot size', 'IAT', 'Magnitue']\n"
          ]
        }
      ],
      "source": [
        "skb_selector = SelectKBest(score_func=mutual_info_classif, k=7)\n",
        "skb_selector.fit_transform(X, y)\n",
        "\n",
        "# printing the scores\n",
        "skb_feature_scores = pd.DataFrame({'Feature': X.columns, 'Score': skb_selector.scores_})\n",
        "skb_feature_scores = skb_feature_scores.sort_values(by='Score', ascending=False)  # Sort by importance\n",
        "print(skb_feature_scores)\n",
        "\n",
        "# Get the selected feature names\n",
        "skb_selected_feature_names = X.columns[skb_selector.get_support()]\n",
        "print('skb_selected_feature_names: ',skb_selected_feature_names.to_list())"
      ]
    },
    {
      "cell_type": "code",
      "execution_count": null,
      "metadata": {
        "colab": {
          "background_save": true
        },
        "id": "azBXswc331cJ",
        "outputId": "8a9c7973-8dcc-48cb-9073-618f19464418"
      },
      "outputs": [
        {
          "name": "stdout",
          "output_type": "stream",
          "text": [
            "            Feature  Score\n",
            "15        syn_count      1\n",
            "34              Min      1\n",
            "36              AVG      1\n",
            "38         Tot size      1\n",
            "39              IAT      1\n",
            "7   fin_flag_number      1\n",
            "10  psh_flag_number      1\n",
            "41         Magnitue      1\n",
            "1     Header_Length      2\n",
            "8   syn_flag_number      3\n",
            "2     Protocol Type      4\n",
            "14        ack_count      5\n",
            "33          Tot sum      6\n",
            "0     flow_duration      7\n",
            "35              Max      8\n",
            "17        urg_count      9\n",
            "16        fin_count     10\n",
            "18        rst_count     11\n",
            "5             Srate     12\n",
            "30             ICMP     13\n",
            "27              UDP     14\n",
            "4              Rate     15\n",
            "9   rst_flag_number     16\n",
            "11  ack_flag_number     17\n",
            "26              TCP     18\n",
            "44         Variance     19\n",
            "43       Covariance     20\n",
            "37              Std     21\n",
            "42           Radius     22\n",
            "3          Duration     23\n",
            "40           Number     24\n",
            "45           Weight     25\n",
            "20            HTTPS     26\n",
            "19             HTTP     27\n",
            "24              SSH     28\n",
            "21              DNS     29\n",
            "31              IPv     30\n",
            "32              LLC     31\n",
            "29              ARP     32\n",
            "6             Drate     33\n",
            "12  ece_flag_number     34\n",
            "13  cwr_flag_number     35\n",
            "25              IRC     36\n",
            "28             DHCP     37\n",
            "23             SMTP     38\n",
            "22           Telnet     39\n",
            "rfe_selected_feature_names:  ['fin_flag_number', 'psh_flag_number', 'syn_count', 'Min', 'AVG', 'Tot size', 'IAT', 'Magnitue']\n"
          ]
        }
      ],
      "source": [
        "rfe_selector = RFE(estimator=RandomForestClassifier(), n_features_to_select=8)\n",
        "rfe_selector.fit_transform(X, y)\n",
        "\n",
        "rfe_feature_scores = pd.DataFrame({'Feature': X.columns, 'Score': rfe_selector.ranking_})\n",
        "rfe_feature_scores = rfe_feature_scores.sort_values(by='Score', ascending=True)  # Sort by importance (ascending)\n",
        "print(rfe_feature_scores)\n",
        "\n",
        "# Get the selected feature names\n",
        "rfe_selected_feature_names = X.columns[rfe_selector.get_support()]\n",
        "print('rfe_selected_feature_names: ',rfe_selected_feature_names.to_list())"
      ]
    },
    {
      "cell_type": "code",
      "execution_count": null,
      "metadata": {
        "colab": {
          "background_save": true
        },
        "id": "j5I4QzZ03yXG",
        "outputId": "aaa1abff-b47a-40f1-9da8-5dbfb54349b4"
      },
      "outputs": [
        {
          "name": "stdout",
          "output_type": "stream",
          "text": [
            "['Tot size', 'psh_flag_number', 'IAT', 'fin_flag_number', 'Magnitue', 'Tot sum', 'Header_Length', 'syn_count', 'AVG', 'Min']\n"
          ]
        }
      ],
      "source": [
        "top_features_combined = list(set(skb_selected_feature_names) | set(rfe_selected_feature_names))\n",
        "print(top_features_combined)"
      ]
    },
    {
      "cell_type": "code",
      "execution_count": null,
      "metadata": {
        "colab": {
          "background_save": true
        },
        "id": "pYFaumBr3r8A",
        "outputId": "8e7938fa-3dd7-4d3d-a3c9-d3b8f645afcf"
      },
      "outputs": [
        {
          "name": "stdout",
          "output_type": "stream",
          "text": [
            "Extra features from RFE: ['syn_flag_number', 'Protocol Type', 'ack_count', 'flow_duration', 'Max']\n",
            "['Tot size', 'psh_flag_number', 'IAT', 'fin_flag_number', 'Magnitue', 'Tot sum', 'Header_Length', 'syn_count', 'AVG', 'Min', 'syn_flag_number', 'Protocol Type', 'ack_count', 'flow_duration', 'Max']\n"
          ]
        }
      ],
      "source": [
        "no_of_redundent_features = 15-(len(top_features_combined))\n",
        "\n",
        "\n",
        "extra_features_from_rfe = []\n",
        "\n",
        "for feature in rfe_feature_scores['Feature']:\n",
        "    if feature not in top_features_combined:\n",
        "        extra_features_from_rfe.append(feature)\n",
        "    if len(extra_features_from_rfe) == no_of_redundent_features:  # Stop once we have 3 features\n",
        "        break\n",
        "\n",
        "print(\"Extra features from RFE:\", extra_features_from_rfe)\n",
        "\n",
        "top_features_combined.extend(extra_features_from_rfe)\n",
        "print(top_features_combined)\n",
        "\n",
        "X_selected = X[top_features_combined]"
      ]
    },
    {
      "cell_type": "code",
      "execution_count": null,
      "metadata": {
        "colab": {
          "background_save": true
        },
        "id": "G3sJL3HF2_9l",
        "outputId": "4bc2cb06-508e-4ce7-de21-fe41fdf4ebc3"
      },
      "outputs": [
        {
          "name": "stderr",
          "output_type": "stream",
          "text": [
            "/usr/local/lib/python3.11/dist-packages/sklearn/metrics/_classification.py:1565: UndefinedMetricWarning: Precision is ill-defined and being set to 0.0 in labels with no predicted samples. Use `zero_division` parameter to control this behavior.\n",
            "  _warn_prf(average, modifier, f\"{metric.capitalize()} is\", len(result))\n",
            "/usr/local/lib/python3.11/dist-packages/sklearn/metrics/_classification.py:1565: UndefinedMetricWarning: Precision is ill-defined and being set to 0.0 in labels with no predicted samples. Use `zero_division` parameter to control this behavior.\n",
            "  _warn_prf(average, modifier, f\"{metric.capitalize()} is\", len(result))\n",
            "/usr/local/lib/python3.11/dist-packages/sklearn/metrics/_classification.py:1565: UndefinedMetricWarning: Precision is ill-defined and being set to 0.0 in labels with no predicted samples. Use `zero_division` parameter to control this behavior.\n",
            "  _warn_prf(average, modifier, f\"{metric.capitalize()} is\", len(result))\n",
            "/usr/local/lib/python3.11/dist-packages/sklearn/metrics/_classification.py:1565: UndefinedMetricWarning: Precision is ill-defined and being set to 0.0 in labels with no predicted samples. Use `zero_division` parameter to control this behavior.\n",
            "  _warn_prf(average, modifier, f\"{metric.capitalize()} is\", len(result))\n"
          ]
        },
        {
          "name": "stdout",
          "output_type": "stream",
          "text": [
            "Accuracy: 0.9908667600339953\n",
            "Precision: 0.9901811541513873\n",
            "Recall: 0.9908667600339953\n",
            "F1 Score: 0.9900699622765582\n",
            "Classification Report:\n",
            "               precision    recall  f1-score   support\n",
            "\n",
            "           0       0.00      0.00      0.00         4\n",
            "           1       0.83      0.98      0.90      1951\n",
            "           2       0.00      0.00      0.00        11\n",
            "           3       0.00      0.00      0.00         8\n",
            "           4       0.99      0.98      0.99       539\n",
            "           5       0.79      0.92      0.85        61\n",
            "           6       1.00      1.00      1.00     12879\n",
            "           7       0.99      0.99      0.99       816\n",
            "           8       1.00      1.00      1.00      7396\n",
            "           9       1.00      1.00      1.00      7230\n",
            "          10       1.00      1.00      1.00      7309\n",
            "          11       0.84      0.68      0.75        47\n",
            "          12       1.00      1.00      1.00      6251\n",
            "          13       1.00      1.00      1.00      8058\n",
            "          14       1.00      1.00      1.00      9797\n",
            "          15       0.99      0.99      0.99       511\n",
            "          16       0.77      0.61      0.68       316\n",
            "          17       0.00      0.00      0.00        19\n",
            "          18       0.92      0.96      0.94       139\n",
            "          19       1.00      1.00      1.00      3562\n",
            "          20       1.00      1.00      1.00      4823\n",
            "          21       1.00      1.00      1.00      5859\n",
            "          22       0.85      0.78      0.81       569\n",
            "          23       1.00      0.99      1.00      1729\n",
            "          24       0.99      0.99      0.99      1332\n",
            "          25       1.00      1.00      1.00      1618\n",
            "          26       0.78      0.78      0.78       249\n",
            "          27       0.76      0.35      0.48       204\n",
            "          28       0.00      0.00      0.00         1\n",
            "          29       0.70      0.47      0.56       140\n",
            "          30       0.50      0.08      0.13        13\n",
            "          31       0.00      0.00      0.00         3\n",
            "          32       0.83      0.88      0.85        90\n",
            "          33       0.00      0.00      0.00         7\n",
            "\n",
            "    accuracy                           0.99     83541\n",
            "   macro avg       0.72      0.69      0.70     83541\n",
            "weighted avg       0.99      0.99      0.99     83541\n",
            "\n",
            "Confusion Matrix:\n",
            " [[   0    0    0 ...    0    0    0]\n",
            " [   0 1910    0 ...    0    0    0]\n",
            " [   0    4    0 ...    0    0    0]\n",
            " ...\n",
            " [   0    0    0 ...    0    0    0]\n",
            " [   0    1    0 ...    0   79    0]\n",
            " [   0    4    0 ...    0    0    0]]\n",
            "Cross-validation Accuracy: 0.9909588693119848\n"
          ]
        }
      ],
      "source": [
        "# Step 6: Train and Test Split\n",
        "from sklearn.metrics import precision_score, recall_score, f1_score, confusion_matrix\n",
        "X_train, X_test, y_train, y_test = train_test_split(X_selected, y, test_size=0.35, random_state=42)\n",
        "\n",
        "# Step 7: Train Random Forest Classifier\n",
        "rf_model = RandomForestClassifier(random_state=42)\n",
        "rf_model.fit(X_train, y_train)\n",
        "\n",
        "# Step 8: Evaluate the model\n",
        "y_pred = rf_model.predict(X_test)\n",
        "# Metrics\n",
        "accuracy = accuracy_score(y_test, y_pred)\n",
        "precision = precision_score(y_test, y_pred, average='weighted')  # Weighted for imbalanced classes\n",
        "recall = recall_score(y_test, y_pred, average='weighted')  # Weighted for imbalanced classes\n",
        "f1 = f1_score(y_test, y_pred, average='weighted')  # Weighted for imbalanced classes\n",
        "\n",
        "# Print metrics\n",
        "print(\"Accuracy:\", accuracy)\n",
        "print(\"Precision:\", precision)\n",
        "print(\"Recall:\", recall)\n",
        "print(\"F1 Score:\", f1)\n",
        "print(\"Classification Report:\\n\", classification_report(y_test, y_pred))\n",
        "\n",
        "# Confusion Matrix\n",
        "conf_matrix = confusion_matrix(y_test, y_pred)\n",
        "print(\"Confusion Matrix:\\n\", conf_matrix)\n",
        "\n",
        "# Step 9: Cross-validation (optional)\n",
        "cv_scores = cross_val_score(rf_model, X_selected, y, cv=5)\n",
        "print(\"Cross-validation Accuracy:\", np.mean(cv_scores))"
      ]
    },
    {
      "cell_type": "markdown",
      "metadata": {
        "id": "7s1C4_bj-VFU"
      },
      "source": [
        "# 20 Features"
      ]
    },
    {
      "cell_type": "code",
      "execution_count": null,
      "metadata": {
        "colab": {
          "background_save": true
        },
        "id": "PqdUUmhy-mQV",
        "outputId": "899a73c4-913f-47d5-d2da-57359e3829ec"
      },
      "outputs": [
        {
          "name": "stdout",
          "output_type": "stream",
          "text": [
            "            Feature     Score\n",
            "39              IAT  2.601509\n",
            "38         Tot size  1.338497\n",
            "1     Header_Length  1.326666\n",
            "41         Magnitue  1.317534\n",
            "36              AVG  1.310313\n",
            "33          Tot sum  1.305601\n",
            "34              Min  1.296997\n",
            "35              Max  1.272325\n",
            "2     Protocol Type  1.162193\n",
            "26              TCP  0.657358\n",
            "15        syn_count  0.649527\n",
            "0     flow_duration  0.636757\n",
            "5             Srate  0.632720\n",
            "4              Rate  0.632604\n",
            "18        rst_count  0.510121\n",
            "8   syn_flag_number  0.497959\n",
            "27              UDP  0.493908\n",
            "17        urg_count  0.462178\n",
            "30             ICMP  0.443475\n",
            "37              Std  0.382872\n",
            "42           Radius  0.382124\n",
            "43       Covariance  0.381727\n",
            "16        fin_count  0.348705\n",
            "14        ack_count  0.329308\n",
            "11  ack_flag_number  0.325570\n",
            "44         Variance  0.299317\n",
            "7   fin_flag_number  0.295535\n",
            "10  psh_flag_number  0.285762\n",
            "9   rst_flag_number  0.283838\n",
            "3          Duration  0.211113\n",
            "40           Number  0.179155\n",
            "45           Weight  0.175017\n",
            "20            HTTPS  0.070342\n",
            "19             HTTP  0.032057\n",
            "32              LLC  0.005979\n",
            "21              DNS  0.003240\n",
            "31              IPv  0.002888\n",
            "25              IRC  0.002562\n",
            "6             Drate  0.001443\n",
            "29              ARP  0.001110\n",
            "22           Telnet  0.000740\n",
            "13  cwr_flag_number  0.000648\n",
            "12  ece_flag_number  0.000297\n",
            "23             SMTP  0.000063\n",
            "28             DHCP  0.000000\n",
            "24              SSH  0.000000\n",
            "skb_selected_feature_names:  ['Header_Length', 'Protocol Type', 'TCP', 'Tot sum', 'Min', 'Max', 'AVG', 'Tot size', 'IAT', 'Magnitue']\n"
          ]
        }
      ],
      "source": [
        "skb_selector = SelectKBest(score_func=mutual_info_classif, k=10)\n",
        "skb_selector.fit_transform(X, y)\n",
        "\n",
        "# printing the scores\n",
        "skb_feature_scores = pd.DataFrame({'Feature': X.columns, 'Score': skb_selector.scores_})\n",
        "skb_feature_scores = skb_feature_scores.sort_values(by='Score', ascending=False)  # Sort by importance\n",
        "print(skb_feature_scores)\n",
        "\n",
        "# Get the selected feature names\n",
        "skb_selected_feature_names = X.columns[skb_selector.get_support()]\n",
        "print('skb_selected_feature_names: ',skb_selected_feature_names.to_list())"
      ]
    },
    {
      "cell_type": "code",
      "execution_count": null,
      "metadata": {
        "id": "7KRTFKNy-jVX"
      },
      "outputs": [],
      "source": [
        "rfe_selector = RFE(estimator=RandomForestClassifier(), n_features_to_select=10)\n",
        "rfe_selector.fit_transform(X, y)\n",
        "\n",
        "rfe_feature_scores = pd.DataFrame({'Feature': X.columns, 'Score': rfe_selector.ranking_})\n",
        "rfe_feature_scores = rfe_feature_scores.sort_values(by='Score', ascending=True)  # Sort by importance (ascending)\n",
        "print(rfe_feature_scores)\n",
        "\n",
        "# Get the selected feature names\n",
        "rfe_selected_feature_names = X.columns[rfe_selector.get_support()]\n",
        "print('rfe_selected_feature_names: ',rfe_selected_feature_names.to_list())"
      ]
    },
    {
      "cell_type": "code",
      "execution_count": null,
      "metadata": {
        "colab": {
          "base_uri": "https://localhost:8080/"
        },
        "id": "fjFIAlF8-gEG",
        "outputId": "5513a10e-ec03-4783-b3b6-c4d8fc5f764b"
      },
      "outputs": [
        {
          "name": "stdout",
          "output_type": "stream",
          "text": [
            "['Min', 'Protocol Type', 'IAT', 'fin_flag_number', 'Tot size', 'UDP', 'urg_count', 'Header_Length', 'Tot sum', 'AVG', 'syn_count', 'Magnitue', 'TCP', 'Max']\n"
          ]
        }
      ],
      "source": [
        "top_features_combined = list(set(skb_selected_feature_names) | set(rfe_selected_feature_names))\n",
        "print(top_features_combined)"
      ]
    },
    {
      "cell_type": "code",
      "execution_count": null,
      "metadata": {
        "colab": {
          "base_uri": "https://localhost:8080/"
        },
        "id": "hu7xFHHW-d8J",
        "outputId": "2e0a9264-5f36-4823-aa53-9f89eb2a7689"
      },
      "outputs": [
        {
          "name": "stdout",
          "output_type": "stream",
          "text": [
            "Extra features from RFE: ['ack_count', 'psh_flag_number', 'syn_flag_number', 'fin_count', 'rst_count', 'ack_flag_number']\n",
            "['Min', 'Protocol Type', 'IAT', 'fin_flag_number', 'Tot size', 'UDP', 'urg_count', 'Header_Length', 'Tot sum', 'AVG', 'syn_count', 'Magnitue', 'TCP', 'Max', 'ack_count', 'psh_flag_number', 'syn_flag_number', 'fin_count', 'rst_count', 'ack_flag_number']\n"
          ]
        }
      ],
      "source": [
        "no_of_redundent_features = 20-(len(top_features_combined))\n",
        "\n",
        "extra_features_from_rfe = []\n",
        "\n",
        "for feature in rfe_feature_scores['Feature']:\n",
        "    if feature not in top_features_combined:\n",
        "        extra_features_from_rfe.append(feature)\n",
        "    if len(extra_features_from_rfe) == no_of_redundent_features:\n",
        "        break\n",
        "\n",
        "print(\"Extra features from RFE:\", extra_features_from_rfe)\n",
        "\n",
        "top_features_combined.extend(extra_features_from_rfe)\n",
        "print(top_features_combined)\n",
        "\n",
        "X_selected = X[top_features_combined]"
      ]
    },
    {
      "cell_type": "code",
      "execution_count": null,
      "metadata": {
        "colab": {
          "base_uri": "https://localhost:8080/"
        },
        "id": "s7uIplp_-Yit",
        "outputId": "eb4da637-81a5-4353-c030-851707f94b38"
      },
      "outputs": [
        {
          "name": "stdout",
          "output_type": "stream",
          "text": [
            "Accuracy: 0.9991779290388346\n",
            "Precision: 0.9991900197575078\n",
            "Recall: 0.9991779290388346\n",
            "F1 Score: 0.9991814742902781\n",
            "Classification Report:\n",
            "               precision    recall  f1-score   support\n",
            "\n",
            "           0       0.99      0.99      0.99       513\n",
            "           1       0.97      1.00      0.98        56\n",
            "           2       1.00      1.00      1.00     12772\n",
            "           3       0.98      1.00      0.99       835\n",
            "           4       1.00      1.00      1.00      7477\n",
            "           5       1.00      1.00      1.00      7196\n",
            "           6       1.00      1.00      1.00      7166\n",
            "           7       0.85      0.96      0.90        24\n",
            "           8       1.00      1.00      1.00      6311\n",
            "           9       1.00      1.00      1.00      8162\n",
            "          10       1.00      1.00      1.00      9762\n",
            "          11       1.00      0.99      0.99       548\n",
            "\n",
            "    accuracy                           1.00     60822\n",
            "   macro avg       0.98      0.99      0.99     60822\n",
            "weighted avg       1.00      1.00      1.00     60822\n",
            "\n",
            "Confusion Matrix:\n",
            " [[  508     1     0     1     2     0     0     0     1     0     0     0]\n",
            " [    0    56     0     0     0     0     0     0     0     0     0     0]\n",
            " [    0     0 12767     2     0     0     0     0     0     0     2     1]\n",
            " [    0     1     0   832     0     0     0     1     0     0     1     0]\n",
            " [    0     0     0     3  7472     0     0     0     1     0     1     0]\n",
            " [    2     0     0     1     1  7190     0     0     1     0     1     0]\n",
            " [    0     0     0     0     0     0  7162     0     2     1     1     0]\n",
            " [    0     0     0     1     0     0     0    23     0     0     0     0]\n",
            " [    1     0     0     5     0     0     0     1  6301     0     3     0]\n",
            " [    0     0     0     0     0     0     0     0     0  8162     0     0]\n",
            " [    0     0     2     2     0     0     0     0     0     0  9757     1]\n",
            " [    1     0     0     1     0     0     0     2     2     0     0   542]]\n",
            "Cross-validation Accuracy: 0.999292195956176\n"
          ]
        }
      ],
      "source": [
        "# Step 6: Train and Test Split\n",
        "from sklearn.metrics import precision_score, recall_score, f1_score, confusion_matrix\n",
        "X_train, X_test, y_train, y_test = train_test_split(X_selected, y, test_size=0.35, random_state=42)\n",
        "\n",
        "# Step 7: Train Random Forest Classifier\n",
        "rf_model = RandomForestClassifier(random_state=42)\n",
        "rf_model.fit(X_train, y_train)\n",
        "\n",
        "# Step 8: Evaluate the model\n",
        "y_pred = rf_model.predict(X_test)\n",
        "# Metrics\n",
        "accuracy = accuracy_score(y_test, y_pred)\n",
        "precision = precision_score(y_test, y_pred, average='weighted')  # Weighted for imbalanced classes\n",
        "recall = recall_score(y_test, y_pred, average='weighted')  # Weighted for imbalanced classes\n",
        "f1 = f1_score(y_test, y_pred, average='weighted')  # Weighted for imbalanced classes\n",
        "\n",
        "# Print metrics\n",
        "print(\"Accuracy:\", accuracy)\n",
        "print(\"Precision:\", precision)\n",
        "print(\"Recall:\", recall)\n",
        "print(\"F1 Score:\", f1)\n",
        "print(\"Classification Report:\\n\", classification_report(y_test, y_pred))\n",
        "\n",
        "# Confusion Matrix\n",
        "conf_matrix = confusion_matrix(y_test, y_pred)\n",
        "print(\"Confusion Matrix:\\n\", conf_matrix)\n",
        "\n",
        "# Step 9: Cross-validation (optional)\n",
        "cv_scores = cross_val_score(rf_model, X_selected, y, cv=5)\n",
        "print(\"Cross-validation Accuracy:\", np.mean(cv_scores))"
      ]
    },
    {
      "cell_type": "markdown",
      "metadata": {
        "id": "e8nv6t8X_1jt"
      },
      "source": [
        "# 25 Features"
      ]
    },
    {
      "cell_type": "code",
      "execution_count": null,
      "metadata": {
        "colab": {
          "base_uri": "https://localhost:8080/"
        },
        "id": "EZTsh0hPAFni",
        "outputId": "f594ae19-4e74-4d61-ad73-df6ee73b70fa"
      },
      "outputs": [
        {
          "name": "stdout",
          "output_type": "stream",
          "text": [
            "            Feature     Score\n",
            "39              IAT  2.037667\n",
            "1     Header_Length  1.137331\n",
            "34              Min  1.047731\n",
            "38         Tot size  1.042350\n",
            "41         Magnitue  1.038449\n",
            "36              AVG  1.032249\n",
            "33          Tot sum  1.029861\n",
            "2     Protocol Type  0.979617\n",
            "35              Max  0.977488\n",
            "26              TCP  0.669488\n",
            "15        syn_count  0.615645\n",
            "30             ICMP  0.533193\n",
            "8   syn_flag_number  0.530077\n",
            "5             Srate  0.525655\n",
            "4              Rate  0.525389\n",
            "0     flow_duration  0.477055\n",
            "27              UDP  0.434234\n",
            "18        rst_count  0.433090\n",
            "16        fin_count  0.400893\n",
            "17        urg_count  0.388131\n",
            "14        ack_count  0.380211\n",
            "7   fin_flag_number  0.365576\n",
            "10  psh_flag_number  0.358072\n",
            "9   rst_flag_number  0.356337\n",
            "11  ack_flag_number  0.350323\n",
            "43       Covariance  0.226241\n",
            "37              Std  0.225009\n",
            "42           Radius  0.223542\n",
            "44         Variance  0.149737\n",
            "3          Duration  0.057544\n",
            "19             HTTP  0.032423\n",
            "20            HTTPS  0.016839\n",
            "40           Number  0.007764\n",
            "31              IPv  0.004912\n",
            "32              LLC  0.004184\n",
            "45           Weight  0.003692\n",
            "23             SMTP  0.001804\n",
            "25              IRC  0.000246\n",
            "6             Drate  0.000106\n",
            "12  ece_flag_number  0.000028\n",
            "29              ARP  0.000000\n",
            "28             DHCP  0.000000\n",
            "24              SSH  0.000000\n",
            "22           Telnet  0.000000\n",
            "21              DNS  0.000000\n",
            "13  cwr_flag_number  0.000000\n",
            "skb_selected_feature_names:  ['Header_Length', 'Protocol Type', 'syn_count', 'TCP', 'ICMP', 'Tot sum', 'Min', 'Max', 'AVG', 'Tot size', 'IAT', 'Magnitue']\n"
          ]
        }
      ],
      "source": [
        "skb_selector = SelectKBest(score_func=mutual_info_classif, k=12)\n",
        "skb_selector.fit_transform(X, y)\n",
        "\n",
        "# printing the scores\n",
        "skb_feature_scores = pd.DataFrame({'Feature': X.columns, 'Score': skb_selector.scores_})\n",
        "skb_feature_scores = skb_feature_scores.sort_values(by='Score', ascending=False)  # Sort by importance\n",
        "print(skb_feature_scores)\n",
        "\n",
        "# Get the selected feature names\n",
        "skb_selected_feature_names = X.columns[skb_selector.get_support()]\n",
        "print('skb_selected_feature_names: ',skb_selected_feature_names.to_list())"
      ]
    },
    {
      "cell_type": "code",
      "execution_count": null,
      "metadata": {
        "colab": {
          "base_uri": "https://localhost:8080/"
        },
        "id": "cFwLah3OAB1t",
        "outputId": "c73f1dfc-f8ee-4528-9199-9b96e1ade039"
      },
      "outputs": [
        {
          "name": "stdout",
          "output_type": "stream",
          "text": [
            "            Feature  Score\n",
            "15        syn_count      1\n",
            "17        urg_count      1\n",
            "33          Tot sum      1\n",
            "14        ack_count      1\n",
            "41         Magnitue      1\n",
            "38         Tot size      1\n",
            "10  psh_flag_number      1\n",
            "8   syn_flag_number      1\n",
            "39              IAT      1\n",
            "36              AVG      1\n",
            "34              Min      1\n",
            "1     Header_Length      1\n",
            "7   fin_flag_number      1\n",
            "27              UDP      2\n",
            "18        rst_count      3\n",
            "16        fin_count      4\n",
            "2     Protocol Type      5\n",
            "35              Max      6\n",
            "9   rst_flag_number      7\n",
            "11  ack_flag_number      8\n",
            "0     flow_duration      9\n",
            "30             ICMP     10\n",
            "5             Srate     11\n",
            "4              Rate     12\n",
            "26              TCP     13\n",
            "37              Std     14\n",
            "44         Variance     15\n",
            "42           Radius     16\n",
            "43       Covariance     17\n",
            "3          Duration     18\n",
            "19             HTTP     19\n",
            "45           Weight     20\n",
            "20            HTTPS     21\n",
            "40           Number     22\n",
            "32              LLC     23\n",
            "29              ARP     24\n",
            "31              IPv     25\n",
            "6             Drate     26\n",
            "21              DNS     27\n",
            "12  ece_flag_number     28\n",
            "13  cwr_flag_number     29\n",
            "24              SSH     30\n",
            "25              IRC     31\n",
            "28             DHCP     32\n",
            "23             SMTP     33\n",
            "22           Telnet     34\n",
            "rfe_selected_feature_names:  ['Header_Length', 'fin_flag_number', 'syn_flag_number', 'psh_flag_number', 'ack_count', 'syn_count', 'urg_count', 'Tot sum', 'Min', 'AVG', 'Tot size', 'IAT', 'Magnitue']\n"
          ]
        }
      ],
      "source": [
        "rfe_selector = RFE(estimator=RandomForestClassifier(), n_features_to_select=13)\n",
        "rfe_selector.fit_transform(X, y)\n",
        "\n",
        "rfe_feature_scores = pd.DataFrame({'Feature': X.columns, 'Score': rfe_selector.ranking_})\n",
        "rfe_feature_scores = rfe_feature_scores.sort_values(by='Score', ascending=True)  # Sort by importance (ascending)\n",
        "print(rfe_feature_scores)\n",
        "\n",
        "# Get the selected feature names\n",
        "rfe_selected_feature_names = X.columns[rfe_selector.get_support()]\n",
        "print('rfe_selected_feature_names: ',rfe_selected_feature_names.to_list())"
      ]
    },
    {
      "cell_type": "code",
      "execution_count": null,
      "metadata": {
        "colab": {
          "base_uri": "https://localhost:8080/"
        },
        "id": "RcNR_JqW__Hn",
        "outputId": "5c14df96-d100-4e70-a604-5dbc975bc31f"
      },
      "outputs": [
        {
          "name": "stdout",
          "output_type": "stream",
          "text": [
            "['Min', 'ICMP', 'Protocol Type', 'IAT', 'fin_flag_number', 'Tot size', 'urg_count', 'Header_Length', 'psh_flag_number', 'Tot sum', 'AVG', 'syn_flag_number', 'syn_count', 'Magnitue', 'ack_count', 'TCP', 'Max']\n"
          ]
        }
      ],
      "source": [
        "top_features_combined = list(set(skb_selected_feature_names) | set(rfe_selected_feature_names))\n",
        "print(top_features_combined)"
      ]
    },
    {
      "cell_type": "code",
      "execution_count": null,
      "metadata": {
        "colab": {
          "base_uri": "https://localhost:8080/"
        },
        "id": "rJXkmcXn_7-9",
        "outputId": "79197e97-5b99-4fad-a349-6fc9d123004b"
      },
      "outputs": [
        {
          "name": "stdout",
          "output_type": "stream",
          "text": [
            "Extra features from RFE: ['UDP', 'rst_count', 'fin_count', 'rst_flag_number', 'ack_flag_number', 'flow_duration', 'Srate', 'Rate']\n",
            "['Min', 'ICMP', 'Protocol Type', 'IAT', 'fin_flag_number', 'Tot size', 'urg_count', 'Header_Length', 'psh_flag_number', 'Tot sum', 'AVG', 'syn_flag_number', 'syn_count', 'Magnitue', 'ack_count', 'TCP', 'Max', 'UDP', 'rst_count', 'fin_count', 'rst_flag_number', 'ack_flag_number', 'flow_duration', 'Srate', 'Rate']\n"
          ]
        }
      ],
      "source": [
        "no_of_redundent_features = 25-(len(top_features_combined))\n",
        "\n",
        "extra_features_from_rfe = []\n",
        "\n",
        "for feature in rfe_feature_scores['Feature']:\n",
        "    if feature not in top_features_combined:\n",
        "        extra_features_from_rfe.append(feature)\n",
        "    if len(extra_features_from_rfe) == no_of_redundent_features:\n",
        "        break\n",
        "\n",
        "print(\"Extra features from RFE:\", extra_features_from_rfe)\n",
        "\n",
        "top_features_combined.extend(extra_features_from_rfe)\n",
        "print(top_features_combined)\n",
        "\n",
        "X_selected = X[top_features_combined]"
      ]
    },
    {
      "cell_type": "code",
      "execution_count": null,
      "metadata": {
        "colab": {
          "base_uri": "https://localhost:8080/"
        },
        "id": "7AnfwWza_5C0",
        "outputId": "bb75d7d8-0057-44b6-8a66-d93621a61bbc"
      },
      "outputs": [
        {
          "name": "stdout",
          "output_type": "stream",
          "text": [
            "Accuracy: 0.9992930189733977\n",
            "Precision: 0.9993092840129629\n",
            "Recall: 0.9992930189733977\n",
            "F1 Score: 0.9992973340413825\n",
            "Classification Report:\n",
            "               precision    recall  f1-score   support\n",
            "\n",
            "           0       1.00      0.99      0.99       513\n",
            "           1       0.98      1.00      0.99        56\n",
            "           2       1.00      1.00      1.00     12772\n",
            "           3       0.99      1.00      0.99       835\n",
            "           4       1.00      1.00      1.00      7477\n",
            "           5       1.00      1.00      1.00      7196\n",
            "           6       1.00      1.00      1.00      7166\n",
            "           7       0.83      1.00      0.91        24\n",
            "           8       1.00      1.00      1.00      6311\n",
            "           9       1.00      1.00      1.00      8162\n",
            "          10       1.00      1.00      1.00      9762\n",
            "          11       1.00      0.99      0.99       548\n",
            "\n",
            "    accuracy                           1.00     60822\n",
            "   macro avg       0.98      1.00      0.99     60822\n",
            "weighted avg       1.00      1.00      1.00     60822\n",
            "\n",
            "Confusion Matrix:\n",
            " [[  509     0     0     0     3     0     0     0     0     0     1     0]\n",
            " [    0    56     0     0     0     0     0     0     0     0     0     0]\n",
            " [    0     0 12769     1     0     0     0     0     0     0     1     1]\n",
            " [    0     1     0   832     0     0     0     0     0     0     2     0]\n",
            " [    0     0     0     2  7473     0     0     0     2     0     0     0]\n",
            " [    0     0     0     3     2  7189     0     0     0     0     2     0]\n",
            " [    0     0     0     0     0     0  7162     0     2     0     2     0]\n",
            " [    0     0     0     0     0     0     0    24     0     0     0     0]\n",
            " [    2     0     0     3     1     1     0     1  6303     0     0     0]\n",
            " [    0     0     0     0     0     0     0     0     0  8162     0     0]\n",
            " [    0     0     2     2     0     0     0     0     0     0  9757     1]\n",
            " [    0     0     0     1     0     0     0     4     0     0     0   543]]\n",
            "Cross-validation Accuracy: 0.9993094603215222\n"
          ]
        }
      ],
      "source": [
        "# Step 6: Train and Test Split\n",
        "from sklearn.metrics import precision_score, recall_score, f1_score, confusion_matrix\n",
        "X_train, X_test, y_train, y_test = train_test_split(X_selected, y, test_size=0.35, random_state=42)\n",
        "\n",
        "# Step 7: Train Random Forest Classifier\n",
        "rf_model = RandomForestClassifier(random_state=42)\n",
        "rf_model.fit(X_train, y_train)\n",
        "\n",
        "# Step 8: Evaluate the model\n",
        "y_pred = rf_model.predict(X_test)\n",
        "# Metrics\n",
        "accuracy = accuracy_score(y_test, y_pred)\n",
        "precision = precision_score(y_test, y_pred, average='weighted')  # Weighted for imbalanced classes\n",
        "recall = recall_score(y_test, y_pred, average='weighted')  # Weighted for imbalanced classes\n",
        "f1 = f1_score(y_test, y_pred, average='weighted')  # Weighted for imbalanced classes\n",
        "\n",
        "# Print metrics\n",
        "print(\"Accuracy:\", accuracy)\n",
        "print(\"Precision:\", precision)\n",
        "print(\"Recall:\", recall)\n",
        "print(\"F1 Score:\", f1)\n",
        "print(\"Classification Report:\\n\", classification_report(y_test, y_pred))\n",
        "\n",
        "# Confusion Matrix\n",
        "conf_matrix = confusion_matrix(y_test, y_pred)\n",
        "print(\"Confusion Matrix:\\n\", conf_matrix)\n",
        "\n",
        "# Step 9: Cross-validation (optional)\n",
        "cv_scores = cross_val_score(rf_model, X_selected, y, cv=5)\n",
        "print(\"Cross-validation Accuracy:\", np.mean(cv_scores))"
      ]
    }
  ],
  "metadata": {
    "accelerator": "GPU",
    "colab": {
      "gpuType": "T4",
      "provenance": [],
      "authorship_tag": "ABX9TyOHhhqoxVY7HZW4vK4Q014C",
      "include_colab_link": true
    },
    "kernelspec": {
      "display_name": "Python 3",
      "name": "python3"
    },
    "language_info": {
      "name": "python"
    }
  },
  "nbformat": 4,
  "nbformat_minor": 0
}