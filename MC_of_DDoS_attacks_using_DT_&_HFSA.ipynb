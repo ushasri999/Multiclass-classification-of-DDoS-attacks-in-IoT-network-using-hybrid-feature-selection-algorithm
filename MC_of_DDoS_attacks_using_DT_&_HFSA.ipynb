{
  "nbformat": 4,
  "nbformat_minor": 0,
  "metadata": {
    "colab": {
      "provenance": [],
      "gpuType": "T4",
      "mount_file_id": "1BS93kTpcC8Rez8TlRw1sT2qf4c6GpdPS",
      "authorship_tag": "ABX9TyOiM7/M8mEz0RjS6aLUpPyQ",
      "include_colab_link": true
    },
    "kernelspec": {
      "name": "python3",
      "display_name": "Python 3"
    },
    "language_info": {
      "name": "python"
    },
    "accelerator": "GPU"
  },
  "cells": [
    {
      "cell_type": "markdown",
      "metadata": {
        "id": "view-in-github",
        "colab_type": "text"
      },
      "source": [
        "<a href=\"https://colab.research.google.com/github/ushasri999/Multiclass-classification-of-DDoS-attacks-in-IoT-network-using-hybrid-feature-selection-algorithm/blob/main/MC_of_DDoS_attacks_using_DT_%26_HFSA.ipynb\" target=\"_parent\"><img src=\"https://colab.research.google.com/assets/colab-badge.svg\" alt=\"Open In Colab\"/></a>"
      ]
    },
    {
      "cell_type": "code",
      "execution_count": null,
      "metadata": {
        "colab": {
          "base_uri": "https://localhost:8080/"
        },
        "id": "W02TRHtLbR6x",
        "outputId": "708f1895-7ae9-4930-8939-4b09c452b70f"
      },
      "outputs": [
        {
          "output_type": "stream",
          "name": "stdout",
          "text": [
            "(173777, 46)\n",
            "(173777,)\n"
          ]
        }
      ],
      "source": [
        "import pandas as pd\n",
        "import numpy as np\n",
        "from sklearn.tree import DecisionTreeClassifier\n",
        "from sklearn.model_selection import train_test_split, cross_val_score\n",
        "from sklearn.feature_selection import SelectKBest, mutual_info_classif, RFE\n",
        "from sklearn.metrics import classification_report, accuracy_score, confusion_matrix, precision_score, f1_score\n",
        "\n",
        "# Step 1: Load the dataset\n",
        "df = pd.read_csv('/content/drive/MyDrive/data.csv')\n",
        "df_ddos = df[df['label'].str.contains('DDoS', case=False, na=False)]\n",
        "\n",
        "# Step 2: Separate features and target\n",
        "X = df_ddos.drop(\"label\", axis=1, errors='ignore')\n",
        "y = df_ddos[\"label\"] if 'label' in df_ddos.columns else pd.Series([])\n",
        "\n",
        "# Check if X and y are valid\n",
        "print(X.shape)\n",
        "print(y.shape)\n"
      ]
    },
    {
      "cell_type": "markdown",
      "source": [
        "# 5 features"
      ],
      "metadata": {
        "id": "W84Z5GGxnkBt"
      }
    },
    {
      "cell_type": "code",
      "source": [
        "skb_selector = SelectKBest(score_func=mutual_info_classif, k=2)\n",
        "skb_selector.fit_transform(X, y)\n",
        "\n",
        "# printing the scores\n",
        "skb_feature_scores = pd.DataFrame({'Feature': X.columns, 'Score': skb_selector.scores_})\n",
        "skb_feature_scores = skb_feature_scores.sort_values(by='Score', ascending=False)  # Sort by importance\n",
        "print(skb_feature_scores)\n",
        "\n",
        "# Get the selected feature names\n",
        "skb_selected_feature_names = X.columns[skb_selector.get_support()]\n",
        "print(\"skb_selected_feature_names = \", skb_selected_feature_names)"
      ],
      "metadata": {
        "colab": {
          "base_uri": "https://localhost:8080/"
        },
        "id": "Klp9fJoFd7ST",
        "outputId": "463ddcc7-69af-4e2c-87d3-16374728f846",
        "collapsed": true
      },
      "execution_count": null,
      "outputs": [
        {
          "output_type": "stream",
          "name": "stdout",
          "text": [
            "            Feature     Score\n",
            "39              IAT  2.037647\n",
            "1     Header_Length  1.138363\n",
            "34              Min  1.045500\n",
            "38         Tot size  1.042804\n",
            "41         Magnitue  1.035977\n",
            "36              AVG  1.031996\n",
            "33          Tot sum  1.027246\n",
            "2     Protocol Type  0.978484\n",
            "35              Max  0.976839\n",
            "26              TCP  0.666641\n",
            "15        syn_count  0.614459\n",
            "30             ICMP  0.532388\n",
            "8   syn_flag_number  0.529793\n",
            "5             Srate  0.525842\n",
            "4              Rate  0.525692\n",
            "0     flow_duration  0.478218\n",
            "27              UDP  0.437050\n",
            "18        rst_count  0.433486\n",
            "16        fin_count  0.402268\n",
            "17        urg_count  0.388190\n",
            "14        ack_count  0.379898\n",
            "7   fin_flag_number  0.368997\n",
            "9   rst_flag_number  0.356286\n",
            "10  psh_flag_number  0.354386\n",
            "11  ack_flag_number  0.350179\n",
            "42           Radius  0.224117\n",
            "43       Covariance  0.223821\n",
            "37              Std  0.223142\n",
            "44         Variance  0.147410\n",
            "3          Duration  0.059456\n",
            "19             HTTP  0.031022\n",
            "20            HTTPS  0.017183\n",
            "40           Number  0.008906\n",
            "32              LLC  0.008215\n",
            "45           Weight  0.007410\n",
            "31              IPv  0.004861\n",
            "25              IRC  0.003427\n",
            "28             DHCP  0.003002\n",
            "12  ece_flag_number  0.001551\n",
            "13  cwr_flag_number  0.000644\n",
            "23             SMTP  0.000581\n",
            "6             Drate  0.000327\n",
            "22           Telnet  0.000115\n",
            "29              ARP  0.000000\n",
            "21              DNS  0.000000\n",
            "24              SSH  0.000000\n",
            "skb_selected_feature_names =  Index(['Header_Length', 'IAT'], dtype='object')\n"
          ]
        }
      ]
    },
    {
      "cell_type": "code",
      "source": [
        "rfe_selector = RFE(estimator= DecisionTreeClassifier( ), n_features_to_select=3)\n",
        "rfe_selector.fit_transform(X, y)\n",
        "\n",
        "# Printing the rankings\n",
        "rfe_feature_scores = pd.DataFrame({'Feature': X.columns, 'Score': rfe_selector.ranking_})\n",
        "rfe_feature_scores = rfe_feature_scores.sort_values(by='Score', ascending=True)  # Sort by importance (ascending)\n",
        "print(rfe_feature_scores)\n",
        "\n",
        "# Get the selected feature names\n",
        "rfe_selected_feature_names = X.columns[rfe_selector.get_support()]\n",
        "print(' rfe_feature_scores = ', rfe_selected_feature_names)"
      ],
      "metadata": {
        "colab": {
          "base_uri": "https://localhost:8080/"
        },
        "id": "CaAiKvkSS5Kf",
        "outputId": "9ead1c4f-6bfb-4bd5-9439-bf5c5cdf399f",
        "collapsed": true
      },
      "execution_count": null,
      "outputs": [
        {
          "output_type": "stream",
          "name": "stdout",
          "text": [
            "            Feature  Score\n",
            "7   fin_flag_number      1\n",
            "34              Min      1\n",
            "39              IAT      1\n",
            "17        urg_count      2\n",
            "8   syn_flag_number      3\n",
            "2     Protocol Type      4\n",
            "1     Header_Length      5\n",
            "43       Covariance      6\n",
            "15        syn_count      7\n",
            "33          Tot sum      8\n",
            "5             Srate      9\n",
            "10  psh_flag_number     10\n",
            "44         Variance     11\n",
            "37              Std     12\n",
            "26              TCP     13\n",
            "35              Max     14\n",
            "31              IPv     15\n",
            "45           Weight     16\n",
            "41         Magnitue     17\n",
            "40           Number     18\n",
            "38         Tot size     19\n",
            "18        rst_count     20\n",
            "36              AVG     21\n",
            "42           Radius     22\n",
            "30             ICMP     23\n",
            "20            HTTPS     24\n",
            "23             SMTP     25\n",
            "29              ARP     26\n",
            "32              LLC     27\n",
            "28             DHCP     28\n",
            "27              UDP     29\n",
            "16        fin_count     30\n",
            "25              IRC     31\n",
            "24              SSH     32\n",
            "0     flow_duration     33\n",
            "22           Telnet     34\n",
            "21              DNS     35\n",
            "14        ack_count     36\n",
            "19             HTTP     37\n",
            "13  cwr_flag_number     38\n",
            "12  ece_flag_number     39\n",
            "11  ack_flag_number     40\n",
            "9   rst_flag_number     41\n",
            "4              Rate     42\n",
            "3          Duration     43\n",
            "6             Drate     44\n",
            " rfe_feature_scores =  Index(['fin_flag_number', 'Min', 'IAT'], dtype='object')\n"
          ]
        }
      ]
    },
    {
      "cell_type": "code",
      "source": [
        "top_features_combined = list(set(skb_selected_feature_names) | set(rfe_selected_feature_names))\n",
        "print(top_features_combined)"
      ],
      "metadata": {
        "colab": {
          "base_uri": "https://localhost:8080/"
        },
        "id": "dCAJymSITV0C",
        "outputId": "4a41fa90-59a1-4e2d-afea-d7758f511c95"
      },
      "execution_count": null,
      "outputs": [
        {
          "output_type": "stream",
          "name": "stdout",
          "text": [
            "['IAT', 'Min', 'Header_Length', 'fin_flag_number']\n"
          ]
        }
      ]
    },
    {
      "cell_type": "code",
      "source": [
        "no_of_redundent_features = 5-(len(top_features_combined))\n",
        "\n",
        "# Find the next 3 best-ranked features NOT in SelectKBest\n",
        "extra_features_from_rfe = []\n",
        "\n",
        "for feature in rfe_feature_scores['Feature']:\n",
        "    if feature not in top_features_combined:\n",
        "        extra_features_from_rfe.append(feature)\n",
        "    if len(extra_features_from_rfe) == no_of_redundent_features:  # Stop once we have 3 features\n",
        "        break\n",
        "\n",
        "print(\"Extra features from RFE:\", extra_features_from_rfe)\n",
        "\n",
        "top_features_combined.extend(extra_features_from_rfe)\n",
        "print('top_features_combined = ', top_features_combined)\n",
        "\n",
        "X_selected = X[top_features_combined]"
      ],
      "metadata": {
        "colab": {
          "base_uri": "https://localhost:8080/"
        },
        "id": "qc8aSXu-P7ZC",
        "outputId": "9856886d-205f-403f-a050-027bec2f90c2"
      },
      "execution_count": null,
      "outputs": [
        {
          "output_type": "stream",
          "name": "stdout",
          "text": [
            "Extra features from RFE: ['urg_count']\n",
            "top_features_combined =  ['IAT', 'Min', 'Header_Length', 'fin_flag_number', 'urg_count']\n"
          ]
        }
      ]
    },
    {
      "cell_type": "code",
      "source": [
        "from sklearn.metrics import recall_score\n",
        "\n",
        "# Step 6: Train and Test Split\n",
        "X_train, X_test, y_train, y_test = train_test_split(X_selected, y, test_size=0.35, random_state=42)\n",
        "\n",
        "# Step 7: Train Decision Tree Classifier\n",
        "dt_model = DecisionTreeClassifier(random_state=42)\n",
        "dt_model.fit(X_train, y_train)\n",
        "\n",
        "# Step 8: Evaluate the model\n",
        "y_pred = dt_model.predict(X_test)\n",
        "accuracy = accuracy_score(y_test, y_pred)\n",
        "precision = precision_score(y_test, y_pred, average='weighted')  # Weighted for imbalanced classes\n",
        "recall = recall_score(y_test, y_pred, average='weighted')  # Weighted for imbalanced classes\n",
        "f1 = f1_score(y_test, y_pred, average='weighted')  # Weighted for imbalanced classes\n",
        "\n",
        "# Print metrics\n",
        "print(\"Accuracy:\", accuracy)\n",
        "print(\"Precision:\", precision)\n",
        "print(\"recall:\", recall)\n",
        "print(\"F1 Score:\", f1)\n",
        "print(\"Classification Report:\\n\", classification_report(y_test, y_pred))\n",
        "\n",
        "# Confusion Matrix\n",
        "conf_matrix = confusion_matrix(y_test, y_pred)\n",
        "print(\"Confusion Matrix:\\n\", conf_matrix)"
      ],
      "metadata": {
        "colab": {
          "base_uri": "https://localhost:8080/"
        },
        "id": "bgVlQAbOqyMc",
        "outputId": "7f3aba16-502c-4256-a553-e10826560558"
      },
      "execution_count": null,
      "outputs": [
        {
          "output_type": "stream",
          "name": "stdout",
          "text": [
            "Accuracy: 0.999523198842524\n",
            "Precision: 0.9995251342845797\n",
            "recall: 0.999523198842524\n",
            "F1 Score: 0.9995237435841956\n",
            "Classification Report:\n",
            "                          precision    recall  f1-score   support\n",
            "\n",
            " DDoS-ACK_Fragmentation       0.99      0.99      0.99       513\n",
            "        DDoS-HTTP_Flood       0.93      0.95      0.94        56\n",
            "        DDoS-ICMP_Flood       1.00      1.00      1.00     12772\n",
            "DDoS-ICMP_Fragmentation       0.99      1.00      0.99       835\n",
            "      DDoS-PSHACK_Flood       1.00      1.00      1.00      7477\n",
            "       DDoS-RSTFINFlood       1.00      1.00      1.00      7196\n",
            "         DDoS-SYN_Flood       1.00      1.00      1.00      7166\n",
            "         DDoS-SlowLoris       1.00      0.96      0.98        24\n",
            "DDoS-SynonymousIP_Flood       1.00      1.00      1.00      6311\n",
            "         DDoS-TCP_Flood       1.00      1.00      1.00      8162\n",
            "         DDoS-UDP_Flood       1.00      1.00      1.00      9762\n",
            " DDoS-UDP_Fragmentation       1.00      0.99      1.00       548\n",
            "\n",
            "               accuracy                           1.00     60822\n",
            "              macro avg       0.99      0.99      0.99     60822\n",
            "           weighted avg       1.00      1.00      1.00     60822\n",
            "\n",
            "Confusion Matrix:\n",
            " [[  509     0     0     1     1     1     0     0     1     0     0     0]\n",
            " [    2    53     0     1     0     0     0     0     0     0     0     0]\n",
            " [    1     0 12767     3     0     0     0     0     1     0     0     0]\n",
            " [    1     2     0   832     0     0     0     0     0     0     0     0]\n",
            " [    0     0     0     0  7477     0     0     0     0     0     0     0]\n",
            " [    0     0     0     0     0  7194     0     0     0     1     1     0]\n",
            " [    0     0     0     0     0     0  7163     0     2     0     1     0]\n",
            " [    0     0     0     0     0     0     0    23     1     0     0     0]\n",
            " [    0     1     0     0     0     0     0     0  6309     1     0     0]\n",
            " [    0     0     0     1     0     0     0     0     0  8161     0     0]\n",
            " [    0     1     0     1     0     0     0     0     0     0  9760     0]\n",
            " [    1     0     0     0     1     0     0     0     1     0     0   545]]\n"
          ]
        }
      ]
    },
    {
      "cell_type": "markdown",
      "source": [
        "# 10 features"
      ],
      "metadata": {
        "id": "-3Vqi79mnWQS"
      }
    },
    {
      "cell_type": "code",
      "source": [
        "skb_selector = SelectKBest(score_func=mutual_info_classif, k=5)\n",
        "skb_selector.fit_transform(X, y)\n",
        "\n",
        "# printing the scores\n",
        "skb_feature_scores = pd.DataFrame({'Feature': X.columns, 'Score': skb_selector.scores_})\n",
        "skb_feature_scores = skb_feature_scores.sort_values(by='Score', ascending=False)  # Sort by importance\n",
        "print(skb_feature_scores)\n",
        "\n",
        "# Get the selected feature names\n",
        "skb_selected_feature_names = X.columns[skb_selector.get_support()]\n",
        "print(\"skb_selected_feature_names = \", skb_selected_feature_names)"
      ],
      "metadata": {
        "colab": {
          "base_uri": "https://localhost:8080/"
        },
        "id": "XF5BixW5cs_1",
        "outputId": "32069b62-1fac-4147-fc59-7e8cf2d1972c",
        "collapsed": true
      },
      "execution_count": null,
      "outputs": [
        {
          "output_type": "stream",
          "name": "stdout",
          "text": [
            "            Feature     Score\n",
            "39              IAT  2.037634\n",
            "1     Header_Length  1.137411\n",
            "34              Min  1.047119\n",
            "38         Tot size  1.041460\n",
            "41         Magnitue  1.036601\n",
            "36              AVG  1.034455\n",
            "33          Tot sum  1.028215\n",
            "2     Protocol Type  0.978345\n",
            "35              Max  0.978297\n",
            "26              TCP  0.668366\n",
            "15        syn_count  0.613551\n",
            "30             ICMP  0.531062\n",
            "8   syn_flag_number  0.530544\n",
            "5             Srate  0.525851\n",
            "4              Rate  0.525554\n",
            "0     flow_duration  0.479761\n",
            "27              UDP  0.437234\n",
            "18        rst_count  0.436736\n",
            "16        fin_count  0.398516\n",
            "17        urg_count  0.387160\n",
            "14        ack_count  0.380435\n",
            "7   fin_flag_number  0.364235\n",
            "10  psh_flag_number  0.357997\n",
            "9   rst_flag_number  0.357021\n",
            "11  ack_flag_number  0.350206\n",
            "42           Radius  0.225649\n",
            "37              Std  0.225517\n",
            "43       Covariance  0.224537\n",
            "44         Variance  0.145623\n",
            "3          Duration  0.056478\n",
            "19             HTTP  0.029937\n",
            "20            HTTPS  0.018491\n",
            "31              IPv  0.010974\n",
            "40           Number  0.008865\n",
            "45           Weight  0.004413\n",
            "32              LLC  0.004083\n",
            "13  cwr_flag_number  0.002790\n",
            "23             SMTP  0.002366\n",
            "12  ece_flag_number  0.000418\n",
            "21              DNS  0.000310\n",
            "6             Drate  0.000000\n",
            "29              ARP  0.000000\n",
            "22           Telnet  0.000000\n",
            "28             DHCP  0.000000\n",
            "24              SSH  0.000000\n",
            "25              IRC  0.000000\n",
            "skb_selected_feature_names =  Index(['Header_Length', 'Min', 'Tot size', 'IAT', 'Magnitue'], dtype='object')\n"
          ]
        }
      ]
    },
    {
      "cell_type": "code",
      "source": [
        "rfe_selector = RFE(estimator= DecisionTreeClassifier( ), n_features_to_select=5)\n",
        "rfe_selector.fit_transform(X, y)\n",
        "\n",
        "# Printing the rankings\n",
        "rfe_feature_scores = pd.DataFrame({'Feature': X.columns, 'Score': rfe_selector.ranking_})\n",
        "rfe_feature_scores = rfe_feature_scores.sort_values(by='Score', ascending=True)  # Sort by importance (ascending)\n",
        "print(rfe_feature_scores)\n",
        "\n",
        "# Get the selected feature names\n",
        "rfe_selected_feature_names = X.columns[rfe_selector.get_support()]\n",
        "print(' rfe_feature_scores = ', rfe_selected_feature_names)"
      ],
      "metadata": {
        "colab": {
          "base_uri": "https://localhost:8080/"
        },
        "id": "HPLywwbXdaHy",
        "outputId": "e01e76e1-17b1-4915-bd7a-fddb20918718",
        "collapsed": true
      },
      "execution_count": null,
      "outputs": [
        {
          "output_type": "stream",
          "name": "stdout",
          "text": [
            "            Feature  Score\n",
            "7   fin_flag_number      1\n",
            "8   syn_flag_number      1\n",
            "17        urg_count      1\n",
            "34              Min      1\n",
            "39              IAT      1\n",
            "2     Protocol Type      2\n",
            "1     Header_Length      3\n",
            "43       Covariance      4\n",
            "15        syn_count      5\n",
            "41         Magnitue      6\n",
            "5             Srate      7\n",
            "44         Variance      8\n",
            "10  psh_flag_number      9\n",
            "26              TCP     10\n",
            "31              IPv     11\n",
            "38         Tot size     12\n",
            "42           Radius     13\n",
            "45           Weight     14\n",
            "23             SMTP     15\n",
            "35              Max     16\n",
            "40           Number     17\n",
            "25              IRC     18\n",
            "24              SSH     19\n",
            "37              Std     20\n",
            "36              AVG     21\n",
            "33          Tot sum     22\n",
            "32              LLC     23\n",
            "30             ICMP     24\n",
            "29              ARP     25\n",
            "28             DHCP     26\n",
            "14        ack_count     27\n",
            "27              UDP     28\n",
            "12  ece_flag_number     29\n",
            "4              Rate     30\n",
            "3          Duration     31\n",
            "22           Telnet     32\n",
            "18        rst_count     33\n",
            "21              DNS     34\n",
            "20            HTTPS     35\n",
            "19             HTTP     36\n",
            "9   rst_flag_number     37\n",
            "16        fin_count     38\n",
            "0     flow_duration     39\n",
            "11  ack_flag_number     40\n",
            "13  cwr_flag_number     41\n",
            "6             Drate     42\n",
            " rfe_feature_scores =  Index(['fin_flag_number', 'syn_flag_number', 'urg_count', 'Min', 'IAT'], dtype='object')\n"
          ]
        }
      ]
    },
    {
      "cell_type": "code",
      "source": [
        "top_features_combined = list(set(skb_selected_feature_names) | set(rfe_selected_feature_names))\n",
        "print(top_features_combined)"
      ],
      "metadata": {
        "colab": {
          "base_uri": "https://localhost:8080/"
        },
        "id": "BGoAK4csb2In",
        "outputId": "cb4e1903-8e1d-4845-8d95-6e0d90f22deb"
      },
      "execution_count": null,
      "outputs": [
        {
          "output_type": "stream",
          "name": "stdout",
          "text": [
            "['urg_count', 'Tot size', 'IAT', 'Header_Length', 'Magnitue', 'syn_flag_number', 'Min', 'fin_flag_number']\n"
          ]
        }
      ]
    },
    {
      "cell_type": "code",
      "source": [
        "no_of_redundent_features = 10-(len(top_features_combined))\n",
        "\n",
        "# Find the next 3 best-ranked features NOT in SelectKBest\n",
        "extra_features_from_rfe = []\n",
        "\n",
        "for feature in rfe_feature_scores['Feature']:\n",
        "    if feature not in top_features_combined:\n",
        "        extra_features_from_rfe.append(feature)\n",
        "    if len(extra_features_from_rfe) == no_of_redundent_features:  # Stop once we have 3 features\n",
        "        break\n",
        "\n",
        "print(\"Extra features from RFE:\", extra_features_from_rfe)\n",
        "\n",
        "top_features_combined.extend(extra_features_from_rfe)\n",
        "print('top_features_combined = ', top_features_combined)\n",
        "\n",
        "X_selected = X[top_features_combined]"
      ],
      "metadata": {
        "colab": {
          "base_uri": "https://localhost:8080/"
        },
        "id": "uZhgkxsNqZUz",
        "outputId": "11cfeb47-4c7b-404e-a146-81f6465dc473"
      },
      "execution_count": null,
      "outputs": [
        {
          "output_type": "stream",
          "name": "stdout",
          "text": [
            "Extra features from RFE: ['Protocol Type', 'Covariance']\n",
            "top_features_combined =  ['urg_count', 'Tot size', 'IAT', 'Header_Length', 'Magnitue', 'syn_flag_number', 'Min', 'fin_flag_number', 'Protocol Type', 'Covariance']\n"
          ]
        }
      ]
    },
    {
      "cell_type": "code",
      "source": [
        "from sklearn.metrics import recall_score\n",
        "\n",
        "# Step 6: Train and Test Split\n",
        "X_train, X_test, y_train, y_test = train_test_split(X_selected, y, test_size=0.35, random_state=42)\n",
        "\n",
        "# Step 7: Train Decision Tree Classifier\n",
        "dt_model = DecisionTreeClassifier(random_state=42)\n",
        "dt_model.fit(X_train, y_train)\n",
        "\n",
        "# Step 8: Evaluate the model\n",
        "y_pred = dt_model.predict(X_test)\n",
        "accuracy = accuracy_score(y_test, y_pred)\n",
        "precision = precision_score(y_test, y_pred, average='weighted')  # Weighted for imbalanced classes\n",
        "recall = recall_score(y_test, y_pred, average='weighted')  # Weighted for imbalanced classes\n",
        "f1 = f1_score(y_test, y_pred, average='weighted')  # Weighted for imbalanced classes\n",
        "\n",
        "# Print metrics\n",
        "print(\"Accuracy:\", accuracy)\n",
        "print(\"Precision:\", precision)\n",
        "print(\"recall:\", recall)\n",
        "print(\"F1 Score:\", f1)\n",
        "print(\"Classification Report:\\n\", classification_report(y_test, y_pred))\n",
        "\n",
        "# Confusion Matrix\n",
        "conf_matrix = confusion_matrix(y_test, y_pred)\n",
        "print(\"Confusion Matrix:\\n\", conf_matrix)"
      ],
      "metadata": {
        "colab": {
          "base_uri": "https://localhost:8080/"
        },
        "id": "sRTv6zbQq1DG",
        "outputId": "1ac3efbd-72e3-4a42-d1ca-8b74ecaf610b"
      },
      "execution_count": null,
      "outputs": [
        {
          "output_type": "stream",
          "name": "stdout",
          "text": [
            "Accuracy: 0.9996547301963106\n",
            "Precision: 0.999655956930136\n",
            "recall: 0.9996547301963106\n",
            "F1 Score: 0.9996548783308299\n",
            "Classification Report:\n",
            "                          precision    recall  f1-score   support\n",
            "\n",
            " DDoS-ACK_Fragmentation       1.00      0.99      1.00       513\n",
            "        DDoS-HTTP_Flood       0.95      0.96      0.96        56\n",
            "        DDoS-ICMP_Flood       1.00      1.00      1.00     12772\n",
            "DDoS-ICMP_Fragmentation       1.00      1.00      1.00       835\n",
            "      DDoS-PSHACK_Flood       1.00      1.00      1.00      7477\n",
            "       DDoS-RSTFINFlood       1.00      1.00      1.00      7196\n",
            "         DDoS-SYN_Flood       1.00      1.00      1.00      7166\n",
            "         DDoS-SlowLoris       1.00      0.96      0.98        24\n",
            "DDoS-SynonymousIP_Flood       1.00      1.00      1.00      6311\n",
            "         DDoS-TCP_Flood       1.00      1.00      1.00      8162\n",
            "         DDoS-UDP_Flood       1.00      1.00      1.00      9762\n",
            " DDoS-UDP_Fragmentation       1.00      1.00      1.00       548\n",
            "\n",
            "               accuracy                           1.00     60822\n",
            "              macro avg       0.99      0.99      0.99     60822\n",
            "           weighted avg       1.00      1.00      1.00     60822\n",
            "\n",
            "Confusion Matrix:\n",
            " [[  509     1     0     0     1     0     0     0     2     0     0     0]\n",
            " [    0    54     0     2     0     0     0     0     0     0     0     0]\n",
            " [    0     0 12770     1     0     0     0     0     0     0     1     0]\n",
            " [    0     0     0   835     0     0     0     0     0     0     0     0]\n",
            " [    0     0     0     0  7477     0     0     0     0     0     0     0]\n",
            " [    0     0     0     0     1  7194     0     0     1     0     0     0]\n",
            " [    0     0     0     0     0     0  7163     0     2     0     1     0]\n",
            " [    0     0     0     0     0     1     0    23     0     0     0     0]\n",
            " [    0     1     0     0     0     0     0     0  6309     0     0     1]\n",
            " [    0     1     0     0     0     0     0     0     0  8161     0     0]\n",
            " [    0     0     0     1     0     0     0     0     0     0  9760     1]\n",
            " [    0     0     0     0     0     1     0     0     0     1     0   546]]\n"
          ]
        }
      ]
    },
    {
      "cell_type": "markdown",
      "source": [
        "# 15 features"
      ],
      "metadata": {
        "id": "czfPtbIInQCa"
      }
    },
    {
      "cell_type": "code",
      "source": [
        "skb_selector = SelectKBest(score_func=mutual_info_classif, k=7)\n",
        "skb_selector.fit_transform(X, y)\n",
        "\n",
        "# printing the scores\n",
        "skb_feature_scores = pd.DataFrame({'Feature': X.columns, 'Score': skb_selector.scores_})\n",
        "skb_feature_scores = skb_feature_scores.sort_values(by='Score', ascending=False)  # Sort by importance\n",
        "print(skb_feature_scores)\n",
        "\n",
        "# Get the selected feature names\n",
        "skb_selected_feature_names = X.columns[skb_selector.get_support()]\n",
        "print(\"skb_selected_feature_names = \", skb_selected_feature_names)"
      ],
      "metadata": {
        "colab": {
          "base_uri": "https://localhost:8080/"
        },
        "outputId": "3b80424a-456a-48b7-c464-26c1fa90e432",
        "collapsed": true,
        "id": "JR5akcz5rIv3"
      },
      "execution_count": null,
      "outputs": [
        {
          "output_type": "stream",
          "name": "stdout",
          "text": [
            "            Feature     Score\n",
            "39              IAT  2.037630\n",
            "1     Header_Length  1.137304\n",
            "34              Min  1.048571\n",
            "38         Tot size  1.044214\n",
            "41         Magnitue  1.038361\n",
            "36              AVG  1.032891\n",
            "33          Tot sum  1.027389\n",
            "2     Protocol Type  0.982559\n",
            "35              Max  0.979525\n",
            "26              TCP  0.668652\n",
            "15        syn_count  0.614586\n",
            "30             ICMP  0.533099\n",
            "8   syn_flag_number  0.531098\n",
            "5             Srate  0.525552\n",
            "4              Rate  0.525154\n",
            "0     flow_duration  0.478752\n",
            "18        rst_count  0.435107\n",
            "27              UDP  0.433430\n",
            "16        fin_count  0.400184\n",
            "17        urg_count  0.388765\n",
            "14        ack_count  0.380219\n",
            "7   fin_flag_number  0.365233\n",
            "9   rst_flag_number  0.359946\n",
            "10  psh_flag_number  0.353901\n",
            "11  ack_flag_number  0.351308\n",
            "37              Std  0.226841\n",
            "42           Radius  0.226471\n",
            "43       Covariance  0.222457\n",
            "44         Variance  0.147577\n",
            "3          Duration  0.056694\n",
            "19             HTTP  0.035218\n",
            "20            HTTPS  0.018361\n",
            "31              IPv  0.008066\n",
            "40           Number  0.007464\n",
            "45           Weight  0.006230\n",
            "32              LLC  0.005994\n",
            "28             DHCP  0.002772\n",
            "29              ARP  0.002729\n",
            "21              DNS  0.002192\n",
            "24              SSH  0.001664\n",
            "23             SMTP  0.001538\n",
            "22           Telnet  0.000374\n",
            "13  cwr_flag_number  0.000280\n",
            "25              IRC  0.000222\n",
            "6             Drate  0.000020\n",
            "12  ece_flag_number  0.000000\n",
            "skb_selected_feature_names =  Index(['Header_Length', 'Tot sum', 'Min', 'AVG', 'Tot size', 'IAT',\n",
            "       'Magnitue'],\n",
            "      dtype='object')\n"
          ]
        }
      ]
    },
    {
      "cell_type": "code",
      "source": [
        "rfe_selector = RFE(estimator= DecisionTreeClassifier( ), n_features_to_select=8)\n",
        "rfe_selector.fit_transform(X, y)\n",
        "\n",
        "# Printing the rankings\n",
        "rfe_feature_scores = pd.DataFrame({'Feature': X.columns, 'Score': rfe_selector.ranking_})\n",
        "rfe_feature_scores = rfe_feature_scores.sort_values(by='Score', ascending=True)  # Sort by importance (ascending)\n",
        "print(rfe_feature_scores)\n",
        "\n",
        "# Get the selected feature names\n",
        "rfe_selected_feature_names = X.columns[rfe_selector.get_support()]\n",
        "print(' rfe_feature_scores = ', rfe_selected_feature_names)"
      ],
      "metadata": {
        "colab": {
          "base_uri": "https://localhost:8080/"
        },
        "outputId": "551dfd03-337d-4784-e817-b0578abd6e06",
        "collapsed": true,
        "id": "7pjHmJM7rIv4"
      },
      "execution_count": null,
      "outputs": [
        {
          "output_type": "stream",
          "name": "stdout",
          "text": [
            "            Feature  Score\n",
            "1     Header_Length      1\n",
            "2     Protocol Type      1\n",
            "7   fin_flag_number      1\n",
            "8   syn_flag_number      1\n",
            "17        urg_count      1\n",
            "43       Covariance      1\n",
            "39              IAT      1\n",
            "34              Min      1\n",
            "15        syn_count      2\n",
            "5             Srate      3\n",
            "41         Magnitue      4\n",
            "44         Variance      5\n",
            "10  psh_flag_number      6\n",
            "37              Std      7\n",
            "32              LLC      8\n",
            "26              TCP      9\n",
            "45           Weight     10\n",
            "38         Tot size     11\n",
            "40           Number     12\n",
            "18        rst_count     13\n",
            "35              Max     14\n",
            "36              AVG     15\n",
            "42           Radius     16\n",
            "33          Tot sum     17\n",
            "19             HTTP     18\n",
            "29              ARP     19\n",
            "20            HTTPS     20\n",
            "30             ICMP     21\n",
            "24              SSH     22\n",
            "31              IPv     23\n",
            "28             DHCP     24\n",
            "27              UDP     25\n",
            "25              IRC     26\n",
            "16        fin_count     27\n",
            "23             SMTP     28\n",
            "22           Telnet     29\n",
            "21              DNS     30\n",
            "13  cwr_flag_number     31\n",
            "12  ece_flag_number     32\n",
            "11  ack_flag_number     33\n",
            "3          Duration     34\n",
            "4              Rate     35\n",
            "9   rst_flag_number     36\n",
            "14        ack_count     37\n",
            "0     flow_duration     38\n",
            "6             Drate     39\n",
            " rfe_feature_scores =  Index(['Header_Length', 'Protocol Type', 'fin_flag_number', 'syn_flag_number',\n",
            "       'urg_count', 'Min', 'IAT', 'Covariance'],\n",
            "      dtype='object')\n"
          ]
        }
      ]
    },
    {
      "cell_type": "code",
      "source": [
        "top_features_combined = list(set(skb_selected_feature_names) | set(rfe_selected_feature_names))\n",
        "print(top_features_combined)"
      ],
      "metadata": {
        "colab": {
          "base_uri": "https://localhost:8080/"
        },
        "outputId": "3c6d8e19-f50f-4402-fd86-a2686fb1f341",
        "id": "_zxf-ptlrIv5"
      },
      "execution_count": null,
      "outputs": [
        {
          "output_type": "stream",
          "name": "stdout",
          "text": [
            "['Tot sum', 'urg_count', 'Tot size', 'IAT', 'Header_Length', 'AVG', 'Magnitue', 'syn_flag_number', 'Protocol Type', 'Min', 'fin_flag_number', 'Covariance']\n"
          ]
        }
      ]
    },
    {
      "cell_type": "code",
      "source": [
        "no_of_redundent_features = 15-(len(top_features_combined))\n",
        "\n",
        "# Find the next 3 best-ranked features NOT in SelectKBest\n",
        "extra_features_from_rfe = []\n",
        "\n",
        "for feature in rfe_feature_scores['Feature']:\n",
        "    if feature not in top_features_combined:\n",
        "        extra_features_from_rfe.append(feature)\n",
        "    if len(extra_features_from_rfe) == no_of_redundent_features:  # Stop once we have 3 features\n",
        "        break\n",
        "\n",
        "print(\"Extra features from RFE:\", extra_features_from_rfe)\n",
        "\n",
        "top_features_combined.extend(extra_features_from_rfe)\n",
        "print('top_features_combined = ', top_features_combined)\n",
        "\n",
        "X_selected = X[top_features_combined]"
      ],
      "metadata": {
        "colab": {
          "base_uri": "https://localhost:8080/"
        },
        "outputId": "ec247b41-37fd-488d-ae18-299e7b05d12e",
        "id": "9jrD0eISrIv5"
      },
      "execution_count": null,
      "outputs": [
        {
          "output_type": "stream",
          "name": "stdout",
          "text": [
            "Extra features from RFE: ['syn_count', 'Srate', 'Variance']\n",
            "top_features_combined =  ['Tot sum', 'urg_count', 'Tot size', 'IAT', 'Header_Length', 'AVG', 'Magnitue', 'syn_flag_number', 'Protocol Type', 'Min', 'fin_flag_number', 'Covariance', 'syn_count', 'Srate', 'Variance']\n"
          ]
        }
      ]
    },
    {
      "cell_type": "code",
      "source": [
        "from sklearn.metrics import recall_score\n",
        "\n",
        "# Step 6: Train and Test Split\n",
        "X_train, X_test, y_train, y_test = train_test_split(X_selected, y, test_size=0.35, random_state=42)\n",
        "\n",
        "# Step 7: Train Decision Tree Classifier\n",
        "dt_model = DecisionTreeClassifier(random_state=42)\n",
        "dt_model.fit(X_train, y_train)\n",
        "\n",
        "# Step 8: Evaluate the model\n",
        "y_pred = dt_model.predict(X_test)\n",
        "accuracy = accuracy_score(y_test, y_pred)\n",
        "precision = precision_score(y_test, y_pred, average='weighted')  # Weighted for imbalanced classes\n",
        "recall = recall_score(y_test, y_pred, average='weighted')  # Weighted for imbalanced classes\n",
        "f1 = f1_score(y_test, y_pred, average='weighted')  # Weighted for imbalanced classes\n",
        "\n",
        "# Print metrics\n",
        "print(\"Accuracy:\", accuracy)\n",
        "print(\"Precision:\", precision)\n",
        "print(\"recall:\", recall)\n",
        "print(\"F1 Score:\", f1)\n",
        "print(\"Classification Report:\\n\", classification_report(y_test, y_pred))\n",
        "\n",
        "# Confusion Matrix\n",
        "conf_matrix = confusion_matrix(y_test, y_pred)\n",
        "print(\"Confusion Matrix:\\n\", conf_matrix)"
      ],
      "metadata": {
        "colab": {
          "base_uri": "https://localhost:8080/"
        },
        "outputId": "110e38ff-6a44-4a81-f3f5-d823c0911293",
        "collapsed": true,
        "id": "lgPzfBrbrIv6"
      },
      "execution_count": null,
      "outputs": [
        {
          "output_type": "stream",
          "name": "stdout",
          "text": [
            "Accuracy: 0.9997369372924271\n",
            "Precision: 0.9997370459535441\n",
            "recall: 0.9997369372924271\n",
            "F1 Score: 0.9997363944731077\n",
            "Classification Report:\n",
            "                          precision    recall  f1-score   support\n",
            "\n",
            " DDoS-ACK_Fragmentation       1.00      0.99      1.00       513\n",
            "        DDoS-HTTP_Flood       1.00      0.96      0.98        56\n",
            "        DDoS-ICMP_Flood       1.00      1.00      1.00     12772\n",
            "DDoS-ICMP_Fragmentation       1.00      1.00      1.00       835\n",
            "      DDoS-PSHACK_Flood       1.00      1.00      1.00      7477\n",
            "       DDoS-RSTFINFlood       1.00      1.00      1.00      7196\n",
            "         DDoS-SYN_Flood       1.00      1.00      1.00      7166\n",
            "         DDoS-SlowLoris       1.00      0.96      0.98        24\n",
            "DDoS-SynonymousIP_Flood       1.00      1.00      1.00      6311\n",
            "         DDoS-TCP_Flood       1.00      1.00      1.00      8162\n",
            "         DDoS-UDP_Flood       1.00      1.00      1.00      9762\n",
            " DDoS-UDP_Fragmentation       1.00      1.00      1.00       548\n",
            "\n",
            "               accuracy                           1.00     60822\n",
            "              macro avg       1.00      0.99      1.00     60822\n",
            "           weighted avg       1.00      1.00      1.00     60822\n",
            "\n",
            "Confusion Matrix:\n",
            " [[  509     0     0     0     2     0     0     0     2     0     0     0]\n",
            " [    0    54     0     1     0     0     0     0     1     0     0     0]\n",
            " [    0     0 12771     1     0     0     0     0     0     0     0     0]\n",
            " [    0     0     0   835     0     0     0     0     0     0     0     0]\n",
            " [    0     0     0     0  7477     0     0     0     0     0     0     0]\n",
            " [    1     0     0     0     0  7195     0     0     0     0     0     0]\n",
            " [    0     0     0     0     0     0  7164     0     2     0     0     0]\n",
            " [    0     0     0     0     0     0     0    23     1     0     0     0]\n",
            " [    0     0     0     0     0     0     0     0  6310     0     0     1]\n",
            " [    0     0     0     0     0     0     0     0     0  8162     0     0]\n",
            " [    0     0     0     0     0     0     1     0     0     0  9760     1]\n",
            " [    0     0     0     0     1     0     0     0     1     0     0   546]]\n"
          ]
        }
      ]
    },
    {
      "cell_type": "markdown",
      "source": [
        "# 20 Features"
      ],
      "metadata": {
        "id": "9sWBb6UM5x6o"
      }
    },
    {
      "cell_type": "code",
      "source": [
        "skb_selector = SelectKBest(score_func=mutual_info_classif, k=10)\n",
        "skb_selector.fit_transform(X, y)\n",
        "\n",
        "# printing the scores\n",
        "skb_feature_scores = pd.DataFrame({'Feature': X.columns, 'Score': skb_selector.scores_})\n",
        "skb_feature_scores = skb_feature_scores.sort_values(by='Score', ascending=False)  # Sort by importance\n",
        "print(skb_feature_scores)\n",
        "\n",
        "# Get the selected feature names\n",
        "skb_selected_feature_names = X.columns[skb_selector.get_support()]\n",
        "print(\"skb_selected_feature_names = \", skb_selected_feature_names)"
      ],
      "metadata": {
        "colab": {
          "base_uri": "https://localhost:8080/"
        },
        "outputId": "5cb91b8e-e3ea-4770-ff5f-1008ad44dd6c",
        "collapsed": true,
        "id": "p-8BqRTcrWyH"
      },
      "execution_count": null,
      "outputs": [
        {
          "output_type": "stream",
          "name": "stdout",
          "text": [
            "            Feature     Score\n",
            "39              IAT  2.037664\n",
            "1     Header_Length  1.137340\n",
            "34              Min  1.048680\n",
            "38         Tot size  1.043018\n",
            "41         Magnitue  1.037793\n",
            "36              AVG  1.031683\n",
            "33          Tot sum  1.025981\n",
            "2     Protocol Type  0.980056\n",
            "35              Max  0.976731\n",
            "26              TCP  0.667259\n",
            "15        syn_count  0.614802\n",
            "30             ICMP  0.535216\n",
            "8   syn_flag_number  0.527492\n",
            "5             Srate  0.525589\n",
            "4              Rate  0.525555\n",
            "0     flow_duration  0.479942\n",
            "27              UDP  0.435627\n",
            "18        rst_count  0.435147\n",
            "16        fin_count  0.400280\n",
            "17        urg_count  0.388483\n",
            "14        ack_count  0.381591\n",
            "7   fin_flag_number  0.366441\n",
            "10  psh_flag_number  0.357306\n",
            "9   rst_flag_number  0.356124\n",
            "11  ack_flag_number  0.352687\n",
            "43       Covariance  0.227884\n",
            "37              Std  0.226517\n",
            "42           Radius  0.222190\n",
            "44         Variance  0.145729\n",
            "3          Duration  0.057578\n",
            "19             HTTP  0.029865\n",
            "20            HTTPS  0.017298\n",
            "32              LLC  0.008369\n",
            "40           Number  0.008018\n",
            "45           Weight  0.007678\n",
            "31              IPv  0.003189\n",
            "23             SMTP  0.002863\n",
            "25              IRC  0.000507\n",
            "13  cwr_flag_number  0.000000\n",
            "12  ece_flag_number  0.000000\n",
            "6             Drate  0.000000\n",
            "29              ARP  0.000000\n",
            "21              DNS  0.000000\n",
            "28             DHCP  0.000000\n",
            "22           Telnet  0.000000\n",
            "24              SSH  0.000000\n",
            "skb_selected_feature_names =  Index(['Header_Length', 'Protocol Type', 'TCP', 'Tot sum', 'Min', 'Max', 'AVG',\n",
            "       'Tot size', 'IAT', 'Magnitue'],\n",
            "      dtype='object')\n"
          ]
        }
      ]
    },
    {
      "cell_type": "code",
      "source": [
        "rfe_selector = RFE(estimator= DecisionTreeClassifier( ), n_features_to_select=10)\n",
        "rfe_selector.fit_transform(X, y)\n",
        "\n",
        "# Printing the rankings\n",
        "rfe_feature_scores = pd.DataFrame({'Feature': X.columns, 'Score': rfe_selector.ranking_})\n",
        "rfe_feature_scores = rfe_feature_scores.sort_values(by='Score', ascending=True)  # Sort by importance (ascending)\n",
        "print(rfe_feature_scores)\n",
        "\n",
        "# Get the selected feature names\n",
        "rfe_selected_feature_names = X.columns[rfe_selector.get_support()]\n",
        "print(' rfe_feature_scores = ', rfe_selected_feature_names)"
      ],
      "metadata": {
        "colab": {
          "base_uri": "https://localhost:8080/"
        },
        "outputId": "ea58a8aa-4748-4d09-a5bb-a692244ee6dd",
        "collapsed": true,
        "id": "szsfkv3TrWyH"
      },
      "execution_count": null,
      "outputs": [
        {
          "output_type": "stream",
          "name": "stdout",
          "text": [
            "            Feature  Score\n",
            "1     Header_Length      1\n",
            "2     Protocol Type      1\n",
            "7   fin_flag_number      1\n",
            "5             Srate      1\n",
            "15        syn_count      1\n",
            "8   syn_flag_number      1\n",
            "17        urg_count      1\n",
            "34              Min      1\n",
            "39              IAT      1\n",
            "43       Covariance      1\n",
            "41         Magnitue      2\n",
            "10  psh_flag_number      3\n",
            "44         Variance      4\n",
            "26              TCP      5\n",
            "32              LLC      6\n",
            "37              Std      7\n",
            "33          Tot sum      8\n",
            "35              Max      9\n",
            "42           Radius     10\n",
            "45           Weight     11\n",
            "40           Number     12\n",
            "38         Tot size     13\n",
            "22           Telnet     14\n",
            "36              AVG     15\n",
            "24              SSH     16\n",
            "23             SMTP     17\n",
            "30             ICMP     18\n",
            "31              IPv     19\n",
            "28             DHCP     20\n",
            "27              UDP     21\n",
            "9   rst_flag_number     22\n",
            "29              ARP     23\n",
            "25              IRC     24\n",
            "12  ece_flag_number     25\n",
            "11  ack_flag_number     26\n",
            "3          Duration     27\n",
            "20            HTTPS     28\n",
            "21              DNS     29\n",
            "19             HTTP     30\n",
            "18        rst_count     31\n",
            "4              Rate     32\n",
            "0     flow_duration     33\n",
            "14        ack_count     34\n",
            "16        fin_count     35\n",
            "13  cwr_flag_number     36\n",
            "6             Drate     37\n",
            " rfe_feature_scores =  Index(['Header_Length', 'Protocol Type', 'Srate', 'fin_flag_number',\n",
            "       'syn_flag_number', 'syn_count', 'urg_count', 'Min', 'IAT',\n",
            "       'Covariance'],\n",
            "      dtype='object')\n"
          ]
        }
      ]
    },
    {
      "cell_type": "code",
      "source": [
        "top_features_combined = list(set(skb_selected_feature_names) | set(rfe_selected_feature_names))\n",
        "print(top_features_combined)"
      ],
      "metadata": {
        "colab": {
          "base_uri": "https://localhost:8080/"
        },
        "outputId": "6a7c3bed-9891-416c-d6a2-a6f7e4a2f623",
        "id": "eGASCOctrWyI"
      },
      "execution_count": null,
      "outputs": [
        {
          "output_type": "stream",
          "name": "stdout",
          "text": [
            "['Tot sum', 'Srate', 'urg_count', 'Header_Length', 'IAT', 'syn_count', 'Magnitue', 'fin_flag_number', 'Tot size', 'Max', 'AVG', 'syn_flag_number', 'Protocol Type', 'Min', 'TCP', 'Covariance']\n"
          ]
        }
      ]
    },
    {
      "cell_type": "code",
      "source": [
        "no_of_redundent_features = 20-(len(top_features_combined))\n",
        "\n",
        "# Find the next 3 best-ranked features NOT in SelectKBest\n",
        "extra_features_from_rfe = []\n",
        "\n",
        "for feature in rfe_feature_scores['Feature']:\n",
        "    if feature not in top_features_combined:\n",
        "        extra_features_from_rfe.append(feature)\n",
        "    if len(extra_features_from_rfe) == no_of_redundent_features:  # Stop once we have 3 features\n",
        "        break\n",
        "\n",
        "print(\"Extra features from RFE:\", extra_features_from_rfe)\n",
        "\n",
        "top_features_combined.extend(extra_features_from_rfe)\n",
        "print('top_features_combined = ', top_features_combined)\n",
        "\n",
        "X_selected = X[top_features_combined]"
      ],
      "metadata": {
        "colab": {
          "base_uri": "https://localhost:8080/"
        },
        "outputId": "0543bf50-25a9-4ef4-be98-55b08be983a2",
        "id": "vtvS9_AArWyI"
      },
      "execution_count": null,
      "outputs": [
        {
          "output_type": "stream",
          "name": "stdout",
          "text": [
            "Extra features from RFE: ['psh_flag_number', 'Variance', 'LLC', 'Std']\n",
            "top_features_combined =  ['Tot sum', 'Srate', 'urg_count', 'Header_Length', 'IAT', 'syn_count', 'Magnitue', 'fin_flag_number', 'Tot size', 'Max', 'AVG', 'syn_flag_number', 'Protocol Type', 'Min', 'TCP', 'Covariance', 'psh_flag_number', 'Variance', 'LLC', 'Std']\n"
          ]
        }
      ]
    },
    {
      "cell_type": "code",
      "source": [
        "from sklearn.metrics import recall_score\n",
        "\n",
        "# Step 6: Train and Test Split\n",
        "X_train, X_test, y_train, y_test = train_test_split(X_selected, y, test_size=0.35, random_state=42)\n",
        "\n",
        "# Step 7: Train Decision Tree Classifier\n",
        "dt_model = DecisionTreeClassifier(random_state=42)\n",
        "dt_model.fit(X_train, y_train)\n",
        "\n",
        "# Step 8: Evaluate the model\n",
        "y_pred = dt_model.predict(X_test)\n",
        "accuracy = accuracy_score(y_test, y_pred)\n",
        "precision = precision_score(y_test, y_pred, average='weighted')  # Weighted for imbalanced classes\n",
        "recall = recall_score(y_test, y_pred, average='weighted')  # Weighted for imbalanced classes\n",
        "f1 = f1_score(y_test, y_pred, average='weighted')  # Weighted for imbalanced classes\n",
        "\n",
        "# Print metrics\n",
        "print(\"Accuracy:\", accuracy)\n",
        "print(\"Precision:\", precision)\n",
        "print(\"recall:\", recall)\n",
        "print(\"F1 Score:\", f1)\n",
        "print(\"Classification Report:\\n\", classification_report(y_test, y_pred))\n",
        "\n",
        "# Confusion Matrix\n",
        "conf_matrix = confusion_matrix(y_test, y_pred)\n",
        "print(\"Confusion Matrix:\\n\", conf_matrix)"
      ],
      "metadata": {
        "colab": {
          "base_uri": "https://localhost:8080/"
        },
        "outputId": "5ede0ee2-359b-4623-ec18-a514d912e74b",
        "collapsed": true,
        "id": "ScE6kmRVrWyJ"
      },
      "execution_count": null,
      "outputs": [
        {
          "output_type": "stream",
          "name": "stdout",
          "text": [
            "Accuracy: 0.9997369372924271\n",
            "Precision: 0.9997371312754393\n",
            "recall: 0.9997369372924271\n",
            "F1 Score: 0.9997364230026176\n",
            "Classification Report:\n",
            "                          precision    recall  f1-score   support\n",
            "\n",
            " DDoS-ACK_Fragmentation       1.00      0.99      1.00       513\n",
            "        DDoS-HTTP_Flood       1.00      0.96      0.98        56\n",
            "        DDoS-ICMP_Flood       1.00      1.00      1.00     12772\n",
            "DDoS-ICMP_Fragmentation       1.00      1.00      1.00       835\n",
            "      DDoS-PSHACK_Flood       1.00      1.00      1.00      7477\n",
            "       DDoS-RSTFINFlood       1.00      1.00      1.00      7196\n",
            "         DDoS-SYN_Flood       1.00      1.00      1.00      7166\n",
            "         DDoS-SlowLoris       1.00      0.96      0.98        24\n",
            "DDoS-SynonymousIP_Flood       1.00      1.00      1.00      6311\n",
            "         DDoS-TCP_Flood       1.00      1.00      1.00      8162\n",
            "         DDoS-UDP_Flood       1.00      1.00      1.00      9762\n",
            " DDoS-UDP_Fragmentation       1.00      1.00      1.00       548\n",
            "\n",
            "               accuracy                           1.00     60822\n",
            "              macro avg       1.00      0.99      1.00     60822\n",
            "           weighted avg       1.00      1.00      1.00     60822\n",
            "\n",
            "Confusion Matrix:\n",
            " [[  509     0     0     0     2     0     0     0     2     0     0     0]\n",
            " [    0    54     0     1     0     0     0     0     1     0     0     0]\n",
            " [    0     0 12770     1     0     0     0     0     1     0     0     0]\n",
            " [    0     0     0   835     0     0     0     0     0     0     0     0]\n",
            " [    0     0     0     0  7477     0     0     0     0     0     0     0]\n",
            " [    1     0     0     0     0  7195     0     0     0     0     0     0]\n",
            " [    0     0     0     0     0     0  7164     0     2     0     0     0]\n",
            " [    0     0     0     0     0     0     0    23     1     0     0     0]\n",
            " [    0     0     0     0     0     0     0     0  6310     0     0     1]\n",
            " [    0     0     0     0     0     0     0     0     0  8162     0     0]\n",
            " [    0     0     0     0     0     0     1     0     0     0  9760     1]\n",
            " [    0     0     0     0     0     0     0     0     1     0     0   547]]\n"
          ]
        }
      ]
    },
    {
      "cell_type": "markdown",
      "source": [
        "# **25 Features**"
      ],
      "metadata": {
        "id": "-1itEs0urtak"
      }
    },
    {
      "cell_type": "code",
      "source": [
        "skb_selector = SelectKBest(score_func=mutual_info_classif, k=12)\n",
        "skb_selector.fit_transform(X, y)\n",
        "\n",
        "# printing the scores\n",
        "skb_feature_scores = pd.DataFrame({'Feature': X.columns, 'Score': skb_selector.scores_})\n",
        "skb_feature_scores = skb_feature_scores.sort_values(by='Score', ascending=False)  # Sort by importance\n",
        "print(skb_feature_scores)\n",
        "\n",
        "# Get the selected feature names\n",
        "skb_selected_feature_names = X.columns[skb_selector.get_support()]\n",
        "print(\"skb_selected_feature_names = \", skb_selected_feature_names)"
      ],
      "metadata": {
        "colab": {
          "base_uri": "https://localhost:8080/"
        },
        "outputId": "7d63f322-fd57-4bf7-f2ab-3dc65e0e1ff0",
        "collapsed": true,
        "id": "2xVaNS3Mr0FB"
      },
      "execution_count": null,
      "outputs": [
        {
          "output_type": "stream",
          "name": "stdout",
          "text": [
            "            Feature     Score\n",
            "39              IAT  2.037662\n",
            "1     Header_Length  1.137618\n",
            "34              Min  1.049438\n",
            "38         Tot size  1.041804\n",
            "41         Magnitue  1.038412\n",
            "36              AVG  1.033570\n",
            "33          Tot sum  1.028024\n",
            "2     Protocol Type  0.979754\n",
            "35              Max  0.977203\n",
            "26              TCP  0.670450\n",
            "15        syn_count  0.614686\n",
            "30             ICMP  0.531330\n",
            "8   syn_flag_number  0.529426\n",
            "5             Srate  0.525983\n",
            "4              Rate  0.525865\n",
            "0     flow_duration  0.478780\n",
            "18        rst_count  0.437113\n",
            "27              UDP  0.434696\n",
            "16        fin_count  0.400475\n",
            "17        urg_count  0.389648\n",
            "14        ack_count  0.380277\n",
            "7   fin_flag_number  0.366550\n",
            "10  psh_flag_number  0.355844\n",
            "9   rst_flag_number  0.353587\n",
            "11  ack_flag_number  0.353049\n",
            "37              Std  0.225384\n",
            "43       Covariance  0.224760\n",
            "42           Radius  0.221587\n",
            "44         Variance  0.149823\n",
            "3          Duration  0.057696\n",
            "19             HTTP  0.031552\n",
            "20            HTTPS  0.018465\n",
            "40           Number  0.009864\n",
            "45           Weight  0.003616\n",
            "32              LLC  0.003202\n",
            "31              IPv  0.002858\n",
            "22           Telnet  0.000771\n",
            "25              IRC  0.000044\n",
            "13  cwr_flag_number  0.000000\n",
            "12  ece_flag_number  0.000000\n",
            "6             Drate  0.000000\n",
            "29              ARP  0.000000\n",
            "21              DNS  0.000000\n",
            "28             DHCP  0.000000\n",
            "23             SMTP  0.000000\n",
            "24              SSH  0.000000\n",
            "skb_selected_feature_names =  Index(['Header_Length', 'Protocol Type', 'syn_count', 'TCP', 'ICMP', 'Tot sum',\n",
            "       'Min', 'Max', 'AVG', 'Tot size', 'IAT', 'Magnitue'],\n",
            "      dtype='object')\n"
          ]
        }
      ]
    },
    {
      "cell_type": "code",
      "source": [
        "rfe_selector = RFE(estimator= DecisionTreeClassifier( ), n_features_to_select=13)\n",
        "rfe_selector.fit_transform(X, y)\n",
        "\n",
        "# Printing the rankings\n",
        "rfe_feature_scores = pd.DataFrame({'Feature': X.columns, 'Score': rfe_selector.ranking_})\n",
        "rfe_feature_scores = rfe_feature_scores.sort_values(by='Score', ascending=True)  # Sort by importance (ascending)\n",
        "print(rfe_feature_scores)\n",
        "\n",
        "# Get the selected feature names\n",
        "rfe_selected_feature_names = X.columns[rfe_selector.get_support()]\n",
        "print(' rfe_feature_scores = ', rfe_selected_feature_names)"
      ],
      "metadata": {
        "colab": {
          "base_uri": "https://localhost:8080/"
        },
        "outputId": "93a32f69-aeab-4dfb-e341-3fac3145e6df",
        "collapsed": true,
        "id": "GXVIYPUer0FD"
      },
      "execution_count": null,
      "outputs": [
        {
          "output_type": "stream",
          "name": "stdout",
          "text": [
            "            Feature  Score\n",
            "1     Header_Length      1\n",
            "2     Protocol Type      1\n",
            "7   fin_flag_number      1\n",
            "5             Srate      1\n",
            "10  psh_flag_number      1\n",
            "15        syn_count      1\n",
            "8   syn_flag_number      1\n",
            "17        urg_count      1\n",
            "41         Magnitue      1\n",
            "43       Covariance      1\n",
            "39              IAT      1\n",
            "44         Variance      1\n",
            "34              Min      1\n",
            "38         Tot size      2\n",
            "26              TCP      3\n",
            "29              ARP      4\n",
            "42           Radius      5\n",
            "45           Weight      6\n",
            "33          Tot sum      7\n",
            "36              AVG      8\n",
            "37              Std      9\n",
            "18        rst_count     10\n",
            "35              Max     11\n",
            "40           Number     12\n",
            "20            HTTPS     13\n",
            "16        fin_count     14\n",
            "30             ICMP     15\n",
            "4              Rate     16\n",
            "32              LLC     17\n",
            "31              IPv     18\n",
            "28             DHCP     19\n",
            "27              UDP     20\n",
            "25              IRC     21\n",
            "24              SSH     22\n",
            "23             SMTP     23\n",
            "22           Telnet     24\n",
            "21              DNS     25\n",
            "14        ack_count     26\n",
            "19             HTTP     27\n",
            "13  cwr_flag_number     28\n",
            "12  ece_flag_number     29\n",
            "11  ack_flag_number     30\n",
            "9   rst_flag_number     31\n",
            "3          Duration     32\n",
            "0     flow_duration     33\n",
            "6             Drate     34\n",
            " rfe_feature_scores =  Index(['Header_Length', 'Protocol Type', 'Srate', 'fin_flag_number',\n",
            "       'syn_flag_number', 'psh_flag_number', 'syn_count', 'urg_count', 'Min',\n",
            "       'IAT', 'Magnitue', 'Covariance', 'Variance'],\n",
            "      dtype='object')\n"
          ]
        }
      ]
    },
    {
      "cell_type": "code",
      "source": [
        "top_features_combined = list(set(skb_selected_feature_names) | set(rfe_selected_feature_names))\n",
        "print(top_features_combined)"
      ],
      "metadata": {
        "colab": {
          "base_uri": "https://localhost:8080/"
        },
        "outputId": "23a46891-9d96-4492-e9ed-09edd930fec1",
        "id": "Qa7ao-57r0FD"
      },
      "execution_count": null,
      "outputs": [
        {
          "output_type": "stream",
          "name": "stdout",
          "text": [
            "['Tot sum', 'Srate', 'urg_count', 'Header_Length', 'IAT', 'syn_count', 'Variance', 'Magnitue', 'fin_flag_number', 'Tot size', 'Max', 'AVG', 'syn_flag_number', 'Protocol Type', 'psh_flag_number', 'Min', 'TCP', 'Covariance', 'ICMP']\n"
          ]
        }
      ]
    },
    {
      "cell_type": "code",
      "source": [
        "no_of_redundent_features = 25-(len(top_features_combined))\n",
        "\n",
        "# Find the next 3 best-ranked features NOT in SelectKBest\n",
        "extra_features_from_rfe = []\n",
        "\n",
        "for feature in rfe_feature_scores['Feature']:\n",
        "    if feature not in top_features_combined:\n",
        "        extra_features_from_rfe.append(feature)\n",
        "    if len(extra_features_from_rfe) == no_of_redundent_features:  # Stop once we have 3 features\n",
        "        break\n",
        "\n",
        "print(\"Extra features from RFE:\", extra_features_from_rfe)\n",
        "\n",
        "top_features_combined.extend(extra_features_from_rfe)\n",
        "print('top_features_combined = ', top_features_combined)\n",
        "\n",
        "X_selected = X[top_features_combined]"
      ],
      "metadata": {
        "colab": {
          "base_uri": "https://localhost:8080/"
        },
        "outputId": "058af841-1bbb-44d7-8c80-bc68b5bd75b2",
        "id": "Zye3C48Lr0FE"
      },
      "execution_count": null,
      "outputs": [
        {
          "output_type": "stream",
          "name": "stdout",
          "text": [
            "Extra features from RFE: ['ARP', 'Radius', 'Weight', 'Std', 'rst_count', 'Number']\n",
            "top_features_combined =  ['Tot sum', 'Srate', 'urg_count', 'Header_Length', 'IAT', 'syn_count', 'Variance', 'Magnitue', 'fin_flag_number', 'Tot size', 'Max', 'AVG', 'syn_flag_number', 'Protocol Type', 'psh_flag_number', 'Min', 'TCP', 'Covariance', 'ICMP', 'ARP', 'Radius', 'Weight', 'Std', 'rst_count', 'Number']\n"
          ]
        }
      ]
    },
    {
      "cell_type": "code",
      "source": [
        "from sklearn.metrics import recall_score\n",
        "\n",
        "# Step 6: Train and Test Split\n",
        "X_train, X_test, y_train, y_test = train_test_split(X_selected, y, test_size=0.35, random_state=42)\n",
        "\n",
        "# Step 7: Train Decision Tree Classifier\n",
        "dt_model = DecisionTreeClassifier(random_state=42)\n",
        "dt_model.fit(X_train, y_train)\n",
        "\n",
        "# Step 8: Evaluate the model\n",
        "y_pred = dt_model.predict(X_test)\n",
        "accuracy = accuracy_score(y_test, y_pred)\n",
        "precision = precision_score(y_test, y_pred, average='weighted')  # Weighted for imbalanced classes\n",
        "recall = recall_score(y_test, y_pred, average='weighted')  # Weighted for imbalanced classes\n",
        "f1 = f1_score(y_test, y_pred, average='weighted')  # Weighted for imbalanced classes\n",
        "\n",
        "# Print metrics\n",
        "print(\"Accuracy:\", accuracy)\n",
        "print(\"Precision:\", precision)\n",
        "print(\"recall:\", recall)\n",
        "print(\"F1 Score:\", f1)\n",
        "print(\"Classification Report:\\n\", classification_report(y_test, y_pred))\n",
        "\n",
        "# Confusion Matrix\n",
        "conf_matrix = confusion_matrix(y_test, y_pred)\n",
        "print(\"Confusion Matrix:\\n\", conf_matrix)"
      ],
      "metadata": {
        "colab": {
          "base_uri": "https://localhost:8080/"
        },
        "outputId": "0ba6bdc5-dcb3-4f7f-f750-0f08dda08dec",
        "id": "JKdyH0e2r0FE"
      },
      "execution_count": null,
      "outputs": [
        {
          "output_type": "stream",
          "name": "stdout",
          "text": [
            "Accuracy: 0.9997204958732038\n",
            "Precision: 0.9997221747990637\n",
            "recall: 0.9997204958732038\n",
            "F1 Score: 0.9997206970419888\n",
            "Classification Report:\n",
            "                          precision    recall  f1-score   support\n",
            "\n",
            " DDoS-ACK_Fragmentation       1.00      0.99      1.00       513\n",
            "        DDoS-HTTP_Flood       1.00      0.96      0.98        56\n",
            "        DDoS-ICMP_Flood       1.00      1.00      1.00     12772\n",
            "DDoS-ICMP_Fragmentation       1.00      1.00      1.00       835\n",
            "      DDoS-PSHACK_Flood       1.00      1.00      1.00      7477\n",
            "       DDoS-RSTFINFlood       1.00      1.00      1.00      7196\n",
            "         DDoS-SYN_Flood       1.00      1.00      1.00      7166\n",
            "         DDoS-SlowLoris       0.92      0.96      0.94        24\n",
            "DDoS-SynonymousIP_Flood       1.00      1.00      1.00      6311\n",
            "         DDoS-TCP_Flood       1.00      1.00      1.00      8162\n",
            "         DDoS-UDP_Flood       1.00      1.00      1.00      9762\n",
            " DDoS-UDP_Fragmentation       1.00      1.00      1.00       548\n",
            "\n",
            "               accuracy                           1.00     60822\n",
            "              macro avg       0.99      0.99      0.99     60822\n",
            "           weighted avg       1.00      1.00      1.00     60822\n",
            "\n",
            "Confusion Matrix:\n",
            " [[  509     0     0     0     2     0     0     2     0     0     0     0]\n",
            " [    0    54     0     1     0     0     0     0     1     0     0     0]\n",
            " [    0     0 12770     2     0     0     0     0     0     0     0     0]\n",
            " [    0     0     0   835     0     0     0     0     0     0     0     0]\n",
            " [    0     0     0     0  7477     0     0     0     0     0     0     0]\n",
            " [    1     0     0     0     0  7195     0     0     0     0     0     0]\n",
            " [    0     0     0     0     0     0  7163     0     3     0     0     0]\n",
            " [    0     0     0     0     0     0     0    23     1     0     0     0]\n",
            " [    0     0     0     0     0     0     0     0  6310     0     0     1]\n",
            " [    0     0     0     0     0     0     0     0     0  8162     0     0]\n",
            " [    0     0     0     1     0     0     0     0     0     0  9760     1]\n",
            " [    0     0     0     0     0     0     0     0     1     0     0   547]]\n"
          ]
        }
      ]
    }
  ]
}