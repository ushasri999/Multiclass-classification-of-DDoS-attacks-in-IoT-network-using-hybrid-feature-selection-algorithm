{
  "nbformat": 4,
  "nbformat_minor": 0,
  "metadata": {
    "colab": {
      "provenance": [],
      "mount_file_id": "1HBbOfRvvfMDOdaSCvDrWxH83GEpi_JCx",
      "authorship_tag": "ABX9TyPctiFhIayoULzsXMAL7N7W",
      "include_colab_link": true
    },
    "kernelspec": {
      "name": "python3",
      "display_name": "Python 3"
    },
    "language_info": {
      "name": "python"
    }
  },
  "cells": [
    {
      "cell_type": "markdown",
      "metadata": {
        "id": "view-in-github",
        "colab_type": "text"
      },
      "source": [
        "<a href=\"https://colab.research.google.com/github/ushasri999/Multiclass-classification-of-DDoS-attacks-in-IoT-network-using-hybrid-feature-selection-algorithm/blob/main/MC_of_cyber_attacks_using_DT_%26_HFSA.ipynb\" target=\"_parent\"><img src=\"https://colab.research.google.com/assets/colab-badge.svg\" alt=\"Open In Colab\"/></a>"
      ]
    },
    {
      "cell_type": "code",
      "execution_count": null,
      "metadata": {
        "colab": {
          "base_uri": "https://localhost:8080/"
        },
        "id": "W02TRHtLbR6x",
        "outputId": "1829cfc8-f8e6-4f04-f13b-d671d2071a9c"
      },
      "outputs": [
        {
          "output_type": "stream",
          "name": "stdout",
          "text": [
            "(238687, 46)\n",
            "(238687,)\n"
          ]
        }
      ],
      "source": [
        "import pandas as pd\n",
        "import numpy as np\n",
        "from sklearn.tree import DecisionTreeClassifier\n",
        "from sklearn.model_selection import train_test_split, cross_val_score\n",
        "from sklearn.feature_selection import SelectKBest, mutual_info_classif, RFE\n",
        "from sklearn.metrics import classification_report, accuracy_score, confusion_matrix, precision_score, f1_score\n",
        "\n",
        "# Step 1: Load the dataset\n",
        "df = pd.read_csv('/content/drive/MyDrive/data.csv')\n",
        "\n",
        "# Step 2: Separate features and target\n",
        "X = df.drop(\"label\", axis=1, errors='ignore')\n",
        "y = df[\"label\"] if 'label' in df.columns else pd.Series([])\n",
        "\n",
        "# Check if X and y are valid\n",
        "print(X.shape)\n",
        "print(y.shape)\n"
      ]
    },
    {
      "cell_type": "markdown",
      "source": [
        "# 5 features"
      ],
      "metadata": {
        "id": "W84Z5GGxnkBt"
      }
    },
    {
      "cell_type": "code",
      "source": [
        "skb_selector = SelectKBest(score_func=mutual_info_classif, k=2)\n",
        "skb_selector.fit_transform(X, y)\n",
        "\n",
        "# printing the scores\n",
        "skb_feature_scores = pd.DataFrame({'Feature': X.columns, 'Score': skb_selector.scores_})\n",
        "skb_feature_scores = skb_feature_scores.sort_values(by='Score', ascending=False)  # Sort by importance\n",
        "print(skb_feature_scores)\n",
        "\n",
        "# Get the selected feature names\n",
        "skb_selected_feature_names = X.columns[skb_selector.get_support()]\n",
        "print(\"skb_selected_feature_names = \", skb_selected_feature_names)"
      ],
      "metadata": {
        "colab": {
          "base_uri": "https://localhost:8080/"
        },
        "id": "Klp9fJoFd7ST",
        "outputId": "b1b9210d-975e-4cba-a1d9-aeb071e7b396",
        "collapsed": true
      },
      "execution_count": null,
      "outputs": [
        {
          "output_type": "stream",
          "name": "stdout",
          "text": [
            "            Feature     Score\n",
            "39              IAT  2.601322\n",
            "38         Tot size  1.339165\n",
            "1     Header_Length  1.328270\n",
            "41         Magnitue  1.318521\n",
            "36              AVG  1.312937\n",
            "33          Tot sum  1.305131\n",
            "34              Min  1.297491\n",
            "35              Max  1.271629\n",
            "2     Protocol Type  1.162063\n",
            "26              TCP  0.655991\n",
            "15        syn_count  0.649332\n",
            "0     flow_duration  0.637012\n",
            "4              Rate  0.632721\n",
            "5             Srate  0.632675\n",
            "18        rst_count  0.509768\n",
            "27              UDP  0.495410\n",
            "8   syn_flag_number  0.494935\n",
            "17        urg_count  0.459471\n",
            "30             ICMP  0.444954\n",
            "37              Std  0.383616\n",
            "43       Covariance  0.379718\n",
            "42           Radius  0.378409\n",
            "16        fin_count  0.350628\n",
            "14        ack_count  0.331605\n",
            "11  ack_flag_number  0.327742\n",
            "44         Variance  0.298962\n",
            "7   fin_flag_number  0.294792\n",
            "10  psh_flag_number  0.287650\n",
            "9   rst_flag_number  0.286323\n",
            "3          Duration  0.209442\n",
            "40           Number  0.177538\n",
            "45           Weight  0.177153\n",
            "20            HTTPS  0.068155\n",
            "19             HTTP  0.031988\n",
            "31              IPv  0.004783\n",
            "32              LLC  0.004168\n",
            "24              SSH  0.002506\n",
            "12  ece_flag_number  0.001913\n",
            "21              DNS  0.000640\n",
            "6             Drate  0.000317\n",
            "29              ARP  0.000000\n",
            "28             DHCP  0.000000\n",
            "25              IRC  0.000000\n",
            "22           Telnet  0.000000\n",
            "13  cwr_flag_number  0.000000\n",
            "23             SMTP  0.000000\n",
            "skb_selected_feature_names =  Index(['Tot size', 'IAT'], dtype='object')\n"
          ]
        }
      ]
    },
    {
      "cell_type": "code",
      "source": [
        "rfe_selector = RFE(estimator= DecisionTreeClassifier( ), n_features_to_select=3)\n",
        "rfe_selector.fit_transform(X, y)\n",
        "\n",
        "# Printing the rankings\n",
        "rfe_feature_scores = pd.DataFrame({'Feature': X.columns, 'Score': rfe_selector.ranking_})\n",
        "rfe_feature_scores = rfe_feature_scores.sort_values(by='Score', ascending=True)  # Sort by importance (ascending)\n",
        "print(rfe_feature_scores)\n",
        "\n",
        "# Get the selected feature names\n",
        "rfe_selected_feature_names = X.columns[rfe_selector.get_support()]\n",
        "print(' rfe_feature_scores = ', rfe_selected_feature_names)"
      ],
      "metadata": {
        "colab": {
          "base_uri": "https://localhost:8080/"
        },
        "id": "CaAiKvkSS5Kf",
        "outputId": "011c2e05-c6ba-4316-96a6-1951aaa1421c",
        "collapsed": true
      },
      "execution_count": null,
      "outputs": [
        {
          "output_type": "stream",
          "name": "stdout",
          "text": [
            "            Feature  Score\n",
            "41         Magnitue      1\n",
            "34              Min      1\n",
            "39              IAT      1\n",
            "7   fin_flag_number      2\n",
            "10  psh_flag_number      3\n",
            "8   syn_flag_number      4\n",
            "33          Tot sum      5\n",
            "2     Protocol Type      6\n",
            "1     Header_Length      7\n",
            "30             ICMP      8\n",
            "18        rst_count      9\n",
            "42           Radius     10\n",
            "5             Srate     11\n",
            "16        fin_count     12\n",
            "0     flow_duration     13\n",
            "36              AVG     14\n",
            "44         Variance     15\n",
            "3          Duration     16\n",
            "15        syn_count     17\n",
            "4              Rate     18\n",
            "38         Tot size     19\n",
            "20            HTTPS     20\n",
            "17        urg_count     21\n",
            "43       Covariance     22\n",
            "40           Number     23\n",
            "35              Max     24\n",
            "37              Std     25\n",
            "14        ack_count     26\n",
            "27              UDP     27\n",
            "26              TCP     28\n",
            "19             HTTP     29\n",
            "24              SSH     30\n",
            "11  ack_flag_number     31\n",
            "21              DNS     32\n",
            "12  ece_flag_number     33\n",
            "9   rst_flag_number     34\n",
            "45           Weight     35\n",
            "6             Drate     36\n",
            "31              IPv     37\n",
            "28             DHCP     38\n",
            "13  cwr_flag_number     39\n",
            "29              ARP     40\n",
            "32              LLC     41\n",
            "25              IRC     42\n",
            "23             SMTP     43\n",
            "22           Telnet     44\n",
            " rfe_feature_scores =  Index(['Min', 'IAT', 'Magnitue'], dtype='object')\n"
          ]
        }
      ]
    },
    {
      "cell_type": "code",
      "source": [
        "top_features_combined = list(set(skb_selected_feature_names) | set(rfe_selected_feature_names))\n",
        "print(top_features_combined)"
      ],
      "metadata": {
        "colab": {
          "base_uri": "https://localhost:8080/"
        },
        "id": "dCAJymSITV0C",
        "outputId": "ed3891d9-a467-455a-b6f4-f20c9bedead7"
      },
      "execution_count": null,
      "outputs": [
        {
          "output_type": "stream",
          "name": "stdout",
          "text": [
            "['Tot size', 'Magnitue', 'Min', 'IAT']\n"
          ]
        }
      ]
    },
    {
      "cell_type": "code",
      "source": [
        "no_of_redundent_features = 5-(len(top_features_combined))\n",
        "\n",
        "# Find the next 3 best-ranked features NOT in SelectKBest\n",
        "extra_features_from_rfe = []\n",
        "\n",
        "for feature in rfe_feature_scores['Feature']:\n",
        "    if feature not in top_features_combined:\n",
        "        extra_features_from_rfe.append(feature)\n",
        "    if len(extra_features_from_rfe) == no_of_redundent_features:  # Stop once we have 3 features\n",
        "        break\n",
        "\n",
        "print(\"Extra features from RFE:\", extra_features_from_rfe)\n",
        "\n",
        "top_features_combined.extend(extra_features_from_rfe)\n",
        "print('top_features_combined = ', top_features_combined)\n",
        "\n",
        "X_selected = X[top_features_combined]"
      ],
      "metadata": {
        "colab": {
          "base_uri": "https://localhost:8080/"
        },
        "id": "qc8aSXu-P7ZC",
        "outputId": "03a576b2-8c95-415b-ef94-d62149373013"
      },
      "execution_count": null,
      "outputs": [
        {
          "output_type": "stream",
          "name": "stdout",
          "text": [
            "Extra features from RFE: ['fin_flag_number']\n",
            "top_features_combined =  ['Tot size', 'Magnitue', 'Min', 'IAT', 'fin_flag_number']\n"
          ]
        }
      ]
    },
    {
      "cell_type": "code",
      "source": [
        "from sklearn.metrics import recall_score\n",
        "\n",
        "# Step 6: Train and Test Split\n",
        "X_train, X_test, y_train, y_test = train_test_split(X_selected, y, test_size=0.35, random_state=42)\n",
        "\n",
        "# Step 7: Train Decision Tree Classifier\n",
        "dt_model = DecisionTreeClassifier(random_state=42)\n",
        "dt_model.fit(X_train, y_train)\n",
        "\n",
        "# Step 8: Evaluate the model\n",
        "y_pred = dt_model.predict(X_test)\n",
        "accuracy = accuracy_score(y_test, y_pred)\n",
        "precision = precision_score(y_test, y_pred, average='weighted')  # Weighted for imbalanced classes\n",
        "recall = recall_score(y_test, y_pred, average='weighted')  # Weighted for imbalanced classes\n",
        "f1 = f1_score(y_test, y_pred, average='weighted')  # Weighted for imbalanced classes\n",
        "\n",
        "# Print metrics\n",
        "print(\"Accuracy:\", accuracy)\n",
        "print(\"Precision:\", precision)\n",
        "print(\"recall:\", recall)\n",
        "print(\"F1 Score:\", f1)\n",
        "print(\"Classification Report:\\n\", classification_report(y_test, y_pred))\n",
        "\n",
        "# Confusion Matrix\n",
        "conf_matrix = confusion_matrix(y_test, y_pred)\n",
        "print(\"Confusion Matrix:\\n\", conf_matrix)"
      ],
      "metadata": {
        "colab": {
          "base_uri": "https://localhost:8080/"
        },
        "id": "bgVlQAbOqyMc",
        "outputId": "3a608a7c-443d-4add-e6be-f3f83185ed0c"
      },
      "execution_count": null,
      "outputs": [
        {
          "output_type": "stream",
          "name": "stdout",
          "text": [
            "Accuracy: 0.9885445469889037\n",
            "Precision: 0.9885641697685623\n",
            "recall: 0.9885445469889037\n",
            "F1 Score: 0.98853627012635\n",
            "Classification Report:\n",
            "                          precision    recall  f1-score   support\n",
            "\n",
            "       Backdoor_Malware       0.38      0.75      0.50         4\n",
            "          BenignTraffic       0.83      0.83      0.83      1951\n",
            "       BrowserHijacking       0.45      0.45      0.45        11\n",
            "       CommandInjection       0.46      0.75      0.57         8\n",
            " DDoS-ACK_Fragmentation       0.99      0.99      0.99       539\n",
            "        DDoS-HTTP_Flood       1.00      1.00      1.00        61\n",
            "        DDoS-ICMP_Flood       1.00      1.00      1.00     12879\n",
            "DDoS-ICMP_Fragmentation       0.99      1.00      1.00       816\n",
            "      DDoS-PSHACK_Flood       1.00      1.00      1.00      7396\n",
            "       DDoS-RSTFINFlood       1.00      1.00      1.00      7230\n",
            "         DDoS-SYN_Flood       1.00      1.00      1.00      7309\n",
            "         DDoS-SlowLoris       1.00      1.00      1.00        47\n",
            "DDoS-SynonymousIP_Flood       1.00      1.00      1.00      6251\n",
            "         DDoS-TCP_Flood       1.00      1.00      1.00      8058\n",
            "         DDoS-UDP_Flood       1.00      1.00      1.00      9797\n",
            " DDoS-UDP_Fragmentation       0.99      0.99      0.99       511\n",
            "           DNS_Spoofing       0.56      0.59      0.58       316\n",
            "   DictionaryBruteForce       0.67      0.84      0.74        19\n",
            "         DoS-HTTP_Flood       1.00      0.99      1.00       139\n",
            "          DoS-SYN_Flood       1.00      1.00      1.00      3562\n",
            "          DoS-TCP_Flood       1.00      1.00      1.00      4823\n",
            "          DoS-UDP_Flood       1.00      1.00      1.00      5859\n",
            "       MITM-ArpSpoofing       0.70      0.68      0.69       569\n",
            "     Mirai-greeth_flood       1.00      1.00      1.00      1729\n",
            "      Mirai-greip_flood       1.00      1.00      1.00      1332\n",
            "         Mirai-udpplain       1.00      1.00      1.00      1618\n",
            "    Recon-HostDiscovery       0.67      0.67      0.67       249\n",
            "           Recon-OSScan       0.54      0.48      0.51       204\n",
            "        Recon-PingSweep       0.50      1.00      0.67         1\n",
            "         Recon-PortScan       0.50      0.51      0.51       140\n",
            "           SqlInjection       0.64      0.54      0.58        13\n",
            "       Uploading_Attack       0.33      0.33      0.33         3\n",
            "      VulnerabilityScan       1.00      1.00      1.00        90\n",
            "                    XSS       0.40      0.29      0.33         7\n",
            "\n",
            "               accuracy                           0.99     83541\n",
            "              macro avg       0.81      0.84      0.82     83541\n",
            "           weighted avg       0.99      0.99      0.99     83541\n",
            "\n",
            "Confusion Matrix:\n",
            " [[   3    0    0 ...    0    0    0]\n",
            " [   3 1629    1 ...    2    0    0]\n",
            " [   0    4    5 ...    0    0    0]\n",
            " ...\n",
            " [   0    0    0 ...    1    0    0]\n",
            " [   0    0    0 ...    0   90    0]\n",
            " [   0    3    0 ...    0    0    2]]\n"
          ]
        }
      ]
    },
    {
      "cell_type": "markdown",
      "source": [
        "# 10 features"
      ],
      "metadata": {
        "id": "-3Vqi79mnWQS"
      }
    },
    {
      "cell_type": "code",
      "source": [
        "skb_selector = SelectKBest(score_func=mutual_info_classif, k=5)\n",
        "skb_selector.fit_transform(X, y)\n",
        "\n",
        "# printing the scores\n",
        "skb_feature_scores = pd.DataFrame({'Feature': X.columns, 'Score': skb_selector.scores_})\n",
        "skb_feature_scores = skb_feature_scores.sort_values(by='Score', ascending=False)  # Sort by importance\n",
        "print(skb_feature_scores)\n",
        "\n",
        "# Get the selected feature names\n",
        "skb_selected_feature_names = X.columns[skb_selector.get_support()]\n",
        "print(\"skb_selected_feature_names = \", skb_selected_feature_names)"
      ],
      "metadata": {
        "colab": {
          "base_uri": "https://localhost:8080/"
        },
        "id": "XF5BixW5cs_1",
        "outputId": "313eb7ab-6117-48a6-e400-a90ef24f061c",
        "collapsed": true
      },
      "execution_count": null,
      "outputs": [
        {
          "output_type": "stream",
          "name": "stdout",
          "text": [
            "            Feature     Score\n",
            "39              IAT  2.601628\n",
            "38         Tot size  1.337908\n",
            "1     Header_Length  1.327343\n",
            "41         Magnitue  1.317207\n",
            "36              AVG  1.313202\n",
            "33          Tot sum  1.304404\n",
            "34              Min  1.295658\n",
            "35              Max  1.271906\n",
            "2     Protocol Type  1.161920\n",
            "26              TCP  0.655807\n",
            "15        syn_count  0.648392\n",
            "0     flow_duration  0.635887\n",
            "4              Rate  0.632920\n",
            "5             Srate  0.632310\n",
            "18        rst_count  0.510547\n",
            "8   syn_flag_number  0.498839\n",
            "27              UDP  0.495140\n",
            "17        urg_count  0.460220\n",
            "30             ICMP  0.444864\n",
            "37              Std  0.381785\n",
            "43       Covariance  0.381591\n",
            "42           Radius  0.381197\n",
            "16        fin_count  0.348113\n",
            "14        ack_count  0.331316\n",
            "11  ack_flag_number  0.326006\n",
            "44         Variance  0.299271\n",
            "7   fin_flag_number  0.294596\n",
            "10  psh_flag_number  0.287502\n",
            "9   rst_flag_number  0.286421\n",
            "3          Duration  0.211714\n",
            "40           Number  0.178600\n",
            "45           Weight  0.176833\n",
            "20            HTTPS  0.070895\n",
            "19             HTTP  0.031341\n",
            "31              IPv  0.006956\n",
            "32              LLC  0.005735\n",
            "6             Drate  0.003004\n",
            "25              IRC  0.001859\n",
            "22           Telnet  0.000725\n",
            "28             DHCP  0.000705\n",
            "12  ece_flag_number  0.000677\n",
            "29              ARP  0.000000\n",
            "24              SSH  0.000000\n",
            "21              DNS  0.000000\n",
            "13  cwr_flag_number  0.000000\n",
            "23             SMTP  0.000000\n",
            "skb_selected_feature_names =  Index(['Header_Length', 'AVG', 'Tot size', 'IAT', 'Magnitue'], dtype='object')\n"
          ]
        }
      ]
    },
    {
      "cell_type": "code",
      "source": [
        "rfe_selector = RFE(estimator= DecisionTreeClassifier( ), n_features_to_select=5)\n",
        "rfe_selector.fit_transform(X, y)\n",
        "\n",
        "# Printing the rankings\n",
        "rfe_feature_scores = pd.DataFrame({'Feature': X.columns, 'Score': rfe_selector.ranking_})\n",
        "rfe_feature_scores = rfe_feature_scores.sort_values(by='Score', ascending=True)  # Sort by importance (ascending)\n",
        "print(rfe_feature_scores)\n",
        "\n",
        "# Get the selected feature names\n",
        "rfe_selected_feature_names = X.columns[rfe_selector.get_support()]\n",
        "print(' rfe_feature_scores = ', rfe_selected_feature_names)"
      ],
      "metadata": {
        "colab": {
          "base_uri": "https://localhost:8080/"
        },
        "id": "HPLywwbXdaHy",
        "outputId": "7529cf39-9802-41dc-8125-21ae4dddbccf",
        "collapsed": true
      },
      "execution_count": null,
      "outputs": [
        {
          "output_type": "stream",
          "name": "stdout",
          "text": [
            "            Feature  Score\n",
            "41         Magnitue      1\n",
            "7   fin_flag_number      1\n",
            "39              IAT      1\n",
            "10  psh_flag_number      1\n",
            "34              Min      1\n",
            "8   syn_flag_number      2\n",
            "33          Tot sum      3\n",
            "2     Protocol Type      4\n",
            "30             ICMP      5\n",
            "1     Header_Length      6\n",
            "18        rst_count      7\n",
            "37              Std      8\n",
            "5             Srate      9\n",
            "16        fin_count     10\n",
            "0     flow_duration     11\n",
            "36              AVG     12\n",
            "44         Variance     13\n",
            "15        syn_count     14\n",
            "3          Duration     15\n",
            "4              Rate     16\n",
            "17        urg_count     17\n",
            "38         Tot size     18\n",
            "20            HTTPS     19\n",
            "45           Weight     20\n",
            "35              Max     21\n",
            "43       Covariance     22\n",
            "42           Radius     23\n",
            "14        ack_count     24\n",
            "27              UDP     25\n",
            "19             HTTP     26\n",
            "40           Number     27\n",
            "11  ack_flag_number     28\n",
            "26              TCP     29\n",
            "24              SSH     30\n",
            "9   rst_flag_number     31\n",
            "21              DNS     32\n",
            "25              IRC     33\n",
            "6             Drate     34\n",
            "31              IPv     35\n",
            "12  ece_flag_number     36\n",
            "13  cwr_flag_number     37\n",
            "29              ARP     38\n",
            "32              LLC     39\n",
            "28             DHCP     40\n",
            "23             SMTP     41\n",
            "22           Telnet     42\n",
            " rfe_feature_scores =  Index(['fin_flag_number', 'psh_flag_number', 'Min', 'IAT', 'Magnitue'], dtype='object')\n"
          ]
        }
      ]
    },
    {
      "cell_type": "code",
      "source": [
        "top_features_combined = list(set(skb_selected_feature_names) | set(rfe_selected_feature_names))\n",
        "print(top_features_combined)"
      ],
      "metadata": {
        "colab": {
          "base_uri": "https://localhost:8080/"
        },
        "id": "BGoAK4csb2In",
        "outputId": "45bc4359-1a3c-47c2-b792-7071c1b2edac"
      },
      "execution_count": null,
      "outputs": [
        {
          "output_type": "stream",
          "name": "stdout",
          "text": [
            "['psh_flag_number', 'Magnitue', 'Header_Length', 'Tot size', 'AVG', 'Min', 'fin_flag_number', 'IAT']\n"
          ]
        }
      ]
    },
    {
      "cell_type": "code",
      "source": [
        "no_of_redundent_features = 10-(len(top_features_combined))\n",
        "\n",
        "# Find the next 3 best-ranked features NOT in SelectKBest\n",
        "extra_features_from_rfe = []\n",
        "\n",
        "for feature in rfe_feature_scores['Feature']:\n",
        "    if feature not in top_features_combined:\n",
        "        extra_features_from_rfe.append(feature)\n",
        "    if len(extra_features_from_rfe) == no_of_redundent_features:  # Stop once we have 3 features\n",
        "        break\n",
        "\n",
        "print(\"Extra features from RFE:\", extra_features_from_rfe)\n",
        "\n",
        "top_features_combined.extend(extra_features_from_rfe)\n",
        "print('top_features_combined = ', top_features_combined)\n",
        "\n",
        "X_selected = X[top_features_combined]"
      ],
      "metadata": {
        "colab": {
          "base_uri": "https://localhost:8080/"
        },
        "id": "uZhgkxsNqZUz",
        "outputId": "2b5ed4c8-914c-4461-fb3f-4e56248634f1"
      },
      "execution_count": null,
      "outputs": [
        {
          "output_type": "stream",
          "name": "stdout",
          "text": [
            "Extra features from RFE: ['syn_flag_number', 'Tot sum']\n",
            "top_features_combined =  ['psh_flag_number', 'Magnitue', 'Header_Length', 'Tot size', 'AVG', 'Min', 'fin_flag_number', 'IAT', 'syn_flag_number', 'Tot sum']\n"
          ]
        }
      ]
    },
    {
      "cell_type": "code",
      "source": [
        "from sklearn.metrics import recall_score\n",
        "\n",
        "# Step 6: Train and Test Split\n",
        "X_train, X_test, y_train, y_test = train_test_split(X_selected, y, test_size=0.35, random_state=42)\n",
        "\n",
        "# Step 7: Train Decision Tree Classifier\n",
        "dt_model = DecisionTreeClassifier(random_state=42)\n",
        "dt_model.fit(X_train, y_train)\n",
        "\n",
        "# Step 8: Evaluate the model\n",
        "y_pred = dt_model.predict(X_test)\n",
        "accuracy = accuracy_score(y_test, y_pred)\n",
        "precision = precision_score(y_test, y_pred, average='weighted')  # Weighted for imbalanced classes\n",
        "recall = recall_score(y_test, y_pred, average='weighted')  # Weighted for imbalanced classes\n",
        "f1 = f1_score(y_test, y_pred, average='weighted')  # Weighted for imbalanced classes\n",
        "\n",
        "# Print metrics\n",
        "print(\"Accuracy:\", accuracy)\n",
        "print(\"Precision:\", precision)\n",
        "print(\"recall:\", recall)\n",
        "print(\"F1 Score:\", f1)\n",
        "print(\"Classification Report:\\n\", classification_report(y_test, y_pred))\n",
        "\n",
        "# Confusion Matrix\n",
        "conf_matrix = confusion_matrix(y_test, y_pred)\n",
        "print(\"Confusion Matrix:\\n\", conf_matrix)"
      ],
      "metadata": {
        "colab": {
          "base_uri": "https://localhost:8080/"
        },
        "id": "sRTv6zbQq1DG",
        "outputId": "0df4df07-a9e5-4e86-be8e-7ee123bf9e3f"
      },
      "execution_count": null,
      "outputs": [
        {
          "output_type": "stream",
          "name": "stdout",
          "text": [
            "Accuracy: 0.9895979219784298\n",
            "Precision: 0.9895867882899307\n",
            "recall: 0.9895979219784298\n",
            "F1 Score: 0.989576284709778\n",
            "Classification Report:\n",
            "                          precision    recall  f1-score   support\n",
            "\n",
            "       Backdoor_Malware       0.33      0.75      0.46         4\n",
            "          BenignTraffic       0.85      0.85      0.85      1951\n",
            "       BrowserHijacking       0.29      0.36      0.32        11\n",
            "       CommandInjection       0.67      0.75      0.71         8\n",
            " DDoS-ACK_Fragmentation       1.00      1.00      1.00       539\n",
            "        DDoS-HTTP_Flood       0.95      0.95      0.95        61\n",
            "        DDoS-ICMP_Flood       1.00      1.00      1.00     12879\n",
            "DDoS-ICMP_Fragmentation       1.00      1.00      1.00       816\n",
            "      DDoS-PSHACK_Flood       1.00      1.00      1.00      7396\n",
            "       DDoS-RSTFINFlood       1.00      1.00      1.00      7230\n",
            "         DDoS-SYN_Flood       1.00      1.00      1.00      7309\n",
            "         DDoS-SlowLoris       0.98      0.96      0.97        47\n",
            "DDoS-SynonymousIP_Flood       1.00      1.00      1.00      6251\n",
            "         DDoS-TCP_Flood       1.00      1.00      1.00      8058\n",
            "         DDoS-UDP_Flood       1.00      1.00      1.00      9797\n",
            " DDoS-UDP_Fragmentation       1.00      1.00      1.00       511\n",
            "           DNS_Spoofing       0.62      0.61      0.62       316\n",
            "   DictionaryBruteForce       0.61      0.74      0.67        19\n",
            "         DoS-HTTP_Flood       1.00      0.99      1.00       139\n",
            "          DoS-SYN_Flood       1.00      1.00      1.00      3562\n",
            "          DoS-TCP_Flood       1.00      1.00      1.00      4823\n",
            "          DoS-UDP_Flood       1.00      1.00      1.00      5859\n",
            "       MITM-ArpSpoofing       0.73      0.72      0.72       569\n",
            "     Mirai-greeth_flood       1.00      1.00      1.00      1729\n",
            "      Mirai-greip_flood       1.00      1.00      1.00      1332\n",
            "         Mirai-udpplain       1.00      1.00      1.00      1618\n",
            "    Recon-HostDiscovery       0.71      0.69      0.70       249\n",
            "           Recon-OSScan       0.55      0.50      0.53       204\n",
            "        Recon-PingSweep       1.00      1.00      1.00         1\n",
            "         Recon-PortScan       0.55      0.55      0.55       140\n",
            "           SqlInjection       0.50      0.46      0.48        13\n",
            "       Uploading_Attack       1.00      0.33      0.50         3\n",
            "      VulnerabilityScan       0.98      0.98      0.98        90\n",
            "                    XSS       0.22      0.29      0.25         7\n",
            "\n",
            "               accuracy                           0.99     83541\n",
            "              macro avg       0.84      0.84      0.83     83541\n",
            "           weighted avg       0.99      0.99      0.99     83541\n",
            "\n",
            "Confusion Matrix:\n",
            " [[   3    0    0 ...    0    0    0]\n",
            " [   2 1664    3 ...    0    0    5]\n",
            " [   0    2    4 ...    0    0    0]\n",
            " ...\n",
            " [   0    2    0 ...    1    0    0]\n",
            " [   0    0    0 ...    0   88    0]\n",
            " [   0    2    0 ...    0    0    2]]\n"
          ]
        }
      ]
    },
    {
      "cell_type": "markdown",
      "source": [
        "# 15 features"
      ],
      "metadata": {
        "id": "czfPtbIInQCa"
      }
    },
    {
      "cell_type": "code",
      "source": [
        "skb_selector = SelectKBest(score_func=mutual_info_classif, k=7)\n",
        "skb_selector.fit_transform(X, y)\n",
        "\n",
        "# printing the scores\n",
        "skb_feature_scores = pd.DataFrame({'Feature': X.columns, 'Score': skb_selector.scores_})\n",
        "skb_feature_scores = skb_feature_scores.sort_values(by='Score', ascending=False)  # Sort by importance\n",
        "print(skb_feature_scores)\n",
        "\n",
        "# Get the selected feature names\n",
        "skb_selected_feature_names = X.columns[skb_selector.get_support()]\n",
        "print(\"skb_selected_feature_names = \", skb_selected_feature_names)"
      ],
      "metadata": {
        "colab": {
          "base_uri": "https://localhost:8080/"
        },
        "outputId": "61caf9d1-f345-4535-a934-8a17d3e17649",
        "collapsed": true,
        "id": "JR5akcz5rIv3"
      },
      "execution_count": null,
      "outputs": [
        {
          "output_type": "stream",
          "name": "stdout",
          "text": [
            "            Feature     Score\n",
            "39              IAT  2.601479\n",
            "38         Tot size  1.339122\n",
            "1     Header_Length  1.328512\n",
            "41         Magnitue  1.318386\n",
            "36              AVG  1.311911\n",
            "33          Tot sum  1.306456\n",
            "34              Min  1.297834\n",
            "35              Max  1.272753\n",
            "2     Protocol Type  1.161421\n",
            "26              TCP  0.657034\n",
            "15        syn_count  0.646882\n",
            "0     flow_duration  0.635569\n",
            "5             Srate  0.632849\n",
            "4              Rate  0.632484\n",
            "18        rst_count  0.510785\n",
            "27              UDP  0.495144\n",
            "8   syn_flag_number  0.495035\n",
            "17        urg_count  0.458713\n",
            "30             ICMP  0.443482\n",
            "43       Covariance  0.384368\n",
            "37              Std  0.382555\n",
            "42           Radius  0.380508\n",
            "16        fin_count  0.348475\n",
            "14        ack_count  0.332532\n",
            "11  ack_flag_number  0.328494\n",
            "44         Variance  0.296680\n",
            "7   fin_flag_number  0.290670\n",
            "10  psh_flag_number  0.287425\n",
            "9   rst_flag_number  0.286872\n",
            "3          Duration  0.210629\n",
            "40           Number  0.178430\n",
            "45           Weight  0.178133\n",
            "20            HTTPS  0.070186\n",
            "19             HTTP  0.031480\n",
            "32              LLC  0.005828\n",
            "31              IPv  0.005423\n",
            "22           Telnet  0.002446\n",
            "6             Drate  0.001606\n",
            "25              IRC  0.001055\n",
            "21              DNS  0.000614\n",
            "24              SSH  0.000422\n",
            "29              ARP  0.000000\n",
            "28             DHCP  0.000000\n",
            "13  cwr_flag_number  0.000000\n",
            "12  ece_flag_number  0.000000\n",
            "23             SMTP  0.000000\n",
            "skb_selected_feature_names =  Index(['Header_Length', 'Tot sum', 'Min', 'AVG', 'Tot size', 'IAT',\n",
            "       'Magnitue'],\n",
            "      dtype='object')\n"
          ]
        }
      ]
    },
    {
      "cell_type": "code",
      "source": [
        "rfe_selector = RFE(estimator= DecisionTreeClassifier( ), n_features_to_select=8)\n",
        "rfe_selector.fit_transform(X, y)\n",
        "\n",
        "# Printing the rankings\n",
        "rfe_feature_scores = pd.DataFrame({'Feature': X.columns, 'Score': rfe_selector.ranking_})\n",
        "rfe_feature_scores = rfe_feature_scores.sort_values(by='Score', ascending=True)  # Sort by importance (ascending)\n",
        "print(rfe_feature_scores)\n",
        "\n",
        "# Get the selected feature names\n",
        "rfe_selected_feature_names = X.columns[rfe_selector.get_support()]\n",
        "print(' rfe_feature_scores = ', rfe_selected_feature_names)"
      ],
      "metadata": {
        "colab": {
          "base_uri": "https://localhost:8080/"
        },
        "outputId": "21d2cf4c-6e55-408d-b783-1cb71ce9db85",
        "collapsed": true,
        "id": "7pjHmJM7rIv4"
      },
      "execution_count": null,
      "outputs": [
        {
          "output_type": "stream",
          "name": "stdout",
          "text": [
            "            Feature  Score\n",
            "2     Protocol Type      1\n",
            "34              Min      1\n",
            "39              IAT      1\n",
            "7   fin_flag_number      1\n",
            "8   syn_flag_number      1\n",
            "10  psh_flag_number      1\n",
            "41         Magnitue      1\n",
            "33          Tot sum      1\n",
            "30             ICMP      2\n",
            "1     Header_Length      3\n",
            "18        rst_count      4\n",
            "42           Radius      5\n",
            "5             Srate      6\n",
            "16        fin_count      7\n",
            "0     flow_duration      8\n",
            "36              AVG      9\n",
            "3          Duration     10\n",
            "44         Variance     11\n",
            "4              Rate     12\n",
            "17        urg_count     13\n",
            "15        syn_count     14\n",
            "20            HTTPS     15\n",
            "40           Number     16\n",
            "38         Tot size     17\n",
            "35              Max     18\n",
            "43       Covariance     19\n",
            "37              Std     20\n",
            "14        ack_count     21\n",
            "19             HTTP     22\n",
            "11  ack_flag_number     23\n",
            "24              SSH     24\n",
            "45           Weight     25\n",
            "27              UDP     26\n",
            "9   rst_flag_number     27\n",
            "26              TCP     28\n",
            "21              DNS     29\n",
            "6             Drate     30\n",
            "25              IRC     31\n",
            "28             DHCP     32\n",
            "13  cwr_flag_number     33\n",
            "29              ARP     34\n",
            "32              LLC     35\n",
            "31              IPv     36\n",
            "12  ece_flag_number     37\n",
            "23             SMTP     38\n",
            "22           Telnet     39\n",
            " rfe_feature_scores =  Index(['Protocol Type', 'fin_flag_number', 'syn_flag_number',\n",
            "       'psh_flag_number', 'Tot sum', 'Min', 'IAT', 'Magnitue'],\n",
            "      dtype='object')\n"
          ]
        }
      ]
    },
    {
      "cell_type": "code",
      "source": [
        "top_features_combined = list(set(skb_selected_feature_names) | set(rfe_selected_feature_names))\n",
        "print(top_features_combined)"
      ],
      "metadata": {
        "colab": {
          "base_uri": "https://localhost:8080/"
        },
        "outputId": "c3873d40-5485-4165-da27-5fd1d790a728",
        "id": "_zxf-ptlrIv5"
      },
      "execution_count": null,
      "outputs": [
        {
          "output_type": "stream",
          "name": "stdout",
          "text": [
            "['psh_flag_number', 'syn_flag_number', 'Magnitue', 'Tot sum', 'Header_Length', 'Tot size', 'fin_flag_number', 'Min', 'Protocol Type', 'IAT', 'AVG']\n"
          ]
        }
      ]
    },
    {
      "cell_type": "code",
      "source": [
        "no_of_redundent_features = 15-(len(top_features_combined))\n",
        "\n",
        "# Find the next 3 best-ranked features NOT in SelectKBest\n",
        "extra_features_from_rfe = []\n",
        "\n",
        "for feature in rfe_feature_scores['Feature']:\n",
        "    if feature not in top_features_combined:\n",
        "        extra_features_from_rfe.append(feature)\n",
        "    if len(extra_features_from_rfe) == no_of_redundent_features:  # Stop once we have 3 features\n",
        "        break\n",
        "\n",
        "print(\"Extra features from RFE:\", extra_features_from_rfe)\n",
        "\n",
        "top_features_combined.extend(extra_features_from_rfe)\n",
        "print('top_features_combined = ', top_features_combined)\n",
        "\n",
        "X_selected = X[top_features_combined]"
      ],
      "metadata": {
        "colab": {
          "base_uri": "https://localhost:8080/"
        },
        "outputId": "74103e80-6392-45f9-b287-737a098f7733",
        "id": "9jrD0eISrIv5"
      },
      "execution_count": null,
      "outputs": [
        {
          "output_type": "stream",
          "name": "stdout",
          "text": [
            "Extra features from RFE: ['ICMP', 'rst_count', 'Radius', 'Srate']\n",
            "top_features_combined =  ['psh_flag_number', 'syn_flag_number', 'Magnitue', 'Tot sum', 'Header_Length', 'Tot size', 'fin_flag_number', 'Min', 'Protocol Type', 'IAT', 'AVG', 'ICMP', 'rst_count', 'Radius', 'Srate']\n"
          ]
        }
      ]
    },
    {
      "cell_type": "code",
      "source": [
        "from sklearn.metrics import recall_score\n",
        "\n",
        "# Step 6: Train and Test Split\n",
        "X_train, X_test, y_train, y_test = train_test_split(X_selected, y, test_size=0.35, random_state=42)\n",
        "\n",
        "# Step 7: Train Decision Tree Classifier\n",
        "dt_model = DecisionTreeClassifier(random_state=42)\n",
        "dt_model.fit(X_train, y_train)\n",
        "\n",
        "# Step 8: Evaluate the model\n",
        "y_pred = dt_model.predict(X_test)\n",
        "accuracy = accuracy_score(y_test, y_pred)\n",
        "precision = precision_score(y_test, y_pred, average='weighted')  # Weighted for imbalanced classes\n",
        "recall = recall_score(y_test, y_pred, average='weighted')  # Weighted for imbalanced classes\n",
        "f1 = f1_score(y_test, y_pred, average='weighted')  # Weighted for imbalanced classes\n",
        "\n",
        "# Print metrics\n",
        "print(\"Accuracy:\", accuracy)\n",
        "print(\"Precision:\", precision)\n",
        "print(\"recall:\", recall)\n",
        "print(\"F1 Score:\", f1)\n",
        "print(\"Classification Report:\\n\", classification_report(y_test, y_pred))\n",
        "\n",
        "# Confusion Matrix\n",
        "conf_matrix = confusion_matrix(y_test, y_pred)\n",
        "print(\"Confusion Matrix:\\n\", conf_matrix)"
      ],
      "metadata": {
        "colab": {
          "base_uri": "https://localhost:8080/"
        },
        "outputId": "a7c83a8a-79a9-4541-cdd8-1507aa2ca7bf",
        "collapsed": true,
        "id": "lgPzfBrbrIv6"
      },
      "execution_count": null,
      "outputs": [
        {
          "output_type": "stream",
          "name": "stdout",
          "text": [
            "Accuracy: 0.9903281023688967\n",
            "Precision: 0.9904193898956226\n",
            "recall: 0.9903281023688967\n",
            "F1 Score: 0.9903381638138199\n",
            "Classification Report:\n",
            "                          precision    recall  f1-score   support\n",
            "\n",
            "       Backdoor_Malware       0.50      0.75      0.60         4\n",
            "          BenignTraffic       0.88      0.88      0.88      1951\n",
            "       BrowserHijacking       0.29      0.36      0.32        11\n",
            "       CommandInjection       0.38      0.75      0.50         8\n",
            " DDoS-ACK_Fragmentation       1.00      0.99      1.00       539\n",
            "        DDoS-HTTP_Flood       1.00      0.97      0.98        61\n",
            "        DDoS-ICMP_Flood       1.00      1.00      1.00     12879\n",
            "DDoS-ICMP_Fragmentation       1.00      1.00      1.00       816\n",
            "      DDoS-PSHACK_Flood       1.00      1.00      1.00      7396\n",
            "       DDoS-RSTFINFlood       1.00      1.00      1.00      7230\n",
            "         DDoS-SYN_Flood       1.00      1.00      1.00      7309\n",
            "         DDoS-SlowLoris       0.91      0.91      0.91        47\n",
            "DDoS-SynonymousIP_Flood       1.00      1.00      1.00      6251\n",
            "         DDoS-TCP_Flood       1.00      1.00      1.00      8058\n",
            "         DDoS-UDP_Flood       1.00      1.00      1.00      9797\n",
            " DDoS-UDP_Fragmentation       0.99      1.00      0.99       511\n",
            "           DNS_Spoofing       0.66      0.63      0.64       316\n",
            "   DictionaryBruteForce       0.45      0.68      0.54        19\n",
            "         DoS-HTTP_Flood       0.98      1.00      0.99       139\n",
            "          DoS-SYN_Flood       1.00      1.00      1.00      3562\n",
            "          DoS-TCP_Flood       1.00      1.00      1.00      4823\n",
            "          DoS-UDP_Flood       1.00      1.00      1.00      5859\n",
            "       MITM-ArpSpoofing       0.75      0.77      0.76       569\n",
            "     Mirai-greeth_flood       1.00      1.00      1.00      1729\n",
            "      Mirai-greip_flood       1.00      0.99      1.00      1332\n",
            "         Mirai-udpplain       1.00      1.00      1.00      1618\n",
            "    Recon-HostDiscovery       0.73      0.74      0.74       249\n",
            "           Recon-OSScan       0.49      0.48      0.49       204\n",
            "        Recon-PingSweep       1.00      1.00      1.00         1\n",
            "         Recon-PortScan       0.62      0.60      0.61       140\n",
            "           SqlInjection       0.55      0.46      0.50        13\n",
            "       Uploading_Attack       0.50      0.33      0.40         3\n",
            "      VulnerabilityScan       0.98      0.99      0.98        90\n",
            "                    XSS       1.00      0.29      0.44         7\n",
            "\n",
            "               accuracy                           0.99     83541\n",
            "              macro avg       0.84      0.84      0.83     83541\n",
            "           weighted avg       0.99      0.99      0.99     83541\n",
            "\n",
            "Confusion Matrix:\n",
            " [[   3    0    0 ...    0    0    0]\n",
            " [   1 1709    1 ...    1    0    0]\n",
            " [   0    2    4 ...    0    0    0]\n",
            " ...\n",
            " [   0    0    0 ...    1    0    0]\n",
            " [   0    0    0 ...    0   89    0]\n",
            " [   0    1    1 ...    0    0    2]]\n"
          ]
        }
      ]
    },
    {
      "cell_type": "markdown",
      "source": [
        "# 20 Features"
      ],
      "metadata": {
        "id": "9sWBb6UM5x6o"
      }
    },
    {
      "cell_type": "code",
      "source": [
        "skb_selector = SelectKBest(score_func=mutual_info_classif, k=10)\n",
        "skb_selector.fit_transform(X, y)\n",
        "\n",
        "# printing the scores\n",
        "skb_feature_scores = pd.DataFrame({'Feature': X.columns, 'Score': skb_selector.scores_})\n",
        "skb_feature_scores = skb_feature_scores.sort_values(by='Score', ascending=False)  # Sort by importance\n",
        "print(skb_feature_scores)\n",
        "\n",
        "# Get the selected feature names\n",
        "skb_selected_feature_names = X.columns[skb_selector.get_support()]\n",
        "print(\"skb_selected_feature_names = \", skb_selected_feature_names)"
      ],
      "metadata": {
        "colab": {
          "base_uri": "https://localhost:8080/"
        },
        "outputId": "67fbbc99-f01f-4c5c-ddaf-ffa16508fbff",
        "collapsed": true,
        "id": "p-8BqRTcrWyH"
      },
      "execution_count": null,
      "outputs": [
        {
          "output_type": "stream",
          "name": "stdout",
          "text": [
            "            Feature     Score\n",
            "39              IAT  2.601394\n",
            "38         Tot size  1.338069\n",
            "1     Header_Length  1.328046\n",
            "41         Magnitue  1.318713\n",
            "36              AVG  1.312136\n",
            "33          Tot sum  1.305532\n",
            "34              Min  1.294817\n",
            "35              Max  1.271868\n",
            "2     Protocol Type  1.163586\n",
            "26              TCP  0.656315\n",
            "15        syn_count  0.650816\n",
            "0     flow_duration  0.633839\n",
            "4              Rate  0.633066\n",
            "5             Srate  0.632606\n",
            "18        rst_count  0.510642\n",
            "27              UDP  0.497878\n",
            "8   syn_flag_number  0.496007\n",
            "17        urg_count  0.457962\n",
            "30             ICMP  0.441603\n",
            "37              Std  0.384040\n",
            "43       Covariance  0.381566\n",
            "42           Radius  0.380192\n",
            "16        fin_count  0.349013\n",
            "14        ack_count  0.332472\n",
            "11  ack_flag_number  0.328318\n",
            "44         Variance  0.298829\n",
            "7   fin_flag_number  0.295374\n",
            "9   rst_flag_number  0.286071\n",
            "10  psh_flag_number  0.284725\n",
            "3          Duration  0.207426\n",
            "40           Number  0.178216\n",
            "45           Weight  0.177464\n",
            "20            HTTPS  0.069441\n",
            "19             HTTP  0.033309\n",
            "31              IPv  0.006306\n",
            "29              ARP  0.002602\n",
            "32              LLC  0.001461\n",
            "21              DNS  0.001444\n",
            "6             Drate  0.001355\n",
            "24              SSH  0.001111\n",
            "12  ece_flag_number  0.000252\n",
            "13  cwr_flag_number  0.000159\n",
            "28             DHCP  0.000000\n",
            "25              IRC  0.000000\n",
            "22           Telnet  0.000000\n",
            "23             SMTP  0.000000\n",
            "skb_selected_feature_names =  Index(['Header_Length', 'Protocol Type', 'TCP', 'Tot sum', 'Min', 'Max', 'AVG',\n",
            "       'Tot size', 'IAT', 'Magnitue'],\n",
            "      dtype='object')\n"
          ]
        }
      ]
    },
    {
      "cell_type": "code",
      "source": [
        "rfe_selector = RFE(estimator= DecisionTreeClassifier( ), n_features_to_select=10)\n",
        "rfe_selector.fit_transform(X, y)\n",
        "\n",
        "# Printing the rankings\n",
        "rfe_feature_scores = pd.DataFrame({'Feature': X.columns, 'Score': rfe_selector.ranking_})\n",
        "rfe_feature_scores = rfe_feature_scores.sort_values(by='Score', ascending=True)  # Sort by importance (ascending)\n",
        "print(rfe_feature_scores)\n",
        "\n",
        "# Get the selected feature names\n",
        "rfe_selected_feature_names = X.columns[rfe_selector.get_support()]\n",
        "print(' rfe_feature_scores = ', rfe_selected_feature_names)"
      ],
      "metadata": {
        "colab": {
          "base_uri": "https://localhost:8080/"
        },
        "outputId": "7f4a9cec-88c3-4332-84f3-929f2b6aedc3",
        "collapsed": true,
        "id": "szsfkv3TrWyH"
      },
      "execution_count": null,
      "outputs": [
        {
          "output_type": "stream",
          "name": "stdout",
          "text": [
            "            Feature  Score\n",
            "8   syn_flag_number      1\n",
            "1     Header_Length      1\n",
            "2     Protocol Type      1\n",
            "34              Min      1\n",
            "33          Tot sum      1\n",
            "41         Magnitue      1\n",
            "7   fin_flag_number      1\n",
            "39              IAT      1\n",
            "10  psh_flag_number      1\n",
            "30             ICMP      1\n",
            "18        rst_count      2\n",
            "37              Std      3\n",
            "4              Rate      4\n",
            "16        fin_count      5\n",
            "0     flow_duration      6\n",
            "36              AVG      7\n",
            "3          Duration      8\n",
            "44         Variance      9\n",
            "5             Srate     10\n",
            "38         Tot size     11\n",
            "17        urg_count     12\n",
            "20            HTTPS     13\n",
            "15        syn_count     14\n",
            "45           Weight     15\n",
            "43       Covariance     16\n",
            "35              Max     17\n",
            "42           Radius     18\n",
            "14        ack_count     19\n",
            "40           Number     20\n",
            "19             HTTP     21\n",
            "11  ack_flag_number     22\n",
            "24              SSH     23\n",
            "27              UDP     24\n",
            "26              TCP     25\n",
            "21              DNS     26\n",
            "31              IPv     27\n",
            "12  ece_flag_number     28\n",
            "6             Drate     29\n",
            "13  cwr_flag_number     30\n",
            "25              IRC     31\n",
            "28             DHCP     32\n",
            "9   rst_flag_number     33\n",
            "29              ARP     34\n",
            "32              LLC     35\n",
            "23             SMTP     36\n",
            "22           Telnet     37\n",
            " rfe_feature_scores =  Index(['Header_Length', 'Protocol Type', 'fin_flag_number', 'syn_flag_number',\n",
            "       'psh_flag_number', 'ICMP', 'Tot sum', 'Min', 'IAT', 'Magnitue'],\n",
            "      dtype='object')\n"
          ]
        }
      ]
    },
    {
      "cell_type": "code",
      "source": [
        "top_features_combined = list(set(skb_selected_feature_names) | set(rfe_selected_feature_names))\n",
        "print(top_features_combined)"
      ],
      "metadata": {
        "colab": {
          "base_uri": "https://localhost:8080/"
        },
        "outputId": "2f4bc858-5e69-4215-de09-ec1de3ef68c6",
        "id": "eGASCOctrWyI"
      },
      "execution_count": null,
      "outputs": [
        {
          "output_type": "stream",
          "name": "stdout",
          "text": [
            "['syn_flag_number', 'Tot sum', 'Max', 'Header_Length', 'Tot size', 'ICMP', 'Min', 'IAT', 'AVG', 'psh_flag_number', 'Magnitue', 'TCP', 'Protocol Type', 'fin_flag_number']\n"
          ]
        }
      ]
    },
    {
      "cell_type": "code",
      "source": [
        "no_of_redundent_features = 20-(len(top_features_combined))\n",
        "\n",
        "# Find the next 3 best-ranked features NOT in SelectKBest\n",
        "extra_features_from_rfe = []\n",
        "\n",
        "for feature in rfe_feature_scores['Feature']:\n",
        "    if feature not in top_features_combined:\n",
        "        extra_features_from_rfe.append(feature)\n",
        "    if len(extra_features_from_rfe) == no_of_redundent_features:  # Stop once we have 3 features\n",
        "        break\n",
        "\n",
        "print(\"Extra features from RFE:\", extra_features_from_rfe)\n",
        "\n",
        "top_features_combined.extend(extra_features_from_rfe)\n",
        "print('top_features_combined = ', top_features_combined)\n",
        "\n",
        "X_selected = X[top_features_combined]"
      ],
      "metadata": {
        "colab": {
          "base_uri": "https://localhost:8080/"
        },
        "outputId": "8334bfbe-bdcf-4261-c06a-54d282cef23a",
        "id": "vtvS9_AArWyI"
      },
      "execution_count": null,
      "outputs": [
        {
          "output_type": "stream",
          "name": "stdout",
          "text": [
            "Extra features from RFE: ['rst_count', 'Std', 'Rate', 'fin_count', 'flow_duration', 'Duration']\n",
            "top_features_combined =  ['syn_flag_number', 'Tot sum', 'Max', 'Header_Length', 'Tot size', 'ICMP', 'Min', 'IAT', 'AVG', 'psh_flag_number', 'Magnitue', 'TCP', 'Protocol Type', 'fin_flag_number', 'rst_count', 'Std', 'Rate', 'fin_count', 'flow_duration', 'Duration']\n"
          ]
        }
      ]
    },
    {
      "cell_type": "code",
      "source": [
        "from sklearn.metrics import recall_score\n",
        "\n",
        "# Step 6: Train and Test Split\n",
        "X_train, X_test, y_train, y_test = train_test_split(X_selected, y, test_size=0.35, random_state=42)\n",
        "\n",
        "# Step 7: Train Decision Tree Classifier\n",
        "dt_model = DecisionTreeClassifier(random_state=42)\n",
        "dt_model.fit(X_train, y_train)\n",
        "\n",
        "# Step 8: Evaluate the model\n",
        "y_pred = dt_model.predict(X_test)\n",
        "accuracy = accuracy_score(y_test, y_pred)\n",
        "precision = precision_score(y_test, y_pred, average='weighted')  # Weighted for imbalanced classes\n",
        "recall = recall_score(y_test, y_pred, average='weighted')  # Weighted for imbalanced classes\n",
        "f1 = f1_score(y_test, y_pred, average='weighted')  # Weighted for imbalanced classes\n",
        "\n",
        "# Print metrics\n",
        "print(\"Accuracy:\", accuracy)\n",
        "print(\"Precision:\", precision)\n",
        "print(\"recall:\", recall)\n",
        "print(\"F1 Score:\", f1)\n",
        "print(\"Classification Report:\\n\", classification_report(y_test, y_pred))\n",
        "\n",
        "# Confusion Matrix\n",
        "conf_matrix = confusion_matrix(y_test, y_pred)\n",
        "print(\"Confusion Matrix:\\n\", conf_matrix)"
      ],
      "metadata": {
        "colab": {
          "base_uri": "https://localhost:8080/"
        },
        "outputId": "2da0a093-53ad-4c38-d4af-17455ee87fb5",
        "collapsed": true,
        "id": "ScE6kmRVrWyJ"
      },
      "execution_count": null,
      "outputs": [
        {
          "output_type": "stream",
          "name": "stdout",
          "text": [
            "Accuracy: 0.9908428196933242\n",
            "Precision: 0.9908284093301288\n",
            "recall: 0.9908428196933242\n",
            "F1 Score: 0.9908093175007887\n",
            "Classification Report:\n",
            "                          precision    recall  f1-score   support\n",
            "\n",
            "       Backdoor_Malware       1.00      0.75      0.86         4\n",
            "          BenignTraffic       0.89      0.90      0.89      1951\n",
            "       BrowserHijacking       0.38      0.45      0.42        11\n",
            "       CommandInjection       0.46      0.75      0.57         8\n",
            " DDoS-ACK_Fragmentation       0.99      0.99      0.99       539\n",
            "        DDoS-HTTP_Flood       0.89      0.93      0.91        61\n",
            "        DDoS-ICMP_Flood       1.00      1.00      1.00     12879\n",
            "DDoS-ICMP_Fragmentation       1.00      1.00      1.00       816\n",
            "      DDoS-PSHACK_Flood       1.00      1.00      1.00      7396\n",
            "       DDoS-RSTFINFlood       1.00      1.00      1.00      7230\n",
            "         DDoS-SYN_Flood       1.00      1.00      1.00      7309\n",
            "         DDoS-SlowLoris       0.87      0.85      0.86        47\n",
            "DDoS-SynonymousIP_Flood       1.00      1.00      1.00      6251\n",
            "         DDoS-TCP_Flood       1.00      1.00      1.00      8058\n",
            "         DDoS-UDP_Flood       1.00      1.00      1.00      9797\n",
            " DDoS-UDP_Fragmentation       0.99      0.99      0.99       511\n",
            "           DNS_Spoofing       0.64      0.63      0.64       316\n",
            "   DictionaryBruteForce       0.43      0.68      0.53        19\n",
            "         DoS-HTTP_Flood       0.98      0.99      0.99       139\n",
            "          DoS-SYN_Flood       1.00      1.00      1.00      3562\n",
            "          DoS-TCP_Flood       1.00      1.00      1.00      4823\n",
            "          DoS-UDP_Flood       1.00      1.00      1.00      5859\n",
            "       MITM-ArpSpoofing       0.76      0.78      0.77       569\n",
            "     Mirai-greeth_flood       1.00      1.00      1.00      1729\n",
            "      Mirai-greip_flood       1.00      1.00      1.00      1332\n",
            "         Mirai-udpplain       1.00      1.00      1.00      1618\n",
            "    Recon-HostDiscovery       0.81      0.76      0.78       249\n",
            "           Recon-OSScan       0.58      0.51      0.54       204\n",
            "        Recon-PingSweep       0.33      1.00      0.50         1\n",
            "         Recon-PortScan       0.57      0.61      0.59       140\n",
            "           SqlInjection       0.40      0.31      0.35        13\n",
            "       Uploading_Attack       0.50      0.33      0.40         3\n",
            "      VulnerabilityScan       0.99      0.94      0.97        90\n",
            "                    XSS       0.40      0.29      0.33         7\n",
            "\n",
            "               accuracy                           0.99     83541\n",
            "              macro avg       0.82      0.84      0.82     83541\n",
            "           weighted avg       0.99      0.99      0.99     83541\n",
            "\n",
            "Confusion Matrix:\n",
            " [[   3    0    0 ...    0    0    0]\n",
            " [   0 1749    1 ...    0    0    0]\n",
            " [   0    4    5 ...    0    0    0]\n",
            " ...\n",
            " [   0    1    0 ...    1    0    0]\n",
            " [   0    0    0 ...    0   85    0]\n",
            " [   0    0    0 ...    0    0    2]]\n"
          ]
        }
      ]
    },
    {
      "cell_type": "markdown",
      "source": [
        "# **25 Features**"
      ],
      "metadata": {
        "id": "-1itEs0urtak"
      }
    },
    {
      "cell_type": "code",
      "source": [
        "skb_selector = SelectKBest(score_func=mutual_info_classif, k=12)\n",
        "skb_selector.fit_transform(X, y)\n",
        "\n",
        "# printing the scores\n",
        "skb_feature_scores = pd.DataFrame({'Feature': X.columns, 'Score': skb_selector.scores_})\n",
        "skb_feature_scores = skb_feature_scores.sort_values(by='Score', ascending=False)  # Sort by importance\n",
        "print(skb_feature_scores)\n",
        "\n",
        "# Get the selected feature names\n",
        "skb_selected_feature_names = X.columns[skb_selector.get_support()]\n",
        "print(\"skb_selected_feature_names = \", skb_selected_feature_names)"
      ],
      "metadata": {
        "colab": {
          "base_uri": "https://localhost:8080/"
        },
        "outputId": "b7fd1eb9-d45b-4d6c-9f80-d7ec7619da69",
        "collapsed": true,
        "id": "2xVaNS3Mr0FB"
      },
      "execution_count": null,
      "outputs": [
        {
          "output_type": "stream",
          "name": "stdout",
          "text": [
            "            Feature     Score\n",
            "39              IAT  2.601664\n",
            "38         Tot size  1.338479\n",
            "1     Header_Length  1.327841\n",
            "41         Magnitue  1.315829\n",
            "36              AVG  1.314332\n",
            "33          Tot sum  1.304010\n",
            "34              Min  1.297200\n",
            "35              Max  1.272419\n",
            "2     Protocol Type  1.163004\n",
            "26              TCP  0.657242\n",
            "15        syn_count  0.646062\n",
            "0     flow_duration  0.635118\n",
            "4              Rate  0.632724\n",
            "5             Srate  0.632365\n",
            "18        rst_count  0.509950\n",
            "8   syn_flag_number  0.497308\n",
            "27              UDP  0.496596\n",
            "17        urg_count  0.462067\n",
            "30             ICMP  0.444330\n",
            "37              Std  0.384845\n",
            "42           Radius  0.381160\n",
            "43       Covariance  0.380710\n",
            "16        fin_count  0.353389\n",
            "14        ack_count  0.333822\n",
            "11  ack_flag_number  0.328058\n",
            "44         Variance  0.299818\n",
            "7   fin_flag_number  0.295874\n",
            "10  psh_flag_number  0.286131\n",
            "9   rst_flag_number  0.285632\n",
            "3          Duration  0.207454\n",
            "45           Weight  0.180535\n",
            "40           Number  0.177221\n",
            "20            HTTPS  0.070161\n",
            "19             HTTP  0.030990\n",
            "31              IPv  0.006811\n",
            "32              LLC  0.003411\n",
            "29              ARP  0.001797\n",
            "24              SSH  0.001611\n",
            "25              IRC  0.000514\n",
            "12  ece_flag_number  0.000348\n",
            "6             Drate  0.000235\n",
            "28             DHCP  0.000000\n",
            "22           Telnet  0.000000\n",
            "21              DNS  0.000000\n",
            "13  cwr_flag_number  0.000000\n",
            "23             SMTP  0.000000\n",
            "skb_selected_feature_names =  Index(['flow_duration', 'Header_Length', 'Protocol Type', 'syn_count', 'TCP',\n",
            "       'Tot sum', 'Min', 'Max', 'AVG', 'Tot size', 'IAT', 'Magnitue'],\n",
            "      dtype='object')\n"
          ]
        }
      ]
    },
    {
      "cell_type": "code",
      "source": [
        "rfe_selector = RFE(estimator= DecisionTreeClassifier( ), n_features_to_select=13)\n",
        "rfe_selector.fit_transform(X, y)\n",
        "\n",
        "# Printing the rankings\n",
        "rfe_feature_scores = pd.DataFrame({'Feature': X.columns, 'Score': rfe_selector.ranking_})\n",
        "rfe_feature_scores = rfe_feature_scores.sort_values(by='Score', ascending=True)  # Sort by importance (ascending)\n",
        "print(rfe_feature_scores)\n",
        "\n",
        "# Get the selected feature names\n",
        "rfe_selected_feature_names = X.columns[rfe_selector.get_support()]\n",
        "print(' rfe_feature_scores = ', rfe_selected_feature_names)"
      ],
      "metadata": {
        "colab": {
          "base_uri": "https://localhost:8080/"
        },
        "outputId": "79cb05ab-c886-4c6c-d54b-36b936e87b33",
        "collapsed": true,
        "id": "GXVIYPUer0FD"
      },
      "execution_count": null,
      "outputs": [
        {
          "output_type": "stream",
          "name": "stdout",
          "text": [
            "            Feature  Score\n",
            "41         Magnitue      1\n",
            "33          Tot sum      1\n",
            "34              Min      1\n",
            "18        rst_count      1\n",
            "39              IAT      1\n",
            "10  psh_flag_number      1\n",
            "42           Radius      1\n",
            "8   syn_flag_number      1\n",
            "30             ICMP      1\n",
            "4              Rate      1\n",
            "2     Protocol Type      1\n",
            "1     Header_Length      1\n",
            "7   fin_flag_number      1\n",
            "16        fin_count      2\n",
            "0     flow_duration      3\n",
            "36              AVG      4\n",
            "3          Duration      5\n",
            "44         Variance      6\n",
            "5             Srate      7\n",
            "17        urg_count      8\n",
            "20            HTTPS      9\n",
            "38         Tot size     10\n",
            "15        syn_count     11\n",
            "43       Covariance     12\n",
            "45           Weight     13\n",
            "37              Std     14\n",
            "35              Max     15\n",
            "14        ack_count     16\n",
            "19             HTTP     17\n",
            "11  ack_flag_number     18\n",
            "40           Number     19\n",
            "26              TCP     20\n",
            "27              UDP     21\n",
            "9   rst_flag_number     22\n",
            "24              SSH     23\n",
            "21              DNS     24\n",
            "6             Drate     25\n",
            "29              ARP     26\n",
            "12  ece_flag_number     27\n",
            "28             DHCP     28\n",
            "13  cwr_flag_number     29\n",
            "25              IRC     30\n",
            "31              IPv     31\n",
            "32              LLC     32\n",
            "23             SMTP     33\n",
            "22           Telnet     34\n",
            " rfe_feature_scores =  Index(['Header_Length', 'Protocol Type', 'Rate', 'fin_flag_number',\n",
            "       'syn_flag_number', 'psh_flag_number', 'rst_count', 'ICMP', 'Tot sum',\n",
            "       'Min', 'IAT', 'Magnitue', 'Radius'],\n",
            "      dtype='object')\n"
          ]
        }
      ]
    },
    {
      "cell_type": "code",
      "source": [
        "top_features_combined = list(set(skb_selected_feature_names) | set(rfe_selected_feature_names))\n",
        "print(top_features_combined)"
      ],
      "metadata": {
        "colab": {
          "base_uri": "https://localhost:8080/"
        },
        "outputId": "b67b8799-886a-4ae6-d632-7984abe5a641",
        "id": "Qa7ao-57r0FD"
      },
      "execution_count": null,
      "outputs": [
        {
          "output_type": "stream",
          "name": "stdout",
          "text": [
            "['syn_flag_number', 'flow_duration', 'Tot sum', 'Max', 'Header_Length', 'Tot size', 'ICMP', 'Min', 'Rate', 'IAT', 'AVG', 'psh_flag_number', 'Magnitue', 'TCP', 'syn_count', 'rst_count', 'Radius', 'Protocol Type', 'fin_flag_number']\n"
          ]
        }
      ]
    },
    {
      "cell_type": "code",
      "source": [
        "no_of_redundent_features = 25-(len(top_features_combined))\n",
        "\n",
        "# Find the next 3 best-ranked features NOT in SelectKBest\n",
        "extra_features_from_rfe = []\n",
        "\n",
        "for feature in rfe_feature_scores['Feature']:\n",
        "    if feature not in top_features_combined:\n",
        "        extra_features_from_rfe.append(feature)\n",
        "    if len(extra_features_from_rfe) == no_of_redundent_features:  # Stop once we have 3 features\n",
        "        break\n",
        "\n",
        "print(\"Extra features from RFE:\", extra_features_from_rfe)\n",
        "\n",
        "top_features_combined.extend(extra_features_from_rfe)\n",
        "print('top_features_combined = ', top_features_combined)\n",
        "\n",
        "X_selected = X[top_features_combined]"
      ],
      "metadata": {
        "colab": {
          "base_uri": "https://localhost:8080/"
        },
        "outputId": "d09dbb0c-d18a-47f7-e67c-85d10cc43317",
        "id": "Zye3C48Lr0FE"
      },
      "execution_count": null,
      "outputs": [
        {
          "output_type": "stream",
          "name": "stdout",
          "text": [
            "Extra features from RFE: ['fin_count', 'Duration', 'Variance', 'Srate', 'urg_count', 'HTTPS']\n",
            "top_features_combined =  ['syn_flag_number', 'flow_duration', 'Tot sum', 'Max', 'Header_Length', 'Tot size', 'ICMP', 'Min', 'Rate', 'IAT', 'AVG', 'psh_flag_number', 'Magnitue', 'TCP', 'syn_count', 'rst_count', 'Radius', 'Protocol Type', 'fin_flag_number', 'fin_count', 'Duration', 'Variance', 'Srate', 'urg_count', 'HTTPS']\n"
          ]
        }
      ]
    },
    {
      "cell_type": "code",
      "source": [
        "from sklearn.metrics import recall_score\n",
        "\n",
        "# Step 6: Train and Test Split\n",
        "X_train, X_test, y_train, y_test = train_test_split(X_selected, y, test_size=0.35, random_state=42)\n",
        "\n",
        "# Step 7: Train Decision Tree Classifier\n",
        "dt_model = DecisionTreeClassifier(random_state=42)\n",
        "dt_model.fit(X_train, y_train)\n",
        "\n",
        "# Step 8: Evaluate the model\n",
        "y_pred = dt_model.predict(X_test)\n",
        "accuracy = accuracy_score(y_test, y_pred)\n",
        "precision = precision_score(y_test, y_pred, average='weighted')  # Weighted for imbalanced classes\n",
        "recall = recall_score(y_test, y_pred, average='weighted')  # Weighted for imbalanced classes\n",
        "f1 = f1_score(y_test, y_pred, average='weighted')  # Weighted for imbalanced classes\n",
        "\n",
        "# Print metrics\n",
        "print(\"Accuracy:\", accuracy)\n",
        "print(\"Precision:\", precision)\n",
        "print(\"recall:\", recall)\n",
        "print(\"F1 Score:\", f1)\n",
        "print(\"Classification Report:\\n\", classification_report(y_test, y_pred))\n",
        "\n",
        "# Confusion Matrix\n",
        "conf_matrix = confusion_matrix(y_test, y_pred)\n",
        "print(\"Confusion Matrix:\\n\", conf_matrix)"
      ],
      "metadata": {
        "colab": {
          "base_uri": "https://localhost:8080/"
        },
        "outputId": "b43bc184-0467-4c82-9f26-d1a82b6a8f10",
        "id": "JKdyH0e2r0FE"
      },
      "execution_count": null,
      "outputs": [
        {
          "output_type": "stream",
          "name": "stdout",
          "text": [
            "Accuracy: 0.9909625213966795\n",
            "Precision: 0.9911917312668765\n",
            "recall: 0.9909625213966795\n",
            "F1 Score: 0.9910268198731476\n",
            "Classification Report:\n",
            "                          precision    recall  f1-score   support\n",
            "\n",
            "       Backdoor_Malware       0.25      0.75      0.38         4\n",
            "          BenignTraffic       0.90      0.89      0.90      1951\n",
            "       BrowserHijacking       0.29      0.36      0.32        11\n",
            "       CommandInjection       0.30      0.75      0.43         8\n",
            " DDoS-ACK_Fragmentation       0.99      0.99      0.99       539\n",
            "        DDoS-HTTP_Flood       0.89      0.90      0.89        61\n",
            "        DDoS-ICMP_Flood       1.00      1.00      1.00     12879\n",
            "DDoS-ICMP_Fragmentation       1.00      1.00      1.00       816\n",
            "      DDoS-PSHACK_Flood       1.00      1.00      1.00      7396\n",
            "       DDoS-RSTFINFlood       1.00      1.00      1.00      7230\n",
            "         DDoS-SYN_Flood       1.00      1.00      1.00      7309\n",
            "         DDoS-SlowLoris       0.89      0.87      0.88        47\n",
            "DDoS-SynonymousIP_Flood       1.00      1.00      1.00      6251\n",
            "         DDoS-TCP_Flood       1.00      1.00      1.00      8058\n",
            "         DDoS-UDP_Flood       1.00      1.00      1.00      9797\n",
            " DDoS-UDP_Fragmentation       0.99      1.00      0.99       511\n",
            "           DNS_Spoofing       0.63      0.65      0.64       316\n",
            "   DictionaryBruteForce       0.36      0.74      0.48        19\n",
            "         DoS-HTTP_Flood       0.98      0.99      0.99       139\n",
            "          DoS-SYN_Flood       1.00      1.00      1.00      3562\n",
            "          DoS-TCP_Flood       1.00      1.00      1.00      4823\n",
            "          DoS-UDP_Flood       1.00      1.00      1.00      5859\n",
            "       MITM-ArpSpoofing       0.81      0.78      0.79       569\n",
            "     Mirai-greeth_flood       1.00      1.00      1.00      1729\n",
            "      Mirai-greip_flood       1.00      1.00      1.00      1332\n",
            "         Mirai-udpplain       1.00      1.00      1.00      1618\n",
            "    Recon-HostDiscovery       0.82      0.78      0.80       249\n",
            "           Recon-OSScan       0.58      0.50      0.54       204\n",
            "        Recon-PingSweep       0.25      1.00      0.40         1\n",
            "         Recon-PortScan       0.57      0.59      0.58       140\n",
            "           SqlInjection       0.50      0.46      0.48        13\n",
            "       Uploading_Attack       1.00      0.33      0.50         3\n",
            "      VulnerabilityScan       0.96      0.99      0.97        90\n",
            "                    XSS       0.25      0.29      0.27         7\n",
            "\n",
            "               accuracy                           0.99     83541\n",
            "              macro avg       0.80      0.84      0.80     83541\n",
            "           weighted avg       0.99      0.99      0.99     83541\n",
            "\n",
            "Confusion Matrix:\n",
            " [[   3    0    0 ...    0    0    0]\n",
            " [   0 1745    4 ...    0    0    1]\n",
            " [   0    2    4 ...    0    0    0]\n",
            " ...\n",
            " [   0    0    0 ...    1    0    0]\n",
            " [   0    0    0 ...    0   89    0]\n",
            " [   1    1    0 ...    0    0    2]]\n"
          ]
        }
      ]
    }
  ]
}